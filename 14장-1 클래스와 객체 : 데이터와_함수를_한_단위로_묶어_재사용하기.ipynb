{
  "nbformat": 4,
  "nbformat_minor": 0,
  "metadata": {
    "colab": {
      "name": "14장-1 클래스와 객체 : 데이터와 함수를 한 단위로 묶어 재사용하기.ipynb",
      "provenance": [],
      "collapsed_sections": [],
      "authorship_tag": "ABX9TyMcUfTRut8bOaEYPpMf9s29",
      "include_colab_link": true
    },
    "kernelspec": {
      "name": "python3",
      "display_name": "Python 3"
    },
    "language_info": {
      "name": "python"
    }
  },
  "cells": [
    {
      "cell_type": "markdown",
      "metadata": {
        "id": "view-in-github",
        "colab_type": "text"
      },
      "source": [
        "<a href=\"https://colab.research.google.com/github/teacher-jiejie/Lets-get-it-Python-Book-Code/blob/main/14%EC%9E%A5-1%20%ED%81%B4%EB%9E%98%EC%8A%A4%EC%99%80%20%EA%B0%9D%EC%B2%B4%20%3A%20%EB%8D%B0%EC%9D%B4%ED%84%B0%EC%99%80_%ED%95%A8%EC%88%98%EB%A5%BC_%ED%95%9C_%EB%8B%A8%EC%9C%84%EB%A1%9C_%EB%AC%B6%EC%96%B4_%EC%9E%AC%EC%82%AC%EC%9A%A9%ED%95%98%EA%B8%B0.ipynb\" target=\"_parent\"><img src=\"https://colab.research.google.com/assets/colab-badge.svg\" alt=\"Open In Colab\"/></a>"
      ]
    },
    {
      "cell_type": "markdown",
      "metadata": {
        "id": "SwB3t2dcaq5X"
      },
      "source": [
        "## 14.1  자주 사용하는 단위 클래스로 정의하기\n",
        "#### 14.1.1  클래스와 객체\n",
        "#### 14.1.2  클래스 정의하고 객체 만들기"
      ]
    },
    {
      "cell_type": "code",
      "metadata": {
        "id": "-Bx1COvRarGh"
      },
      "source": [
        "class Character :\n",
        "    def hi() :\n",
        "        print('안녕하세요')\n",
        "\n",
        "swordsman = Character()"
      ],
      "execution_count": 1,
      "outputs": []
    },
    {
      "cell_type": "code",
      "metadata": {
        "colab": {
          "base_uri": "https://localhost:8080/"
        },
        "id": "ggoc_pGuarIp",
        "outputId": "856fe4a0-c2fd-4d2f-c131-0e187fdce0eb"
      },
      "source": [
        "print(type(swordsman))"
      ],
      "execution_count": 2,
      "outputs": [
        {
          "output_type": "stream",
          "text": [
            "<class '__main__.Character'>\n"
          ],
          "name": "stdout"
        }
      ]
    },
    {
      "cell_type": "code",
      "metadata": {
        "id": "rjEOM-5WarLE"
      },
      "source": [
        "fairy = Character()\n",
        "thief = Character()"
      ],
      "execution_count": 3,
      "outputs": []
    },
    {
      "cell_type": "code",
      "metadata": {
        "colab": {
          "base_uri": "https://localhost:8080/",
          "height": 171
        },
        "id": "w7X-hmUNarNo",
        "outputId": "5aa6f989-5d04-45c7-fbf0-3ba733d0fb30"
      },
      "source": [
        "swordsman.hi()"
      ],
      "execution_count": 4,
      "outputs": [
        {
          "output_type": "error",
          "ename": "TypeError",
          "evalue": "ignored",
          "traceback": [
            "\u001b[0;31m---------------------------------------------------------------------------\u001b[0m",
            "\u001b[0;31mTypeError\u001b[0m                                 Traceback (most recent call last)",
            "\u001b[0;32m<ipython-input-4-39123b82418f>\u001b[0m in \u001b[0;36m<module>\u001b[0;34m()\u001b[0m\n\u001b[0;32m----> 1\u001b[0;31m \u001b[0mswordsman\u001b[0m\u001b[0;34m.\u001b[0m\u001b[0mhi\u001b[0m\u001b[0;34m(\u001b[0m\u001b[0;34m)\u001b[0m\u001b[0;34m\u001b[0m\u001b[0;34m\u001b[0m\u001b[0m\n\u001b[0m",
            "\u001b[0;31mTypeError\u001b[0m: hi() takes 0 positional arguments but 1 was given"
          ]
        }
      ]
    },
    {
      "cell_type": "code",
      "metadata": {
        "colab": {
          "base_uri": "https://localhost:8080/"
        },
        "id": "xOXBkpXuarQA",
        "outputId": "db1eb3dd-94f5-4199-be1d-f38eebcb5102"
      },
      "source": [
        "# 메서드 정의하고 사용하기\n",
        "class Character :\n",
        "    def hi(self) :\n",
        "        print('안녕하세요')\n",
        "\n",
        "swordsman = Character()\n",
        "swordsman.hi()"
      ],
      "execution_count": 5,
      "outputs": [
        {
          "output_type": "stream",
          "text": [
            "안녕하세요\n"
          ],
          "name": "stdout"
        }
      ]
    },
    {
      "cell_type": "code",
      "metadata": {
        "colab": {
          "base_uri": "https://localhost:8080/"
        },
        "id": "Bch-GAzsarST",
        "outputId": "4cb28eea-b35a-46d1-f75b-b9aaab97d034"
      },
      "source": [
        "class Character :\n",
        "    def hi(self, name) :\n",
        "        print('안녕! 난', name)\n",
        "\n",
        "swordsman = Character()\n",
        "swordsman.hi('검술사')\n",
        "fairy = Character()\n",
        "fairy.hi('요정')\n",
        "thief = Character()\n",
        "thief.hi('도적')"
      ],
      "execution_count": 6,
      "outputs": [
        {
          "output_type": "stream",
          "text": [
            "안녕! 난 검술사\n",
            "안녕! 난 요정\n",
            "안녕! 난 도적\n"
          ],
          "name": "stdout"
        }
      ]
    },
    {
      "cell_type": "code",
      "metadata": {
        "colab": {
          "base_uri": "https://localhost:8080/"
        },
        "id": "efVAWLCQb1MM",
        "outputId": "0ee575ee-4881-4845-cb2e-ccadbed4fae1"
      },
      "source": [
        "class Character :\n",
        "    def hi(self, name) :\n",
        "        print('안녕! 난', name)\n",
        "    \n",
        "    def attack(self, target) : \n",
        "        print(target,'을/를 공격합니다.')\n",
        "\n",
        "swordsman = Character()\n",
        "swordsman.hi('검술사')\n",
        "swordsman.attack('도적')\n",
        "swordsman.attack('요정')"
      ],
      "execution_count": 7,
      "outputs": [
        {
          "output_type": "stream",
          "text": [
            "안녕! 난 검술사\n",
            "도적 을/를 공격합니다.\n",
            "요정 을/를 공격합니다.\n"
          ],
          "name": "stdout"
        }
      ]
    },
    {
      "cell_type": "code",
      "metadata": {
        "id": "5EEq-JVVb1Ok"
      },
      "source": [
        "# 생성자와 인스턴스 속성\n",
        "class Character :\n",
        "    def __init__(self, name, hp, ad) :\n",
        "        self.name = name\n",
        "        self.strength = hp\n",
        "        self.attack_damage = ad\n",
        "        print('Character 클래스의 객체 생성 =>', self.name)\n",
        "\n",
        "    def attack(self, target) : \n",
        "        print(target, '을/를 공격합니다.')"
      ],
      "execution_count": 10,
      "outputs": []
    },
    {
      "cell_type": "code",
      "metadata": {
        "colab": {
          "base_uri": "https://localhost:8080/",
          "height": 189
        },
        "id": "3a33frpKcXVJ",
        "outputId": "40cb7d86-fb63-4277-cb67-f814c15f9fcc"
      },
      "source": [
        "swordsman = Character()"
      ],
      "execution_count": 11,
      "outputs": [
        {
          "output_type": "error",
          "ename": "TypeError",
          "evalue": "ignored",
          "traceback": [
            "\u001b[0;31m---------------------------------------------------------------------------\u001b[0m",
            "\u001b[0;31mTypeError\u001b[0m                                 Traceback (most recent call last)",
            "\u001b[0;32m<ipython-input-11-3ddf31a7a6fe>\u001b[0m in \u001b[0;36m<module>\u001b[0;34m()\u001b[0m\n\u001b[0;32m----> 1\u001b[0;31m \u001b[0mswordsman\u001b[0m \u001b[0;34m=\u001b[0m \u001b[0mCharacter\u001b[0m\u001b[0;34m(\u001b[0m\u001b[0;34m)\u001b[0m\u001b[0;34m\u001b[0m\u001b[0;34m\u001b[0m\u001b[0m\n\u001b[0m",
            "\u001b[0;31mTypeError\u001b[0m: __init__() missing 3 required positional arguments: 'name', 'hp', and 'ad'"
          ]
        }
      ]
    },
    {
      "cell_type": "code",
      "metadata": {
        "colab": {
          "base_uri": "https://localhost:8080/"
        },
        "id": "QYsQ0hh8b1Qz",
        "outputId": "76865b1a-8a34-4f88-8340-5c76bbf8f7d3"
      },
      "source": [
        "swordsman = Character('검술사', 100, 10)"
      ],
      "execution_count": 12,
      "outputs": [
        {
          "output_type": "stream",
          "text": [
            "Character 클래스의 객체 생성 => 검술사\n"
          ],
          "name": "stdout"
        }
      ]
    },
    {
      "cell_type": "code",
      "metadata": {
        "id": "8VnkXNjTb1T3"
      },
      "source": [
        "class Character :\n",
        "    def __init__(self, name, hp, ad) :\n",
        "        self.name = name\n",
        "        self.strength = hp\n",
        "        self.attack_damage = ad\n",
        "        print('Character 클래스의 객체 생성 =>', self.name)\n",
        "\n",
        "    def information(self) : \n",
        "        print('이름 =>', self.name, ', 체력 =>', self.strength, \n",
        "              ', 공격력 =>', self.attack_damage)\n",
        "\n",
        "    def attack(self, target) : \n",
        "        print(target, '을/를 공격합니다.')"
      ],
      "execution_count": 13,
      "outputs": []
    },
    {
      "cell_type": "code",
      "metadata": {
        "colab": {
          "base_uri": "https://localhost:8080/"
        },
        "id": "BwpILoikcbe_",
        "outputId": "87f60dba-5a8b-40fc-af7d-070f3a1860ea"
      },
      "source": [
        "swordsman = Character('검술사', 100, 10)\n",
        "swordsman.information()"
      ],
      "execution_count": 14,
      "outputs": [
        {
          "output_type": "stream",
          "text": [
            "Character 클래스의 객체 생성 => 검술사\n",
            "이름 => 검술사 , 체력 => 100 , 공격력 => 10\n"
          ],
          "name": "stdout"
        }
      ]
    },
    {
      "cell_type": "code",
      "metadata": {
        "colab": {
          "base_uri": "https://localhost:8080/"
        },
        "id": "VWm7WbTxcbhT",
        "outputId": "46279b1e-d894-4280-d5e9-0755885e49b3"
      },
      "source": [
        "fairy = Character('요정', 60, 5) \n",
        "fairy.information()\n",
        "\n",
        "thief = Character('도적', 85, 8) \n",
        "thief.information()"
      ],
      "execution_count": 15,
      "outputs": [
        {
          "output_type": "stream",
          "text": [
            "Character 클래스의 객체 생성 => 요정\n",
            "이름 => 요정 , 체력 => 60 , 공격력 => 5\n",
            "Character 클래스의 객체 생성 => 도적\n",
            "이름 => 도적 , 체력 => 85 , 공격력 => 8\n"
          ],
          "name": "stdout"
        }
      ]
    },
    {
      "cell_type": "code",
      "metadata": {
        "colab": {
          "base_uri": "https://localhost:8080/"
        },
        "id": "y4JsdcD6cbjy",
        "outputId": "a2f5692d-7ddf-457d-f126-5a99091b0095"
      },
      "source": [
        "# 인스턴스 속성 변경하기\n",
        "print('변경 전 ----------') \n",
        "swordsman.information()\n",
        "\n",
        "swordsman.strength = 120 \n",
        "swordsman.attack_damage = 15\n",
        "\n",
        "print('변경 후 ----------') \n",
        "swordsman.information()"
      ],
      "execution_count": 16,
      "outputs": [
        {
          "output_type": "stream",
          "text": [
            "변경 전 ----------\n",
            "이름 => 검술사 , 체력 => 100 , 공격력 => 10\n",
            "변경 후 ----------\n",
            "이름 => 검술사 , 체력 => 120 , 공격력 => 15\n"
          ],
          "name": "stdout"
        }
      ]
    },
    {
      "cell_type": "code",
      "metadata": {
        "id": "9NgOStRvcbme"
      },
      "source": [
        "class Character :\n",
        "    def __init__(self, name, hp, ad) :\n",
        "        self.name = name\n",
        "        self.strength = hp\n",
        "        self.attack_damage = ad\n",
        "        print('Character 클래스의 객체 생성 =>', self.name)\n",
        "\n",
        "    def information(self) : \n",
        "        print('이름 =>', self.name, ', 체력 =>', self.strength, \n",
        "              ', 공격력 =>', self.attack_damage)\n",
        "\n",
        "    def attack(self, target) : \n",
        "        print(target, '을/를 공격합니다.')\n",
        "\n",
        "    def level_up(self) : \n",
        "        self.strength *=1.2\n",
        "        self.attack_damage += 5"
      ],
      "execution_count": 17,
      "outputs": []
    },
    {
      "cell_type": "code",
      "metadata": {
        "colab": {
          "base_uri": "https://localhost:8080/"
        },
        "id": "UWs1aEcpc8Po",
        "outputId": "a22e7011-f128-4e4f-8a2a-153cef8caa6c"
      },
      "source": [
        "swordsman = Character('검술사', 100, 10)\n",
        "print('변경 전 ----------') \n",
        "swordsman.information()\n",
        "\n",
        "swordsman.level_up()\n",
        "\n",
        "print('변경 후 ----------') \n",
        "swordsman.information()"
      ],
      "execution_count": 18,
      "outputs": [
        {
          "output_type": "stream",
          "text": [
            "Character 클래스의 객체 생성 => 검술사\n",
            "변경 전 ----------\n",
            "이름 => 검술사 , 체력 => 100 , 공격력 => 10\n",
            "변경 후 ----------\n",
            "이름 => 검술사 , 체력 => 120.0 , 공격력 => 15\n"
          ],
          "name": "stdout"
        }
      ]
    },
    {
      "cell_type": "code",
      "metadata": {
        "id": "yuVXOWKyc8R_"
      },
      "source": [
        "# 메서드의 매개변수로 객체 전달하기\n",
        "class Character :\n",
        "    def __init__(self, name, hp, ad) :\n",
        "        self.name = name\n",
        "        self.strength = hp\n",
        "        self.attack_damage = ad\n",
        "        print('Character 클래스의 객체 생성 =>', self.name)\n",
        "\n",
        "    def information(self) : \n",
        "        print('이름 =>', self.name, ', 체력 =>', self.strength, \n",
        "              ', 공격력 =>', self.attack_damage)\n",
        "\n",
        "    def attack(self, target) : \n",
        "        print(self.name,'이/가', target.name, '(', target.strength, ') 을/를 공격합니다.')\n",
        "        # 공격받은 대상의 체력을 공격력만큼 감소시키기\n",
        "        target.strength -= self.attack_damage\n",
        "        print('공격 성공!', target.name, '(', target.strength, ')')\n",
        "\n",
        "    def level_up(self) : \n",
        "        self.strength *=1.2\n",
        "        self.attack_damage += 5"
      ],
      "execution_count": 19,
      "outputs": []
    },
    {
      "cell_type": "code",
      "metadata": {
        "colab": {
          "base_uri": "https://localhost:8080/"
        },
        "id": "YqcJUsEkc8UV",
        "outputId": "2a630f80-e7ef-4529-e7df-da421c6843fa"
      },
      "source": [
        "# 검술사, 요정, 도적 객체 생성\n",
        "swordsman = Character('검술사', 100, 10) \n",
        "fairy = Character('요정', 60, 5)\n",
        "thief = Character('도적', 85, 8)\n",
        "\n",
        "# 검술사가 요정 공격\n",
        "swordsman.attack(fairy)"
      ],
      "execution_count": 20,
      "outputs": [
        {
          "output_type": "stream",
          "text": [
            "Character 클래스의 객체 생성 => 검술사\n",
            "Character 클래스의 객체 생성 => 요정\n",
            "Character 클래스의 객체 생성 => 도적\n",
            "검술사 이/가 요정 ( 60 ) 을/를 공격합니다.\n",
            "공격 성공! 요정 ( 50 )\n"
          ],
          "name": "stdout"
        }
      ]
    },
    {
      "cell_type": "code",
      "metadata": {
        "colab": {
          "base_uri": "https://localhost:8080/"
        },
        "id": "RVTqZW3Kc8W-",
        "outputId": "452161c4-c958-41d4-ad13-018d6c3de1cc"
      },
      "source": [
        "thief.attack(swordsman) # 도적이 검술사 공격 \n",
        "fairy.attack(thief) # 요정이 도적 공격"
      ],
      "execution_count": 21,
      "outputs": [
        {
          "output_type": "stream",
          "text": [
            "도적 이/가 검술사 ( 100 ) 을/를 공격합니다.\n",
            "공격 성공! 검술사 ( 92 )\n",
            "요정 이/가 도적 ( 85 ) 을/를 공격합니다.\n",
            "공격 성공! 도적 ( 80 )\n"
          ],
          "name": "stdout"
        }
      ]
    },
    {
      "cell_type": "code",
      "metadata": {
        "id": "eBfc0T5hd0X7"
      },
      "source": [
        "class Character :\n",
        "    # 클래스 속성\n",
        "    total_character_cnt = 0\n",
        "\n",
        "    def __init__(self, name, hp, ad) :\n",
        "        self.name = name\n",
        "        self.strength = hp\n",
        "        self.attack_damage = ad\n",
        "        print('Character 클래스의 객체 생성 =>', self.name)\n",
        "        # 메서드에서 클래스 속성 다루기 \n",
        "        Character.total_character_cnt += 1\n",
        "        print('현재 캐릭터 개수 =', Character.total_character_cnt)\n",
        "\n",
        "    def information(self) : \n",
        "        print('이름 =>', self.name, ', 체력 =>', self.strength, \n",
        "              ', 공격력 =>', self.attack_damage)\n",
        "\n",
        "    def attack(self, target) : \n",
        "        print(self.name,'이/가', target.name, '(', target.strength, ') 을/를 공격합니다.')\n",
        "        # 공격받은 대상의 체력을 공격력만큼 감소시키기\n",
        "        target.strength -= self.attack_damage\n",
        "        print('공격 성공!', target.name, '(', target.strength, ')')\n",
        "\n",
        "    def level_up(self) : \n",
        "        self.strength *=1.2\n",
        "        self.attack_damage += 5"
      ],
      "execution_count": 22,
      "outputs": []
    },
    {
      "cell_type": "code",
      "metadata": {
        "colab": {
          "base_uri": "https://localhost:8080/"
        },
        "id": "s5mDjAPKd0bR",
        "outputId": "5981f180-1272-482a-fe5b-ae9041176d42"
      },
      "source": [
        "# 검술사, 요정, 도적 객체 생성\n",
        "swordsman = Character('검술사', 100, 10) \n",
        "fairy = Character('요정', 60, 5)\n",
        "thief = Character('도적', 85, 8)"
      ],
      "execution_count": 23,
      "outputs": [
        {
          "output_type": "stream",
          "text": [
            "Character 클래스의 객체 생성 => 검술사\n",
            "현재 캐릭터 개수 = 1\n",
            "Character 클래스의 객체 생성 => 요정\n",
            "현재 캐릭터 개수 = 2\n",
            "Character 클래스의 객체 생성 => 도적\n",
            "현재 캐릭터 개수 = 3\n"
          ],
          "name": "stdout"
        }
      ]
    },
    {
      "cell_type": "markdown",
      "metadata": {
        "id": "UroFO0fPeKsG"
      },
      "source": [
        "## 14.2 클래스와 객체로 프로그램 작성하기\n",
        "#### 14.2.1 상품 클래스 만들기"
      ]
    },
    {
      "cell_type": "code",
      "metadata": {
        "id": "yZUoPob9d0do"
      },
      "source": [
        "class Product :\n",
        "    def __init__(self, n, p, s) : \n",
        "        self.name, self.price, self.stock = n, p, s\n",
        "\n",
        "    def information(self) :\n",
        "        print('상품 이름 : ', self.name)\n",
        "        print('상푸 가격 : ', self.price)\n",
        "        print('남은 재고 : ', self.stock)"
      ],
      "execution_count": 34,
      "outputs": []
    },
    {
      "cell_type": "markdown",
      "metadata": {
        "id": "6skQhJk1en0a"
      },
      "source": [
        "#### 14.2.2 회원 클래스 만들기"
      ]
    },
    {
      "cell_type": "code",
      "metadata": {
        "id": "UNVu3_4Cd0fE"
      },
      "source": [
        "class Member :\n",
        "    def __init__(self, n, d) :\n",
        "        self.name, self.join_date = n, d \n",
        "        self.purchase_list = [] \n",
        "        self.purchase_amount = 0\n",
        "\n",
        "    def information(self) :\n",
        "        print('회원 이름 :', self.name)\n",
        "        print('가입 날짜 :', self.join_date) \n",
        "        print('구매 내역 :', self.purchase_list) \n",
        "        print('누적 구매금액 :', self.purchase_amount)\n",
        "\n",
        "    # Product 객체가 인자로 전달됨\n",
        "    def buy(self, product, count) :\n",
        "        print(self.name, '고객님이', product.name, count, '개 구매!') \n",
        "        product.stock -= count\n",
        "        self.purchase_list.append(product.name) # 구매내역에 상품 추가 \n",
        "        self.purchase_amount += (product.price * count) # 누적 구매금액 증가"
      ],
      "execution_count": 35,
      "outputs": []
    },
    {
      "cell_type": "markdown",
      "metadata": {
        "id": "NlupxXlxarbF"
      },
      "source": [
        "#### 14.2.3  상품등록, 회원가입, 물품구매 코드 작성하기\n"
      ]
    },
    {
      "cell_type": "code",
      "metadata": {
        "id": "P_205ZK8d0i7"
      },
      "source": [
        "# 물건 등록\n",
        "socks = Product('socks', 1000, 10)\n",
        "books = Product('books', 17500, 15)\n",
        "\n",
        "# 회원가입\n",
        "Anna = Member('Anna', '20200420') \n",
        "Grace = Member('Grace', '20200130')"
      ],
      "execution_count": 41,
      "outputs": []
    },
    {
      "cell_type": "code",
      "metadata": {
        "colab": {
          "base_uri": "https://localhost:8080/"
        },
        "id": "-NmVfqBwd0kq",
        "outputId": "39674ddd-104c-4e59-faa9-be7973ef1dfb"
      },
      "source": [
        "Anna.buy(socks, 1) "
      ],
      "execution_count": 42,
      "outputs": [
        {
          "output_type": "stream",
          "text": [
            "Anna 고객님이 socks 1 개 구매!\n"
          ],
          "name": "stdout"
        }
      ]
    },
    {
      "cell_type": "code",
      "metadata": {
        "colab": {
          "base_uri": "https://localhost:8080/"
        },
        "id": "Xrd048Z9arkt",
        "outputId": "1085fcaf-1071-41f3-e609-bfea2cc4a106"
      },
      "source": [
        "Anna.information()"
      ],
      "execution_count": 43,
      "outputs": [
        {
          "output_type": "stream",
          "text": [
            "회원 이름 : Anna\n",
            "가입 날짜 : 20200420\n",
            "구매 내역 : ['socks']\n",
            "누적 구매금액 : 1000\n"
          ],
          "name": "stdout"
        }
      ]
    },
    {
      "cell_type": "code",
      "metadata": {
        "colab": {
          "base_uri": "https://localhost:8080/"
        },
        "id": "mKkUNczrarnH",
        "outputId": "37aed0c1-9596-480c-dfd8-df09543b025f"
      },
      "source": [
        "socks.information()"
      ],
      "execution_count": 44,
      "outputs": [
        {
          "output_type": "stream",
          "text": [
            "상품 이름 :  socks\n",
            "상푸 가격 :  1000\n",
            "남은 재고 :  9\n"
          ],
          "name": "stdout"
        }
      ]
    },
    {
      "cell_type": "code",
      "metadata": {
        "colab": {
          "base_uri": "https://localhost:8080/"
        },
        "id": "xmn4dvrOarpb",
        "outputId": "0b5b9d0c-2c4b-480e-aac6-d82634d98894"
      },
      "source": [
        "Grace.buy(books, 2)\n",
        "books.information()"
      ],
      "execution_count": 45,
      "outputs": [
        {
          "output_type": "stream",
          "text": [
            "Grace 고객님이 books 2 개 구매!\n",
            "상품 이름 :  books\n",
            "상푸 가격 :  17500\n",
            "남은 재고 :  13\n"
          ],
          "name": "stdout"
        }
      ]
    },
    {
      "cell_type": "code",
      "metadata": {
        "colab": {
          "base_uri": "https://localhost:8080/"
        },
        "id": "icqgyAnRarrk",
        "outputId": "11cbf4aa-16bc-4121-e088-86e97e4e9717"
      },
      "source": [
        "Grace.information()"
      ],
      "execution_count": 46,
      "outputs": [
        {
          "output_type": "stream",
          "text": [
            "회원 이름 : Grace\n",
            "가입 날짜 : 20200130\n",
            "구매 내역 : ['books']\n",
            "누적 구매금액 : 35000\n"
          ],
          "name": "stdout"
        }
      ]
    },
    {
      "cell_type": "code",
      "metadata": {
        "colab": {
          "base_uri": "https://localhost:8080/"
        },
        "id": "Tg8gCxUWaruF",
        "outputId": "4d7fddcb-3d0b-420b-d443-4e8715e2f526"
      },
      "source": [
        "# 새로운 물건 입고\n",
        "pen = Product('pen', 1200, 25)\n",
        "Anna.buy(pen, 5) "
      ],
      "execution_count": 48,
      "outputs": [
        {
          "output_type": "stream",
          "text": [
            "Anna 고객님이 pen 5 개 구매!\n"
          ],
          "name": "stdout"
        }
      ]
    },
    {
      "cell_type": "code",
      "metadata": {
        "colab": {
          "base_uri": "https://localhost:8080/"
        },
        "id": "4MKoLriJarwV",
        "outputId": "3a34f475-b2d3-4185-c063-2b5bc444612a"
      },
      "source": [
        "Anna.information()"
      ],
      "execution_count": 49,
      "outputs": [
        {
          "output_type": "stream",
          "text": [
            "회원 이름 : Anna\n",
            "가입 날짜 : 20200420\n",
            "구매 내역 : ['socks', 'pen', 'pen']\n",
            "누적 구매금액 : 13000\n"
          ],
          "name": "stdout"
        }
      ]
    }
  ]
}