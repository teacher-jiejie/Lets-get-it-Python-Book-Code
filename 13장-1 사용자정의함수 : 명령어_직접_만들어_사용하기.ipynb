{
  "nbformat": 4,
  "nbformat_minor": 0,
  "metadata": {
    "colab": {
      "name": "13장-1 사용자 정의 함수: 명령어 직접 만들어 사용하기.ipynb",
      "provenance": [],
      "collapsed_sections": [],
      "authorship_tag": "ABX9TyMTsFiBepEAWPlqqwN6+Q12",
      "include_colab_link": true
    },
    "kernelspec": {
      "name": "python3",
      "display_name": "Python 3"
    },
    "language_info": {
      "name": "python"
    }
  },
  "cells": [
    {
      "cell_type": "markdown",
      "metadata": {
        "id": "view-in-github",
        "colab_type": "text"
      },
      "source": [
        "<a href=\"https://colab.research.google.com/github/teacher-jiejie/Lets-get-it-Python-Book-Code/blob/main/13%EC%9E%A5-1%20%EC%82%AC%EC%9A%A9%EC%9E%90%EC%A0%95%EC%9D%98%ED%95%A8%EC%88%98%20%3A%20%EB%AA%85%EB%A0%B9%EC%96%B4_%EC%A7%81%EC%A0%91_%EB%A7%8C%EB%93%A4%EC%96%B4_%EC%82%AC%EC%9A%A9%ED%95%98%EA%B8%B0.ipynb\" target=\"_parent\"><img src=\"https://colab.research.google.com/assets/colab-badge.svg\" alt=\"Open In Colab\"/></a>"
      ]
    },
    {
      "cell_type": "markdown",
      "metadata": {
        "id": "HSNH6uFT6dPA"
      },
      "source": [
        "## 13.1  단축키 역할을 하는 사용자 정의 함수\n",
        "#### 13.1.1 사용자 정의 함수 만들어 사용하기"
      ]
    },
    {
      "cell_type": "code",
      "metadata": {
        "colab": {
          "base_uri": "https://localhost:8080/"
        },
        "id": "lQTrfExU6dbJ",
        "outputId": "e648d54f-49a4-4817-cd11-00c10d5b8d73"
      },
      "source": [
        "def hi(): \n",
        "    print('hi!')\n",
        "    print('My name is Python!')\n",
        "\n",
        "hi()"
      ],
      "execution_count": 2,
      "outputs": [
        {
          "output_type": "stream",
          "text": [
            "hi!\n",
            "My name is Python!\n"
          ],
          "name": "stdout"
        }
      ]
    },
    {
      "cell_type": "code",
      "metadata": {
        "colab": {
          "base_uri": "https://localhost:8080/"
        },
        "id": "9FoGeNs36deD",
        "outputId": "2110560b-013a-4924-d2aa-c282085e2bde"
      },
      "source": [
        "hi()\n",
        "hi()"
      ],
      "execution_count": 3,
      "outputs": [
        {
          "output_type": "stream",
          "text": [
            "hi!\n",
            "My name is Python!\n",
            "hi!\n",
            "My name is Python!\n"
          ],
          "name": "stdout"
        }
      ]
    },
    {
      "cell_type": "code",
      "metadata": {
        "colab": {
          "base_uri": "https://localhost:8080/",
          "height": 225
        },
        "id": "HOMWwwxB6dgw",
        "outputId": "32f4b74d-f4da-4983-d0eb-e64e7f29d505"
      },
      "source": [
        "hello()\n",
        "\n",
        "def hello(): \n",
        "    print('hello!')\n",
        "    print('My name is Python!')"
      ],
      "execution_count": 4,
      "outputs": [
        {
          "output_type": "error",
          "ename": "NameError",
          "evalue": "ignored",
          "traceback": [
            "\u001b[0;31m---------------------------------------------------------------------------\u001b[0m",
            "\u001b[0;31mNameError\u001b[0m                                 Traceback (most recent call last)",
            "\u001b[0;32m<ipython-input-4-2c88ca0d32ef>\u001b[0m in \u001b[0;36m<module>\u001b[0;34m()\u001b[0m\n\u001b[0;32m----> 1\u001b[0;31m \u001b[0mhello\u001b[0m\u001b[0;34m(\u001b[0m\u001b[0;34m)\u001b[0m\u001b[0;34m\u001b[0m\u001b[0;34m\u001b[0m\u001b[0m\n\u001b[0m\u001b[1;32m      2\u001b[0m \u001b[0;32mdef\u001b[0m \u001b[0mhello\u001b[0m\u001b[0;34m(\u001b[0m\u001b[0;34m)\u001b[0m\u001b[0;34m:\u001b[0m\u001b[0;34m\u001b[0m\u001b[0;34m\u001b[0m\u001b[0m\n\u001b[1;32m      3\u001b[0m     \u001b[0mprint\u001b[0m\u001b[0;34m(\u001b[0m\u001b[0;34m'hello!'\u001b[0m\u001b[0;34m)\u001b[0m\u001b[0;34m\u001b[0m\u001b[0;34m\u001b[0m\u001b[0m\n\u001b[1;32m      4\u001b[0m     \u001b[0mprint\u001b[0m\u001b[0;34m(\u001b[0m\u001b[0;34m'My name is Python!'\u001b[0m\u001b[0;34m)\u001b[0m\u001b[0;34m\u001b[0m\u001b[0;34m\u001b[0m\u001b[0m\n",
            "\u001b[0;31mNameError\u001b[0m: name 'hello' is not defined"
          ]
        }
      ]
    },
    {
      "cell_type": "code",
      "metadata": {
        "colab": {
          "base_uri": "https://localhost:8080/"
        },
        "id": "BEd9thPp6djU",
        "outputId": "4b5609cf-3459-4033-ba3b-2f2629f6d413"
      },
      "source": [
        "def hello(): \n",
        "    print('hello!')\n",
        "    print('My name is Python!')\n",
        "\n",
        "hello()"
      ],
      "execution_count": 5,
      "outputs": [
        {
          "output_type": "stream",
          "text": [
            "hello!\n",
            "My name is Python!\n"
          ],
          "name": "stdout"
        }
      ]
    },
    {
      "cell_type": "markdown",
      "metadata": {
        "id": "dXEBvaKJ6d0y"
      },
      "source": [
        "#### 13.1.2 사용자 정의 함수의 입력과 출력"
      ]
    },
    {
      "cell_type": "code",
      "metadata": {
        "id": "DeUtaOov6dmH"
      },
      "source": [
        "def hi(name): \n",
        "    print('hi!')\n",
        "    print('My name is', name, '!')"
      ],
      "execution_count": 6,
      "outputs": []
    },
    {
      "cell_type": "code",
      "metadata": {
        "colab": {
          "base_uri": "https://localhost:8080/"
        },
        "id": "aIEJQNOh6dph",
        "outputId": "2cf2fbf0-110d-416b-ddf3-ce83d2b18469"
      },
      "source": [
        "hi(name = 'dragon')"
      ],
      "execution_count": 7,
      "outputs": [
        {
          "output_type": "stream",
          "text": [
            "hi!\n",
            "My name is dragon !\n"
          ],
          "name": "stdout"
        }
      ]
    },
    {
      "cell_type": "code",
      "metadata": {
        "colab": {
          "base_uri": "https://localhost:8080/"
        },
        "id": "KXVIQkwI6eAI",
        "outputId": "542e6c88-8aea-4723-f9fe-5eb33c8d3a3c"
      },
      "source": [
        "hi(name = 'Python') \n",
        "hi(name = 2020)"
      ],
      "execution_count": 8,
      "outputs": [
        {
          "output_type": "stream",
          "text": [
            "hi!\n",
            "My name is Python !\n",
            "hi!\n",
            "My name is 2020 !\n"
          ],
          "name": "stdout"
        }
      ]
    },
    {
      "cell_type": "code",
      "metadata": {
        "colab": {
          "base_uri": "https://localhost:8080/",
          "height": 171
        },
        "id": "_VzDbVrg6eDD",
        "outputId": "4880bea5-e3bf-4e00-8724-74e9d9df3f18"
      },
      "source": [
        "hi()"
      ],
      "execution_count": 9,
      "outputs": [
        {
          "output_type": "error",
          "ename": "TypeError",
          "evalue": "ignored",
          "traceback": [
            "\u001b[0;31m---------------------------------------------------------------------------\u001b[0m",
            "\u001b[0;31mTypeError\u001b[0m                                 Traceback (most recent call last)",
            "\u001b[0;32m<ipython-input-9-ce8dd9c0d491>\u001b[0m in \u001b[0;36m<module>\u001b[0;34m()\u001b[0m\n\u001b[0;32m----> 1\u001b[0;31m \u001b[0mhi\u001b[0m\u001b[0;34m(\u001b[0m\u001b[0;34m)\u001b[0m\u001b[0;34m\u001b[0m\u001b[0;34m\u001b[0m\u001b[0m\n\u001b[0m",
            "\u001b[0;31mTypeError\u001b[0m: hi() missing 1 required positional argument: 'name'"
          ]
        }
      ]
    },
    {
      "cell_type": "code",
      "metadata": {
        "colab": {
          "base_uri": "https://localhost:8080/"
        },
        "id": "Wsr1u0ms6eFu",
        "outputId": "0ed7a0be-89cc-4f64-f23a-8209494124f7"
      },
      "source": [
        "def hi_2(name, job) : \n",
        "    print('hi!')\n",
        "    print('My name is', name, 'and My job is', job, '!') \n",
        "\n",
        "hi_2(name = '고라니', job = 'programmer')"
      ],
      "execution_count": 10,
      "outputs": [
        {
          "output_type": "stream",
          "text": [
            "hi!\n",
            "My name is 고라니 and My job is programmer !\n"
          ],
          "name": "stdout"
        }
      ]
    },
    {
      "cell_type": "code",
      "metadata": {
        "colab": {
          "base_uri": "https://localhost:8080/"
        },
        "id": "EtULD5U-6eIg",
        "outputId": "ca713f3a-af30-484d-e0a9-3d4c943d6526"
      },
      "source": [
        "hi_2('고라니', 'programmer')"
      ],
      "execution_count": 11,
      "outputs": [
        {
          "output_type": "stream",
          "text": [
            "hi!\n",
            "My name is 고라니 and My job is programmer !\n"
          ],
          "name": "stdout"
        }
      ]
    },
    {
      "cell_type": "code",
      "metadata": {
        "colab": {
          "base_uri": "https://localhost:8080/"
        },
        "id": "w5rDbbz76eLG",
        "outputId": "6b3b1944-a09d-4a91-8c4e-80a75a9b400d"
      },
      "source": [
        "hi_2('programmer', '고라니')"
      ],
      "execution_count": 12,
      "outputs": [
        {
          "output_type": "stream",
          "text": [
            "hi!\n",
            "My name is programmer and My job is 고라니 !\n"
          ],
          "name": "stdout"
        }
      ]
    },
    {
      "cell_type": "code",
      "metadata": {
        "colab": {
          "base_uri": "https://localhost:8080/"
        },
        "id": "HGyv6p-L6eNw",
        "outputId": "9bffae23-548a-4526-a7aa-aa6da5d7b7b9"
      },
      "source": [
        "def hi(name = 'A') : \n",
        "    print('hi!')\n",
        "    print('My name is', name, '!')\n",
        "\n",
        "hi()\n",
        "hi('B') \n",
        "hi(name = 'C')"
      ],
      "execution_count": 13,
      "outputs": [
        {
          "output_type": "stream",
          "text": [
            "hi!\n",
            "My name is A !\n",
            "hi!\n",
            "My name is B !\n",
            "hi!\n",
            "My name is C !\n"
          ],
          "name": "stdout"
        }
      ]
    },
    {
      "cell_type": "code",
      "metadata": {
        "colab": {
          "base_uri": "https://localhost:8080/"
        },
        "id": "gNHxNu3K-s-p",
        "outputId": "384594b0-5670-434d-bfe9-1e2fcb9fea54"
      },
      "source": [
        "def hi(name = None) : \n",
        "    print('hi!')\n",
        "    print('My name is', name, '!') \n",
        "    \n",
        "hi()"
      ],
      "execution_count": 14,
      "outputs": [
        {
          "output_type": "stream",
          "text": [
            "hi!\n",
            "My name is None !\n"
          ],
          "name": "stdout"
        }
      ]
    },
    {
      "cell_type": "code",
      "metadata": {
        "id": "nIMRwymf-tBT"
      },
      "source": [
        "def plus(num1, num2) : \n",
        "    result = num1 + num2\n",
        "\n",
        "plus(486, 849)"
      ],
      "execution_count": 15,
      "outputs": []
    },
    {
      "cell_type": "code",
      "metadata": {
        "colab": {
          "base_uri": "https://localhost:8080/"
        },
        "id": "3h2Msrim-tDQ",
        "outputId": "04388223-dd71-4c01-9b8a-a53d26aa3944"
      },
      "source": [
        "def plus(num1, num2) : \n",
        "    result = num1 + num2\n",
        "\n",
        "print(plus(486, 849))"
      ],
      "execution_count": 16,
      "outputs": [
        {
          "output_type": "stream",
          "text": [
            "None\n"
          ],
          "name": "stdout"
        }
      ]
    },
    {
      "cell_type": "code",
      "metadata": {
        "colab": {
          "base_uri": "https://localhost:8080/"
        },
        "id": "zzpPfb6S-4zV",
        "outputId": "293f518e-8f44-400d-dce6-23ccccca1572"
      },
      "source": [
        "def plus(num1, num2) : \n",
        "    result = num1 + num2\n",
        "    return result\n",
        "\n",
        "print(plus(486, 849))"
      ],
      "execution_count": 17,
      "outputs": [
        {
          "output_type": "stream",
          "text": [
            "1335\n"
          ],
          "name": "stdout"
        }
      ]
    },
    {
      "cell_type": "code",
      "metadata": {
        "colab": {
          "base_uri": "https://localhost:8080/"
        },
        "id": "MFAO4xW3-416",
        "outputId": "ad42b3ff-7301-496f-80f5-bcdf4147e6d7"
      },
      "source": [
        "def plus(num1, num2) :\n",
        "    result = num1 + num2\n",
        "    return result\n",
        "    print(num1, '+', num2, '=', num1 + num2)\n",
        "\n",
        "print(plus(486, 849))"
      ],
      "execution_count": 18,
      "outputs": [
        {
          "output_type": "stream",
          "text": [
            "1335\n"
          ],
          "name": "stdout"
        }
      ]
    },
    {
      "cell_type": "code",
      "metadata": {
        "colab": {
          "base_uri": "https://localhost:8080/"
        },
        "id": "upHpQB0Z-44Q",
        "outputId": "a02ae473-3014-4f19-95d9-1a925924c1ea"
      },
      "source": [
        "def plus(num1, num2) :\n",
        "    result = num1 + num2 \n",
        "    return result\n",
        "\n",
        "a, b = int(input('첫 번째 숫자 : ')), int(input('두 번째 숫자 : ')) \n",
        "sum_ab = plus(a, b)\n",
        "print('두 수의 합 :', sum_ab)"
      ],
      "execution_count": 19,
      "outputs": [
        {
          "output_type": "stream",
          "text": [
            "첫 번째 숫자 : 379\n",
            "두 번째 숫자 : 184\n",
            "두 수의 합 : 563\n"
          ],
          "name": "stdout"
        }
      ]
    },
    {
      "cell_type": "code",
      "metadata": {
        "colab": {
          "base_uri": "https://localhost:8080/"
        },
        "id": "uMGDrPUN-46q",
        "outputId": "230d7766-1c29-452c-efb9-62636860b566"
      },
      "source": [
        "def calculate_score(kor, eng, mat) :\n",
        "    score = kor * 0.3 + eng * 0.3 + mat * 0.4 \n",
        "    return score\n",
        "\n",
        "student1 = calculate_score(99, 80, 72) \n",
        "if student1 > 80 :\n",
        "    print('합격입니다! 점수는', student1) \n",
        "else :\n",
        "    print('탈락입니다. 점수는', student1)"
      ],
      "execution_count": 20,
      "outputs": [
        {
          "output_type": "stream",
          "text": [
            "합격입니다! 점수는 82.5\n"
          ],
          "name": "stdout"
        }
      ]
    },
    {
      "cell_type": "code",
      "metadata": {
        "colab": {
          "base_uri": "https://localhost:8080/"
        },
        "id": "4lp4MBxU_S0e",
        "outputId": "d1b4d3c6-ad01-4c70-c227-824005e704a5"
      },
      "source": [
        "def calculate_score_pass(kor, eng, mat) : \n",
        "    score = kor * 0.3 + eng * 0.3 + mat * 0.4 \n",
        "    if score > 80 :\n",
        "        pass_yn = 'yes' \n",
        "    else :\n",
        "        pass_yn = 'no' \n",
        "    return score, pass_yn\n",
        "\n",
        "stu1_score, stu1_pass = calculate_score_pass(99, 80, 72) \n",
        "print('환산점수 :', stu1_score, '합격 여부 :', stu1_pass)"
      ],
      "execution_count": 21,
      "outputs": [
        {
          "output_type": "stream",
          "text": [
            "환산점수 : 82.5 합격 여부 : yes\n"
          ],
          "name": "stdout"
        }
      ]
    },
    {
      "cell_type": "code",
      "metadata": {
        "colab": {
          "base_uri": "https://localhost:8080/",
          "height": 36
        },
        "id": "yJ62VUa9_S3E",
        "outputId": "24777415-f2b8-4b95-d6bc-55ae76db0f9b"
      },
      "source": [
        "# 1분 퀴즈 1\n",
        "def odd_even(num): \n",
        "    if num % 2 == 1 :\n",
        "        result = '홀수' \n",
        "    else :\n",
        "        result = '짝수' \n",
        "    return result\n",
        "    \n",
        "odd_even(num = 26)"
      ],
      "execution_count": 22,
      "outputs": [
        {
          "output_type": "execute_result",
          "data": {
            "application/vnd.google.colaboratory.intrinsic+json": {
              "type": "string"
            },
            "text/plain": [
              "'짝수'"
            ]
          },
          "metadata": {
            "tags": []
          },
          "execution_count": 22
        }
      ]
    },
    {
      "cell_type": "markdown",
      "metadata": {
        "id": "3QKeSOnR6eW1"
      },
      "source": [
        "#### 13.1.3 활동범위가 다른 지역변수와 전역변수"
      ]
    },
    {
      "cell_type": "code",
      "metadata": {
        "colab": {
          "base_uri": "https://localhost:8080/",
          "height": 279
        },
        "id": "8fD-OuzJ_S5Y",
        "outputId": "0a23fe15-9b53-47a4-b360-2c7fa80bae66"
      },
      "source": [
        "def hi() : \n",
        "    name = input('이름은? ')\n",
        "    print('hi!')\n",
        "    print('My name is', name, '!')\n",
        "\n",
        "print('자기소개를 시작합니다.')\n",
        "hi()\n",
        "print(name, '님 안녕하세요.')"
      ],
      "execution_count": 1,
      "outputs": [
        {
          "output_type": "stream",
          "text": [
            "자기소개를 시작합니다.\n",
            "이름은? 제임스\n",
            "hi!\n",
            "My name is 제임스 !\n"
          ],
          "name": "stdout"
        },
        {
          "output_type": "error",
          "ename": "NameError",
          "evalue": "ignored",
          "traceback": [
            "\u001b[0;31m---------------------------------------------------------------------------\u001b[0m",
            "\u001b[0;31mNameError\u001b[0m                                 Traceback (most recent call last)",
            "\u001b[0;32m<ipython-input-1-48ffef0021ae>\u001b[0m in \u001b[0;36m<module>\u001b[0;34m()\u001b[0m\n\u001b[1;32m      6\u001b[0m \u001b[0mprint\u001b[0m\u001b[0;34m(\u001b[0m\u001b[0;34m'자기소개를 시작합니다.'\u001b[0m\u001b[0;34m)\u001b[0m\u001b[0;34m\u001b[0m\u001b[0;34m\u001b[0m\u001b[0m\n\u001b[1;32m      7\u001b[0m \u001b[0mhi\u001b[0m\u001b[0;34m(\u001b[0m\u001b[0;34m)\u001b[0m\u001b[0;34m\u001b[0m\u001b[0;34m\u001b[0m\u001b[0m\n\u001b[0;32m----> 8\u001b[0;31m \u001b[0mprint\u001b[0m\u001b[0;34m(\u001b[0m\u001b[0mname\u001b[0m\u001b[0;34m,\u001b[0m \u001b[0;34m'님 안녕하세요.'\u001b[0m\u001b[0;34m)\u001b[0m\u001b[0;34m\u001b[0m\u001b[0;34m\u001b[0m\u001b[0m\n\u001b[0m",
            "\u001b[0;31mNameError\u001b[0m: name 'name' is not defined"
          ]
        }
      ]
    },
    {
      "cell_type": "code",
      "metadata": {
        "colab": {
          "base_uri": "https://localhost:8080/"
        },
        "id": "yH4GFotf6ehJ",
        "outputId": "771b4018-bac0-4180-89cb-772da768c6c7"
      },
      "source": [
        "def hi() : \n",
        "    name = input('이름은? ')\n",
        "    print('hi!')\n",
        "    print('My name is',name,'!')\n",
        "    return name\n",
        "\n",
        "person = hi()\n",
        "print(person, '님 안녕하세요.')"
      ],
      "execution_count": 2,
      "outputs": [
        {
          "output_type": "stream",
          "text": [
            "이름은? 제임스\n",
            "hi!\n",
            "My name is 제임스 !\n",
            "제임스 님 안녕하세요.\n"
          ],
          "name": "stdout"
        }
      ]
    },
    {
      "cell_type": "code",
      "metadata": {
        "colab": {
          "base_uri": "https://localhost:8080/",
          "height": 333
        },
        "id": "NpyFzK_h6ejm",
        "outputId": "e05c7504-4615-414a-abba-97a56ead9b48"
      },
      "source": [
        "def func1() : \n",
        "    a += 2\n",
        "    b *= 2\n",
        "    print(a, b)\n",
        "\n",
        "a, b = 5, 10\n",
        "func1()"
      ],
      "execution_count": 3,
      "outputs": [
        {
          "output_type": "error",
          "ename": "UnboundLocalError",
          "evalue": "ignored",
          "traceback": [
            "\u001b[0;31m---------------------------------------------------------------------------\u001b[0m",
            "\u001b[0;31mUnboundLocalError\u001b[0m                         Traceback (most recent call last)",
            "\u001b[0;32m<ipython-input-3-9f607544541c>\u001b[0m in \u001b[0;36m<module>\u001b[0;34m()\u001b[0m\n\u001b[1;32m      5\u001b[0m \u001b[0;34m\u001b[0m\u001b[0m\n\u001b[1;32m      6\u001b[0m \u001b[0ma\u001b[0m\u001b[0;34m,\u001b[0m \u001b[0mb\u001b[0m \u001b[0;34m=\u001b[0m \u001b[0;36m5\u001b[0m\u001b[0;34m,\u001b[0m \u001b[0;36m10\u001b[0m\u001b[0;34m\u001b[0m\u001b[0;34m\u001b[0m\u001b[0m\n\u001b[0;32m----> 7\u001b[0;31m \u001b[0mfunc1\u001b[0m\u001b[0;34m(\u001b[0m\u001b[0;34m)\u001b[0m\u001b[0;34m\u001b[0m\u001b[0;34m\u001b[0m\u001b[0m\n\u001b[0m",
            "\u001b[0;32m<ipython-input-3-9f607544541c>\u001b[0m in \u001b[0;36mfunc1\u001b[0;34m()\u001b[0m\n\u001b[1;32m      1\u001b[0m \u001b[0;32mdef\u001b[0m \u001b[0mfunc1\u001b[0m\u001b[0;34m(\u001b[0m\u001b[0;34m)\u001b[0m \u001b[0;34m:\u001b[0m\u001b[0;34m\u001b[0m\u001b[0;34m\u001b[0m\u001b[0m\n\u001b[0;32m----> 2\u001b[0;31m     \u001b[0ma\u001b[0m \u001b[0;34m+=\u001b[0m \u001b[0;36m2\u001b[0m\u001b[0;34m\u001b[0m\u001b[0;34m\u001b[0m\u001b[0m\n\u001b[0m\u001b[1;32m      3\u001b[0m     \u001b[0mb\u001b[0m \u001b[0;34m*=\u001b[0m \u001b[0;36m2\u001b[0m\u001b[0;34m\u001b[0m\u001b[0;34m\u001b[0m\u001b[0m\n\u001b[1;32m      4\u001b[0m     \u001b[0mprint\u001b[0m\u001b[0;34m(\u001b[0m\u001b[0ma\u001b[0m\u001b[0;34m,\u001b[0m \u001b[0mb\u001b[0m\u001b[0;34m)\u001b[0m\u001b[0;34m\u001b[0m\u001b[0;34m\u001b[0m\u001b[0m\n\u001b[1;32m      5\u001b[0m \u001b[0;34m\u001b[0m\u001b[0m\n",
            "\u001b[0;31mUnboundLocalError\u001b[0m: local variable 'a' referenced before assignment"
          ]
        }
      ]
    },
    {
      "cell_type": "code",
      "metadata": {
        "colab": {
          "base_uri": "https://localhost:8080/"
        },
        "id": "BG9ewUE46eml",
        "outputId": "47d788c2-da69-4186-f321-cf5536d40824"
      },
      "source": [
        "def func1() : \n",
        "#     a += 2\n",
        "#     b *= 2\n",
        "    print(a, b)\n",
        "\n",
        "a, b = 5, 10\n",
        "func1()"
      ],
      "execution_count": 4,
      "outputs": [
        {
          "output_type": "stream",
          "text": [
            "5 10\n"
          ],
          "name": "stdout"
        }
      ]
    },
    {
      "cell_type": "code",
      "metadata": {
        "colab": {
          "base_uri": "https://localhost:8080/"
        },
        "id": "lw9fDgGJ6eo4",
        "outputId": "56fde0ad-df04-495b-e506-a182f882b7b2"
      },
      "source": [
        "def func1() : \n",
        "    global a, b\n",
        "    a += 2\n",
        "    b *= 2\n",
        "    print(a, b)\n",
        "\n",
        "a, b = 5, 10\n",
        "func1()"
      ],
      "execution_count": 5,
      "outputs": [
        {
          "output_type": "stream",
          "text": [
            "7 20\n"
          ],
          "name": "stdout"
        }
      ]
    },
    {
      "cell_type": "code",
      "metadata": {
        "colab": {
          "base_uri": "https://localhost:8080/"
        },
        "id": "OLPlYvzv6erg",
        "outputId": "0a786e6b-68f7-404a-81cd-c3a109400685"
      },
      "source": [
        "def func1() : \n",
        "    global a, b\n",
        "    a += 2\n",
        "    b *= 2\n",
        "    print(a, b)\n",
        "\n",
        "a, b = 5, 10\n",
        "for i in range(5) : \n",
        "    func1()"
      ],
      "execution_count": 6,
      "outputs": [
        {
          "output_type": "stream",
          "text": [
            "7 20\n",
            "9 40\n",
            "11 80\n",
            "13 160\n",
            "15 320\n"
          ],
          "name": "stdout"
        }
      ]
    },
    {
      "cell_type": "code",
      "metadata": {
        "colab": {
          "base_uri": "https://localhost:8080/",
          "height": 369
        },
        "id": "rzj6SvpUbJH5",
        "outputId": "b9ebb5a7-1c6e-4668-bc32-027b4e2960e6"
      },
      "source": [
        "def reward_penalty(kind, points) : \n",
        "    print('현재 점수 :', current_point)\n",
        "    if kind == '상점' : \n",
        "        current_point += points\n",
        "    elif kind == '벌점' : \n",
        "        current_point -= points\n",
        "    return current_point\n",
        "\n",
        "current_point = 5\n",
        "reward_penalty('상점', 5)\n",
        "print('최종 점수 :', current_point)"
      ],
      "execution_count": 7,
      "outputs": [
        {
          "output_type": "error",
          "ename": "UnboundLocalError",
          "evalue": "ignored",
          "traceback": [
            "\u001b[0;31m---------------------------------------------------------------------------\u001b[0m",
            "\u001b[0;31mUnboundLocalError\u001b[0m                         Traceback (most recent call last)",
            "\u001b[0;32m<ipython-input-7-cb1a54664e60>\u001b[0m in \u001b[0;36m<module>\u001b[0;34m()\u001b[0m\n\u001b[1;32m      9\u001b[0m \u001b[0;34m\u001b[0m\u001b[0m\n\u001b[1;32m     10\u001b[0m \u001b[0mcurrent_point\u001b[0m \u001b[0;34m=\u001b[0m \u001b[0;36m5\u001b[0m\u001b[0;34m\u001b[0m\u001b[0;34m\u001b[0m\u001b[0m\n\u001b[0;32m---> 11\u001b[0;31m \u001b[0mreward_penalty\u001b[0m\u001b[0;34m(\u001b[0m\u001b[0;34m'상점'\u001b[0m\u001b[0;34m,\u001b[0m \u001b[0;36m5\u001b[0m\u001b[0;34m)\u001b[0m\u001b[0;34m\u001b[0m\u001b[0;34m\u001b[0m\u001b[0m\n\u001b[0m\u001b[1;32m     12\u001b[0m \u001b[0mprint\u001b[0m\u001b[0;34m(\u001b[0m\u001b[0;34m'최종 점수 :'\u001b[0m\u001b[0;34m,\u001b[0m \u001b[0mcurrent_point\u001b[0m\u001b[0;34m)\u001b[0m\u001b[0;34m\u001b[0m\u001b[0;34m\u001b[0m\u001b[0m\n",
            "\u001b[0;32m<ipython-input-7-cb1a54664e60>\u001b[0m in \u001b[0;36mreward_penalty\u001b[0;34m(kind, points)\u001b[0m\n\u001b[1;32m      1\u001b[0m \u001b[0;32mdef\u001b[0m \u001b[0mreward_penalty\u001b[0m\u001b[0;34m(\u001b[0m\u001b[0mkind\u001b[0m\u001b[0;34m,\u001b[0m \u001b[0mpoints\u001b[0m\u001b[0;34m)\u001b[0m \u001b[0;34m:\u001b[0m\u001b[0;34m\u001b[0m\u001b[0;34m\u001b[0m\u001b[0m\n\u001b[0;32m----> 2\u001b[0;31m     \u001b[0mprint\u001b[0m\u001b[0;34m(\u001b[0m\u001b[0;34m'현재 점수 :'\u001b[0m\u001b[0;34m,\u001b[0m \u001b[0mcurrent_point\u001b[0m\u001b[0;34m)\u001b[0m\u001b[0;34m\u001b[0m\u001b[0;34m\u001b[0m\u001b[0m\n\u001b[0m\u001b[1;32m      3\u001b[0m     \u001b[0;32mif\u001b[0m \u001b[0mkind\u001b[0m \u001b[0;34m==\u001b[0m \u001b[0;34m'상점'\u001b[0m \u001b[0;34m:\u001b[0m\u001b[0;34m\u001b[0m\u001b[0;34m\u001b[0m\u001b[0m\n\u001b[1;32m      4\u001b[0m         \u001b[0mcurrent_point\u001b[0m \u001b[0;34m+=\u001b[0m \u001b[0mpoints\u001b[0m\u001b[0;34m\u001b[0m\u001b[0;34m\u001b[0m\u001b[0m\n\u001b[1;32m      5\u001b[0m     \u001b[0;32melif\u001b[0m \u001b[0mkind\u001b[0m \u001b[0;34m==\u001b[0m \u001b[0;34m'벌점'\u001b[0m \u001b[0;34m:\u001b[0m\u001b[0;34m\u001b[0m\u001b[0;34m\u001b[0m\u001b[0m\n",
            "\u001b[0;31mUnboundLocalError\u001b[0m: local variable 'current_point' referenced before assignment"
          ]
        }
      ]
    },
    {
      "cell_type": "code",
      "metadata": {
        "colab": {
          "base_uri": "https://localhost:8080/"
        },
        "id": "TFKb5m6v6et-",
        "outputId": "8535789e-7beb-406e-eaf3-d299e387f3d2"
      },
      "source": [
        "def reward_penalty(kind, points) : \n",
        "    global current_point\n",
        "    print('현재 점수', current_point)\n",
        "    if kind == '상점' : \n",
        "        current_point += points\n",
        "        print('상점 입력 후 점수 :', current_point)\n",
        "    elif kind == '벌점' : \n",
        "        current_point -= points\n",
        "        print('벌점 입력 후 점수 :', current_point)\n",
        "    \n",
        "    return current_point\n",
        "        \n",
        "current_point = 5\n",
        "reward_penalty('상점', 5)\n",
        "print('최종 점수 :', current_point)"
      ],
      "execution_count": 9,
      "outputs": [
        {
          "output_type": "stream",
          "text": [
            "현재 점수 5\n",
            "상점 입력 후 점수 : 10\n",
            "최종 점수 : 10\n"
          ],
          "name": "stdout"
        }
      ]
    },
    {
      "cell_type": "code",
      "metadata": {
        "colab": {
          "base_uri": "https://localhost:8080/"
        },
        "id": "EaBqiYDKb72a",
        "outputId": "c0100483-503f-4c88-c696-1672f20683cd"
      },
      "source": [
        "# 1분 퀴즈 3\n",
        "total_calorie = 0\n",
        "food = []\n",
        "\n",
        "def eat(food_name, food_calorie) : \n",
        "    global total_calorie, food\n",
        "\n",
        "    # 1시간 걸으면 250칼로리 소모된다고 가정\n",
        "    walking_hour = food_calorie / 250\n",
        "    print(food_calorie, '칼로리인', food_name, '를 소모하려면',\n",
        "          walking_hour, '시간을 걸어야 합니다!')\n",
        "    total_calorie += food_calorie\n",
        "    food.append(food_name)\n",
        "    print('지금까지 드신 칼로리는', total_calorie, ', 음식은', food, '입니다.') \n",
        "    \n",
        "    return walking_hour\n",
        "\n",
        "hamburger_walking = eat(food_name = '햄버거', food_calorie = 750) \n",
        "chicken_walking = eat(food_name = '치킨', food_calorie = 1000)"
      ],
      "execution_count": 10,
      "outputs": [
        {
          "output_type": "stream",
          "text": [
            "750 칼로리인 햄버거 를 소모하려면 3.0 시간을 걸어야 합니다!\n",
            "지금까지 드신 칼로리는 750 , 음식은 ['햄버거'] 입니다.\n",
            "1000 칼로리인 치킨 를 소모하려면 4.0 시간을 걸어야 합니다!\n",
            "지금까지 드신 칼로리는 1750 , 음식은 ['햄버거', '치킨'] 입니다.\n"
          ],
          "name": "stdout"
        }
      ]
    },
    {
      "cell_type": "markdown",
      "metadata": {
        "id": "YIAa9DgQ6e4V"
      },
      "source": [
        "#### 13.1.4 사용자 정의 함수로 프로그램 재구성하기"
      ]
    },
    {
      "cell_type": "code",
      "metadata": {
        "colab": {
          "base_uri": "https://localhost:8080/"
        },
        "id": "vQT8bvGq6fDF",
        "outputId": "37a0807a-edc9-4335-cc59-2ecbb81e123a"
      },
      "source": [
        "import random\n",
        "\n",
        "# 정답이 맞으면 0, 틀리면 -1을 return\n",
        "def gugudan(num1, num2) :    \n",
        "    answer = int(input(str(a) + 'x' + str(b) + '? '))\n",
        "    \n",
        "    if answer == num1*num2 :\n",
        "        return 0\n",
        "    else : \n",
        "        print('땡!! 정답은',num1*num2)\n",
        "        return -1     \n",
        "\n",
        "print('구구단을 외자~ 구구단을 외자~')\n",
        "for i in range(20) : \n",
        "    a, b = random.randint(2,9), random.randint(1,9)\n",
        "    if gugudan(a, b) != 0 : \n",
        "        break"
      ],
      "execution_count": 11,
      "outputs": [
        {
          "output_type": "stream",
          "text": [
            "구구단을 외자~ 구구단을 외자~\n",
            "3x3? 9\n",
            "4x6? 24\n",
            "5x1? 5\n",
            "8x1? 2\n",
            "땡!! 정답은 8\n"
          ],
          "name": "stdout"
        }
      ]
    },
    {
      "cell_type": "code",
      "metadata": {
        "colab": {
          "base_uri": "https://localhost:8080/"
        },
        "id": "ZGD8N1hZ6fFw",
        "outputId": "268f9e13-f7f6-4650-bdc7-6d935608ca07"
      },
      "source": [
        "players = ['까치','강아지','토끼','고양이','참새']\n",
        "\n",
        "def game_play(name, cnt) : \n",
        "    print(name * cnt)\n",
        "    \n",
        "def wrong_play(name, cnt) : \n",
        "    if name not in players : \n",
        "        print(name,'은/는 없는 이름입니다!')\n",
        "        return -1\n",
        "    \n",
        "    if cnt <1 or cnt >4 : \n",
        "        print('1~4 사이의 숫자만 가능합니다! 입력한 숫자',cnt)\n",
        "        return -1\n",
        "\n",
        "# 게임 시작\n",
        "print('팅 팅 팅팅  탱 탱 탱탱  팅팅 탱탱 후라이팬 놀이')\n",
        "\n",
        "for i in range(10) :     \n",
        "    next_player, count = input('이름? '), int(input('횟수? '))\n",
        "    check = wrong_play(next_player, count)\n",
        "    if check == -1 : \n",
        "        break\n",
        "    else : \n",
        "        game_play(next_player, count)"
      ],
      "execution_count": 13,
      "outputs": [
        {
          "output_type": "stream",
          "text": [
            "팅 팅 팅팅  탱 탱 탱탱  팅팅 탱탱 후라이팬 놀이\n",
            "이름? 까치\n",
            "횟수? 3\n",
            "까치까치까치\n",
            "이름? 강아지\n",
            "횟수? 4\n",
            "강아지강아지강아지강아지\n",
            "이름? 냥이\n",
            "횟수? 2\n",
            "냥이 은/는 없는 이름입니다!\n"
          ],
          "name": "stdout"
        }
      ]
    },
    {
      "cell_type": "code",
      "metadata": {
        "colab": {
          "base_uri": "https://localhost:8080/"
        },
        "id": "auXz1tNI6fIi",
        "outputId": "0591e787-2729-4e12-b3ba-f5d8c93b9f9b"
      },
      "source": [
        "# 1분 퀴즈 - 4\n",
        "def cal_price(price) : \n",
        "    discount = 0\n",
        "    if price >= 10000 :\n",
        "        print('25% 할인이 적용됩니다.') \n",
        "        discount = price * 0.75\n",
        "    else :\n",
        "        print('할인되지 않습니다.') \n",
        "        discount = price\n",
        "    return discount\n",
        "\n",
        "current_price = int(input('현재 가격 : ')) \n",
        "discount_price = cal_price(current_price) \n",
        "print('할인 가격 : ', discount_price)"
      ],
      "execution_count": 15,
      "outputs": [
        {
          "output_type": "stream",
          "text": [
            "현재 가격 : 15000\n",
            "25% 할인이 적용됩니다.\n",
            "할인 가격 :  11250.0\n"
          ],
          "name": "stdout"
        }
      ]
    }
  ]
}