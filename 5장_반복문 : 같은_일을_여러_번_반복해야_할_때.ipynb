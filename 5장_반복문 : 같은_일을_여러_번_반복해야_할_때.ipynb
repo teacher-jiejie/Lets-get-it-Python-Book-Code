{
  "nbformat": 4,
  "nbformat_minor": 0,
  "metadata": {
    "colab": {
      "name": "5장 - 반복문 : 같은 일을 여러 번 반복해야 할 때.ipynb",
      "provenance": [],
      "collapsed_sections": [],
      "authorship_tag": "ABX9TyO8WwVWesrUOwSbFPZ2AgdX",
      "include_colab_link": true
    },
    "kernelspec": {
      "name": "python3",
      "display_name": "Python 3"
    },
    "language_info": {
      "name": "python"
    }
  },
  "cells": [
    {
      "cell_type": "markdown",
      "metadata": {
        "id": "view-in-github",
        "colab_type": "text"
      },
      "source": [
        "<a href=\"https://colab.research.google.com/github/teacher-jiejie/Lets-get-it-Python-Book-Code/blob/main/5%EC%9E%A5_%EB%B0%98%EB%B3%B5%EB%AC%B8%20%3A%20%EA%B0%99%EC%9D%80_%EC%9D%BC%EC%9D%84_%EC%97%AC%EB%9F%AC_%EB%B2%88_%EB%B0%98%EB%B3%B5%ED%95%B4%EC%95%BC_%ED%95%A0_%EB%95%8C.ipynb\" target=\"_parent\"><img src=\"https://colab.research.google.com/assets/colab-badge.svg\" alt=\"Open In Colab\"/></a>"
      ]
    },
    {
      "cell_type": "markdown",
      "metadata": {
        "id": "nP2g-iVHQg3A"
      },
      "source": [
        "## 5.1  범위 내에서 반복하기: for\n",
        "#### 5.1.1  반복문이란\n"
      ]
    },
    {
      "cell_type": "code",
      "metadata": {
        "colab": {
          "base_uri": "https://localhost:8080/"
        },
        "id": "4GS3G9uKQcDm",
        "outputId": "cdc5c799-431e-4e98-fc36-e50ab3a52708"
      },
      "source": [
        "for a in [1,2,3,4,5] : \n",
        "    print('안녕하세요')"
      ],
      "execution_count": null,
      "outputs": [
        {
          "output_type": "stream",
          "text": [
            "안녕하세요\n",
            "안녕하세요\n",
            "안녕하세요\n",
            "안녕하세요\n",
            "안녕하세요\n"
          ],
          "name": "stdout"
        }
      ]
    },
    {
      "cell_type": "code",
      "metadata": {
        "colab": {
          "base_uri": "https://localhost:8080/"
        },
        "id": "Wg9iKDxJQhKL",
        "outputId": "863ca94a-b6ec-460c-e424-1f1ce33f208c"
      },
      "source": [
        "for a in [1,2,3,4,5] : \n",
        "    print(a,'을(를) 저장 중입니다.')"
      ],
      "execution_count": null,
      "outputs": [
        {
          "output_type": "stream",
          "text": [
            "1 을(를) 저장 중입니다.\n",
            "2 을(를) 저장 중입니다.\n",
            "3 을(를) 저장 중입니다.\n",
            "4 을(를) 저장 중입니다.\n",
            "5 을(를) 저장 중입니다.\n"
          ],
          "name": "stdout"
        }
      ]
    },
    {
      "cell_type": "code",
      "metadata": {
        "colab": {
          "base_uri": "https://localhost:8080/"
        },
        "id": "C2EUKfn3QhMW",
        "outputId": "5fea0021-f805-4032-f113-01e3aeb57632"
      },
      "source": [
        "for a in [9,8,7,6,5,4,3,2,1,0] : \n",
        "    print(a, '안녕하세요')"
      ],
      "execution_count": null,
      "outputs": [
        {
          "output_type": "stream",
          "text": [
            "9 안녕하세요\n",
            "8 안녕하세요\n",
            "7 안녕하세요\n",
            "6 안녕하세요\n",
            "5 안녕하세요\n",
            "4 안녕하세요\n",
            "3 안녕하세요\n",
            "2 안녕하세요\n",
            "1 안녕하세요\n",
            "0 안녕하세요\n"
          ],
          "name": "stdout"
        }
      ]
    },
    {
      "cell_type": "markdown",
      "metadata": {
        "id": "aayx0MOCQ1bF"
      },
      "source": [
        "#### 5.1.2  연속된 숫자를 range()로 간단하게 표현하기"
      ]
    },
    {
      "cell_type": "code",
      "metadata": {
        "colab": {
          "base_uri": "https://localhost:8080/"
        },
        "id": "1dG8U-OnQhQQ",
        "outputId": "38fe0a93-ff94-41d7-8911-930ffcf58fa5"
      },
      "source": [
        "for a in range(1, 20) : \n",
        "    print('선생님, 다시는 청소를 빼먹지 않겠습니다.')"
      ],
      "execution_count": null,
      "outputs": [
        {
          "output_type": "stream",
          "text": [
            "선생님, 다시는 청소를 빼먹지 않겠습니다.\n",
            "선생님, 다시는 청소를 빼먹지 않겠습니다.\n",
            "선생님, 다시는 청소를 빼먹지 않겠습니다.\n",
            "선생님, 다시는 청소를 빼먹지 않겠습니다.\n",
            "선생님, 다시는 청소를 빼먹지 않겠습니다.\n",
            "선생님, 다시는 청소를 빼먹지 않겠습니다.\n",
            "선생님, 다시는 청소를 빼먹지 않겠습니다.\n",
            "선생님, 다시는 청소를 빼먹지 않겠습니다.\n",
            "선생님, 다시는 청소를 빼먹지 않겠습니다.\n",
            "선생님, 다시는 청소를 빼먹지 않겠습니다.\n",
            "선생님, 다시는 청소를 빼먹지 않겠습니다.\n",
            "선생님, 다시는 청소를 빼먹지 않겠습니다.\n",
            "선생님, 다시는 청소를 빼먹지 않겠습니다.\n",
            "선생님, 다시는 청소를 빼먹지 않겠습니다.\n",
            "선생님, 다시는 청소를 빼먹지 않겠습니다.\n",
            "선생님, 다시는 청소를 빼먹지 않겠습니다.\n",
            "선생님, 다시는 청소를 빼먹지 않겠습니다.\n",
            "선생님, 다시는 청소를 빼먹지 않겠습니다.\n",
            "선생님, 다시는 청소를 빼먹지 않겠습니다.\n"
          ],
          "name": "stdout"
        }
      ]
    },
    {
      "cell_type": "code",
      "metadata": {
        "colab": {
          "base_uri": "https://localhost:8080/"
        },
        "id": "lfyoEeClQhSf",
        "outputId": "1099611f-3cf2-46a1-a458-227ba82e455e"
      },
      "source": [
        "for a in range(1, 20) : \n",
        "    print(a, '선생님, 다시는 청소를 빼먹지 않겠습니다.')"
      ],
      "execution_count": null,
      "outputs": [
        {
          "output_type": "stream",
          "text": [
            "1 선생님, 다시는 청소를 빼먹지 않겠습니다.\n",
            "2 선생님, 다시는 청소를 빼먹지 않겠습니다.\n",
            "3 선생님, 다시는 청소를 빼먹지 않겠습니다.\n",
            "4 선생님, 다시는 청소를 빼먹지 않겠습니다.\n",
            "5 선생님, 다시는 청소를 빼먹지 않겠습니다.\n",
            "6 선생님, 다시는 청소를 빼먹지 않겠습니다.\n",
            "7 선생님, 다시는 청소를 빼먹지 않겠습니다.\n",
            "8 선생님, 다시는 청소를 빼먹지 않겠습니다.\n",
            "9 선생님, 다시는 청소를 빼먹지 않겠습니다.\n",
            "10 선생님, 다시는 청소를 빼먹지 않겠습니다.\n",
            "11 선생님, 다시는 청소를 빼먹지 않겠습니다.\n",
            "12 선생님, 다시는 청소를 빼먹지 않겠습니다.\n",
            "13 선생님, 다시는 청소를 빼먹지 않겠습니다.\n",
            "14 선생님, 다시는 청소를 빼먹지 않겠습니다.\n",
            "15 선생님, 다시는 청소를 빼먹지 않겠습니다.\n",
            "16 선생님, 다시는 청소를 빼먹지 않겠습니다.\n",
            "17 선생님, 다시는 청소를 빼먹지 않겠습니다.\n",
            "18 선생님, 다시는 청소를 빼먹지 않겠습니다.\n",
            "19 선생님, 다시는 청소를 빼먹지 않겠습니다.\n"
          ],
          "name": "stdout"
        }
      ]
    },
    {
      "cell_type": "code",
      "metadata": {
        "colab": {
          "base_uri": "https://localhost:8080/"
        },
        "id": "ZXiM_vXdQhUv",
        "outputId": "dc3da1a2-7ab9-4bea-ac49-8c3ef98f5055"
      },
      "source": [
        "for a in range(0, 20) : \n",
        "    print(a+1, '선생님, 다시는 청소를 빼먹지 않겠습니다.')"
      ],
      "execution_count": null,
      "outputs": [
        {
          "output_type": "stream",
          "text": [
            "1 선생님, 다시는 청소를 빼먹지 않겠습니다.\n",
            "2 선생님, 다시는 청소를 빼먹지 않겠습니다.\n",
            "3 선생님, 다시는 청소를 빼먹지 않겠습니다.\n",
            "4 선생님, 다시는 청소를 빼먹지 않겠습니다.\n",
            "5 선생님, 다시는 청소를 빼먹지 않겠습니다.\n",
            "6 선생님, 다시는 청소를 빼먹지 않겠습니다.\n",
            "7 선생님, 다시는 청소를 빼먹지 않겠습니다.\n",
            "8 선생님, 다시는 청소를 빼먹지 않겠습니다.\n",
            "9 선생님, 다시는 청소를 빼먹지 않겠습니다.\n",
            "10 선생님, 다시는 청소를 빼먹지 않겠습니다.\n",
            "11 선생님, 다시는 청소를 빼먹지 않겠습니다.\n",
            "12 선생님, 다시는 청소를 빼먹지 않겠습니다.\n",
            "13 선생님, 다시는 청소를 빼먹지 않겠습니다.\n",
            "14 선생님, 다시는 청소를 빼먹지 않겠습니다.\n",
            "15 선생님, 다시는 청소를 빼먹지 않겠습니다.\n",
            "16 선생님, 다시는 청소를 빼먹지 않겠습니다.\n",
            "17 선생님, 다시는 청소를 빼먹지 않겠습니다.\n",
            "18 선생님, 다시는 청소를 빼먹지 않겠습니다.\n",
            "19 선생님, 다시는 청소를 빼먹지 않겠습니다.\n",
            "20 선생님, 다시는 청소를 빼먹지 않겠습니다.\n"
          ],
          "name": "stdout"
        }
      ]
    },
    {
      "cell_type": "code",
      "metadata": {
        "colab": {
          "base_uri": "https://localhost:8080/"
        },
        "id": "xhX9chCyQhW-",
        "outputId": "4858bd00-3ab6-4d0b-de10-efad6b15422c"
      },
      "source": [
        "for a in range(20) : \n",
        "    print(a, '선생님, 다시는 청소를 빼먹지 않겠습니다.')"
      ],
      "execution_count": null,
      "outputs": [
        {
          "output_type": "stream",
          "text": [
            "0 선생님, 다시는 청소를 빼먹지 않겠습니다.\n",
            "1 선생님, 다시는 청소를 빼먹지 않겠습니다.\n",
            "2 선생님, 다시는 청소를 빼먹지 않겠습니다.\n",
            "3 선생님, 다시는 청소를 빼먹지 않겠습니다.\n",
            "4 선생님, 다시는 청소를 빼먹지 않겠습니다.\n",
            "5 선생님, 다시는 청소를 빼먹지 않겠습니다.\n",
            "6 선생님, 다시는 청소를 빼먹지 않겠습니다.\n",
            "7 선생님, 다시는 청소를 빼먹지 않겠습니다.\n",
            "8 선생님, 다시는 청소를 빼먹지 않겠습니다.\n",
            "9 선생님, 다시는 청소를 빼먹지 않겠습니다.\n",
            "10 선생님, 다시는 청소를 빼먹지 않겠습니다.\n",
            "11 선생님, 다시는 청소를 빼먹지 않겠습니다.\n",
            "12 선생님, 다시는 청소를 빼먹지 않겠습니다.\n",
            "13 선생님, 다시는 청소를 빼먹지 않겠습니다.\n",
            "14 선생님, 다시는 청소를 빼먹지 않겠습니다.\n",
            "15 선생님, 다시는 청소를 빼먹지 않겠습니다.\n",
            "16 선생님, 다시는 청소를 빼먹지 않겠습니다.\n",
            "17 선생님, 다시는 청소를 빼먹지 않겠습니다.\n",
            "18 선생님, 다시는 청소를 빼먹지 않겠습니다.\n",
            "19 선생님, 다시는 청소를 빼먹지 않겠습니다.\n"
          ],
          "name": "stdout"
        }
      ]
    },
    {
      "cell_type": "code",
      "metadata": {
        "colab": {
          "base_uri": "https://localhost:8080/"
        },
        "id": "q9xBEOVuQhZO",
        "outputId": "a29850df-b04c-40a3-cc79-fc3d3035d8f2"
      },
      "source": [
        "# range()에 간격추가하기\n",
        "for a in range(1, 20, 2) : \n",
        "    print(a)"
      ],
      "execution_count": null,
      "outputs": [
        {
          "output_type": "stream",
          "text": [
            "1\n",
            "3\n",
            "5\n",
            "7\n",
            "9\n",
            "11\n",
            "13\n",
            "15\n",
            "17\n",
            "19\n"
          ],
          "name": "stdout"
        }
      ]
    },
    {
      "cell_type": "code",
      "metadata": {
        "colab": {
          "base_uri": "https://localhost:8080/"
        },
        "id": "Zouox0KCQhbn",
        "outputId": "43939387-2ba5-455c-8806-00757846bf7b"
      },
      "source": [
        "for i in range(20) : \n",
        "    print(i, '선생님, 다시는 청소를 빼먹지 않겠습니다.')"
      ],
      "execution_count": null,
      "outputs": [
        {
          "output_type": "stream",
          "text": [
            "0 선생님, 다시는 청소를 빼먹지 않겠습니다.\n",
            "1 선생님, 다시는 청소를 빼먹지 않겠습니다.\n",
            "2 선생님, 다시는 청소를 빼먹지 않겠습니다.\n",
            "3 선생님, 다시는 청소를 빼먹지 않겠습니다.\n",
            "4 선생님, 다시는 청소를 빼먹지 않겠습니다.\n",
            "5 선생님, 다시는 청소를 빼먹지 않겠습니다.\n",
            "6 선생님, 다시는 청소를 빼먹지 않겠습니다.\n",
            "7 선생님, 다시는 청소를 빼먹지 않겠습니다.\n",
            "8 선생님, 다시는 청소를 빼먹지 않겠습니다.\n",
            "9 선생님, 다시는 청소를 빼먹지 않겠습니다.\n",
            "10 선생님, 다시는 청소를 빼먹지 않겠습니다.\n",
            "11 선생님, 다시는 청소를 빼먹지 않겠습니다.\n",
            "12 선생님, 다시는 청소를 빼먹지 않겠습니다.\n",
            "13 선생님, 다시는 청소를 빼먹지 않겠습니다.\n",
            "14 선생님, 다시는 청소를 빼먹지 않겠습니다.\n",
            "15 선생님, 다시는 청소를 빼먹지 않겠습니다.\n",
            "16 선생님, 다시는 청소를 빼먹지 않겠습니다.\n",
            "17 선생님, 다시는 청소를 빼먹지 않겠습니다.\n",
            "18 선생님, 다시는 청소를 빼먹지 않겠습니다.\n",
            "19 선생님, 다시는 청소를 빼먹지 않겠습니다.\n"
          ],
          "name": "stdout"
        }
      ]
    },
    {
      "cell_type": "markdown",
      "metadata": {
        "id": "IiBh_y--RXER"
      },
      "source": [
        "#### 5.1.3  반복문으로 간단한 프로그램 만들기"
      ]
    },
    {
      "cell_type": "code",
      "metadata": {
        "colab": {
          "base_uri": "https://localhost:8080/"
        },
        "id": "GijH63g0Qhds",
        "outputId": "da73b01e-e56b-4529-94cb-556c2eb85317"
      },
      "source": [
        "# 1부터 50까지 숫자의 합을 구하는 프로그램\n",
        "result = 0\n",
        "\n",
        "for i in range(1, 51) : \n",
        "    result += i\n",
        "    \n",
        "print(result)"
      ],
      "execution_count": null,
      "outputs": [
        {
          "output_type": "stream",
          "text": [
            "1275\n"
          ],
          "name": "stdout"
        }
      ]
    },
    {
      "cell_type": "code",
      "metadata": {
        "colab": {
          "base_uri": "https://localhost:8080/"
        },
        "id": "dJHohH09QhgL",
        "outputId": "2a224c5f-1356-413f-e6e8-2ca7f8094054"
      },
      "source": [
        "# result 변수를 반복문 내부에 만들면 \n",
        "for i in range(1, 51) :\n",
        "    result = 0 \n",
        "    result += i\n",
        "print(result)"
      ],
      "execution_count": null,
      "outputs": [
        {
          "output_type": "stream",
          "text": [
            "50\n"
          ],
          "name": "stdout"
        }
      ]
    },
    {
      "cell_type": "code",
      "metadata": {
        "colab": {
          "base_uri": "https://localhost:8080/"
        },
        "id": "yCVa5yWNQhtD",
        "outputId": "f95a1b8c-31c1-4e34-dcf6-7b526146eb8d"
      },
      "source": [
        "# print()를 반복문 내부에 작성하면\n",
        "result = 0\n",
        "\n",
        "for i in range(1, 51) : \n",
        "    result += i\n",
        "    print(result)"
      ],
      "execution_count": null,
      "outputs": [
        {
          "output_type": "stream",
          "text": [
            "1\n",
            "3\n",
            "6\n",
            "10\n",
            "15\n",
            "21\n",
            "28\n",
            "36\n",
            "45\n",
            "55\n",
            "66\n",
            "78\n",
            "91\n",
            "105\n",
            "120\n",
            "136\n",
            "153\n",
            "171\n",
            "190\n",
            "210\n",
            "231\n",
            "253\n",
            "276\n",
            "300\n",
            "325\n",
            "351\n",
            "378\n",
            "406\n",
            "435\n",
            "465\n",
            "496\n",
            "528\n",
            "561\n",
            "595\n",
            "630\n",
            "666\n",
            "703\n",
            "741\n",
            "780\n",
            "820\n",
            "861\n",
            "903\n",
            "946\n",
            "990\n",
            "1035\n",
            "1081\n",
            "1128\n",
            "1176\n",
            "1225\n",
            "1275\n"
          ],
          "name": "stdout"
        }
      ]
    },
    {
      "cell_type": "code",
      "metadata": {
        "colab": {
          "base_uri": "https://localhost:8080/"
        },
        "id": "CP-Ci-26Qhvf",
        "outputId": "adc6e98e-2183-4007-c584-b4b5017c4262"
      },
      "source": [
        "result = 0\n",
        "for i in range(101, 151) : \n",
        "    result += i    \n",
        "print(result)"
      ],
      "execution_count": null,
      "outputs": [
        {
          "output_type": "stream",
          "text": [
            "6275\n"
          ],
          "name": "stdout"
        }
      ]
    },
    {
      "cell_type": "code",
      "metadata": {
        "colab": {
          "base_uri": "https://localhost:8080/"
        },
        "id": "OpAH6MC0Qhxt",
        "outputId": "b7617f15-d415-48ff-81ef-0b2f17bad1d1"
      },
      "source": [
        "result = 1\n",
        "for i in range(1, 51) : \n",
        "    result *= i    \n",
        "print(result)"
      ],
      "execution_count": null,
      "outputs": [
        {
          "output_type": "stream",
          "text": [
            "30414093201713378043612608166064768844377641568960512000000000000\n"
          ],
          "name": "stdout"
        }
      ]
    },
    {
      "cell_type": "code",
      "metadata": {
        "colab": {
          "base_uri": "https://localhost:8080/"
        },
        "id": "oLFQ4P4LQh0H",
        "outputId": "13d3aeb9-fb4b-45cc-f6ae-8bcc9e64ccfa"
      },
      "source": [
        "# 구구단 출력하기\n",
        "num = int(input('몇 단을 외울까요? '))\n",
        "for i in range(1, 10) : \n",
        "    print(num,'x',i,'=',num*i)"
      ],
      "execution_count": null,
      "outputs": [
        {
          "output_type": "stream",
          "text": [
            "몇 단을 외울까요? 4\n",
            "4 x 1 = 4\n",
            "4 x 2 = 8\n",
            "4 x 3 = 12\n",
            "4 x 4 = 16\n",
            "4 x 5 = 20\n",
            "4 x 6 = 24\n",
            "4 x 7 = 28\n",
            "4 x 8 = 32\n",
            "4 x 9 = 36\n"
          ],
          "name": "stdout"
        }
      ]
    },
    {
      "cell_type": "markdown",
      "metadata": {
        "id": "p2q6MFibQhnF"
      },
      "source": [
        "#### 5.1.4  반복문으로 간단한 게임 만들기"
      ]
    },
    {
      "cell_type": "code",
      "metadata": {
        "colab": {
          "base_uri": "https://localhost:8080/"
        },
        "id": "d7nzr8m3Qh2b",
        "outputId": "b012d100-78ce-42e4-b806-7f2d63e56e8f"
      },
      "source": [
        "import random \n",
        "print(random.random())"
      ],
      "execution_count": null,
      "outputs": [
        {
          "output_type": "stream",
          "text": [
            "0.22005130585247934\n"
          ],
          "name": "stdout"
        }
      ]
    },
    {
      "cell_type": "code",
      "metadata": {
        "id": "naM2HsYQQh4w"
      },
      "source": [
        "import random \n",
        "print(random.randrange(1, 10))"
      ],
      "execution_count": null,
      "outputs": []
    },
    {
      "cell_type": "code",
      "metadata": {
        "colab": {
          "base_uri": "https://localhost:8080/"
        },
        "id": "OiNHX8pNQh7H",
        "outputId": "b4c2db03-cbb7-4d84-d185-fe7df6bb153c"
      },
      "source": [
        "import random \n",
        "print(random.randrange(1, 10, 2))"
      ],
      "execution_count": null,
      "outputs": [
        {
          "output_type": "stream",
          "text": [
            "7\n"
          ],
          "name": "stdout"
        }
      ]
    },
    {
      "cell_type": "code",
      "metadata": {
        "colab": {
          "base_uri": "https://localhost:8080/"
        },
        "id": "Ozn-E0hOQh9K",
        "outputId": "d65d6e47-18f2-48cf-9994-5a19e14b094f"
      },
      "source": [
        "import random \n",
        "print(random.randint(1, 10))"
      ],
      "execution_count": null,
      "outputs": [
        {
          "output_type": "stream",
          "text": [
            "1\n"
          ],
          "name": "stdout"
        }
      ]
    },
    {
      "cell_type": "code",
      "metadata": {
        "colab": {
          "base_uri": "https://localhost:8080/"
        },
        "id": "rbWCPd0gQiAV",
        "outputId": "08ce5913-1c1b-4eef-8bac-56ae0416cfc4"
      },
      "source": [
        "import random \n",
        "for i in range(20) : \n",
        "    print(random.randint(0, 10))"
      ],
      "execution_count": null,
      "outputs": [
        {
          "output_type": "stream",
          "text": [
            "8\n",
            "7\n",
            "0\n",
            "8\n",
            "1\n",
            "8\n",
            "4\n",
            "3\n",
            "5\n",
            "9\n",
            "4\n",
            "6\n",
            "8\n",
            "1\n",
            "7\n",
            "1\n",
            "6\n",
            "5\n",
            "0\n",
            "1\n"
          ],
          "name": "stdout"
        }
      ]
    },
    {
      "cell_type": "code",
      "metadata": {
        "id": "Uv8zO4_AQiRO",
        "colab": {
          "base_uri": "https://localhost:8080/"
        },
        "outputId": "66f8798a-ecde-4683-d340-b52ea88c066b"
      },
      "source": [
        "# 구구단을 외자(1)\n",
        "import random\n",
        "\n",
        "print('구구단을 외자~ 구구단을 외자~')\n",
        "\n",
        "for i in range(10) : \n",
        "    a = random.randint(2,9)\n",
        "    b = random.randint(1,9)\n",
        "    print(a,'x',b,'은?',a*b)"
      ],
      "execution_count": null,
      "outputs": [
        {
          "output_type": "stream",
          "text": [
            "구구단을 외자~ 구구단을 외자~\n",
            "9 x 3 은? 27\n",
            "9 x 4 은? 36\n",
            "8 x 7 은? 56\n",
            "2 x 2 은? 4\n",
            "3 x 8 은? 24\n",
            "3 x 1 은? 3\n",
            "3 x 5 은? 15\n",
            "4 x 5 은? 20\n",
            "5 x 8 은? 40\n",
            "9 x 3 은? 27\n"
          ],
          "name": "stdout"
        }
      ]
    },
    {
      "cell_type": "code",
      "metadata": {
        "id": "UPQDhh_rQiTa",
        "colab": {
          "base_uri": "https://localhost:8080/"
        },
        "outputId": "10d5a705-b434-431b-d562-a08094415fb5"
      },
      "source": [
        "# 변수 여러 개에 한 번에 값을 저장하기\n",
        "import random\n",
        "\n",
        "print('구구단을 외자~ 구구단을 외자~')\n",
        "\n",
        "for i in range(10) : \n",
        "    a, b = random.randint(2,9), random.randint(1,9)\n",
        "    print(a,'x',b,'은?',a*b)"
      ],
      "execution_count": null,
      "outputs": [
        {
          "output_type": "stream",
          "text": [
            "구구단을 외자~ 구구단을 외자~\n",
            "7 x 7 은? 49\n",
            "9 x 4 은? 36\n",
            "3 x 9 은? 27\n",
            "3 x 2 은? 6\n",
            "2 x 6 은? 12\n",
            "5 x 6 은? 30\n",
            "6 x 4 은? 24\n",
            "3 x 7 은? 21\n",
            "7 x 4 은? 28\n",
            "9 x 7 은? 63\n"
          ],
          "name": "stdout"
        }
      ]
    },
    {
      "cell_type": "code",
      "metadata": {
        "id": "ISsegDCHQiVr",
        "colab": {
          "base_uri": "https://localhost:8080/"
        },
        "outputId": "6d9e8ae9-70f1-4b7b-81b5-226a169472d6"
      },
      "source": [
        "import random\n",
        "\n",
        "print('구구단을 외자~ 구구단을 외자~')\n",
        "\n",
        "for i in range(10) : \n",
        "    a, b = random.randint(2,9), random.randint(1,9)\n",
        "    question = str(a)+'x'+str(b)+'? '\n",
        "    input(question)"
      ],
      "execution_count": null,
      "outputs": [
        {
          "output_type": "stream",
          "text": [
            "구구단을 외자~ 구구단을 외자~\n",
            "6x1? 6\n",
            "9x2? 18\n",
            "7x5? 35\n",
            "3x3? 9\n",
            "5x7? 35\n",
            "4x6? 24\n",
            "8x5? 40\n",
            "9x6? 54\n",
            "2x6? 12\n",
            "3x7? 21\n"
          ],
          "name": "stdout"
        }
      ]
    },
    {
      "cell_type": "markdown",
      "metadata": {
        "id": "vQtuDC9SQ985"
      },
      "source": [
        "##  5.2  조건을 충족할 때 반복하기: while\n",
        "#### 5.2.1  while문의 형식"
      ]
    },
    {
      "cell_type": "code",
      "metadata": {
        "id": "nw-f1MipQiYD",
        "colab": {
          "base_uri": "https://localhost:8080/"
        },
        "outputId": "96c24c5c-65ea-437c-f6e5-1f52b0d0cc2c"
      },
      "source": [
        "num = 0\n",
        "while num < 10 :\n",
        "    num = int(input('숫자 입력: '))"
      ],
      "execution_count": null,
      "outputs": [
        {
          "output_type": "stream",
          "text": [
            "숫자 입력: 5\n",
            "숫자 입력: 6\n",
            "숫자 입력: 12\n"
          ],
          "name": "stdout"
        }
      ]
    },
    {
      "cell_type": "markdown",
      "metadata": {
        "id": "_jAtbjdeSnIH"
      },
      "source": [
        "#### 5.2.2  for 문을 while문으로 바꾸기"
      ]
    },
    {
      "cell_type": "code",
      "metadata": {
        "colab": {
          "base_uri": "https://localhost:8080/"
        },
        "id": "pCwwjDmySqmY",
        "outputId": "7854adef-a1e7-41d5-ea1f-6dbb52c78a0d"
      },
      "source": [
        "i = 1\n",
        "while i < 20 : \n",
        "    print(i, '선생님, 다시는 청소를 빼먹지 않겠습니다.')\n",
        "    i += 1"
      ],
      "execution_count": null,
      "outputs": [
        {
          "output_type": "stream",
          "text": [
            "1 선생님, 다시는 청소를 빼먹지 않겠습니다.\n",
            "2 선생님, 다시는 청소를 빼먹지 않겠습니다.\n",
            "3 선생님, 다시는 청소를 빼먹지 않겠습니다.\n",
            "4 선생님, 다시는 청소를 빼먹지 않겠습니다.\n",
            "5 선생님, 다시는 청소를 빼먹지 않겠습니다.\n",
            "6 선생님, 다시는 청소를 빼먹지 않겠습니다.\n",
            "7 선생님, 다시는 청소를 빼먹지 않겠습니다.\n",
            "8 선생님, 다시는 청소를 빼먹지 않겠습니다.\n",
            "9 선생님, 다시는 청소를 빼먹지 않겠습니다.\n",
            "10 선생님, 다시는 청소를 빼먹지 않겠습니다.\n",
            "11 선생님, 다시는 청소를 빼먹지 않겠습니다.\n",
            "12 선생님, 다시는 청소를 빼먹지 않겠습니다.\n",
            "13 선생님, 다시는 청소를 빼먹지 않겠습니다.\n",
            "14 선생님, 다시는 청소를 빼먹지 않겠습니다.\n",
            "15 선생님, 다시는 청소를 빼먹지 않겠습니다.\n",
            "16 선생님, 다시는 청소를 빼먹지 않겠습니다.\n",
            "17 선생님, 다시는 청소를 빼먹지 않겠습니다.\n",
            "18 선생님, 다시는 청소를 빼먹지 않겠습니다.\n",
            "19 선생님, 다시는 청소를 빼먹지 않겠습니다.\n"
          ],
          "name": "stdout"
        }
      ]
    },
    {
      "cell_type": "code",
      "metadata": {
        "id": "Q4zuOPrSQiZ8",
        "colab": {
          "base_uri": "https://localhost:8080/"
        },
        "outputId": "ea6ac679-f9bc-4a76-be9a-97a20a431839"
      },
      "source": [
        "result = 0\n",
        "i = 1\n",
        "while i < 51 : \n",
        "    result += i\n",
        "    i += 1\n",
        "print(result)"
      ],
      "execution_count": null,
      "outputs": [
        {
          "output_type": "stream",
          "text": [
            "1275\n"
          ],
          "name": "stdout"
        }
      ]
    },
    {
      "cell_type": "markdown",
      "metadata": {
        "id": "QL4NmJNsVlEE"
      },
      "source": [
        "## 5.3  반복문과 조건문 함께 사용하기\n",
        "####  5.3.1 조건문을 품은 반복문 "
      ]
    },
    {
      "cell_type": "code",
      "metadata": {
        "id": "ext77iRJQicR",
        "colab": {
          "base_uri": "https://localhost:8080/"
        },
        "outputId": "7f6ede80-83cf-438b-f20c-9dd0cfb29b9d"
      },
      "source": [
        "# 구구단을 외자(2)\n",
        "import random\n",
        "print('구구단을 외자~ 구구단을 외자~')\n",
        "for i in range(10) : \n",
        "    a = random.randint(2,9)\n",
        "    b = random.randint(2,9)\n",
        "    question = input(str(a)+'x'+str(b)+'? ')\n",
        "    answer = int(question)\n",
        "    if answer != a * b : \n",
        "        print('틀렸습니다!')"
      ],
      "execution_count": null,
      "outputs": [
        {
          "output_type": "stream",
          "text": [
            "구구단을 외자~ 구구단을 외자~\n",
            "3x4? 12\n",
            "2x4? 8\n",
            "6x2? 10\n",
            "틀렸습니다!\n",
            "4x7? 45\n",
            "틀렸습니다!\n",
            "5x5? 25\n",
            "6x2? 12\n",
            "6x2? 12\n",
            "5x4? 22\n",
            "틀렸습니다!\n",
            "5x9? 45\n",
            "6x7? 42\n"
          ],
          "name": "stdout"
        }
      ]
    },
    {
      "cell_type": "code",
      "metadata": {
        "id": "5fJUjhm8Qie1",
        "colab": {
          "base_uri": "https://localhost:8080/"
        },
        "outputId": "69374360-b937-4907-e45d-7a25101bd8c6"
      },
      "source": [
        "# 홀짝 게임\n",
        "for i in range(1,31) : \n",
        "    if i%2 == 1 : \n",
        "        print(i,'홀수')\n",
        "    else : \n",
        "        print(i,'짝수')"
      ],
      "execution_count": null,
      "outputs": [
        {
          "output_type": "stream",
          "text": [
            "1 홀수\n",
            "2 짝수\n",
            "3 홀수\n",
            "4 짝수\n",
            "5 홀수\n",
            "6 짝수\n",
            "7 홀수\n",
            "8 짝수\n",
            "9 홀수\n",
            "10 짝수\n",
            "11 홀수\n",
            "12 짝수\n",
            "13 홀수\n",
            "14 짝수\n",
            "15 홀수\n",
            "16 짝수\n",
            "17 홀수\n",
            "18 짝수\n",
            "19 홀수\n",
            "20 짝수\n",
            "21 홀수\n",
            "22 짝수\n",
            "23 홀수\n",
            "24 짝수\n",
            "25 홀수\n",
            "26 짝수\n",
            "27 홀수\n",
            "28 짝수\n",
            "29 홀수\n",
            "30 짝수\n"
          ],
          "name": "stdout"
        }
      ]
    },
    {
      "cell_type": "code",
      "metadata": {
        "id": "maMrimPOQig3",
        "colab": {
          "base_uri": "https://localhost:8080/"
        },
        "outputId": "7c24ed4b-13cd-48c8-9cb7-fb6ee5eaada0"
      },
      "source": [
        "for i in range(1,31) : \n",
        "    if i%2 == 1 : \n",
        "        print(i,'홀수', end=', ')\n",
        "    else : \n",
        "        print(i,'짝수', end=', ')"
      ],
      "execution_count": null,
      "outputs": [
        {
          "output_type": "stream",
          "text": [
            "1 홀수, 2 짝수, 3 홀수, 4 짝수, 5 홀수, 6 짝수, 7 홀수, 8 짝수, 9 홀수, 10 짝수, 11 홀수, 12 짝수, 13 홀수, 14 짝수, 15 홀수, 16 짝수, 17 홀수, 18 짝수, 19 홀수, 20 짝수, 21 홀수, 22 짝수, 23 홀수, 24 짝수, 25 홀수, 26 짝수, 27 홀수, 28 짝수, 29 홀수, 30 짝수, "
          ],
          "name": "stdout"
        }
      ]
    },
    {
      "cell_type": "code",
      "metadata": {
        "id": "nudWuxRyQii8",
        "colab": {
          "base_uri": "https://localhost:8080/"
        },
        "outputId": "5028c222-8be4-44c2-924f-76df01486175"
      },
      "source": [
        "if '아버지' in '아버지가방에들어가신다.' :\n",
        "    print('yes')"
      ],
      "execution_count": null,
      "outputs": [
        {
          "output_type": "stream",
          "text": [
            "yes\n"
          ],
          "name": "stdout"
        }
      ]
    },
    {
      "cell_type": "code",
      "metadata": {
        "id": "Vagsc_HBQiu9",
        "colab": {
          "base_uri": "https://localhost:8080/"
        },
        "outputId": "8be46532-3db6-4da4-e57e-1415d7fb2258"
      },
      "source": [
        "if '아버지' in '아버지가방에들어가신다.' :\n",
        "    print('yes')\n",
        "else : \n",
        "    print('no')"
      ],
      "execution_count": null,
      "outputs": [
        {
          "output_type": "stream",
          "text": [
            "yes\n"
          ],
          "name": "stdout"
        }
      ]
    },
    {
      "cell_type": "code",
      "metadata": {
        "id": "hIJ25-EiQixQ",
        "colab": {
          "base_uri": "https://localhost:8080/"
        },
        "outputId": "5be1a606-2045-4c20-8c7a-32cb699d8730"
      },
      "source": [
        "if '어머니' in '아버지가방에들어가신다.' :\n",
        "    print('yes')\n",
        "else : \n",
        "    print('no')"
      ],
      "execution_count": null,
      "outputs": [
        {
          "output_type": "stream",
          "text": [
            "no\n"
          ],
          "name": "stdout"
        }
      ]
    },
    {
      "cell_type": "code",
      "metadata": {
        "id": "rgrpuZKLQizz",
        "colab": {
          "base_uri": "https://localhost:8080/"
        },
        "outputId": "8d8a1622-58d7-46e4-8c9c-0ecce2621aaa"
      },
      "source": [
        "if '어머니' not in '아버지가방에들어가신다.' :\n",
        "    print('yes')\n",
        "else : \n",
        "    print('no')"
      ],
      "execution_count": null,
      "outputs": [
        {
          "output_type": "stream",
          "text": [
            "yes\n"
          ],
          "name": "stdout"
        }
      ]
    },
    {
      "cell_type": "code",
      "metadata": {
        "id": "qxDZqu43Qi17",
        "colab": {
          "base_uri": "https://localhost:8080/"
        },
        "outputId": "82dacf78-5cc4-4565-8aa7-40a9c58d823c"
      },
      "source": [
        "# 369 게임\n",
        "print('3~ 6~ 9~ 369~ 3~ 6~ 9~ 369~ ')\n",
        "\n",
        "for i in range(1,101) : \n",
        "    if '3' in str(i) or '6' in str(i) or '9'in str(i) : \n",
        "        print('짝!', end=' ')\n",
        "    else : \n",
        "        print(i, end=' ')"
      ],
      "execution_count": null,
      "outputs": [
        {
          "output_type": "stream",
          "text": [
            "3~ 6~ 9~ 369~ 3~ 6~ 9~ 369~ \n",
            "1 2 짝! 4 5 짝! 7 8 짝! 10 11 12 짝! 14 15 짝! 17 18 짝! 20 21 22 짝! 24 25 짝! 27 28 짝! 짝! 짝! 짝! 짝! 짝! 짝! 짝! 짝! 짝! 짝! 40 41 42 짝! 44 45 짝! 47 48 짝! 50 51 52 짝! 54 55 짝! 57 58 짝! 짝! 짝! 짝! 짝! 짝! 짝! 짝! 짝! 짝! 짝! 70 71 72 짝! 74 75 짝! 77 78 짝! 80 81 82 짝! 84 85 짝! 87 88 짝! 짝! 짝! 짝! 짝! 짝! 짝! 짝! 짝! 짝! 짝! 100 "
          ],
          "name": "stdout"
        }
      ]
    },
    {
      "cell_type": "markdown",
      "metadata": {
        "id": "TLcUgMpSQipC"
      },
      "source": [
        "#### 5.3.2   반복문과 조건문 중첩 사용하기"
      ]
    },
    {
      "cell_type": "code",
      "metadata": {
        "id": "VtuO8mtfQi4N",
        "colab": {
          "base_uri": "https://localhost:8080/"
        },
        "outputId": "c712b8c6-f68d-4bf2-bace-f0c534d6e2da"
      },
      "source": [
        "import random\n",
        "\n",
        "print('구구단을 외자~ 구구단을 외자~')\n",
        "\n",
        "for i in range(10) : \n",
        "    a, b = random.randint(2,9), random.randint(2,9)\n",
        "    answer = input(str(a)+'x'+str(b)+'? ')\n",
        "    answer = int(answer)\n",
        "    if answer != a*b : \n",
        "        print('틀렸습니다! 5번 반복하여 읽어봅시다.')\n",
        "        for j in range(5) : \n",
        "            print(a, 'x', b, '는', a*b)"
      ],
      "execution_count": null,
      "outputs": [
        {
          "output_type": "stream",
          "text": [
            "구구단을 외자~ 구구단을 외자~\n",
            "3x4? 12\n",
            "4x7? 22\n",
            "틀렸습니다! 5번 반복하여 읽어봅시다.\n",
            "4 x 7 는 28\n",
            "4 x 7 는 28\n",
            "4 x 7 는 28\n",
            "4 x 7 는 28\n",
            "4 x 7 는 28\n",
            "9x8? 72\n",
            "4x2? 8\n",
            "3x5? 15\n",
            "8x8? 66\n",
            "틀렸습니다! 5번 반복하여 읽어봅시다.\n",
            "8 x 8 는 64\n",
            "8 x 8 는 64\n",
            "8 x 8 는 64\n",
            "8 x 8 는 64\n",
            "8 x 8 는 64\n",
            "9x3? 27\n",
            "6x7? 42\n",
            "9x4? 36\n",
            "3x8? 24\n"
          ],
          "name": "stdout"
        }
      ]
    },
    {
      "cell_type": "code",
      "metadata": {
        "id": "9EpM3KWrQi6c",
        "colab": {
          "base_uri": "https://localhost:8080/"
        },
        "outputId": "330722ff-a247-4c0a-d4bc-54706407240c"
      },
      "source": [
        "# 1분퀴즈 2\n",
        "for i in range(100) : \n",
        "    if i %5 == 1 : \n",
        "        print('쿵', end=' ')\n",
        "    elif i %5 == 2 : \n",
        "        print('짝', end=' ')\n",
        "    else : \n",
        "        print(i, end=' ')"
      ],
      "execution_count": null,
      "outputs": [
        {
          "output_type": "stream",
          "text": [
            "0 쿵 짝 3 4 5 쿵 짝 8 9 10 쿵 짝 13 14 15 쿵 짝 18 19 20 쿵 짝 23 24 25 쿵 짝 28 29 30 쿵 짝 33 34 35 쿵 짝 38 39 40 쿵 짝 43 44 45 쿵 짝 48 49 50 쿵 짝 53 54 55 쿵 짝 58 59 60 쿵 짝 63 64 65 쿵 짝 68 69 70 쿵 짝 73 74 75 쿵 짝 78 79 80 쿵 짝 83 84 85 쿵 짝 88 89 90 쿵 짝 93 94 95 쿵 짝 98 99 "
          ],
          "name": "stdout"
        }
      ]
    },
    {
      "cell_type": "markdown",
      "metadata": {
        "id": "Q7LNMIMGXIPz"
      },
      "source": [
        "## 5.4  열심히 달리는 반복문에 브레이크 밟기: break\n",
        "#### 5.4.1  반복 멈추기"
      ]
    },
    {
      "cell_type": "code",
      "metadata": {
        "id": "MI7eoxLnQi8o",
        "colab": {
          "base_uri": "https://localhost:8080/"
        },
        "outputId": "ab933202-2139-4f89-98db-430ea1d2f89e"
      },
      "source": [
        "for i in range(20) : \n",
        "    print(i)\n",
        "    break"
      ],
      "execution_count": null,
      "outputs": [
        {
          "output_type": "stream",
          "text": [
            "0\n"
          ],
          "name": "stdout"
        }
      ]
    },
    {
      "cell_type": "code",
      "metadata": {
        "id": "5ALiYoBWQi_E",
        "colab": {
          "base_uri": "https://localhost:8080/"
        },
        "outputId": "c9b874f3-be37-4ecb-c728-8626a365afdb"
      },
      "source": [
        "for i in range(20) : \n",
        "    print(i)\n",
        "    if i == 2 : \n",
        "        break"
      ],
      "execution_count": null,
      "outputs": [
        {
          "output_type": "stream",
          "text": [
            "0\n",
            "1\n",
            "2\n"
          ],
          "name": "stdout"
        }
      ]
    },
    {
      "cell_type": "code",
      "metadata": {
        "colab": {
          "base_uri": "https://localhost:8080/"
        },
        "id": "VYHttAMXWsw-",
        "outputId": "9e8d433d-87f8-4905-e19f-c74bb2d28887"
      },
      "source": [
        "answer = int(input('숫자 입력 : '))\n",
        "\n",
        "for i in range(20) : \n",
        "    print(i, end=' ')\n",
        "    if i == answer : \n",
        "        break"
      ],
      "execution_count": null,
      "outputs": [
        {
          "output_type": "stream",
          "text": [
            "숫자 입력 : 12\n",
            "0 1 2 3 4 5 6 7 8 9 10 11 12 "
          ],
          "name": "stdout"
        }
      ]
    },
    {
      "cell_type": "code",
      "metadata": {
        "colab": {
          "base_uri": "https://localhost:8080/"
        },
        "id": "EMKspV_fWszl",
        "outputId": "44a16f41-5030-4fb8-b3cf-9fb9c6c1b325"
      },
      "source": [
        "answer = int(input('숫자 입력 : '))\n",
        "\n",
        "for i in range(20) : \n",
        "    if i == answer : \n",
        "        break\n",
        "    print(i, end=' ')"
      ],
      "execution_count": null,
      "outputs": [
        {
          "output_type": "stream",
          "text": [
            "숫자 입력 : 12\n",
            "0 1 2 3 4 5 6 7 8 9 10 11 "
          ],
          "name": "stdout"
        }
      ]
    },
    {
      "cell_type": "markdown",
      "metadata": {
        "id": "SzSQMV90QjHF"
      },
      "source": [
        "#### 5.4.2  break를 사용한 게임 만들기"
      ]
    },
    {
      "cell_type": "code",
      "metadata": {
        "colab": {
          "base_uri": "https://localhost:8080/"
        },
        "id": "cM0lxGYuWtSC",
        "outputId": "3d1503f8-3300-4f05-8e90-c38a1715dc9d"
      },
      "source": [
        "# 구구단을 외자(3)\n",
        "import random\n",
        "\n",
        "print('구구단을 외자~ 구구단을 외자~')\n",
        "\n",
        "for i in range(20) : \n",
        "    a, b = random.randint(2,9), random.randint(1,9)\n",
        "    answer = input(str(a)+'x'+str(b)+'? ')\n",
        "    answer = int(answer)\n",
        "    if answer != a*b :\n",
        "        print('땡!! 정답은',a*b)\n",
        "        break"
      ],
      "execution_count": null,
      "outputs": [
        {
          "output_type": "stream",
          "text": [
            "구구단을 외자~ 구구단을 외자~\n",
            "6x9? 54\n",
            "8x4? 30\n",
            "땡!! 정답은 32\n"
          ],
          "name": "stdout"
        }
      ]
    },
    {
      "cell_type": "code",
      "metadata": {
        "colab": {
          "base_uri": "https://localhost:8080/"
        },
        "id": "WPnA-BY4WtUn",
        "outputId": "9a19d3ee-8b3f-4cc9-bd5f-cb115a049ea5"
      },
      "source": [
        "import random\n",
        "\n",
        "print('구구단을 외자~ 구구단을 외자~')\n",
        "\n",
        "answer, a, b = 0, 0, 0\n",
        "while answer == a * b : \n",
        "    a, b = random.randint(2,9), random.randint(1,9)\n",
        "    answer = input(str(a)+'x'+str(b)+'? ')\n",
        "    answer = int(answer)\n",
        "print('땡!! 정답은',a*b)"
      ],
      "execution_count": null,
      "outputs": [
        {
          "output_type": "stream",
          "text": [
            "구구단을 외자~ 구구단을 외자~\n",
            "7x9? 63\n",
            "8x2? 16\n",
            "8x8? 62\n",
            "땡!! 정답은 64\n"
          ],
          "name": "stdout"
        }
      ]
    },
    {
      "cell_type": "code",
      "metadata": {
        "colab": {
          "base_uri": "https://localhost:8080/"
        },
        "id": "7i_0BGV_WtW1",
        "outputId": "3a540e75-b33a-40ac-c294-38a2be271206"
      },
      "source": [
        "# 369게임(2)\n",
        "print('3~ 6~ 9~ 369~ 3~ 6~ 9~ 369~ ')\n",
        "\n",
        "for i in range(1, 101) : \n",
        "    say = input()\n",
        "    if '3' in str(i) or '6' in str(i) or '9' in str(i) : \n",
        "        if say != '짝' : \n",
        "            print('틀렸습니다!')\n",
        "            break\n",
        "    else : \n",
        "        if int(say) != i : \n",
        "            print('틀렸습니다!')\n",
        "            break"
      ],
      "execution_count": null,
      "outputs": [
        {
          "output_type": "stream",
          "text": [
            "3~ 6~ 9~ 369~ 3~ 6~ 9~ 369~ \n",
            "1\n",
            "2\n",
            "3\n",
            "틀렸습니다!\n"
          ],
          "name": "stdout"
        }
      ]
    },
    {
      "cell_type": "markdown",
      "metadata": {
        "id": "Onh-uvpyTXXv"
      },
      "source": [
        "#### Self Check"
      ]
    },
    {
      "cell_type": "code",
      "metadata": {
        "colab": {
          "base_uri": "https://localhost:8080/"
        },
        "id": "6FBJc259TXd7",
        "outputId": "d9b4a02d-83fe-4bce-89b3-6c85fa2579d6"
      },
      "source": [
        "# 1번\n",
        "for i in range(1, 11) : \n",
        "    print(i*10)"
      ],
      "execution_count": null,
      "outputs": [
        {
          "output_type": "stream",
          "text": [
            "10\n",
            "20\n",
            "30\n",
            "40\n",
            "50\n",
            "60\n",
            "70\n",
            "80\n",
            "90\n",
            "100\n"
          ],
          "name": "stdout"
        }
      ]
    },
    {
      "cell_type": "code",
      "metadata": {
        "colab": {
          "base_uri": "https://localhost:8080/"
        },
        "id": "XpSihmh9TXmx",
        "outputId": "75df1ea4-ab56-40b4-bd68-dfce9c4d0e43"
      },
      "source": [
        "# 2번 \n",
        "print('홈트레이닝 2주 계획입니다.')\n",
        "for i in range(1, 15) : \n",
        "    if i%5 == 0 :\n",
        "        print(i, '일: 휴식일입니다.')\n",
        "    else :\n",
        "        print(i, '일: 스쿼트 - 윗몸 일으키기')"
      ],
      "execution_count": null,
      "outputs": [
        {
          "output_type": "stream",
          "text": [
            "홈트레이닝 2주 계획입니다.\n",
            "1 일: 스쿼트 - 윗몸 일으키기\n",
            "2 일: 스쿼트 - 윗몸 일으키기\n",
            "3 일: 스쿼트 - 윗몸 일으키기\n",
            "4 일: 스쿼트 - 윗몸 일으키기\n",
            "5 일: 휴식일입니다.\n",
            "6 일: 스쿼트 - 윗몸 일으키기\n",
            "7 일: 스쿼트 - 윗몸 일으키기\n",
            "8 일: 스쿼트 - 윗몸 일으키기\n",
            "9 일: 스쿼트 - 윗몸 일으키기\n",
            "10 일: 휴식일입니다.\n",
            "11 일: 스쿼트 - 윗몸 일으키기\n",
            "12 일: 스쿼트 - 윗몸 일으키기\n",
            "13 일: 스쿼트 - 윗몸 일으키기\n",
            "14 일: 스쿼트 - 윗몸 일으키기\n"
          ],
          "name": "stdout"
        }
      ]
    },
    {
      "cell_type": "code",
      "metadata": {
        "colab": {
          "base_uri": "https://localhost:8080/"
        },
        "id": "Xfo_GKcUTXpw",
        "outputId": "0db35db7-e98d-448d-ab1f-5ba631207f86"
      },
      "source": [
        "# 3번\n",
        "print('팅 팅팅팅 탱 탱탱탱 팅팅탱탱 후라이팬 놀이!')\n",
        "for i in range(5) :\n",
        "    name = input('이름? ')\n",
        "    cnt = int(input('횟수? '))\n",
        "    print(name*cnt)"
      ],
      "execution_count": null,
      "outputs": [
        {
          "output_type": "stream",
          "text": [
            "팅 팅팅팅 탱 탱탱탱 팅팅탱탱 후라이팬 놀이!\n",
            "이름? 다람쥐\n",
            "횟수? 3\n",
            "다람쥐다람쥐다람쥐\n",
            "이름? 고라니\n",
            "횟수? 4\n",
            "고라니고라니고라니고라니\n",
            "이름? 까치\n",
            "횟수? 2\n",
            "까치까치\n",
            "이름? 사슴\n",
            "횟수? 1\n",
            "사슴\n",
            "이름? 다람쥐\n",
            "횟수? 2\n",
            "다람쥐다람쥐\n"
          ],
          "name": "stdout"
        }
      ]
    }
  ]
}