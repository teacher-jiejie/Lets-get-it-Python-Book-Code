{
  "nbformat": 4,
  "nbformat_minor": 0,
  "metadata": {
    "colab": {
      "name": "6장 - 리스트 : 여러 데이터를 한 번에 묶어 표현하기.ipynb",
      "provenance": [],
      "collapsed_sections": [],
      "authorship_tag": "ABX9TyOp54T1IsUxOYysJ2px+f9f",
      "include_colab_link": true
    },
    "kernelspec": {
      "name": "python3",
      "display_name": "Python 3"
    },
    "language_info": {
      "name": "python"
    }
  },
  "cells": [
    {
      "cell_type": "markdown",
      "metadata": {
        "id": "view-in-github",
        "colab_type": "text"
      },
      "source": [
        "<a href=\"https://colab.research.google.com/github/teacher-jiejie/Lets-get-it-Python-Book-Code/blob/main/6%EC%9E%A5_%EB%A6%AC%EC%8A%A4%ED%8A%B8%20%3A%20%EC%97%AC%EB%9F%AC_%EB%8D%B0%EC%9D%B4%ED%84%B0%EB%A5%BC_%ED%95%9C_%EB%B2%88%EC%97%90_%EB%AC%B6%EC%96%B4_%ED%91%9C%ED%98%84%ED%95%98%EA%B8%B0.ipynb\" target=\"_parent\"><img src=\"https://colab.research.google.com/assets/colab-badge.svg\" alt=\"Open In Colab\"/></a>"
      ]
    },
    {
      "cell_type": "markdown",
      "metadata": {
        "id": "ktT2-k5pZPIG"
      },
      "source": [
        "## 6.1  여러 데이터 한 번에 묶기\n",
        "#### 6.1.1  리스트란"
      ]
    },
    {
      "cell_type": "code",
      "metadata": {
        "id": "J3pl5AkvZPQa"
      },
      "source": [
        "spending = [25, 36, 8, 53, 24, 56]"
      ],
      "execution_count": null,
      "outputs": []
    },
    {
      "cell_type": "code",
      "metadata": {
        "colab": {
          "base_uri": "https://localhost:8080/"
        },
        "id": "9uPbImG7ZPS8",
        "outputId": "0fdb1fa1-068e-4a51-84ab-9535e410b462"
      },
      "source": [
        "abc = [1, 2, 3, 4, 5]\n",
        "print(abc)"
      ],
      "execution_count": null,
      "outputs": [
        {
          "output_type": "stream",
          "text": [
            "[1, 2, 3, 4, 5]\n"
          ],
          "name": "stdout"
        }
      ]
    },
    {
      "cell_type": "code",
      "metadata": {
        "colab": {
          "base_uri": "https://localhost:8080/"
        },
        "id": "44htAjg0ZPU_",
        "outputId": "7eafc08a-819b-4ed2-967c-5b812be9bb20"
      },
      "source": [
        "abc = [1, 2, 3, 4, 5]\n",
        "print(type(abc))"
      ],
      "execution_count": null,
      "outputs": [
        {
          "output_type": "stream",
          "text": [
            "<class 'list'>\n"
          ],
          "name": "stdout"
        }
      ]
    },
    {
      "cell_type": "code",
      "metadata": {
        "colab": {
          "base_uri": "https://localhost:8080/"
        },
        "id": "KCoKq1VnZPXU",
        "outputId": "77d1a16d-4b76-43eb-f4c4-dbba85e92076"
      },
      "source": [
        "# 일년 지출\n",
        "spending_year = [25, 36, 8, 53, 24, 56, 38, 79, 94, 20, 40, 25]\n",
        "print(type(spending_year), spending_year)\n",
        "\n",
        "# 상반기 지출\n",
        "spending_6mon = [25, 36, 8, 53, 24, 56]\n",
        "print(type(spending_6mon), spending_6mon)"
      ],
      "execution_count": null,
      "outputs": [
        {
          "output_type": "stream",
          "text": [
            "<class 'list'> [25, 36, 8, 53, 24, 56, 38, 79, 94, 20, 40, 25]\n",
            "<class 'list'> [25, 36, 8, 53, 24, 56]\n"
          ],
          "name": "stdout"
        }
      ]
    },
    {
      "cell_type": "code",
      "metadata": {
        "colab": {
          "base_uri": "https://localhost:8080/"
        },
        "id": "T52RTk3TZPZQ",
        "outputId": "40e1880a-edb8-40d7-d801-2f396e93422f"
      },
      "source": [
        "# 일년 지출\n",
        "spending_year = [25, 36, 8, 53, 24, 56, 38, 79, 94, 20, 40, 25]\n",
        "print(len(spending_year))\n",
        "\n",
        "# 상반기 지출\n",
        "spending_6mon = [25, 36, 8, 53, 24, 56]\n",
        "print(len(spending_6mon))"
      ],
      "execution_count": null,
      "outputs": [
        {
          "output_type": "stream",
          "text": [
            "12\n",
            "6\n"
          ],
          "name": "stdout"
        }
      ]
    },
    {
      "cell_type": "code",
      "metadata": {
        "colab": {
          "base_uri": "https://localhost:8080/"
        },
        "id": "rj1edA5kZPbP",
        "outputId": "2b81cd02-cb7b-4558-8dc6-aa90b2293570"
      },
      "source": [
        "# 가장 좋아하는 음식을 순서대로 저장한 리스트\n",
        "food = ['피자','치킨','떡볶이','스테이크','딸기','파스타']\n",
        "print(food)"
      ],
      "execution_count": null,
      "outputs": [
        {
          "output_type": "stream",
          "text": [
            "['피자', '치킨', '떡볶이', '스테이크', '딸기', '파스타']\n"
          ],
          "name": "stdout"
        }
      ]
    },
    {
      "cell_type": "code",
      "metadata": {
        "colab": {
          "base_uri": "https://localhost:8080/"
        },
        "id": "UtLZaNWCZ7d_",
        "outputId": "451696d7-8e44-4b86-f135-ce2bae34ef80"
      },
      "source": [
        "# 가장 좋아하는 음식을 순서대로 저장한 리스트\n",
        "food = ['피자','치킨','떡볶이','스테이크','딸기','파스타']\n",
        "print('좋아하는 음식 개수 :', len(food))\n",
        "print('좋아하는 음식 순위 :', food)"
      ],
      "execution_count": null,
      "outputs": [
        {
          "output_type": "stream",
          "text": [
            "좋아하는 음식 개수 : 6\n",
            "좋아하는 음식 순위 : ['피자', '치킨', '떡볶이', '스테이크', '딸기', '파스타']\n"
          ],
          "name": "stdout"
        }
      ]
    },
    {
      "cell_type": "markdown",
      "metadata": {
        "id": "oXTGG2IeZPkF"
      },
      "source": [
        "#### 6.1.2  리스트 사용하기"
      ]
    },
    {
      "cell_type": "code",
      "metadata": {
        "colab": {
          "base_uri": "https://localhost:8080/"
        },
        "id": "w8voQExGZPpe",
        "outputId": "09d68356-9807-4340-a8a3-6b0d7bf24510"
      },
      "source": [
        "spending = [25, 36, 8, 53, 24, 56]\n",
        "print(spending[0])"
      ],
      "execution_count": null,
      "outputs": [
        {
          "output_type": "stream",
          "text": [
            "25\n"
          ],
          "name": "stdout"
        }
      ]
    },
    {
      "cell_type": "code",
      "metadata": {
        "colab": {
          "base_uri": "https://localhost:8080/"
        },
        "id": "AxTwU44mZPrz",
        "outputId": "ed879269-7130-41fb-cd79-fe2d3c783ac4"
      },
      "source": [
        "print(spending[3])"
      ],
      "execution_count": null,
      "outputs": [
        {
          "output_type": "stream",
          "text": [
            "53\n"
          ],
          "name": "stdout"
        }
      ]
    },
    {
      "cell_type": "code",
      "metadata": {
        "colab": {
          "base_uri": "https://localhost:8080/",
          "height": 169
        },
        "id": "7n5Y2J5jZPuM",
        "outputId": "2aeb50ad-edfa-4dcf-94be-9524fb5d275c"
      },
      "source": [
        "print(spending[6])"
      ],
      "execution_count": null,
      "outputs": [
        {
          "output_type": "error",
          "ename": "IndexError",
          "evalue": "ignored",
          "traceback": [
            "\u001b[0;31m---------------------------------------------------------------------------\u001b[0m",
            "\u001b[0;31mIndexError\u001b[0m                                Traceback (most recent call last)",
            "\u001b[0;32m<ipython-input-13-131c7f02cde2>\u001b[0m in \u001b[0;36m<module>\u001b[0;34m()\u001b[0m\n\u001b[0;32m----> 1\u001b[0;31m \u001b[0mprint\u001b[0m\u001b[0;34m(\u001b[0m\u001b[0mspending\u001b[0m\u001b[0;34m[\u001b[0m\u001b[0;36m6\u001b[0m\u001b[0;34m]\u001b[0m\u001b[0;34m)\u001b[0m\u001b[0;34m\u001b[0m\u001b[0;34m\u001b[0m\u001b[0m\n\u001b[0m",
            "\u001b[0;31mIndexError\u001b[0m: list index out of range"
          ]
        }
      ]
    },
    {
      "cell_type": "code",
      "metadata": {
        "colab": {
          "base_uri": "https://localhost:8080/"
        },
        "id": "PDPCyyUgZPwT",
        "outputId": "a6db1174-4229-4b3b-ad79-e3821b80433b"
      },
      "source": [
        "print('3월 지출 변경 전:', spending)\n",
        "spending[2] += 10\n",
        "print('3월 지출 변경 후:', spending)"
      ],
      "execution_count": null,
      "outputs": [
        {
          "output_type": "stream",
          "text": [
            "3월 지출 변경 전: [25, 36, 8, 53, 24, 56]\n",
            "3월 지출 변경 후: [25, 36, 18, 53, 24, 56]\n"
          ],
          "name": "stdout"
        }
      ]
    },
    {
      "cell_type": "code",
      "metadata": {
        "colab": {
          "base_uri": "https://localhost:8080/"
        },
        "id": "tZLdYHjbZPy5",
        "outputId": "578beef2-22ed-4557-b77e-a81eaaa45b83"
      },
      "source": [
        "spending[4] -= 2\n",
        "print('5월 지출 변경 후:', spending)"
      ],
      "execution_count": null,
      "outputs": [
        {
          "output_type": "stream",
          "text": [
            "5월 지출 변경 후: [25, 36, 18, 53, 22, 56]\n"
          ],
          "name": "stdout"
        }
      ]
    },
    {
      "cell_type": "markdown",
      "metadata": {
        "id": "T-Vbb7m6as0R"
      },
      "source": [
        "#### 6.1.3  반복문으로 리스트 다루기"
      ]
    },
    {
      "cell_type": "code",
      "metadata": {
        "colab": {
          "base_uri": "https://localhost:8080/"
        },
        "id": "NJbjw1XfZP09",
        "outputId": "bea78021-e74e-416e-e300-cc436544f2a9"
      },
      "source": [
        "for i in [25, 36, 8, 53, 24, 56] : \n",
        "    print(i)"
      ],
      "execution_count": null,
      "outputs": [
        {
          "output_type": "stream",
          "text": [
            "25\n",
            "36\n",
            "8\n",
            "53\n",
            "24\n",
            "56\n"
          ],
          "name": "stdout"
        }
      ]
    },
    {
      "cell_type": "code",
      "metadata": {
        "colab": {
          "base_uri": "https://localhost:8080/"
        },
        "id": "jMo56kD4ZP3y",
        "outputId": "45cdd0f1-e78e-464d-dedd-c7d365fd5a46"
      },
      "source": [
        "spending = [25, 36, 8, 53, 24, 56]\n",
        "\n",
        "for s in spending : \n",
        "    print(s)"
      ],
      "execution_count": null,
      "outputs": [
        {
          "output_type": "stream",
          "text": [
            "25\n",
            "36\n",
            "8\n",
            "53\n",
            "24\n",
            "56\n"
          ],
          "name": "stdout"
        }
      ]
    },
    {
      "cell_type": "code",
      "metadata": {
        "colab": {
          "base_uri": "https://localhost:8080/"
        },
        "id": "AhhQHyrUZQDI",
        "outputId": "3ebba72b-08de-448b-9c07-a8bd803c307c"
      },
      "source": [
        "spending = [25, 36, 8, 53, 24, 56]\n",
        "\n",
        "for i in range(6) : \n",
        "    print(spending[i])"
      ],
      "execution_count": null,
      "outputs": [
        {
          "output_type": "stream",
          "text": [
            "25\n",
            "36\n",
            "8\n",
            "53\n",
            "24\n",
            "56\n"
          ],
          "name": "stdout"
        }
      ]
    },
    {
      "cell_type": "code",
      "metadata": {
        "colab": {
          "base_uri": "https://localhost:8080/"
        },
        "id": "NZz5zXfYZQFq",
        "outputId": "0e2305ab-df13-4299-8a1b-768f936ea2d4"
      },
      "source": [
        "for i in range(6) : \n",
        "    print(i+1,'월 지출은',spending[i])"
      ],
      "execution_count": null,
      "outputs": [
        {
          "output_type": "stream",
          "text": [
            "1 월 지출은 25\n",
            "2 월 지출은 36\n",
            "3 월 지출은 8\n",
            "4 월 지출은 53\n",
            "5 월 지출은 24\n",
            "6 월 지출은 56\n"
          ],
          "name": "stdout"
        }
      ]
    },
    {
      "cell_type": "code",
      "metadata": {
        "colab": {
          "base_uri": "https://localhost:8080/"
        },
        "id": "lVxqN4PrZQH-",
        "outputId": "843a4973-e96f-4683-ef41-00c8893367c9"
      },
      "source": [
        "for i in range(6) : \n",
        "    print(i,'월 지출은',spending[i])"
      ],
      "execution_count": null,
      "outputs": [
        {
          "output_type": "stream",
          "text": [
            "0 월 지출은 25\n",
            "1 월 지출은 36\n",
            "2 월 지출은 8\n",
            "3 월 지출은 53\n",
            "4 월 지출은 24\n",
            "5 월 지출은 56\n"
          ],
          "name": "stdout"
        }
      ]
    },
    {
      "cell_type": "code",
      "metadata": {
        "colab": {
          "base_uri": "https://localhost:8080/",
          "height": 292
        },
        "id": "x3De3VWxZQKI",
        "outputId": "86c28322-ed59-4df0-922a-0dc0469ec7b8"
      },
      "source": [
        "for i in range(7) : \n",
        "    print(i+1,'월 지출은',spending[i])"
      ],
      "execution_count": null,
      "outputs": [
        {
          "output_type": "stream",
          "text": [
            "1 월 지출은 25\n",
            "2 월 지출은 36\n",
            "3 월 지출은 8\n",
            "4 월 지출은 53\n",
            "5 월 지출은 24\n",
            "6 월 지출은 56\n"
          ],
          "name": "stdout"
        },
        {
          "output_type": "error",
          "ename": "IndexError",
          "evalue": "ignored",
          "traceback": [
            "\u001b[0;31m---------------------------------------------------------------------------\u001b[0m",
            "\u001b[0;31mIndexError\u001b[0m                                Traceback (most recent call last)",
            "\u001b[0;32m<ipython-input-22-b09a61a44e6d>\u001b[0m in \u001b[0;36m<module>\u001b[0;34m()\u001b[0m\n\u001b[1;32m      1\u001b[0m \u001b[0;32mfor\u001b[0m \u001b[0mi\u001b[0m \u001b[0;32min\u001b[0m \u001b[0mrange\u001b[0m\u001b[0;34m(\u001b[0m\u001b[0;36m7\u001b[0m\u001b[0;34m)\u001b[0m \u001b[0;34m:\u001b[0m\u001b[0;34m\u001b[0m\u001b[0;34m\u001b[0m\u001b[0m\n\u001b[0;32m----> 2\u001b[0;31m     \u001b[0mprint\u001b[0m\u001b[0;34m(\u001b[0m\u001b[0mi\u001b[0m\u001b[0;34m+\u001b[0m\u001b[0;36m1\u001b[0m\u001b[0;34m,\u001b[0m\u001b[0;34m'월 지출은'\u001b[0m\u001b[0;34m,\u001b[0m\u001b[0mspending\u001b[0m\u001b[0;34m[\u001b[0m\u001b[0mi\u001b[0m\u001b[0;34m]\u001b[0m\u001b[0;34m)\u001b[0m\u001b[0;34m\u001b[0m\u001b[0;34m\u001b[0m\u001b[0m\n\u001b[0m",
            "\u001b[0;31mIndexError\u001b[0m: list index out of range"
          ]
        }
      ]
    },
    {
      "cell_type": "code",
      "metadata": {
        "colab": {
          "base_uri": "https://localhost:8080/"
        },
        "id": "_tTmFHevbWCZ",
        "outputId": "7030dddc-4bff-49be-9655-51294e0fc545"
      },
      "source": [
        "for i in range(len(spending)) : \n",
        "    print(i+1,'월 지출은',spending[i], end=', ')"
      ],
      "execution_count": null,
      "outputs": [
        {
          "output_type": "stream",
          "text": [
            "1 월 지출은 25, 2 월 지출은 36, 3 월 지출은 8, 4 월 지출은 53, 5 월 지출은 24, 6 월 지출은 56, "
          ],
          "name": "stdout"
        }
      ]
    },
    {
      "cell_type": "code",
      "metadata": {
        "colab": {
          "base_uri": "https://localhost:8080/"
        },
        "id": "UYwVsdpAbWE5",
        "outputId": "428b6630-9f1a-41b1-a92b-d62f85b974ff"
      },
      "source": [
        "food = ['피자','치킨','떡볶이','스테이크','파스타']\n",
        "\n",
        "# 가장 좋아하는 음식은? \n",
        "print(food[0])\n",
        "\n",
        "# 세 번째로 좋아하는 음식은?\n",
        "print(food[2])\n",
        "\n",
        "# 가장 안 좋아하는 음식은? \n",
        "print(food[4])"
      ],
      "execution_count": null,
      "outputs": [
        {
          "output_type": "stream",
          "text": [
            "피자\n",
            "떡볶이\n",
            "파스타\n"
          ],
          "name": "stdout"
        }
      ]
    },
    {
      "cell_type": "code",
      "metadata": {
        "colab": {
          "base_uri": "https://localhost:8080/"
        },
        "id": "O3WMr_VWbWHS",
        "outputId": "fcd09693-6535-4c73-9cdd-fcbb67afe8d1"
      },
      "source": [
        "# 가장 덜 좋아하는 음식?\n",
        "print(food[len(food) -1])"
      ],
      "execution_count": null,
      "outputs": [
        {
          "output_type": "stream",
          "text": [
            "파스타\n"
          ],
          "name": "stdout"
        }
      ]
    },
    {
      "cell_type": "code",
      "metadata": {
        "colab": {
          "base_uri": "https://localhost:8080/"
        },
        "id": "zK8Iqe1ybtJE",
        "outputId": "6b369c8d-4147-4d9a-ae97-33b61e3417c6"
      },
      "source": [
        "# 가장 덜 좋아하는 음식?\n",
        "print(food[-1])"
      ],
      "execution_count": null,
      "outputs": [
        {
          "output_type": "stream",
          "text": [
            "파스타\n"
          ],
          "name": "stdout"
        }
      ]
    },
    {
      "cell_type": "code",
      "metadata": {
        "colab": {
          "base_uri": "https://localhost:8080/"
        },
        "id": "UNvNJRYhbtLx",
        "outputId": "3bbb469f-4d14-4fde-be76-3566fd793ab8"
      },
      "source": [
        "# 두번째로 덜 좋아하는 음식?\n",
        "print(food[-2])\n",
        "\n",
        "# 세번째로 덜 좋아하는 음식?\n",
        "print(food[-3])"
      ],
      "execution_count": null,
      "outputs": [
        {
          "output_type": "stream",
          "text": [
            "스테이크\n",
            "떡볶이\n"
          ],
          "name": "stdout"
        }
      ]
    },
    {
      "cell_type": "markdown",
      "metadata": {
        "id": "FVJwAR2XZP9a"
      },
      "source": [
        "#### 6.1.4  리스트에 데이터 추가하고 삭제하기"
      ]
    },
    {
      "cell_type": "code",
      "metadata": {
        "colab": {
          "base_uri": "https://localhost:8080/"
        },
        "id": "DpWKH2GCbtN2",
        "outputId": "b99e71f0-2180-41ed-dd91-739e21d513c4"
      },
      "source": [
        "food = ['피자','치킨','떡볶이','스테이크','파스타']\n",
        "food.append('감자칩')\n",
        "print(food)"
      ],
      "execution_count": null,
      "outputs": [
        {
          "output_type": "stream",
          "text": [
            "['피자', '치킨', '떡볶이', '스테이크', '파스타', '감자칩']\n"
          ],
          "name": "stdout"
        }
      ]
    },
    {
      "cell_type": "code",
      "metadata": {
        "colab": {
          "base_uri": "https://localhost:8080/"
        },
        "id": "zJh1orfHZQMc",
        "outputId": "bbcd7765-7e18-48c6-a652-4266da040ac3"
      },
      "source": [
        "food.append('카레')\n",
        "print(food)"
      ],
      "execution_count": null,
      "outputs": [
        {
          "output_type": "stream",
          "text": [
            "['피자', '치킨', '떡볶이', '스테이크', '파스타', '감자칩', '카레']\n"
          ],
          "name": "stdout"
        }
      ]
    },
    {
      "cell_type": "code",
      "metadata": {
        "colab": {
          "base_uri": "https://localhost:8080/"
        },
        "id": "ra-2nw6OZQOi",
        "outputId": "0dfe9f09-9c2a-4957-f618-fc1c9357e98d"
      },
      "source": [
        "abc = []\n",
        "abc.append(24)\n",
        "abc.append(38)\n",
        "abc.append(19)\n",
        "abc.append(40)\n",
        "print(abc)"
      ],
      "execution_count": null,
      "outputs": [
        {
          "output_type": "stream",
          "text": [
            "[24, 38, 19, 40]\n"
          ],
          "name": "stdout"
        }
      ]
    },
    {
      "cell_type": "code",
      "metadata": {
        "colab": {
          "base_uri": "https://localhost:8080/"
        },
        "id": "qUkrEit3ZQQq",
        "outputId": "128a62aa-adca-4580-e59f-ba591b9e367e"
      },
      "source": [
        "to_do = []\n",
        "\n",
        "task = input('해야할 일을 입력해주세요 -->')\n",
        "to_do.append(task)\n",
        "print(to_do)"
      ],
      "execution_count": null,
      "outputs": [
        {
          "output_type": "stream",
          "text": [
            "해야할 일을 입력해주세요 -->파이썬 공부하기\n",
            "['파이썬 공부하기']\n"
          ],
          "name": "stdout"
        }
      ]
    },
    {
      "cell_type": "code",
      "metadata": {
        "colab": {
          "base_uri": "https://localhost:8080/"
        },
        "id": "ExgiX7y9dj3M",
        "outputId": "9d6961ee-5506-4545-f40c-57e42b25d483"
      },
      "source": [
        "to_do = []\n",
        "\n",
        "to_do.append(input('해야할 일을 입력해주세요 -->'))\n",
        "print(to_do)"
      ],
      "execution_count": null,
      "outputs": [
        {
          "output_type": "stream",
          "text": [
            "해야할 일을 입력해주세요 -->파이썬 공부하기\n",
            "['파이썬 공부하기']\n"
          ],
          "name": "stdout"
        }
      ]
    },
    {
      "cell_type": "code",
      "metadata": {
        "colab": {
          "base_uri": "https://localhost:8080/"
        },
        "id": "goOezBeYgBnE",
        "outputId": "2ba87a25-33ca-4341-bdd2-3e2c791c4960"
      },
      "source": [
        "to_do = []\n",
        "print('해야할 일을 차례대로 입력해주세요.')\n",
        "\n",
        "for i in range(5) : \n",
        "    to_do.append(input())\n",
        "\n",
        "print(to_do)"
      ],
      "execution_count": null,
      "outputs": [
        {
          "output_type": "stream",
          "text": [
            "해야할 일을 차례대로 입력해주세요.\n",
            "생일선물 사기\n",
            "인강 듣기\n",
            "파이썬 6장 공부하기\n",
            "책 읽기\n",
            "영단어 외우기\n",
            "['생일선물 사기', '인강 듣기', '파이썬 6장 공부하기', '책 읽기', '영단어 외우기']\n"
          ],
          "name": "stdout"
        }
      ]
    },
    {
      "cell_type": "code",
      "metadata": {
        "colab": {
          "base_uri": "https://localhost:8080/"
        },
        "id": "NCV1WFJKgBpn",
        "outputId": "0047b107-c54d-497f-8e8b-8bc6078ff628"
      },
      "source": [
        "food = ['피자','치킨','떡볶이','스테이크','파스타']\n",
        "food.remove('떡볶이')\n",
        "print(food)"
      ],
      "execution_count": null,
      "outputs": [
        {
          "output_type": "stream",
          "text": [
            "['피자', '치킨', '스테이크', '파스타']\n"
          ],
          "name": "stdout"
        }
      ]
    },
    {
      "cell_type": "code",
      "metadata": {
        "colab": {
          "base_uri": "https://localhost:8080/"
        },
        "id": "D69IJ_nIgBrv",
        "outputId": "032bd584-7326-4f1d-e39b-ba53217b0164"
      },
      "source": [
        "food = ['피자','치킨','떡볶이','스테이크','파스타']\n",
        "del food[-1]\n",
        "print(food)"
      ],
      "execution_count": null,
      "outputs": [
        {
          "output_type": "stream",
          "text": [
            "['피자', '치킨', '떡볶이', '스테이크']\n"
          ],
          "name": "stdout"
        }
      ]
    },
    {
      "cell_type": "markdown",
      "metadata": {
        "id": "sXg9IuP0ZQVW"
      },
      "source": [
        "#### 6.1.5  리스트에서 필요한 데이터만 꺼내기"
      ]
    },
    {
      "cell_type": "code",
      "metadata": {
        "colab": {
          "base_uri": "https://localhost:8080/"
        },
        "id": "TWRO61H8gBvt",
        "outputId": "a4a8df3e-201e-431f-9d9d-267bf2a5c5f1"
      },
      "source": [
        "food = ['피자','치킨','떡볶이','스테이크','파스타']\n",
        "\n",
        "print(food[0:3])"
      ],
      "execution_count": null,
      "outputs": [
        {
          "output_type": "stream",
          "text": [
            "['피자', '치킨', '떡볶이']\n"
          ],
          "name": "stdout"
        }
      ]
    },
    {
      "cell_type": "code",
      "metadata": {
        "colab": {
          "base_uri": "https://localhost:8080/"
        },
        "id": "3-MuxwhagBxx",
        "outputId": "8be8f720-2b2a-4014-8fae-cc4d69ba4abd"
      },
      "source": [
        "print(food[2:4])"
      ],
      "execution_count": null,
      "outputs": [
        {
          "output_type": "stream",
          "text": [
            "['떡볶이', '스테이크']\n"
          ],
          "name": "stdout"
        }
      ]
    },
    {
      "cell_type": "code",
      "metadata": {
        "colab": {
          "base_uri": "https://localhost:8080/"
        },
        "id": "-mFK0VuuZQcU",
        "outputId": "c63c33bb-65b5-466c-d5bd-80daa8f14437"
      },
      "source": [
        "print(food[:3])"
      ],
      "execution_count": null,
      "outputs": [
        {
          "output_type": "stream",
          "text": [
            "['피자', '치킨', '떡볶이']\n"
          ],
          "name": "stdout"
        }
      ]
    },
    {
      "cell_type": "code",
      "metadata": {
        "colab": {
          "base_uri": "https://localhost:8080/"
        },
        "id": "mOr7KPtzZQew",
        "outputId": "df10a14c-5a6d-471b-8538-61bb0d137e82"
      },
      "source": [
        "print(food[-2:])"
      ],
      "execution_count": null,
      "outputs": [
        {
          "output_type": "stream",
          "text": [
            "['스테이크', '파스타']\n"
          ],
          "name": "stdout"
        }
      ]
    },
    {
      "cell_type": "code",
      "metadata": {
        "colab": {
          "base_uri": "https://localhost:8080/"
        },
        "id": "hGe-k7lnZQhk",
        "outputId": "651c7977-68e2-4e0e-af33-4a2bcac61cbd"
      },
      "source": [
        "spend_6mon =[25, 36, 8, 53, 24, 56]\n",
        "\n",
        "print('1월부터 3월 지출액 :',spend_6mon[:3])\n",
        "print('3월부터 5월 지출액 :',spend_6mon[2:5])\n",
        "print('5월부터 6월 지출액 :',spend_6mon[-2:])"
      ],
      "execution_count": null,
      "outputs": [
        {
          "output_type": "stream",
          "text": [
            "1월부터 3월 지출액 : [25, 36, 8]\n",
            "3월부터 5월 지출액 : [8, 53, 24]\n",
            "5월부터 6월 지출액 : [24, 56]\n"
          ],
          "name": "stdout"
        }
      ]
    },
    {
      "cell_type": "code",
      "metadata": {
        "colab": {
          "base_uri": "https://localhost:8080/"
        },
        "id": "lUKEmCpdZQjm",
        "outputId": "8bb94890-973c-445e-cb89-bb67ff324288"
      },
      "source": [
        "# 문자열 슬라이싱\n",
        "a = '나는야 우주최강'\n",
        "print(a[:3])"
      ],
      "execution_count": null,
      "outputs": [
        {
          "output_type": "stream",
          "text": [
            "나는야\n"
          ],
          "name": "stdout"
        }
      ]
    },
    {
      "cell_type": "code",
      "metadata": {
        "colab": {
          "base_uri": "https://localhost:8080/"
        },
        "id": "HC6tt8EoZQl6",
        "outputId": "b5e81591-984d-414d-8438-543c652614a4"
      },
      "source": [
        "print(a[-4:])"
      ],
      "execution_count": null,
      "outputs": [
        {
          "output_type": "stream",
          "text": [
            "우주최강\n"
          ],
          "name": "stdout"
        }
      ]
    },
    {
      "cell_type": "code",
      "metadata": {
        "colab": {
          "base_uri": "https://localhost:8080/"
        },
        "id": "0g4NF-kbZQoC",
        "outputId": "018521f8-ce53-4bf8-8161-013baeffa326"
      },
      "source": [
        "print(a[-4:-2])"
      ],
      "execution_count": null,
      "outputs": [
        {
          "output_type": "stream",
          "text": [
            "우주\n"
          ],
          "name": "stdout"
        }
      ]
    },
    {
      "cell_type": "code",
      "metadata": {
        "colab": {
          "base_uri": "https://localhost:8080/"
        },
        "id": "epEHYFDaZQqa",
        "outputId": "d0bcd347-11e9-4d01-c2ed-fa6ab65ba3c0"
      },
      "source": [
        "date = '2021-04-15'\n",
        "\n",
        "print('연도 :',date[:4])\n",
        "print('월 :',date[5:7])\n",
        "print('일 :',date[-2:])"
      ],
      "execution_count": null,
      "outputs": [
        {
          "output_type": "stream",
          "text": [
            "연도 : 2021\n",
            "월 : 04\n",
            "일 : 15\n"
          ],
          "name": "stdout"
        }
      ]
    },
    {
      "cell_type": "code",
      "metadata": {
        "colab": {
          "base_uri": "https://localhost:8080/"
        },
        "id": "dSUuZXOtZQtB",
        "outputId": "a414cdd0-c915-4282-c994-5c9be8fde9d1"
      },
      "source": [
        "a = '나는야 우주최강'\n",
        "print(a.split())"
      ],
      "execution_count": null,
      "outputs": [
        {
          "output_type": "stream",
          "text": [
            "['나는야', '우주최강']\n"
          ],
          "name": "stdout"
        }
      ]
    },
    {
      "cell_type": "code",
      "metadata": {
        "colab": {
          "base_uri": "https://localhost:8080/"
        },
        "id": "_BZN4qQkhSiC",
        "outputId": "a462d458-62b8-401d-8905-6418923582ee"
      },
      "source": [
        "# 공백을 기준으로 split\n",
        "a = '나는야 우주최강'\n",
        "print(a.split())\n",
        "print(a.split()[0])\n",
        "print(a.split()[1])"
      ],
      "execution_count": null,
      "outputs": [
        {
          "output_type": "stream",
          "text": [
            "['나는야', '우주최강']\n",
            "나는야\n",
            "우주최강\n"
          ],
          "name": "stdout"
        }
      ]
    },
    {
      "cell_type": "code",
      "metadata": {
        "colab": {
          "base_uri": "https://localhost:8080/"
        },
        "id": "Iu8Y5DOHhSke",
        "outputId": "0cc00484-d154-4090-e324-fea3d745f095"
      },
      "source": [
        "# -(하이픈)을 기준으로 split\n",
        "date = '2021-04-15'\n",
        "print(date.split('-'))"
      ],
      "execution_count": null,
      "outputs": [
        {
          "output_type": "stream",
          "text": [
            "['2021', '04', '15']\n"
          ],
          "name": "stdout"
        }
      ]
    },
    {
      "cell_type": "code",
      "metadata": {
        "colab": {
          "base_uri": "https://localhost:8080/"
        },
        "id": "Hp8K6Me8hSnI",
        "outputId": "d1a0069c-ba45-440c-ad97-ef50b4ad5a0e"
      },
      "source": [
        "date = '2021-04-15'\n",
        "print(date.split('-')[0])\n",
        "print(date.split('-')[1])\n",
        "print(date.split('-')[2])"
      ],
      "execution_count": null,
      "outputs": [
        {
          "output_type": "stream",
          "text": [
            "2021\n",
            "04\n",
            "15\n"
          ],
          "name": "stdout"
        }
      ]
    },
    {
      "cell_type": "markdown",
      "metadata": {
        "id": "89wfdiy_ZQzM"
      },
      "source": [
        "#### 6.1.6  다양한 리스트 명령어 사용하기"
      ]
    },
    {
      "cell_type": "code",
      "metadata": {
        "colab": {
          "base_uri": "https://localhost:8080/"
        },
        "id": "XwVJYmnzhSp_",
        "outputId": "8dbe2ef5-2c05-4a33-9ed9-1231d3431e09"
      },
      "source": [
        "# 리스트 원소 정렬하기\n",
        "food =['피자', '치킨', '스테이크', '된장찌개','바나나', '파스타', '감자칩']\n",
        "\n",
        "food.sort()\n",
        "print('정렬 후 : ',food)"
      ],
      "execution_count": null,
      "outputs": [
        {
          "output_type": "stream",
          "text": [
            "정렬 후 :  ['감자칩', '된장찌개', '바나나', '스테이크', '치킨', '파스타', '피자']\n"
          ],
          "name": "stdout"
        }
      ]
    },
    {
      "cell_type": "code",
      "metadata": {
        "colab": {
          "base_uri": "https://localhost:8080/"
        },
        "id": "cHsAWkvjZQ3m",
        "outputId": "71eaaba5-4a02-4f2a-8673-403a8bfff6fe"
      },
      "source": [
        "# 리스트 원소 내림차순(역순)으로 정렬하기\n",
        "food =['피자', '치킨', '스테이크', '된장찌개','바나나', '파스타', '감자칩']\n",
        "\n",
        "food.sort(reverse=True)\n",
        "print('정렬 후 : ',food)"
      ],
      "execution_count": null,
      "outputs": [
        {
          "output_type": "stream",
          "text": [
            "정렬 후 :  ['피자', '파스타', '치킨', '스테이크', '바나나', '된장찌개', '감자칩']\n"
          ],
          "name": "stdout"
        }
      ]
    },
    {
      "cell_type": "code",
      "metadata": {
        "colab": {
          "base_uri": "https://localhost:8080/"
        },
        "id": "0ZDD_igvZQ6C",
        "outputId": "6cd093a4-92f3-4977-f9e0-8e767fc1c133"
      },
      "source": [
        "spending_6mon =[25, 36, 8, 53, 24, 56]\n",
        "\n",
        "spending_6mon.sort(reverse=True)\n",
        "print(spending_6mon[0:2])"
      ],
      "execution_count": null,
      "outputs": [
        {
          "output_type": "stream",
          "text": [
            "[56, 53]\n"
          ],
          "name": "stdout"
        }
      ]
    },
    {
      "cell_type": "code",
      "metadata": {
        "colab": {
          "base_uri": "https://localhost:8080/"
        },
        "id": "nZWfZHJLZQ8o",
        "outputId": "ad3ff86b-5f44-418c-c473-508c56c89af3"
      },
      "source": [
        "spending_6mon =[25, 36, 8, 53, 24, 56]\n",
        "\n",
        "spending_6mon.sort(reverse=True)\n",
        "print(spending_6mon[-2:])"
      ],
      "execution_count": null,
      "outputs": [
        {
          "output_type": "stream",
          "text": [
            "[24, 8]\n"
          ],
          "name": "stdout"
        }
      ]
    },
    {
      "cell_type": "code",
      "metadata": {
        "colab": {
          "base_uri": "https://localhost:8080/"
        },
        "id": "KOzRHibrZQ_A",
        "outputId": "e2717923-a644-47d3-ab22-f55ecd4d20a4"
      },
      "source": [
        "# 리스트 원소 중 최대값, 최소값 찾기\n",
        "spending_6mon =[25, 36, 8, 53, 24, 56]\n",
        "print(max(spending_6mon), min(spending_6mon))"
      ],
      "execution_count": null,
      "outputs": [
        {
          "output_type": "stream",
          "text": [
            "56 8\n"
          ],
          "name": "stdout"
        }
      ]
    },
    {
      "cell_type": "code",
      "metadata": {
        "colab": {
          "base_uri": "https://localhost:8080/"
        },
        "id": "uOtJlByKZRBg",
        "outputId": "1acd3c57-8246-45fc-8fea-1602f04728c7"
      },
      "source": [
        "# 리스트 원소 합 구하기\n",
        "print(sum(spending_6mon))"
      ],
      "execution_count": null,
      "outputs": [
        {
          "output_type": "stream",
          "text": [
            "202\n"
          ],
          "name": "stdout"
        }
      ]
    },
    {
      "cell_type": "code",
      "metadata": {
        "colab": {
          "base_uri": "https://localhost:8080/"
        },
        "id": "w7mVVWt4ZRD_",
        "outputId": "bc9c2c2a-3909-4191-e93e-66a65e223e58"
      },
      "source": [
        "# 원소의 인덱스 찾기\n",
        "print(spending_6mon.index(24))"
      ],
      "execution_count": null,
      "outputs": [
        {
          "output_type": "stream",
          "text": [
            "4\n"
          ],
          "name": "stdout"
        }
      ]
    },
    {
      "cell_type": "markdown",
      "metadata": {
        "id": "cznoIyllZRMc"
      },
      "source": [
        "## 6.2  제어구조로 리스트 다루기\n",
        "#### 6.2.1  조건문으로 리스트 다루기"
      ]
    },
    {
      "cell_type": "code",
      "metadata": {
        "colab": {
          "base_uri": "https://localhost:8080/"
        },
        "id": "bwby0r-1ZRGC",
        "outputId": "62ba526d-565e-4b99-c297-a5646b0ba04d"
      },
      "source": [
        "food =['피자', '치킨', '스테이크', '된장찌개']\n",
        "search = input('찾는 음식은? ')\n",
        "\n",
        "if search in food : \n",
        "    print(food.index(search)+1,'위입니다.')\n",
        "else : \n",
        "    print(search,'은/는 순위에 없습니다')"
      ],
      "execution_count": null,
      "outputs": [
        {
          "output_type": "stream",
          "text": [
            "찾는 음식은? 치킨\n",
            "2 위입니다.\n"
          ],
          "name": "stdout"
        }
      ]
    },
    {
      "cell_type": "code",
      "metadata": {
        "colab": {
          "base_uri": "https://localhost:8080/"
        },
        "id": "OlvZ4mVHZRRF",
        "outputId": "85c42cf7-8d9c-40b3-b136-37b76e2fc7aa"
      },
      "source": [
        "history = ['먹방','강아지','요리','댄스']\n",
        "\n",
        "if '강아지' in history : \n",
        "    print('강아지를 좋아하시면 고양이 영상도 추천합니다!')\n",
        "if '댄스' in history : \n",
        "    print('댄스를 좋아하시면 음악방송 영상도 추천합니다!')"
      ],
      "execution_count": null,
      "outputs": [
        {
          "output_type": "stream",
          "text": [
            "강아지를 좋아하시면 고양이 영상도 추천합니다!\n",
            "댄스를 좋아하시면 음악방송 영상도 추천합니다!\n"
          ],
          "name": "stdout"
        }
      ]
    },
    {
      "cell_type": "code",
      "metadata": {
        "colab": {
          "base_uri": "https://localhost:8080/"
        },
        "id": "_JrvHAgNZRTi",
        "outputId": "373476e7-bc12-43eb-a4fb-cb573923a248"
      },
      "source": [
        "history = []\n",
        "\n",
        "# 새로운 종류의 영상 시청\n",
        "for i in range(5) : \n",
        "    history.append(input('시청한 영상은? '))\n",
        "print('지금까지 시청하신 주제는',history)\n",
        "\n",
        "if '다이어트' in history: \n",
        "    print('홈트레이닝 영상도 좋아하실 것 같아요!')\n",
        "if '뉴스' in history : \n",
        "    print('뉴스를 좋아하시면 속보 영상도 추천합니다!')"
      ],
      "execution_count": null,
      "outputs": [
        {
          "output_type": "stream",
          "text": [
            "시청한 영상은? 뉴스\n",
            "시청한 영상은? 가성비 맛집\n",
            "시청한 영상은? 다이어트\n",
            "시청한 영상은? 마스크 사용법\n",
            "시청한 영상은? 스마트폰 후기\n",
            "지금까지 시청하신 주제는 ['뉴스', '가성비 맛집', '다이어트', '마스크 사용법', '스마트폰 후기']\n",
            "홈트레이닝 영상도 좋아하실 것 같아요!\n",
            "뉴스를 좋아하시면 속보 영상도 추천합니다!\n"
          ],
          "name": "stdout"
        }
      ]
    },
    {
      "cell_type": "markdown",
      "metadata": {
        "id": "MBNfGUgrjy0c"
      },
      "source": [
        "#### 6.2.2  중첩 제어구조로 리스트 다루기"
      ]
    },
    {
      "cell_type": "code",
      "metadata": {
        "colab": {
          "base_uri": "https://localhost:8080/"
        },
        "id": "q-J45NnOZRV_",
        "outputId": "5b2768d1-4b10-4b58-b7a9-a38a7b181774"
      },
      "source": [
        "import random\n",
        "\n",
        "# 초기 상태 표로 보여주기\n",
        "score = []\n",
        "for i in range(25) : \n",
        "    score.append(random.randint(0,100))\n",
        "    print(score)"
      ],
      "execution_count": null,
      "outputs": [
        {
          "output_type": "stream",
          "text": [
            "[31]\n",
            "[31, 28]\n",
            "[31, 28, 70]\n",
            "[31, 28, 70, 74]\n",
            "[31, 28, 70, 74, 77]\n",
            "[31, 28, 70, 74, 77, 96]\n",
            "[31, 28, 70, 74, 77, 96, 51]\n",
            "[31, 28, 70, 74, 77, 96, 51, 3]\n",
            "[31, 28, 70, 74, 77, 96, 51, 3, 6]\n",
            "[31, 28, 70, 74, 77, 96, 51, 3, 6, 35]\n",
            "[31, 28, 70, 74, 77, 96, 51, 3, 6, 35, 88]\n",
            "[31, 28, 70, 74, 77, 96, 51, 3, 6, 35, 88, 91]\n",
            "[31, 28, 70, 74, 77, 96, 51, 3, 6, 35, 88, 91, 96]\n",
            "[31, 28, 70, 74, 77, 96, 51, 3, 6, 35, 88, 91, 96, 46]\n",
            "[31, 28, 70, 74, 77, 96, 51, 3, 6, 35, 88, 91, 96, 46, 78]\n",
            "[31, 28, 70, 74, 77, 96, 51, 3, 6, 35, 88, 91, 96, 46, 78, 54]\n",
            "[31, 28, 70, 74, 77, 96, 51, 3, 6, 35, 88, 91, 96, 46, 78, 54, 60]\n",
            "[31, 28, 70, 74, 77, 96, 51, 3, 6, 35, 88, 91, 96, 46, 78, 54, 60, 74]\n",
            "[31, 28, 70, 74, 77, 96, 51, 3, 6, 35, 88, 91, 96, 46, 78, 54, 60, 74, 55]\n",
            "[31, 28, 70, 74, 77, 96, 51, 3, 6, 35, 88, 91, 96, 46, 78, 54, 60, 74, 55, 81]\n",
            "[31, 28, 70, 74, 77, 96, 51, 3, 6, 35, 88, 91, 96, 46, 78, 54, 60, 74, 55, 81, 34]\n",
            "[31, 28, 70, 74, 77, 96, 51, 3, 6, 35, 88, 91, 96, 46, 78, 54, 60, 74, 55, 81, 34, 63]\n",
            "[31, 28, 70, 74, 77, 96, 51, 3, 6, 35, 88, 91, 96, 46, 78, 54, 60, 74, 55, 81, 34, 63, 51]\n",
            "[31, 28, 70, 74, 77, 96, 51, 3, 6, 35, 88, 91, 96, 46, 78, 54, 60, 74, 55, 81, 34, 63, 51, 93]\n",
            "[31, 28, 70, 74, 77, 96, 51, 3, 6, 35, 88, 91, 96, 46, 78, 54, 60, 74, 55, 81, 34, 63, 51, 93, 1]\n"
          ],
          "name": "stdout"
        }
      ]
    },
    {
      "cell_type": "code",
      "metadata": {
        "colab": {
          "base_uri": "https://localhost:8080/"
        },
        "id": "3rR98_v0ZRYg",
        "outputId": "c944d20c-a162-4785-add5-2ce804bb863e"
      },
      "source": [
        "import random\n",
        "\n",
        "score = []\n",
        "for i in range(25) : \n",
        "    score.append(random.randint(0,100))\n",
        "print(score)\n",
        "\n",
        "print('리스트를 사용해 70점 이상인 점수 출력하기')\n",
        "for s in score : \n",
        "    if s > 70 :\n",
        "        print(score.index(s) + 1, '번', s)\n",
        "        \n",
        "print('인덱스를 사용해 70점 이상인 점수 출력하기')\n",
        "for i in range(25) : \n",
        "    if score[i] > 70 : \n",
        "        print(i+1,'번', score[i])"
      ],
      "execution_count": null,
      "outputs": [
        {
          "output_type": "stream",
          "text": [
            "[42, 72, 12, 70, 0, 35, 13, 26, 22, 83, 79, 16, 1, 45, 81, 62, 39, 78, 18, 42, 15, 86, 45, 92, 68]\n",
            "리스트를 사용해 70점 이상인 점수 출력하기\n",
            "2 번 72\n",
            "10 번 83\n",
            "11 번 79\n",
            "15 번 81\n",
            "18 번 78\n",
            "22 번 86\n",
            "24 번 92\n",
            "인덱스를 사용해 70점 이상인 점수 출력하기\n",
            "2 번 72\n",
            "10 번 83\n",
            "11 번 79\n",
            "15 번 81\n",
            "18 번 78\n",
            "22 번 86\n",
            "24 번 92\n"
          ],
          "name": "stdout"
        }
      ]
    },
    {
      "cell_type": "markdown",
      "metadata": {
        "id": "xlFD_4UdkaS7"
      },
      "source": [
        "#### 6.2.3  리스트로 간단한 프로그램 만들기"
      ]
    },
    {
      "cell_type": "code",
      "metadata": {
        "colab": {
          "base_uri": "https://localhost:8080/"
        },
        "id": "ljPZ5h-fZRbH",
        "outputId": "bca42595-d96b-41a5-d255-397ee7ba8abc"
      },
      "source": [
        "line2 = ['성수','뚝섬','한양대', '왕십리' , '상왕십리', '신당', '동대문역사문화공원', \n",
        "         '을지로4가', '을지로3가', '을지로입구', '시청', '충정로', '아현', '이대', \n",
        "         '신촌', '홍대입구', '합정', '당산', '영등포구청', '문래', '신도림', '대림', \n",
        "         '구로디지털단지', '신대방', '신림', '봉천', '서울대입구', '낙성대', '사당', \n",
        "         '방배', '서초', '교대', '강남', '역삼', '선릉', '삼성', '종합운동장', \n",
        "         '잠실새내', '잠실', '잠실나루', '강변', '구의', '건대입구']\n",
        "print(len(line2))"
      ],
      "execution_count": null,
      "outputs": [
        {
          "output_type": "stream",
          "text": [
            "43\n"
          ],
          "name": "stdout"
        }
      ]
    },
    {
      "cell_type": "code",
      "metadata": {
        "colab": {
          "base_uri": "https://localhost:8080/"
        },
        "id": "DfOjzUT8ZRde",
        "outputId": "12dde388-2b97-4b42-81e4-6fa87f99c017"
      },
      "source": [
        "print('지하철~ '*4)\n",
        "\n",
        "# 10번 반복된다고 가정\n",
        "for i in range(10) : \n",
        "    station = input()\n",
        "    if station not in line2 :\n",
        "        print('땡! 해당 역은 2호선이 아닙니다!')\n",
        "        break"
      ],
      "execution_count": null,
      "outputs": [
        {
          "output_type": "stream",
          "text": [
            "지하철~ 지하철~ 지하철~ 지하철~ \n",
            "강남\n",
            "합정\n",
            "역삼\n",
            "낙성대\n",
            "홍대\n",
            "땡! 해당 역은 2호선이 아닙니다!\n"
          ],
          "name": "stdout"
        }
      ]
    },
    {
      "cell_type": "code",
      "metadata": {
        "id": "qu7Hi03YZRfa"
      },
      "source": [
        "# 1분퀴즈 3\n",
        "import random\n",
        "\n",
        "score = []\n",
        "A = []\n",
        "B = []\n",
        "C = []\n",
        "\n",
        "for i in range(30) : \n",
        "    score.append(random.randint(0, 100))\n",
        "\n",
        "for i in range(len(score)) : \n",
        "    if score[i] > 80 : \n",
        "        A.append(score[i])\n",
        "    elif score[i] > 40 : \n",
        "        B.append(score[i])\n",
        "    else : \n",
        "        C.append(score[i])"
      ],
      "execution_count": null,
      "outputs": []
    },
    {
      "cell_type": "markdown",
      "metadata": {
        "id": "zY-XP436ZRwo"
      },
      "source": [
        "## 6.3  여러 개의 리스트 묶기\n",
        "#### 6.3.1  이차원 리스트란"
      ]
    },
    {
      "cell_type": "code",
      "metadata": {
        "colab": {
          "base_uri": "https://localhost:8080/"
        },
        "id": "VkB2WQLYZRof",
        "outputId": "80c76513-7fed-4f87-8391-863ad13eaebf"
      },
      "source": [
        "abc = [[1,2,3], [4,5,6], [7,8,9]]\n",
        "print(abc[0][1])\n",
        "print(abc[1][2])"
      ],
      "execution_count": null,
      "outputs": [
        {
          "output_type": "stream",
          "text": [
            "2\n",
            "6\n"
          ],
          "name": "stdout"
        }
      ]
    },
    {
      "cell_type": "code",
      "metadata": {
        "colab": {
          "base_uri": "https://localhost:8080/"
        },
        "id": "jguQ5Y70ZR1S",
        "outputId": "59038cc7-ec5e-462d-f12f-b1e3e2880562"
      },
      "source": [
        "for row in abc : \n",
        "    print(row)"
      ],
      "execution_count": null,
      "outputs": [
        {
          "output_type": "stream",
          "text": [
            "[1, 2, 3]\n",
            "[4, 5, 6]\n",
            "[7, 8, 9]\n"
          ],
          "name": "stdout"
        }
      ]
    },
    {
      "cell_type": "code",
      "metadata": {
        "colab": {
          "base_uri": "https://localhost:8080/"
        },
        "id": "tCQmn3I2ZR3o",
        "outputId": "395399f7-9daa-45c1-ade9-cf352c33f6f1"
      },
      "source": [
        "for row in abc : \n",
        "    print(row[0])"
      ],
      "execution_count": null,
      "outputs": [
        {
          "output_type": "stream",
          "text": [
            "1\n",
            "4\n",
            "7\n"
          ],
          "name": "stdout"
        }
      ]
    },
    {
      "cell_type": "code",
      "metadata": {
        "colab": {
          "base_uri": "https://localhost:8080/"
        },
        "id": "WpQy19ksZR6I",
        "outputId": "abb2f8ca-ec31-4703-f9ea-e1f0d0d289d4"
      },
      "source": [
        "for row in abc : \n",
        "    print(row[-1])"
      ],
      "execution_count": null,
      "outputs": [
        {
          "output_type": "stream",
          "text": [
            "3\n",
            "6\n",
            "9\n"
          ],
          "name": "stdout"
        }
      ]
    },
    {
      "cell_type": "code",
      "metadata": {
        "colab": {
          "base_uri": "https://localhost:8080/"
        },
        "id": "wZpsItpTZR8P",
        "outputId": "c9b57c9a-5ab2-4573-e7c4-36b052267a1e"
      },
      "source": [
        "print(abc[0])\n",
        "print(abc[1])\n",
        "print(abc[2])"
      ],
      "execution_count": null,
      "outputs": [
        {
          "output_type": "stream",
          "text": [
            "[1, 2, 3]\n",
            "[4, 5, 6]\n",
            "[7, 8, 9]\n"
          ],
          "name": "stdout"
        }
      ]
    },
    {
      "cell_type": "markdown",
      "metadata": {
        "id": "iFYVgaTBmALP"
      },
      "source": [
        "#### 6.3.3  이차원 리스트로 간단한 프로그램 만들기"
      ]
    },
    {
      "cell_type": "code",
      "metadata": {
        "id": "vKSM0lX8ZR-j"
      },
      "source": [
        "card = [['2020.03.04 18:56','주식회사 카카오페이',1000],\n",
        "        ['2020.03.03 14:54','네이버페이',51100],\n",
        "        ['2020.03.02 12:13','스타벅스코리아',10000],\n",
        "        ['2020.03.01 15:49','11번가',27500],\n",
        "        ['2020.02.26 11:40','주식회사 카카오페이',32500],\n",
        "        ['2020.02.26 11:38','주식회사 카카오페이',32500],\n",
        "        ['2020.02.22 15:00','G마켓',81500],\n",
        "        ['2020.02.22 15:15','네이버페이',131000]]"
      ],
      "execution_count": null,
      "outputs": []
    },
    {
      "cell_type": "code",
      "metadata": {
        "colab": {
          "base_uri": "https://localhost:8080/"
        },
        "id": "QY2Pq0LCZSBR",
        "outputId": "934ed0d7-aa5f-49d7-dd18-5eafc626c85b"
      },
      "source": [
        "print(card[0])\n",
        "print(card[3])"
      ],
      "execution_count": null,
      "outputs": [
        {
          "output_type": "stream",
          "text": [
            "['2020.03.04 18:56', '주식회사 카카오페이', 1000]\n",
            "['2020.03.01 15:49', '11번가', 27500]\n"
          ],
          "name": "stdout"
        }
      ]
    },
    {
      "cell_type": "code",
      "metadata": {
        "colab": {
          "base_uri": "https://localhost:8080/"
        },
        "id": "TKEHlal8ZSDb",
        "outputId": "de6072a5-b5be-4d66-e5ea-25a6349ffc0d"
      },
      "source": [
        "print(card[0][1])\n",
        "print(card[3][1])"
      ],
      "execution_count": null,
      "outputs": [
        {
          "output_type": "stream",
          "text": [
            "주식회사 카카오페이\n",
            "11번가\n"
          ],
          "name": "stdout"
        }
      ]
    },
    {
      "cell_type": "code",
      "metadata": {
        "colab": {
          "base_uri": "https://localhost:8080/"
        },
        "id": "25DM7bXqmPQA",
        "outputId": "5a98cb79-aca0-4e31-e598-be216bbf9417"
      },
      "source": [
        "print(card[-1][1], card[-1][-1])"
      ],
      "execution_count": null,
      "outputs": [
        {
          "output_type": "stream",
          "text": [
            "네이버페이 131000\n"
          ],
          "name": "stdout"
        }
      ]
    },
    {
      "cell_type": "code",
      "metadata": {
        "id": "5iL4uB3zmPSJ"
      },
      "source": [
        "olympic =[[1,'미국',46,37,38,121],\n",
        "          [2,'영국',27,23,17,67],\n",
        "          [3,'중국',26,18,26,70],\n",
        "          [4,'러시아',19,18,19,56],\n",
        "          [5,'독일',17,10,15,42],\n",
        "          [6,'일본',12,8,21,41],\n",
        "          [7,'프랑스',10,18,14,42],\n",
        "          [8,'대한민국',9,3,9,21]]"
      ],
      "execution_count": null,
      "outputs": []
    },
    {
      "cell_type": "code",
      "metadata": {
        "colab": {
          "base_uri": "https://localhost:8080/"
        },
        "id": "zIv7FDKWmPUX",
        "outputId": "7f051a66-080c-4470-c9bf-71c7af176115"
      },
      "source": [
        "print(olympic[0][1],'금메달 개수 :',olympic[0][2])\n",
        "print(olympic[4][1],'금메달 개수 :',olympic[4][2])"
      ],
      "execution_count": null,
      "outputs": [
        {
          "output_type": "stream",
          "text": [
            "미국 금메달 개수 : 46\n",
            "독일 금메달 개수 : 17\n"
          ],
          "name": "stdout"
        }
      ]
    },
    {
      "cell_type": "code",
      "metadata": {
        "colab": {
          "base_uri": "https://localhost:8080/"
        },
        "id": "j_VnPC-xmPWt",
        "outputId": "8f7a04d6-beea-42ea-fb5e-97f861b7902b"
      },
      "source": [
        "print(olympic[:4])\n",
        "print(olympic[:4][1])"
      ],
      "execution_count": null,
      "outputs": [
        {
          "output_type": "stream",
          "text": [
            "[[1, '미국', 46, 37, 38, 121], [2, '영국', 27, 23, 17, 67], [3, '중국', 26, 18, 26, 70], [4, '러시아', 19, 18, 19, 56]]\n",
            "[2, '영국', 27, 23, 17, 67]\n"
          ],
          "name": "stdout"
        }
      ]
    },
    {
      "cell_type": "code",
      "metadata": {
        "colab": {
          "base_uri": "https://localhost:8080/"
        },
        "id": "G_PCh0zimPY_",
        "outputId": "6d7aad13-c0d6-4635-8916-32c2e38ec3a5"
      },
      "source": [
        "for row in olympic : \n",
        "    print(row[:2])"
      ],
      "execution_count": null,
      "outputs": [
        {
          "output_type": "stream",
          "text": [
            "[1, '미국']\n",
            "[2, '영국']\n",
            "[3, '중국']\n",
            "[4, '러시아']\n",
            "[5, '독일']\n",
            "[6, '일본']\n",
            "[7, '프랑스']\n",
            "[8, '대한민국']\n"
          ],
          "name": "stdout"
        }
      ]
    },
    {
      "cell_type": "code",
      "metadata": {
        "colab": {
          "base_uri": "https://localhost:8080/"
        },
        "id": "_SDrT7Vlm7bK",
        "outputId": "54d3b241-4362-41cc-bac4-b1c7a767c3c7"
      },
      "source": [
        "print('금메달보다 은메달이 더 많은 나라')\n",
        "for row in olympic : \n",
        "    if row[2] < row[3] : \n",
        "        print(row[1])"
      ],
      "execution_count": null,
      "outputs": [
        {
          "output_type": "stream",
          "text": [
            "금메달보다 은메달이 더 많은 나라\n",
            "프랑스\n"
          ],
          "name": "stdout"
        }
      ]
    },
    {
      "cell_type": "code",
      "metadata": {
        "colab": {
          "base_uri": "https://localhost:8080/"
        },
        "id": "sFkAp_AEm7dd",
        "outputId": "d8633146-36af-4d81-b070-b0ecbf524e7f"
      },
      "source": [
        "print('금메달보다 동메달이 더 많은 나라')\n",
        "for row in olympic : \n",
        "    if row[2] < row[4] : \n",
        "        print(row[1])"
      ],
      "execution_count": null,
      "outputs": [
        {
          "output_type": "stream",
          "text": [
            "금메달보다 동메달이 더 많은 나라\n",
            "일본\n",
            "프랑스\n"
          ],
          "name": "stdout"
        }
      ]
    },
    {
      "cell_type": "code",
      "metadata": {
        "colab": {
          "base_uri": "https://localhost:8080/"
        },
        "id": "Jiw7vRL7m7hR",
        "outputId": "e3e70590-d158-4ab1-b9ca-9cfa00534451"
      },
      "source": [
        "total_gold =0\n",
        "for row in olympic : \n",
        "    total_gold += row[2]\n",
        "print(total_gold)"
      ],
      "execution_count": null,
      "outputs": [
        {
          "output_type": "stream",
          "text": [
            "166\n"
          ],
          "name": "stdout"
        }
      ]
    },
    {
      "cell_type": "code",
      "metadata": {
        "colab": {
          "base_uri": "https://localhost:8080/"
        },
        "id": "xenIgw1hm7kv",
        "outputId": "3cac4a6b-bf31-4e15-caed-ee8e8778ac47"
      },
      "source": [
        "# 총 메달 중 금메달이 차지하는 비율이 40%가 넘는 나라\n",
        "for row in olympic : \n",
        "    gold = row[2]/row[-1] *100\n",
        "    if gold > 40 : \n",
        "        print(row[1], gold,'%')"
      ],
      "execution_count": null,
      "outputs": [
        {
          "output_type": "stream",
          "text": [
            "영국 40.298507462686565 %\n",
            "독일 40.476190476190474 %\n",
            "대한민국 42.857142857142854 %\n"
          ],
          "name": "stdout"
        }
      ]
    }
  ]
}