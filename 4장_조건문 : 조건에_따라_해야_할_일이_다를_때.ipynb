{
  "nbformat": 4,
  "nbformat_minor": 0,
  "metadata": {
    "colab": {
      "name": "4장 - 조건문 : 조건에 따라 해야 할 일이 다를 때.ipynb",
      "provenance": [],
      "collapsed_sections": [],
      "authorship_tag": "ABX9TyM0ZCbHnxdi2Wmk8M1kqZPD",
      "include_colab_link": true
    },
    "kernelspec": {
      "name": "python3",
      "display_name": "Python 3"
    },
    "language_info": {
      "name": "python"
    }
  },
  "cells": [
    {
      "cell_type": "markdown",
      "metadata": {
        "id": "view-in-github",
        "colab_type": "text"
      },
      "source": [
        "<a href=\"https://colab.research.google.com/github/teacher-jiejie/Lets-get-it-Python-Book-Code/blob/main/4%EC%9E%A5_%EC%A1%B0%EA%B1%B4%EB%AC%B8%20%3A%20%EC%A1%B0%EA%B1%B4%EC%97%90_%EB%94%B0%EB%9D%BC_%ED%95%B4%EC%95%BC_%ED%95%A0_%EC%9D%BC%EC%9D%B4_%EB%8B%A4%EB%A5%BC_%EB%95%8C.ipynb\" target=\"_parent\"><img src=\"https://colab.research.google.com/assets/colab-badge.svg\" alt=\"Open In Colab\"/></a>"
      ]
    },
    {
      "cell_type": "markdown",
      "metadata": {
        "id": "hWalXTK3HjTl"
      },
      "source": [
        "## 4.1  조건이 하나일 때: if\n",
        "#### 4.1.1  선택구조란\n",
        "#### 4.1.2  선택구조를 조건문으로 표현하기"
      ]
    },
    {
      "cell_type": "code",
      "metadata": {
        "colab": {
          "base_uri": "https://localhost:8080/"
        },
        "id": "2b1xpR33HXxh",
        "outputId": "cccfeb74-f44f-410c-bc5a-2a895cb78c6c"
      },
      "source": [
        "age = 23\n",
        "\n",
        "if age > 19 :  \n",
        "    print('성인은 주류를 구매할 수 있습니다.')"
      ],
      "execution_count": null,
      "outputs": [
        {
          "output_type": "stream",
          "text": [
            "성인은 주류를 구매할 수 있습니다.\n"
          ],
          "name": "stdout"
        }
      ]
    },
    {
      "cell_type": "code",
      "metadata": {
        "id": "YqQQds9RIOhF"
      },
      "source": [
        "age = 18\n",
        "\n",
        "if age < 20 :  \n",
        "    print('미성년자는 주류를 구매할 수 없습니다.')"
      ],
      "execution_count": null,
      "outputs": []
    },
    {
      "cell_type": "code",
      "metadata": {
        "colab": {
          "base_uri": "https://localhost:8080/"
        },
        "id": "fjizsnIeIOjQ",
        "outputId": "15230061-46ca-4e92-8588-05376c2adba0"
      },
      "source": [
        "age = int(input('나이가 어떻게 되세요? '))\n",
        "\n",
        "if age < 20 : \n",
        "    print('미성년자는 주류를 구매할 수 없습니다. ')"
      ],
      "execution_count": null,
      "outputs": [
        {
          "output_type": "stream",
          "text": [
            "나이가 어떻게 되세요? 19\n",
            "미성년자는 주류를 구매할 수 없습니다. \n"
          ],
          "name": "stdout"
        }
      ]
    },
    {
      "cell_type": "code",
      "metadata": {
        "colab": {
          "base_uri": "https://localhost:8080/"
        },
        "id": "lCznFol7IOlS",
        "outputId": "f7e37cfe-bc3f-4539-bf97-c70378cec759"
      },
      "source": [
        "age = int(input('나이가 어떻게 되세요? '))\n",
        "\n",
        "if age < 20 : \n",
        "    print('미성년자는 주류를 구매할 수 없습니다. ')\n",
        "    print(20-age, '년 후에 성인이 되면 오세요!')"
      ],
      "execution_count": null,
      "outputs": [
        {
          "output_type": "stream",
          "text": [
            "나이가 어떻게 되세요? 22\n"
          ],
          "name": "stdout"
        }
      ]
    },
    {
      "cell_type": "code",
      "metadata": {
        "colab": {
          "base_uri": "https://localhost:8080/"
        },
        "id": "hN5yq2RdIOo8",
        "outputId": "59211eeb-7552-4f2b-b66f-8fe48854096d"
      },
      "source": [
        "age = int(input('나이가 어떻게 되세요? '))\n",
        "\n",
        "if age < 20 : \n",
        "    print('미성년자는 주류를 구매할 수 없습니다. ')\n",
        "print(20-age, '년 후에 성인이 되면 오세요!')"
      ],
      "execution_count": null,
      "outputs": [
        {
          "output_type": "stream",
          "text": [
            "나이가 어떻게 되세요? 22\n",
            "-2 년 후에 성인이 되면 오세요!\n"
          ],
          "name": "stdout"
        }
      ]
    },
    {
      "cell_type": "code",
      "metadata": {
        "colab": {
          "base_uri": "https://localhost:8080/"
        },
        "id": "-kM0EZRyIOrI",
        "outputId": "8b7f9fb1-d00e-4c83-e60c-928650ea15fd"
      },
      "source": [
        "age = int(input('나이가 어떻게 되세요? '))\n",
        "\n",
        "if age < 20 : \n",
        "    print('미성년자는 주류를 구매할 수 없습니다. ')\n",
        "    print(20-age, '년 후에 성인이 되면 오세요!')\n",
        "print('감사합니다. 안녕히 가세요.')"
      ],
      "execution_count": null,
      "outputs": [
        {
          "output_type": "stream",
          "text": [
            "나이가 어떻게 되세요? 40\n",
            "감사합니다. 안녕히 가세요.\n"
          ],
          "name": "stdout"
        }
      ]
    },
    {
      "cell_type": "markdown",
      "metadata": {
        "id": "GvpBaFPgIOxx"
      },
      "source": [
        "#### 4.1.3  조건문을 만드는 비교연산자"
      ]
    },
    {
      "cell_type": "code",
      "metadata": {
        "colab": {
          "base_uri": "https://localhost:8080/",
          "height": 134
        },
        "id": "LEm5-0QYIOtG",
        "outputId": "ace72470-d359-4d7e-beb1-b765bcd7cb0e"
      },
      "source": [
        "age = 10\n",
        "if age = 20 : \n",
        "    print(age)"
      ],
      "execution_count": null,
      "outputs": [
        {
          "output_type": "error",
          "ename": "SyntaxError",
          "evalue": "ignored",
          "traceback": [
            "\u001b[0;36m  File \u001b[0;32m\"<ipython-input-9-96f33abcdd08>\"\u001b[0;36m, line \u001b[0;32m2\u001b[0m\n\u001b[0;31m    if age = 20 :\u001b[0m\n\u001b[0m           ^\u001b[0m\n\u001b[0;31mSyntaxError\u001b[0m\u001b[0;31m:\u001b[0m invalid syntax\n"
          ]
        }
      ]
    },
    {
      "cell_type": "code",
      "metadata": {
        "id": "jbuRXrpuIO4A"
      },
      "source": [
        "age = 10\n",
        "if age == 20 : \n",
        "    print(age)"
      ],
      "execution_count": null,
      "outputs": []
    },
    {
      "cell_type": "code",
      "metadata": {
        "colab": {
          "base_uri": "https://localhost:8080/"
        },
        "id": "n7v_mqcpIO6I",
        "outputId": "37bb920c-60c6-4658-c950-0b85df2ab736"
      },
      "source": [
        "age = 10\n",
        "if age != 20 : \n",
        "    print(age)"
      ],
      "execution_count": null,
      "outputs": [
        {
          "output_type": "stream",
          "text": [
            "10\n"
          ],
          "name": "stdout"
        }
      ]
    },
    {
      "cell_type": "markdown",
      "metadata": {
        "id": "l8hGFJlzKoU7"
      },
      "source": [
        "#### 4.1.4  조건문으로 간단한 프로그램 만들기"
      ]
    },
    {
      "cell_type": "code",
      "metadata": {
        "colab": {
          "base_uri": "https://localhost:8080/"
        },
        "id": "X21bph05IO8U",
        "outputId": "b997ba6c-a5c7-4d53-c8d5-e8fa6223a2b4"
      },
      "source": [
        "price = int(input('구매금액은? '))\n",
        "if price < 50000 : \n",
        "    print('배송비 2500원이 추가됩니다.')"
      ],
      "execution_count": null,
      "outputs": [
        {
          "output_type": "stream",
          "text": [
            "구매금액은? 35000\n",
            "배송비 2500원이 추가됩니다.\n"
          ],
          "name": "stdout"
        }
      ]
    },
    {
      "cell_type": "code",
      "metadata": {
        "colab": {
          "base_uri": "https://localhost:8080/"
        },
        "id": "DwXY1DZlIO-i",
        "outputId": "8e6a4d60-7afa-4d6a-ec7b-edac2793db52"
      },
      "source": [
        "price = int(input('구매금액은? '))\n",
        "if price < 50000 : \n",
        "    print('배송비 2500원이 추가됩니다.')\n",
        "    price += 2500\n",
        "print('결제금액은', price, '원입니다.')"
      ],
      "execution_count": null,
      "outputs": [
        {
          "output_type": "stream",
          "text": [
            "구매금액은? 35000\n",
            "배송비 2500원이 추가됩니다.\n",
            "결제금액은 37500 원입니다.\n"
          ],
          "name": "stdout"
        }
      ]
    },
    {
      "cell_type": "code",
      "metadata": {
        "colab": {
          "base_uri": "https://localhost:8080/"
        },
        "id": "VOYqSwlqIPAk",
        "outputId": "9ef23fe3-2282-40cc-ba94-ad0ca0618138"
      },
      "source": [
        "day = input('오늘은 주중입니까? 주말입니까? ')\n",
        "if day == '주중' : \n",
        "    print('아침 7시입니다! 주인님 일어나세요!')\n",
        "if day == '주말' :\n",
        "    print('아침 10시입니다! 주인님 일어나세요!')"
      ],
      "execution_count": null,
      "outputs": [
        {
          "output_type": "stream",
          "text": [
            "오늘은 주중입니까? 주말입니까? 주중\n",
            "아침 7시입니다! 주인님 일어나세요!\n"
          ],
          "name": "stdout"
        }
      ]
    },
    {
      "cell_type": "markdown",
      "metadata": {
        "id": "S8kdb12tLU_B"
      },
      "source": [
        "##  4.2  조건을 충족하지 않을 때: else\n",
        "#### 4.2.1  그렇지 않으면 else"
      ]
    },
    {
      "cell_type": "code",
      "metadata": {
        "colab": {
          "base_uri": "https://localhost:8080/"
        },
        "id": "dwXFuKHWIPCs",
        "outputId": "10783c6c-52ab-4f74-ea00-2e797eb2f465"
      },
      "source": [
        "day = input('오늘은 주중입니까? 주말입니까? ')\n",
        "if day == '주중' : \n",
        "    print('아침 7시입니다! 주인님 일어나세요!')\n",
        "else : \n",
        "    print('아침 10시입니다! 주인님 일어나세요!')"
      ],
      "execution_count": null,
      "outputs": [
        {
          "output_type": "stream",
          "text": [
            "오늘은 주중입니까? 주말입니까? 주말\n",
            "아침 10시입니다! 주인님 일어나세요!\n"
          ],
          "name": "stdout"
        }
      ]
    },
    {
      "cell_type": "markdown",
      "metadata": {
        "id": "RHzwTNVhIPLX"
      },
      "source": [
        "#### 4.2.2  if-else로 간단한 프로그램 만들기"
      ]
    },
    {
      "cell_type": "code",
      "metadata": {
        "colab": {
          "base_uri": "https://localhost:8080/"
        },
        "id": "qxhK5vrZIPEy",
        "outputId": "5aa0582d-775b-4b93-91e0-a4a29724afa2"
      },
      "source": [
        "# 차량 이부제\n",
        "date = int(input('오늘은 며칠입니까? '))\n",
        "\n",
        "if date % 2 == 0 : \n",
        "    print('짝수번호 차량만 통행 가능합니다')\n",
        "    print('홀수번호 차주는 오늘 대중교통을 이용해주세요')\n",
        "else : \n",
        "    print('홀수번호 차량만 통행 가능합니다')\n",
        "    print('짝수번호 차주는 오늘 대중교통을 이용해주세요')"
      ],
      "execution_count": null,
      "outputs": [
        {
          "output_type": "stream",
          "text": [
            "오늘은 며칠입니까? 20\n",
            "짝수번호 차량만 통행 가능합니다\n",
            "홀수번호 차주는 오늘 대중교통을 이용해주세요\n"
          ],
          "name": "stdout"
        }
      ]
    },
    {
      "cell_type": "code",
      "metadata": {
        "colab": {
          "base_uri": "https://localhost:8080/"
        },
        "id": "3gQRsl7IIPQh",
        "outputId": "cd65bc51-ca43-4851-e5f2-ea47e2240877"
      },
      "source": [
        "# 무인 계산기 -1\n",
        "age = int(input('나이가 어떻게 되십니까? '))\n",
        "\n",
        "if age >= 20 : \n",
        "    print('성인은 15000원입니다.')\n",
        "    price = 15000\n",
        "else : \n",
        "    print('미성년자는 6000원입니다.')\n",
        "    price = 6000"
      ],
      "execution_count": null,
      "outputs": [
        {
          "output_type": "stream",
          "text": [
            "나이가 어떻게 되십니까? 25\n",
            "성인은 15000원입니다.\n"
          ],
          "name": "stdout"
        }
      ]
    },
    {
      "cell_type": "code",
      "metadata": {
        "colab": {
          "base_uri": "https://localhost:8080/"
        },
        "id": "7fDm5QGKIPS2",
        "outputId": "76beb120-08b7-466c-ea3e-bf1f8ecf8e8a"
      },
      "source": [
        "# 무인 계산기 -2\n",
        "# 1단계 - 나이 입력받아 입장료 결정하기\n",
        "age = int(input('나이가 어떻게 되십니까? '))\n",
        "\n",
        "if age >= 20 : \n",
        "    print('성인은 15000원입니다.')\n",
        "    price = 15000\n",
        "else : \n",
        "    print('미성년자는 6000원입니다.')\n",
        "    price = 6000\n",
        "\n",
        "# 2단계 - 투입금액을 입력받아 입장료와 비교하기\n",
        "price_input = int(input('금액을 투입해주세요. --> '))\n",
        "\n",
        "if price_input < price : \n",
        "    print(price-price_input,'원 더 내셔야 합니다.')\n",
        "else :\n",
        "    print(price_input-price,'원 거슬러 드리겠습니다.')"
      ],
      "execution_count": null,
      "outputs": [
        {
          "output_type": "stream",
          "text": [
            "나이가 어떻게 되십니까? 45\n",
            "성인은 15000원입니다.\n",
            "금액을 투입해주세요. --> 10000\n",
            "5000 원 더 내셔야 합니다.\n"
          ],
          "name": "stdout"
        }
      ]
    },
    {
      "cell_type": "markdown",
      "metadata": {
        "id": "Y5oMjJ7nMo5M"
      },
      "source": [
        "## 4.3  조건이 여러 개일 때: elif\n",
        "#### 4.3.1  조건이 3개일 때"
      ]
    },
    {
      "cell_type": "code",
      "metadata": {
        "colab": {
          "base_uri": "https://localhost:8080/"
        },
        "id": "Js3IPDbQIPU1",
        "outputId": "743bed24-9b19-4740-ccca-e6e3a6b227fc"
      },
      "source": [
        "# 무인 계산기 -3\n",
        "# 1단계 - 나이 입력받아 입장료 결정하기\n",
        "age = int(input('나이가 어떻게 되십니까? '))\n",
        "\n",
        "if age >= 20 : \n",
        "    print('성인은 15000원입니다.')\n",
        "    price = 15000\n",
        "else : \n",
        "    print('미성년자는 6000원입니다.')\n",
        "    price = 6000\n",
        "\n",
        "# 2단계 - 투입금액을 입력받아 입장료와 비교하기\n",
        "price_input = int(input('금액을 투입해주세요. --> '))\n",
        "\n",
        "\n",
        "if price_input < price : \n",
        "    print(price-price_input,'원 더 내셔야 합니다.')\n",
        "elif price_input == price :\n",
        "    print('감사합니다. 즐거운 시간 되세요!')\n",
        "else : \n",
        "    print(price_input-price,'원 거슬러 드리겠습니다.')"
      ],
      "execution_count": null,
      "outputs": [
        {
          "output_type": "stream",
          "text": [
            "나이가 어떻게 되십니까? 45\n",
            "성인은 15000원입니다.\n",
            "금액을 투입해주세요. --> 15000\n",
            "감사합니다. 즐거운 시간 되세요!\n"
          ],
          "name": "stdout"
        }
      ]
    },
    {
      "cell_type": "markdown",
      "metadata": {
        "id": "WYe6qk5iNBIJ"
      },
      "source": [
        "#### 4.3.3  elif로 간단한 프로그램 만들기"
      ]
    },
    {
      "cell_type": "code",
      "metadata": {
        "colab": {
          "base_uri": "https://localhost:8080/"
        },
        "id": "1uPqoAVRIPXA",
        "outputId": "003e4b66-f552-4db1-d50f-556c9ab64b53"
      },
      "source": [
        "# 무료배송\n",
        "price = int(input('구매금액은? '))\n",
        "\n",
        "if price < 20000 : \n",
        "    print('무료배송이 안 됩니다.')\n",
        "elif price < 50000 : \n",
        "    print('배송비 2500원이 추가됩니다.')\n",
        "    price += 2500\n",
        "else : \n",
        "    print('무료배송됩니다.')\n",
        "\n",
        "print('최종 결제금액은',price,'원입니다.')"
      ],
      "execution_count": null,
      "outputs": [
        {
          "output_type": "stream",
          "text": [
            "구매금액은? 20000\n",
            "배송비 2500원이 추가됩니다.\n",
            "최종 결제금액은 22500 원입니다.\n"
          ],
          "name": "stdout"
        }
      ]
    },
    {
      "cell_type": "code",
      "metadata": {
        "colab": {
          "base_uri": "https://localhost:8080/"
        },
        "id": "lDa5a3ifIPZQ",
        "outputId": "a5058b3f-d062-4988-92ed-112ceb45c2b5"
      },
      "source": [
        "# 차량 2부제 수정하기\n",
        "print('미세먼지 절감 조치에 따른 차량 이부제를 시행합니다!')\n",
        "\n",
        "date = int(input('오늘은 며칠입니까? '))\n",
        "\n",
        "if date > 31 : \n",
        "    print('올바른 날짜를 입력하세요.')\n",
        "elif date % 2 == 0 : \n",
        "    print('짝수번호 차량만 통행 가능합니다')\n",
        "    print('홀수번호 차주는 오늘 대중교통을 이용해주세요')\n",
        "else : \n",
        "    print('홀수번호 차량만 통행 가능합니다')\n",
        "    print('짝수번호 차주는 오늘 대중교통을 이용해주세요')\n",
        "    "
      ],
      "execution_count": null,
      "outputs": [
        {
          "output_type": "stream",
          "text": [
            "미세먼지 절감 조치에 따른 차량 이부제를 시행합니다!\n",
            "오늘은 며칠입니까? 45\n",
            "올바른 날짜를 입력하세요.\n"
          ],
          "name": "stdout"
        }
      ]
    },
    {
      "cell_type": "code",
      "metadata": {
        "colab": {
          "base_uri": "https://localhost:8080/"
        },
        "id": "rOjuWsalIPbm",
        "outputId": "a48393f6-9fb6-4e7b-961e-8e4f5842569a"
      },
      "source": [
        "# 1분퀴즈 3\n",
        "gender = input('성별을 입력해주세요. ')\n",
        "if gender == '남성' : \n",
        "    print('<-- 남성전용탕은 왼쪽입니다.')\n",
        "elif gender == '여성' : \n",
        "    print('여성전용탕은 오른쪽입니다. -->')\n",
        "else : \n",
        "    print('성별을 다시 입력해주세요')    "
      ],
      "execution_count": null,
      "outputs": [
        {
          "output_type": "stream",
          "text": [
            "성별을 입력해주세요. 여성\n",
            "여성전용탕은 오른쪽입니다. -->\n"
          ],
          "name": "stdout"
        }
      ]
    },
    {
      "cell_type": "markdown",
      "metadata": {
        "id": "D1tuCj47OpxN"
      },
      "source": [
        "## 4.4  조건문 겹쳐 사용하기\n",
        "#### 4.4.1  조건문 안의 조건문"
      ]
    },
    {
      "cell_type": "code",
      "metadata": {
        "colab": {
          "base_uri": "https://localhost:8080/"
        },
        "id": "vh_VEPdyOpY_",
        "outputId": "6a401be4-bf79-45f5-d2fc-335aee5cc69c"
      },
      "source": [
        "print('미세먼지 절감 조치에 따른 차량 이부제를 시행합니다!')\n",
        "\n",
        "date = int(input('오늘은 며칠입니까? '))\n",
        "\n",
        "if date <= 31 : \n",
        "    if date % 2 == 1 : \n",
        "        print('홀수번호 차량만 통행 가능합니다')\n",
        "        print('짝수번호 차주는 오늘 대중교통을 이용해주세요')\n",
        "    else : \n",
        "        print('짝수번호 차량만 통행 가능합니다')\n",
        "        print('홀수번호 차주는 오늘 대중교통을 이용해주세요')\n",
        "else : \n",
        "    print('올바른 날짜를 입력해주세요!')"
      ],
      "execution_count": null,
      "outputs": [
        {
          "output_type": "stream",
          "text": [
            "미세먼지 절감 조치에 따른 차량 이부제를 시행합니다!\n",
            "오늘은 며칠입니까? 20\n",
            "짝수번호 차량만 통행 가능합니다\n",
            "홀수번호 차주는 오늘 대중교통을 이용해주세요\n"
          ],
          "name": "stdout"
        }
      ]
    },
    {
      "cell_type": "markdown",
      "metadata": {
        "id": "vsA0VRHyPIzu"
      },
      "source": [
        "#### 4.4.2  여러 조건을 동시에 판단하는 and와 or"
      ]
    },
    {
      "cell_type": "code",
      "metadata": {
        "colab": {
          "base_uri": "https://localhost:8080/"
        },
        "id": "FdNDIttwIPeK",
        "outputId": "8a191115-0363-4759-cdf4-9b71173d6200"
      },
      "source": [
        "consumption = int(input('구매금액은? '))\n",
        "marketing_yn = input('마케팅 이용약관에 동의했습니까? (Y/N)')\n",
        "\n",
        "if consumption >= 100000 and marketing_yn == 'Y' : \n",
        "    print('사은품 지급 대상입니다.')\n",
        "else :\n",
        "    print('사은품 지급 대상이 아닙니다.')"
      ],
      "execution_count": null,
      "outputs": [
        {
          "output_type": "stream",
          "text": [
            "구매금액은? 120000\n",
            "마케팅 이용약관에 동의했습니까? (Y/N)Y\n",
            "사은품 지급 대상입니다.\n"
          ],
          "name": "stdout"
        }
      ]
    },
    {
      "cell_type": "code",
      "metadata": {
        "colab": {
          "base_uri": "https://localhost:8080/"
        },
        "id": "KVIGUSxaIPfp",
        "outputId": "b00536ca-7641-4edf-b0dd-bce1a5a72929"
      },
      "source": [
        "consumption = int(input('구매금액은? '))\n",
        "marketing_yn = input('마케팅 이용약관에 동의했습니까? (Y/N)')\n",
        "\n",
        "if consumption >= 100000 or marketing_yn == 'Y' : \n",
        "    print('무료주차 대상입니다.')\n",
        "else :\n",
        "    print('무료주차 대상이 아닙니다.')"
      ],
      "execution_count": null,
      "outputs": [
        {
          "output_type": "stream",
          "text": [
            "구매금액은? 5000\n",
            "마케팅 이용약관에 동의했습니까? (Y/N)Y\n",
            "무료주차 대상입니다.\n"
          ],
          "name": "stdout"
        }
      ]
    },
    {
      "cell_type": "code",
      "metadata": {
        "colab": {
          "base_uri": "https://localhost:8080/"
        },
        "id": "X1ho9hz_IPtP",
        "outputId": "41a9d393-78dc-4f21-bd35-c85648a660aa"
      },
      "source": [
        "# 1분퀴즈 4\n",
        "a = int(input('숫자 입력 : '))\n",
        "if a > 50 :\n",
        "    if a % 3 == 0 : \n",
        "        print('A')\n",
        "    elif a % 3 == 1 : \n",
        "        print('B')\n",
        "    else : \n",
        "        print('C')\n",
        "else : \n",
        "    if a % 2 == 0 : \n",
        "        print('D')\n",
        "    else : \n",
        "        print('E')"
      ],
      "execution_count": null,
      "outputs": [
        {
          "output_type": "stream",
          "text": [
            "숫자 입력 : 51\n",
            "A\n"
          ],
          "name": "stdout"
        }
      ]
    }
  ]
}