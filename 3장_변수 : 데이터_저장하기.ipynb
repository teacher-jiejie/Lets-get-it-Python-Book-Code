{
  "nbformat": 4,
  "nbformat_minor": 0,
  "metadata": {
    "colab": {
      "name": "3장 - 변수 : 데이터 저장하기.ipynb",
      "provenance": [],
      "collapsed_sections": [],
      "authorship_tag": "ABX9TyNKzBUFdgQckxeUaNw5wapE",
      "include_colab_link": true
    },
    "kernelspec": {
      "name": "python3",
      "display_name": "Python 3"
    },
    "language_info": {
      "name": "python"
    }
  },
  "cells": [
    {
      "cell_type": "markdown",
      "metadata": {
        "id": "view-in-github",
        "colab_type": "text"
      },
      "source": [
        "<a href=\"https://colab.research.google.com/github/teacher-jiejie/Lets-get-it-Python-Book-Code/blob/main/3%EC%9E%A5_%EB%B3%80%EC%88%98%20%3A%20%EB%8D%B0%EC%9D%B4%ED%84%B0_%EC%A0%80%EC%9E%A5%ED%95%98%EA%B8%B0.ipynb\" target=\"_parent\"><img src=\"https://colab.research.google.com/assets/colab-badge.svg\" alt=\"Open In Colab\"/></a>"
      ]
    },
    {
      "cell_type": "markdown",
      "metadata": {
        "id": "V98vMmFgspUc"
      },
      "source": [
        "## 3.1  데이터를 저장하는 공간: 변수\n",
        "#### 3.1.1  변수란"
      ]
    },
    {
      "cell_type": "code",
      "metadata": {
        "id": "OzBNi2JfsmsN"
      },
      "source": [
        "a = 10"
      ],
      "execution_count": null,
      "outputs": []
    },
    {
      "cell_type": "code",
      "metadata": {
        "colab": {
          "base_uri": "https://localhost:8080/"
        },
        "id": "W64bICjcssN5",
        "outputId": "972c8cca-4e2e-4963-c366-37e3d55e9ce1"
      },
      "source": [
        "a = 10\n",
        "print(a)"
      ],
      "execution_count": null,
      "outputs": [
        {
          "output_type": "stream",
          "text": [
            "10\n"
          ],
          "name": "stdout"
        }
      ]
    },
    {
      "cell_type": "markdown",
      "metadata": {
        "id": "ynNEv-_9szld"
      },
      "source": [
        "#### 3.1.2  변수에 값을 저장하고 사용하기"
      ]
    },
    {
      "cell_type": "code",
      "metadata": {
        "colab": {
          "base_uri": "https://localhost:8080/"
        },
        "id": "lZpxA83esy1q",
        "outputId": "30764f52-d965-4726-904f-16549c66d0a3"
      },
      "source": [
        "a = 10\n",
        "print('a')\n",
        "print(a)"
      ],
      "execution_count": null,
      "outputs": [
        {
          "output_type": "stream",
          "text": [
            "a\n",
            "10\n"
          ],
          "name": "stdout"
        }
      ]
    },
    {
      "cell_type": "code",
      "metadata": {
        "colab": {
          "base_uri": "https://localhost:8080/",
          "height": 169
        },
        "id": "K1-1UsAhtIfz",
        "outputId": "3ea4ca1d-81fa-42d7-afca-7c8d3e2080d3"
      },
      "source": [
        "print(가나다)"
      ],
      "execution_count": null,
      "outputs": [
        {
          "output_type": "error",
          "ename": "NameError",
          "evalue": "ignored",
          "traceback": [
            "\u001b[0;31m---------------------------------------------------------------------------\u001b[0m",
            "\u001b[0;31mNameError\u001b[0m                                 Traceback (most recent call last)",
            "\u001b[0;32m<ipython-input-4-a9a49ff8dd7c>\u001b[0m in \u001b[0;36m<module>\u001b[0;34m()\u001b[0m\n\u001b[0;32m----> 1\u001b[0;31m \u001b[0mprint\u001b[0m\u001b[0;34m(\u001b[0m\u001b[0m가나다\u001b[0m\u001b[0;34m)\u001b[0m\u001b[0;34m\u001b[0m\u001b[0;34m\u001b[0m\u001b[0m\n\u001b[0m",
            "\u001b[0;31mNameError\u001b[0m: name '가나다' is not defined"
          ]
        }
      ]
    },
    {
      "cell_type": "code",
      "metadata": {
        "colab": {
          "base_uri": "https://localhost:8080/"
        },
        "id": "1D7Pb-QotJhV",
        "outputId": "d8b1a65e-def0-473a-995f-4b4cd041829d"
      },
      "source": [
        "b = '학생'\n",
        "print(b)"
      ],
      "execution_count": null,
      "outputs": [
        {
          "output_type": "stream",
          "text": [
            "학생\n"
          ],
          "name": "stdout"
        }
      ]
    },
    {
      "cell_type": "code",
      "metadata": {
        "colab": {
          "base_uri": "https://localhost:8080/"
        },
        "id": "QbM5ULyGtMij",
        "outputId": "a1d23d06-8ab7-40f6-d2ff-88831a9de33c"
      },
      "source": [
        "b = '학생'\n",
        "c = '고등'\n",
        "print(b + c)"
      ],
      "execution_count": null,
      "outputs": [
        {
          "output_type": "stream",
          "text": [
            "학생고등\n"
          ],
          "name": "stdout"
        }
      ]
    },
    {
      "cell_type": "code",
      "metadata": {
        "colab": {
          "base_uri": "https://localhost:8080/"
        },
        "id": "zg0d28RZtPvj",
        "outputId": "c2b87f76-7579-4fb5-e67b-3f5d22f4178b"
      },
      "source": [
        "b = '학생'\n",
        "c = '고등'\n",
        "print(b + c)\n",
        "c = '대'\n",
        "print(c + b)"
      ],
      "execution_count": null,
      "outputs": [
        {
          "output_type": "stream",
          "text": [
            "학생고등\n",
            "대학생\n"
          ],
          "name": "stdout"
        }
      ]
    },
    {
      "cell_type": "code",
      "metadata": {
        "colab": {
          "base_uri": "https://localhost:8080/"
        },
        "id": "8EjslrCntTbT",
        "outputId": "4d09f1d4-d827-4178-a3d1-b8fcac17e7cc"
      },
      "source": [
        "name = '유리'\n",
        "height = 175.5\n",
        "age = 21\n",
        "hobby = 'programming'\n",
        "print(name, height, age, hobby)"
      ],
      "execution_count": null,
      "outputs": [
        {
          "output_type": "stream",
          "text": [
            "유리 175.5 21 programming\n"
          ],
          "name": "stdout"
        }
      ]
    },
    {
      "cell_type": "code",
      "metadata": {
        "colab": {
          "base_uri": "https://localhost:8080/"
        },
        "id": "3iQ6ck3Ctq9U",
        "outputId": "db038081-4d35-4a02-8c04-159a48824e91"
      },
      "source": [
        "name = '유리'\n",
        "height = 175.5\n",
        "age = 21\n",
        "hobby = 'programming'\n",
        "print(name, '키는', height, ', 나이는', age, ', 취미는', hobby, '입니다!')"
      ],
      "execution_count": null,
      "outputs": [
        {
          "output_type": "stream",
          "text": [
            "유리 키는 175.5 , 나이는 21 , 취미는 programming 입니다!\n"
          ],
          "name": "stdout"
        }
      ]
    },
    {
      "cell_type": "code",
      "metadata": {
        "colab": {
          "base_uri": "https://localhost:8080/"
        },
        "id": "pni6m5aSt5Oh",
        "outputId": "c5e0ccfa-162b-4233-c722-e6b55a246fd1"
      },
      "source": [
        "name = '유리'\n",
        "height = 175.5\n",
        "age = 21\n",
        "hobby = 'programming'\n",
        "print(name, '키는', height, ', 나이는', age, ', 취미는', hobby, '입니다!')\n",
        "\n",
        "name = '제임스'\n",
        "height = 186\n",
        "age = 24\n",
        "hobby = '요리하기'\n",
        "print(name, '키는', height, ', 나이는', age, ', 취미는', hobby, '입니다!')"
      ],
      "execution_count": null,
      "outputs": [
        {
          "output_type": "stream",
          "text": [
            "유리 키는 175.5 , 나이는 21 , 취미는 programming 입니다!\n",
            "제임스 키는 186 , 나이는 24 , 취미는 요리하기 입니다!\n"
          ],
          "name": "stdout"
        }
      ]
    },
    {
      "cell_type": "code",
      "metadata": {
        "colab": {
          "base_uri": "https://localhost:8080/"
        },
        "id": "fWb2vBtr5ZVE",
        "outputId": "705ff51b-f1f9-4a03-e72a-58af80e1066e"
      },
      "source": [
        "name = '유리'\n",
        "height = 175.5\n",
        "age = 21\n",
        "hobby = 'programming'\n",
        "print(name, '키는', height, ', 나이는', age, ', 취미는', hobby, '입니다!')\n",
        "print('{} 키는 {}, 나이는 {}, 취미는 {}입니다.'.format(name, height, age, hobby))"
      ],
      "execution_count": null,
      "outputs": [
        {
          "output_type": "stream",
          "text": [
            "유리 키는 175.5 , 나이는 21 , 취미는 programming 입니다!\n",
            "유리 키는 175.5, 나이는 21, 취미는 programming입니다.\n"
          ],
          "name": "stdout"
        }
      ]
    },
    {
      "cell_type": "code",
      "metadata": {
        "colab": {
          "base_uri": "https://localhost:8080/"
        },
        "id": "-tJ7tRhl5k9v",
        "outputId": "81a5ca78-72de-4590-e1e1-894576171932"
      },
      "source": [
        "p = 3.141592\n",
        "r = 5\n",
        "print('원의 넓이 =', p * r ** 2)"
      ],
      "execution_count": null,
      "outputs": [
        {
          "output_type": "stream",
          "text": [
            "원의 넓이 = 78.5398\n"
          ],
          "name": "stdout"
        }
      ]
    },
    {
      "cell_type": "code",
      "metadata": {
        "colab": {
          "base_uri": "https://localhost:8080/"
        },
        "id": "pBnRBasu5zEw",
        "outputId": "56a8568d-2e75-4ab6-d672-17854afe473a"
      },
      "source": [
        "p = 3.141592\n",
        "r = 5\n",
        "result = p * r ** 2\n",
        "print('원의 넓이 =', result)"
      ],
      "execution_count": null,
      "outputs": [
        {
          "output_type": "stream",
          "text": [
            "원의 넓이 = 78.5398\n"
          ],
          "name": "stdout"
        }
      ]
    },
    {
      "cell_type": "markdown",
      "metadata": {
        "id": "DvZq_Ag6CRBw"
      },
      "source": [
        "#### 3.1.3  변수를 사용하는 이유"
      ]
    },
    {
      "cell_type": "code",
      "metadata": {
        "colab": {
          "base_uri": "https://localhost:8080/"
        },
        "id": "GVou0n6-52yH",
        "outputId": "cc28bdcb-bb3f-4105-aae4-e5d27e7b1408"
      },
      "source": [
        "p = 3.141592\n",
        "r = 5\n",
        "\n",
        "# 원의 넓이\n",
        "result1 = p * r ** 2\n",
        "print('원의 넓이 =', result1)\n",
        "\n",
        "# 원의 둘레\n",
        "result2 = 2 * p * r\n",
        "print('원의 둘레 =', result2)\n",
        "\n",
        "# 구의 겉넓이\n",
        "result3 = 4 * p * r **2\n",
        "print('구의 겉넓이 =', result3)"
      ],
      "execution_count": null,
      "outputs": [
        {
          "output_type": "stream",
          "text": [
            "원의 넓이 = 78.5398\n",
            "원의 둘레 = 31.41592\n",
            "구의 겉넓이 = 314.1592\n"
          ],
          "name": "stdout"
        }
      ]
    },
    {
      "cell_type": "code",
      "metadata": {
        "colab": {
          "base_uri": "https://localhost:8080/",
          "height": 257
        },
        "id": "oVtfzmsc75wJ",
        "outputId": "8ef57f1e-4e84-45c8-a288-a10fc7336915"
      },
      "source": [
        "p = 3.141592\n",
        "r = input('반지름은? ')\n",
        "\n",
        "#원의 넓이\n",
        "result1 = p * r ** 2\n",
        "\n",
        "#원의 둘레\n",
        "result2 = 2 * p * r\n",
        "\n",
        "#구의 넓이\n",
        "result3 = 4 * p * r ** 2\n",
        "\n",
        "print('원의 넓이 =',result1,'원의 둘레 =',result2,'구의 겉넓이 =',result3)\n"
      ],
      "execution_count": null,
      "outputs": [
        {
          "output_type": "stream",
          "text": [
            "반지름은? 999\n"
          ],
          "name": "stdout"
        },
        {
          "output_type": "error",
          "ename": "TypeError",
          "evalue": "ignored",
          "traceback": [
            "\u001b[0;31m---------------------------------------------------------------------------\u001b[0m",
            "\u001b[0;31mTypeError\u001b[0m                                 Traceback (most recent call last)",
            "\u001b[0;32m<ipython-input-17-81b48ff7516a>\u001b[0m in \u001b[0;36m<module>\u001b[0;34m()\u001b[0m\n\u001b[1;32m      3\u001b[0m \u001b[0;34m\u001b[0m\u001b[0m\n\u001b[1;32m      4\u001b[0m \u001b[0;31m#원의 넓이\u001b[0m\u001b[0;34m\u001b[0m\u001b[0;34m\u001b[0m\u001b[0;34m\u001b[0m\u001b[0m\n\u001b[0;32m----> 5\u001b[0;31m \u001b[0mresult1\u001b[0m \u001b[0;34m=\u001b[0m \u001b[0mp\u001b[0m \u001b[0;34m*\u001b[0m \u001b[0mr\u001b[0m \u001b[0;34m**\u001b[0m \u001b[0;36m2\u001b[0m\u001b[0;34m\u001b[0m\u001b[0;34m\u001b[0m\u001b[0m\n\u001b[0m\u001b[1;32m      6\u001b[0m \u001b[0;34m\u001b[0m\u001b[0m\n\u001b[1;32m      7\u001b[0m \u001b[0;31m#원의 둘레\u001b[0m\u001b[0;34m\u001b[0m\u001b[0;34m\u001b[0m\u001b[0;34m\u001b[0m\u001b[0m\n",
            "\u001b[0;31mTypeError\u001b[0m: unsupported operand type(s) for ** or pow(): 'str' and 'int'"
          ]
        }
      ]
    },
    {
      "cell_type": "code",
      "metadata": {
        "colab": {
          "base_uri": "https://localhost:8080/"
        },
        "id": "49ti255z6PqH",
        "outputId": "bdd40c26-ebce-4e20-ceba-da6e4faf1483"
      },
      "source": [
        "p = 3.141592\n",
        "r = int(input('반지름은? '))\n",
        "\n",
        "#원의 넓이\n",
        "result1 = p * r ** 2\n",
        "\n",
        "#원의 둘레\n",
        "result2 = 2 * p * r\n",
        "\n",
        "#구의 넓이\n",
        "result3 = 4 * p * r ** 2\n",
        "\n",
        "print('원의 넓이 =',result1,'원의 둘레 =',result2,'구의 겉넓이 =',result3)\n"
      ],
      "execution_count": null,
      "outputs": [
        {
          "output_type": "stream",
          "text": [
            "반지름은? 999\n",
            "원의 넓이 = 3135311.9575920003 원의 둘레 = 6276.900816 구의 겉넓이 = 12541247.830368001\n"
          ],
          "name": "stdout"
        }
      ]
    },
    {
      "cell_type": "markdown",
      "metadata": {
        "id": "ipnMU-yzCtWG"
      },
      "source": [
        "#### 3.1.4  변수를 사용할 때 유의할 점"
      ]
    },
    {
      "cell_type": "code",
      "metadata": {
        "colab": {
          "base_uri": "https://localhost:8080/"
        },
        "id": "q59S5d9zCw3f",
        "outputId": "28ada851-8721-4893-8d4f-93ab63591a1e"
      },
      "source": [
        "p = 3.141592\n",
        "r = int(input('반지름은? '))\n",
        "\n",
        "c_area = p * r ** 2\n",
        "c_len = 2 * p * r\n",
        "s_area = 4 * p * r\n",
        "\n",
        "print('원의 넓이 =', c_area, '원의 둘레', c_len, '구의 겉넓이 =', s_area)"
      ],
      "execution_count": null,
      "outputs": [
        {
          "output_type": "stream",
          "text": [
            "반지름은? 999\n",
            "원의 넓이 = 3135311.9575920003 원의 둘레 6276.900816 구의 겉넓이 = 12553.801632\n"
          ],
          "name": "stdout"
        }
      ]
    },
    {
      "cell_type": "markdown",
      "metadata": {
        "id": "ct94S2pTC3oS"
      },
      "source": [
        "#### 3.1.5  변수를 사용해 간단한 프로그램 만들기 1"
      ]
    },
    {
      "cell_type": "code",
      "metadata": {
        "colab": {
          "base_uri": "https://localhost:8080/"
        },
        "id": "CUguaYNUCxRP",
        "outputId": "b7077610-d2d3-4a70-d322-350ef172c171"
      },
      "source": [
        "# 1. 자기소개 프로그램\n",
        "name = input('이름 : ')\n",
        "age = input('나이 : ')\n",
        "feature = input('특징 : ')\n",
        "\n",
        "print(name + '(' + age + ')', feature)\n",
        "print(feature + '인', name)"
      ],
      "execution_count": null,
      "outputs": [
        {
          "output_type": "stream",
          "text": [
            "이름 : 고라니\n",
            "나이 : 4\n",
            "특징 : 애교가 많은 편\n",
            "고라니(4) 애교가 많은 편\n",
            "애교가 많은 편인 고라니\n"
          ],
          "name": "stdout"
        }
      ]
    },
    {
      "cell_type": "code",
      "metadata": {
        "colab": {
          "base_uri": "https://localhost:8080/"
        },
        "id": "raEtcYSQC7Br",
        "outputId": "989da77e-afbd-4d61-8cd6-9accd8df4738"
      },
      "source": [
        "# 2. 농구선수의 키\n",
        "year = 2017\n",
        "height = 175\n",
        "print(year, '년 -', height, 'cm')"
      ],
      "execution_count": null,
      "outputs": [
        {
          "output_type": "stream",
          "text": [
            "2017 년 - 175 cm\n"
          ],
          "name": "stdout"
        }
      ]
    },
    {
      "cell_type": "code",
      "metadata": {
        "colab": {
          "base_uri": "https://localhost:8080/"
        },
        "id": "7uLzAHcQC7EN",
        "outputId": "8a891803-704e-4216-db5b-404291afb0a2"
      },
      "source": [
        "year = 2017\n",
        "height = 175\n",
        "print(year, '년 -', height, 'cm')\n",
        "\n",
        "year = year + 1\n",
        "height = height + 1\n",
        "print(year, '년 -', height, 'cm')"
      ],
      "execution_count": null,
      "outputs": [
        {
          "output_type": "stream",
          "text": [
            "2017 년 - 175 cm\n",
            "2018 년 - 176 cm\n"
          ],
          "name": "stdout"
        }
      ]
    },
    {
      "cell_type": "code",
      "metadata": {
        "colab": {
          "base_uri": "https://localhost:8080/"
        },
        "id": "v1fBgebpC7GN",
        "outputId": "5592ed57-2a66-4b38-e526-5f69ccefa24b"
      },
      "source": [
        "year = 2017\n",
        "height = 175\n",
        "print(year, '년 -', height, 'cm')\n",
        "\n",
        "year = year + 1\n",
        "height = height + 1\n",
        "print(year, '년 -', height, 'cm')\n",
        "\n",
        "year = year + 1\n",
        "height = height + 1\n",
        "print(year, '년 -', height, 'cm')\n",
        "\n",
        "year = year + 1\n",
        "height = height + 1\n",
        "print(year, '년 -', height, 'cm')"
      ],
      "execution_count": null,
      "outputs": [
        {
          "output_type": "stream",
          "text": [
            "2017 년 - 175 cm\n",
            "2018 년 - 176 cm\n",
            "2019 년 - 177 cm\n",
            "2020 년 - 178 cm\n"
          ],
          "name": "stdout"
        }
      ]
    },
    {
      "cell_type": "code",
      "metadata": {
        "colab": {
          "base_uri": "https://localhost:8080/"
        },
        "id": "f2AA_EEVC7Ic",
        "outputId": "ecc34847-7adc-48c6-d674-5262c613380e"
      },
      "source": [
        "year = 2017\n",
        "height = 175\n",
        "print(year, '년 -', height, 'cm')\n",
        "\n",
        "year += 1\n",
        "height += 10\n",
        "print(year, '년 -', height, 'cm')\n",
        "\n",
        "year += 1\n",
        "height += 10\n",
        "print(year, '년 -', height, 'cm')\n",
        "\n",
        "year += 1\n",
        "height += 10\n",
        "print(year, '년 -', height, 'cm')"
      ],
      "execution_count": null,
      "outputs": [
        {
          "output_type": "stream",
          "text": [
            "2017 년 - 175 cm\n",
            "2018 년 - 185 cm\n",
            "2019 년 - 195 cm\n",
            "2020 년 - 205 cm\n"
          ],
          "name": "stdout"
        }
      ]
    },
    {
      "cell_type": "markdown",
      "metadata": {
        "id": "UBJl62KjC7Tf"
      },
      "source": [
        "## 3.2  변수에 저장되는 데이터의 유형: 데이터 타입\n",
        "#### 3.2.1  데이터 타입이란"
      ]
    },
    {
      "cell_type": "code",
      "metadata": {
        "colab": {
          "base_uri": "https://localhost:8080/"
        },
        "id": "x1ZZbSf6CxT4",
        "outputId": "b4f07f9e-d8db-4c07-fbb0-6692ce9d024c"
      },
      "source": [
        "year = 2016\n",
        "print(type(year))"
      ],
      "execution_count": null,
      "outputs": [
        {
          "output_type": "stream",
          "text": [
            "<class 'int'>\n"
          ],
          "name": "stdout"
        }
      ]
    },
    {
      "cell_type": "code",
      "metadata": {
        "colab": {
          "base_uri": "https://localhost:8080/"
        },
        "id": "JnEZEmVrCxWK",
        "outputId": "117a20d5-0b6b-45ff-e076-0df301d64187"
      },
      "source": [
        "height = 175.5\n",
        "print(type(height))"
      ],
      "execution_count": null,
      "outputs": [
        {
          "output_type": "stream",
          "text": [
            "<class 'float'>\n"
          ],
          "name": "stdout"
        }
      ]
    },
    {
      "cell_type": "code",
      "metadata": {
        "colab": {
          "base_uri": "https://localhost:8080/"
        },
        "id": "ZDg63D6qD-Tt",
        "outputId": "a748a046-2f78-43df-89e0-7df7bcc72a94"
      },
      "source": [
        "name = '제임스'\n",
        "print(type(name))"
      ],
      "execution_count": null,
      "outputs": [
        {
          "output_type": "stream",
          "text": [
            "<class 'str'>\n"
          ],
          "name": "stdout"
        }
      ]
    },
    {
      "cell_type": "markdown",
      "metadata": {
        "id": "qugqIAjDEGH6"
      },
      "source": [
        "#### 3.2.2  초보자가 겪는 흔한 오류"
      ]
    },
    {
      "cell_type": "code",
      "metadata": {
        "colab": {
          "base_uri": "https://localhost:8080/"
        },
        "id": "LU6b4SMTD-Vu",
        "outputId": "55562778-3685-4bec-f212-aa24ca953404"
      },
      "source": [
        "a = input()\n",
        "print(type(a))"
      ],
      "execution_count": null,
      "outputs": [
        {
          "output_type": "stream",
          "text": [
            "안녕하세요\n",
            "<class 'str'>\n"
          ],
          "name": "stdout"
        }
      ]
    },
    {
      "cell_type": "code",
      "metadata": {
        "colab": {
          "base_uri": "https://localhost:8080/"
        },
        "id": "qlYG0YA3D-Xx",
        "outputId": "8dee5d6a-3c5d-4fde-dae0-9ce5214ee840"
      },
      "source": [
        "a = input()\n",
        "print(type(a))"
      ],
      "execution_count": null,
      "outputs": [
        {
          "output_type": "stream",
          "text": [
            "999\n",
            "<class 'str'>\n"
          ],
          "name": "stdout"
        }
      ]
    },
    {
      "cell_type": "markdown",
      "metadata": {
        "id": "anzGM8L2EVZQ"
      },
      "source": [
        "#### 3.2.3  데이터 타입 바꾸기"
      ]
    },
    {
      "cell_type": "code",
      "metadata": {
        "colab": {
          "base_uri": "https://localhost:8080/"
        },
        "id": "M1zgt3DFD-Zz",
        "outputId": "f57879ab-5877-44cf-c29c-49bc51becabc"
      },
      "source": [
        "score = 79\n",
        "print(type(score), score)\n",
        "\n",
        "#실수형으로 데이터타입 바꾸기\n",
        "score = float( score )\n",
        "print(type(score), score)"
      ],
      "execution_count": null,
      "outputs": [
        {
          "output_type": "stream",
          "text": [
            "<class 'int'> 79\n",
            "<class 'float'> 79.0\n"
          ],
          "name": "stdout"
        }
      ]
    },
    {
      "cell_type": "code",
      "metadata": {
        "colab": {
          "base_uri": "https://localhost:8080/"
        },
        "id": "AzEutkkZEU7i",
        "outputId": "9dff6418-df81-4e99-f122-90e9357ceaac"
      },
      "source": [
        "avg = 84.9\n",
        "print(type(avg), avg)\n",
        "\n",
        "#정수형으로 데이터타입 바꾸기\n",
        "avg = int( avg )\n",
        "print(type(avg), avg)"
      ],
      "execution_count": null,
      "outputs": [
        {
          "output_type": "stream",
          "text": [
            "<class 'float'> 84.9\n",
            "<class 'int'> 84\n"
          ],
          "name": "stdout"
        }
      ]
    },
    {
      "cell_type": "code",
      "metadata": {
        "colab": {
          "base_uri": "https://localhost:8080/"
        },
        "id": "3ifaOhE8EU9h",
        "outputId": "d4a8fb2f-9bb3-4d44-bd93-764158224b73"
      },
      "source": [
        "x = 32\n",
        "y = 32.9\n",
        "\n",
        "x = str(x)\n",
        "y = str(y)\n",
        "\n",
        "print(type(x), type(y))\n",
        "print(x+y)"
      ],
      "execution_count": null,
      "outputs": [
        {
          "output_type": "stream",
          "text": [
            "<class 'str'> <class 'str'>\n",
            "3232.9\n"
          ],
          "name": "stdout"
        }
      ]
    },
    {
      "cell_type": "code",
      "metadata": {
        "colab": {
          "base_uri": "https://localhost:8080/"
        },
        "id": "bccR0NboEU_m",
        "outputId": "6fadd00c-d4f0-431b-e1a6-033771b7f422"
      },
      "source": [
        "a = '30'\n",
        "print(type(a))\n",
        "\n",
        "a = int(a)\n",
        "print(type(a), a * 3)"
      ],
      "execution_count": null,
      "outputs": [
        {
          "output_type": "stream",
          "text": [
            "<class 'str'>\n",
            "<class 'int'> 90\n"
          ],
          "name": "stdout"
        }
      ]
    },
    {
      "cell_type": "code",
      "metadata": {
        "colab": {
          "base_uri": "https://localhost:8080/",
          "height": 239
        },
        "id": "8rAlUq-FEVCI",
        "outputId": "a7c78c07-7ec2-4cfc-f275-7f69068ff203"
      },
      "source": [
        "a = '제임스'\n",
        "print(type(a))\n",
        "\n",
        "a = int(a)\n",
        "print(type(a), a*3)"
      ],
      "execution_count": null,
      "outputs": [
        {
          "output_type": "stream",
          "text": [
            "<class 'str'>\n"
          ],
          "name": "stdout"
        },
        {
          "output_type": "error",
          "ename": "ValueError",
          "evalue": "ignored",
          "traceback": [
            "\u001b[0;31m---------------------------------------------------------------------------\u001b[0m",
            "\u001b[0;31mValueError\u001b[0m                                Traceback (most recent call last)",
            "\u001b[0;32m<ipython-input-41-70b3cc2e93d4>\u001b[0m in \u001b[0;36m<module>\u001b[0;34m()\u001b[0m\n\u001b[1;32m      2\u001b[0m \u001b[0mprint\u001b[0m\u001b[0;34m(\u001b[0m\u001b[0mtype\u001b[0m\u001b[0;34m(\u001b[0m\u001b[0ma\u001b[0m\u001b[0;34m)\u001b[0m\u001b[0;34m)\u001b[0m\u001b[0;34m\u001b[0m\u001b[0;34m\u001b[0m\u001b[0m\n\u001b[1;32m      3\u001b[0m \u001b[0;34m\u001b[0m\u001b[0m\n\u001b[0;32m----> 4\u001b[0;31m \u001b[0ma\u001b[0m \u001b[0;34m=\u001b[0m \u001b[0mint\u001b[0m\u001b[0;34m(\u001b[0m\u001b[0ma\u001b[0m\u001b[0;34m)\u001b[0m\u001b[0;34m\u001b[0m\u001b[0;34m\u001b[0m\u001b[0m\n\u001b[0m\u001b[1;32m      5\u001b[0m \u001b[0mprint\u001b[0m\u001b[0;34m(\u001b[0m\u001b[0mtype\u001b[0m\u001b[0;34m(\u001b[0m\u001b[0ma\u001b[0m\u001b[0;34m)\u001b[0m\u001b[0;34m,\u001b[0m \u001b[0ma\u001b[0m\u001b[0;34m*\u001b[0m\u001b[0;36m3\u001b[0m\u001b[0;34m)\u001b[0m\u001b[0;34m\u001b[0m\u001b[0;34m\u001b[0m\u001b[0m\n",
            "\u001b[0;31mValueError\u001b[0m: invalid literal for int() with base 10: '제임스'"
          ]
        }
      ]
    },
    {
      "cell_type": "markdown",
      "metadata": {
        "id": "P4a4F32fEtvF"
      },
      "source": [
        "#### 3.2.4  변수를 사용해 간단한 프로그램 만들기 2"
      ]
    },
    {
      "cell_type": "code",
      "metadata": {
        "colab": {
          "base_uri": "https://localhost:8080/"
        },
        "id": "h9hSnaiiEVEL",
        "outputId": "eabe83f8-9ed8-4be1-860f-072c014f125f"
      },
      "source": [
        "# 1번. 마트에서 과자, 라면, 햄 구매하기\n",
        "s_cnt = int(input('과자 몇 개를 구매하시겠습니까? '))\n",
        "r_cnt = int(input('라면 몇 개를 구매하시겠습니까? '))\n",
        "h_cnt = int(input('햄 몇 개를 구매하시겠습니까? '))\n",
        "\n",
        "price = 1200*s_cnt + 800*r_cnt + 2400*h_cnt\n",
        "print('총 금액 :', price)"
      ],
      "execution_count": null,
      "outputs": [
        {
          "output_type": "stream",
          "text": [
            "과자 몇 개를 구매하시겠습니까? 3\n",
            "라면 몇 개를 구매하시겠습니까? 5\n",
            "햄 몇 개를 구매하시겠습니까? 2\n",
            "총 금액 : 12400\n"
          ],
          "name": "stdout"
        }
      ]
    },
    {
      "cell_type": "code",
      "metadata": {
        "colab": {
          "base_uri": "https://localhost:8080/"
        },
        "id": "w6hxIfqYE4tA",
        "outputId": "4076c768-e1d0-4e1e-abda-2a6274cecff6"
      },
      "source": [
        "# 2번. 마트에서 25% 할인 행사\n",
        "s_cnt = int(input('과자 몇 개를 구매하시겠습니까? '))\n",
        "r_cnt = int(input('라면 몇 개를 구매하시겠습니까? '))\n",
        "h_cnt = int(input('햄 몇 개를 구매하시겠습니까? '))\n",
        "\n",
        "price = 1200*s_cnt + 800*r_cnt + 2400*h_cnt\n",
        "print('할인 전 금액 :', price, ', 할인 후 금액', price * 0.75)"
      ],
      "execution_count": null,
      "outputs": [
        {
          "output_type": "stream",
          "text": [
            "과자 몇 개를 구매하시겠습니까? 3\n",
            "라면 몇 개를 구매하시겠습니까? 5\n",
            "햄 몇 개를 구매하시겠습니까? 2\n",
            "할인 전 금액 : 12400 , 할인 후 금액 9300.0\n"
          ],
          "name": "stdout"
        }
      ]
    },
    {
      "cell_type": "code",
      "metadata": {
        "colab": {
          "base_uri": "https://localhost:8080/"
        },
        "id": "67j0br5gE4vZ",
        "outputId": "d8bf45ac-1979-43a8-8192-91e91aec3417"
      },
      "source": [
        "# 3. 정수 2개 입력받아 사칙연산\n",
        "num1 = int(input('숫자1 입력 : '))\n",
        "num2 = int(input('숫자2 입력 : '))\n",
        "\n",
        "print('두 수를 더한 값 :', num1+num2)\n",
        "print('두 수를 뺀 값 :', num1-num2)\n",
        "print('두 수를 곱한 값 :', num1*num2)\n",
        "print('두 수를 나눈 값 :', num1/num2)"
      ],
      "execution_count": null,
      "outputs": [
        {
          "output_type": "stream",
          "text": [
            "숫자1 입력 : 12\n",
            "숫자2 입력 : 4\n",
            "두 수를 더한 값 : 16\n",
            "두 수를 뺀 값 : 8\n",
            "두 수를 곱한 값 : 48\n",
            "두 수를 나눈 값 : 3.0\n"
          ],
          "name": "stdout"
        }
      ]
    },
    {
      "cell_type": "markdown",
      "metadata": {
        "id": "cksYuhJTFhFB"
      },
      "source": [
        "#### Self Check"
      ]
    },
    {
      "cell_type": "code",
      "metadata": {
        "colab": {
          "base_uri": "https://localhost:8080/"
        },
        "id": "g7s-cWPjFiPG",
        "outputId": "98f2a907-78da-4151-9738-bee396677c3e"
      },
      "source": [
        "# 1번\n",
        "me = input('당신은 누구입니까? ')\n",
        "print('나는', me + '이다')"
      ],
      "execution_count": null,
      "outputs": [
        {
          "output_type": "stream",
          "text": [
            "당신은 누구입니까? 전설\n",
            "나는 전설이다\n"
          ],
          "name": "stdout"
        }
      ]
    },
    {
      "cell_type": "code",
      "metadata": {
        "colab": {
          "base_uri": "https://localhost:8080/"
        },
        "id": "K84ejyhwFijj",
        "outputId": "002e226b-a71f-4531-a079-9fd9137cbce9"
      },
      "source": [
        "# 2번\n",
        "id = input('아이디 입력 : ')\n",
        "name = input('이름 입력 : ')\n",
        "print(name,'님! 회원가입을 환영합니다!')\n",
        "print(id,'님에게 지금 즉시 사용가능한 쿠폰 5개 발급!')\n",
        "print(id,'님에게만 적립금 2000원 추가 지급!')"
      ],
      "execution_count": null,
      "outputs": [
        {
          "output_type": "stream",
          "text": [
            "아이디 입력 : yoori\n",
            "이름 입력 : 유리\n",
            "유리 님! 회원가입을 환영합니다!\n",
            "yoori 님에게 지금 즉시 사용가능한 쿠폰 5개 발급!\n",
            "yoori 님에게만 적립금 2000원 추가 지급!\n"
          ],
          "name": "stdout"
        }
      ]
    },
    {
      "cell_type": "code",
      "metadata": {
        "colab": {
          "base_uri": "https://localhost:8080/",
          "height": 239
        },
        "id": "LnAoTv7tFimE",
        "outputId": "45ae16d7-4811-4080-bcb2-e9a72dd4d790"
      },
      "source": [
        "# 3번\n",
        "x = input('단어 입력: ')\n",
        "x = int(x)\n",
        "print(x)"
      ],
      "execution_count": null,
      "outputs": [
        {
          "output_type": "stream",
          "text": [
            "단어 입력: 파이썬\n"
          ],
          "name": "stdout"
        },
        {
          "output_type": "error",
          "ename": "ValueError",
          "evalue": "ignored",
          "traceback": [
            "\u001b[0;31m---------------------------------------------------------------------------\u001b[0m",
            "\u001b[0;31mValueError\u001b[0m                                Traceback (most recent call last)",
            "\u001b[0;32m<ipython-input-49-4223fe38d9ff>\u001b[0m in \u001b[0;36m<module>\u001b[0;34m()\u001b[0m\n\u001b[1;32m      1\u001b[0m \u001b[0;31m# 3번\u001b[0m\u001b[0;34m\u001b[0m\u001b[0;34m\u001b[0m\u001b[0;34m\u001b[0m\u001b[0m\n\u001b[1;32m      2\u001b[0m \u001b[0mx\u001b[0m \u001b[0;34m=\u001b[0m \u001b[0minput\u001b[0m\u001b[0;34m(\u001b[0m\u001b[0;34m'단어 입력: '\u001b[0m\u001b[0;34m)\u001b[0m\u001b[0;34m\u001b[0m\u001b[0;34m\u001b[0m\u001b[0m\n\u001b[0;32m----> 3\u001b[0;31m \u001b[0mx\u001b[0m \u001b[0;34m=\u001b[0m \u001b[0mint\u001b[0m\u001b[0;34m(\u001b[0m\u001b[0mx\u001b[0m\u001b[0;34m)\u001b[0m\u001b[0;34m\u001b[0m\u001b[0;34m\u001b[0m\u001b[0m\n\u001b[0m\u001b[1;32m      4\u001b[0m \u001b[0mprint\u001b[0m\u001b[0;34m(\u001b[0m\u001b[0mx\u001b[0m\u001b[0;34m)\u001b[0m\u001b[0;34m\u001b[0m\u001b[0;34m\u001b[0m\u001b[0m\n",
            "\u001b[0;31mValueError\u001b[0m: invalid literal for int() with base 10: '파이썬'"
          ]
        }
      ]
    },
    {
      "cell_type": "code",
      "metadata": {
        "colab": {
          "base_uri": "https://localhost:8080/"
        },
        "id": "0WFqnY8LFjMX",
        "outputId": "0ad279c7-5d1b-4c62-ccd5-63a9ef12eb21"
      },
      "source": [
        "# 4번 - 정수형으로 변환하는 경우\n",
        "kor = int(input('국어점수는? '))\n",
        "mat = int(input('수학점수는? '))\n",
        "eng = int(input('영어점수는? '))\n",
        "score = kor*0.16 + mat*0.34 + eng*0.23\n",
        "print('최종점수는',score,'입니다!')"
      ],
      "execution_count": null,
      "outputs": [
        {
          "output_type": "stream",
          "text": [
            "국어점수는? 80\n",
            "수학점수는? 60\n",
            "영어점수는? 93\n",
            "최종점수는 54.59 입니다!\n"
          ],
          "name": "stdout"
        }
      ]
    },
    {
      "cell_type": "code",
      "metadata": {
        "colab": {
          "base_uri": "https://localhost:8080/"
        },
        "id": "Y7zUgot0HD5A",
        "outputId": "5891f780-5bbb-4aa6-fcff-c676bc9c6a0d"
      },
      "source": [
        "kor = float(input('국어점수는? '))\n",
        "mat = float(input('수학점수는? '))\n",
        "eng = float(input('영어점수는? '))\n",
        "score = kor*0.16 + mat*0.34 + eng*0.23\n",
        "print('최종점수는',score,'입니다!')"
      ],
      "execution_count": null,
      "outputs": [
        {
          "output_type": "stream",
          "text": [
            "국어점수는? 80\n",
            "수학점수는? 60\n",
            "영어점수는? 93\n",
            "최종점수는 54.59 입니다!\n"
          ],
          "name": "stdout"
        }
      ]
    }
  ]
}