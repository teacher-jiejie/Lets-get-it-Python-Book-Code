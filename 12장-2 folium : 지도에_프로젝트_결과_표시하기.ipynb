{
  "nbformat": 4,
  "nbformat_minor": 0,
  "metadata": {
    "kernelspec": {
      "display_name": "Python 3",
      "language": "python",
      "name": "python3"
    },
    "language_info": {
      "codemirror_mode": {
        "name": "ipython",
        "version": 3
      },
      "file_extension": ".py",
      "mimetype": "text/x-python",
      "name": "python",
      "nbconvert_exporter": "python",
      "pygments_lexer": "ipython3",
      "version": "3.7.4"
    },
    "colab": {
      "name": "12장-2 folium - 지도에 프로젝트 결과 표시하기.ipynb",
      "provenance": [],
      "include_colab_link": true
    }
  },
  "cells": [
    {
      "cell_type": "markdown",
      "metadata": {
        "id": "view-in-github",
        "colab_type": "text"
      },
      "source": [
        "<a href=\"https://colab.research.google.com/github/teacher-jiejie/Lets-get-it-Python-Book-Code/blob/main/12%E1%84%8C%E1%85%A1%E1%86%BC-2%20folium%20%3A%20%E1%84%8C%E1%85%B5%E1%84%83%E1%85%A9%E1%84%8B%E1%85%A6_%E1%84%91%E1%85%B3%E1%84%85%E1%85%A9%E1%84%8C%E1%85%A6%E1%86%A8%E1%84%90%E1%85%B3_%E1%84%80%E1%85%A7%E1%86%AF%E1%84%80%E1%85%AA_%E1%84%91%E1%85%AD%E1%84%89%E1%85%B5%E1%84%92%E1%85%A1%E1%84%80%E1%85%B5.ipynb\" target=\"_parent\"><img src=\"https://colab.research.google.com/assets/colab-badge.svg\" alt=\"Open In Colab\"/></a>"
      ]
    },
    {
      "cell_type": "markdown",
      "metadata": {
        "id": "wRuMLAEufiaa"
      },
      "source": [
        "들어가기 전에) 인구데이터 용량이 크므로 **주피터 노트북**에서 진행해주세요\n",
        "\n",
        "## 12.2 지도에 프로젝트 결과 표시하기\n",
        "#### 12.2.1  목표 수립하기\n",
        "#### 12.2.2  프로그램으로 구현하기"
      ]
    },
    {
      "cell_type": "code",
      "metadata": {
        "id": "EIUD4lQ-fiad"
      },
      "source": [
        "import csv\n",
        "\n",
        "# 인구 데이터 읽어와서 리스트로 저장하기\n",
        "f1 = open('LOCAL_PEOPLE_DONG_201912.csv', encoding='utf8')    \n",
        "data = csv.reader(f1)\n",
        "next(data)\n",
        "data = list(data)\n",
        "\n",
        "# 행정동코드 데이터 불러와서 리스트로 저장하기\n",
        "f2 = open('dong_code.csv', encoding='utf8')\n",
        "code_data = csv.reader(f2)\n",
        "next(code_data)\n",
        "next(code_data)\n",
        "code_data = list(code_data)\n",
        "\n",
        "# 위치 데이터 불러와서 리스트로 저장하기\n",
        "f3 = open('dong_location.csv')\n",
        "location_data = csv.reader(f3)\n",
        "next(location_data)\n",
        "location_data = list(location_data)"
      ],
      "execution_count": null,
      "outputs": []
    },
    {
      "cell_type": "code",
      "metadata": {
        "id": "G5b59-JEfiae"
      },
      "source": [
        "# 인구데이터의 데이터타입 변경하기 \n",
        "for row in data : \n",
        "    for i in range(1, 32) : \n",
        "        if i <= 2 : \n",
        "            row[i] = int(row[i])\n",
        "        else : \n",
        "            row[i] = float(row[i])\n",
        "            \n",
        "# 행정동코드 데이터의 데이터 타입 변환하기\n",
        "for row in code_data :\n",
        "    row[0], row[1] = int(row[0]), int(row[1]) # 7자리 행정동코드, 8자리 행정동코드\n",
        "\n",
        "# 위치 정보 데이터의 데이터 타입 변환하기\n",
        "for row in location_data :\n",
        "    row[2], row[-2], row[-1] = int(row[2]), float(row[-2]), float(row[-1])"
      ],
      "execution_count": null,
      "outputs": []
    },
    {
      "cell_type": "code",
      "metadata": {
        "id": "1ajHqMcXfiaf"
      },
      "source": [
        "# 2. 행정동별 인구수를 저장하는 빈 딕셔너리를 만들고 행정동별 총생활인구를 딕셔너리에 저장하기\n",
        "dong_population = {}\n",
        "\n",
        "for row in data: \n",
        "    dong_code, p = row[2], row[3]\n",
        "    if dong_code not in dong_population.keys(): \n",
        "        dong_population[dong_code] = p\n",
        "    else:\n",
        "        dong_population[dong_code] += p\n",
        "        \n",
        "# print(dong_population) "
      ],
      "execution_count": null,
      "outputs": []
    },
    {
      "cell_type": "code",
      "metadata": {
        "id": "-x1gscTnfiaf",
        "outputId": "8dc12ea8-e397-4b6c-d4d2-18b6ce2d23d1"
      },
      "source": [
        "# 3. 인구수를 기준으로 내림차순 정렬하고, 앞에서 10개 항목만 별도로 저장하기\n",
        "import operator\n",
        "\n",
        "top10 = sorted(dong_population.items(), key=operator.itemgetter(1), reverse = True)[:10]\n",
        "#print(top10)\n",
        "\n",
        "top10_code8 = [t[0] for t in top10]\n",
        "print(top10_code8)"
      ],
      "execution_count": null,
      "outputs": [
        {
          "output_type": "stream",
          "text": [
            "[11680640, 11560540, 11440660, 11110615, 11650530, 11410585, 11380690, 11545510, 11680650, 11680610]\n"
          ],
          "name": "stdout"
        }
      ]
    },
    {
      "cell_type": "code",
      "metadata": {
        "id": "9Jlzp6qIfiag",
        "outputId": "054c54d7-fb4d-4dac-9ed9-11cd692ea825"
      },
      "source": [
        "top10_name = [0 for i in range(10)]\n",
        "top10_lat  = [0 for i in range(10)]\n",
        "top10_long = [0 for i in range(10)]\n",
        "\n",
        "# 4. 8자리 행정동코드에 해당하는 행정동명 찾기\n",
        "for i in range(len(top10_code8)) : \n",
        "    for row in code_data : \n",
        "        if row[1] == top10_code8[i] :  \n",
        "            # 행정동명 리스트에 저장하기 \n",
        "            top10_name[i] = row[-1]\n",
        "    # 5. 행정동명에 해당하는 위도와 경도를 찾아 리스트에 저장하기\n",
        "    for row in location_data : \n",
        "        if row[3] == top10_name[i] :\n",
        "            top10_lat[i], top10_long[i] = row[-1], row[-2] \n",
        "\n",
        "print(top10_lat)\n",
        "print(top10_long)"
      ],
      "execution_count": null,
      "outputs": [
        {
          "output_type": "stream",
          "text": [
            "[37.4999211, 0, 37.5550337, 37.5777701, 37.4856591, 37.5659638, 37.64193, 37.4756389, 37.4984733, 37.4955294]\n",
            "[127.0367584, 0, 126.9228533, 126.9892737, 127.0097616, 126.9384315, 126.9387277, 126.8850721, 127.0449272, 127.0662436]\n"
          ],
          "name": "stdout"
        }
      ]
    },
    {
      "cell_type": "code",
      "metadata": {
        "id": "fcniNksifiah",
        "outputId": "cb91381b-0585-43ba-ac2a-a9b92d823448"
      },
      "source": [
        "# 추가. 행정동명으로 위치 정보를 찾지 못하면 7자리 행정동코드로 찾기\n",
        "for i in range(len(top10_lat)):\n",
        "    # 위도나 경도가 0인 요소가 있다면\n",
        "    if top10_lat[i] == 0 or top10_long[i] == 0 :\n",
        "        # code_data에서 7자리 행정동코드를 구해 dong7에 저장하기\n",
        "        for row in code_data :\n",
        "            if top10_code8[i] == row[1] :\n",
        "                dong7 = row[0]\n",
        "        # location_data에서 7자리 행정동코드가 dong7인 행을 찾아 위도와 경도를 구하기\n",
        "        for row in location_data : \n",
        "            if dong7 == row[2] :\n",
        "                top10_lat[i], top10_long[i] = row[-1], row[-2] \n",
        "\n",
        "print(top10_lat)\n",
        "print(top10_long)"
      ],
      "execution_count": null,
      "outputs": [
        {
          "output_type": "stream",
          "text": [
            "[37.4999211, 37.5286662, 37.5550337, 37.5777701, 37.4856591, 37.5659638, 37.64193, 37.4756389, 37.4984733, 37.4955294]\n",
            "[127.0367584, 126.9290731, 126.9228533, 126.9892737, 127.0097616, 126.9384315, 126.9387277, 126.8850721, 127.0449272, 127.0662436]\n"
          ],
          "name": "stdout"
        }
      ]
    },
    {
      "cell_type": "code",
      "metadata": {
        "scrolled": true,
        "id": "MHztZohUfiah",
        "outputId": "fd3e9761-d147-437f-f040-18fb38ccedf4"
      },
      "source": [
        "# 6. 완성된 리스트 지도에 표시하기\n",
        "import folium\n",
        "\n",
        "for i in range(len(top10_name)) : \n",
        "    top10_name[i] = str(i+1)+'. '+top10_name[i]\n",
        "\n",
        "    \n",
        "map_top10 = folium.Map([top10_lat[0], top10_long[0]], zoom_start=12)\n",
        "for i in range(10): \n",
        "    folium.Marker(\n",
        "        [top10_lat[i], top10_long[i]], tooltip=top10_name[i],\n",
        "        icon=folium.Icon(color='red', icon='star')\n",
        "        ).add_to(map_top10)\n",
        "\n",
        "map_top10"
      ],
      "execution_count": null,
      "outputs": [
        {
          "output_type": "execute_result",
          "data": {
            "text/html": [
              "<div style=\"width:100%;\"><div style=\"position:relative;width:100%;height:0;padding-bottom:60%;\"><iframe src=\"data:text/html;charset=utf-8;base64,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\" style=\"position:absolute;width:100%;height:100%;left:0;top:0;border:none !important;\" allowfullscreen webkitallowfullscreen mozallowfullscreen></iframe></div></div>"
            ],
            "text/plain": [
              "<folium.folium.Map at 0x7fe66be823d0>"
            ]
          },
          "metadata": {
            "tags": []
          },
          "execution_count": 14
        }
      ]
    },
    {
      "cell_type": "markdown",
      "metadata": {
        "id": "UumgYW9_fiai"
      },
      "source": [
        "#### 12.2.4  추가 분석 : 남성이 많은 지역과 여성이 많은 지역 비교하기"
      ]
    },
    {
      "cell_type": "code",
      "metadata": {
        "id": "IfukfIaFfiai"
      },
      "source": [
        "import csv\n",
        "\n",
        "# 인구 데이터 읽어와서 리스트로 저장하기\n",
        "f1 = open('LOCAL_PEOPLE_DONG_201912.csv', encoding='utf8')    \n",
        "data = csv.reader(f1)\n",
        "next(data)\n",
        "data = list(data)\n",
        "\n",
        "# 행정동코드 데이터 불러와서 리스트로 저장하기\n",
        "f2 = open('dong_code.csv', encoding='utf8')\n",
        "code_data = csv.reader(f2)\n",
        "next(code_data)\n",
        "next(code_data)\n",
        "code_data = list(code_data)\n",
        "\n",
        "# 위치 데이터 불러와서 리스트로 저장하기\n",
        "f3 = open('dong_location.csv')\n",
        "location_data = csv.reader(f3)\n",
        "next(location_data)\n",
        "location_data = list(location_data)"
      ],
      "execution_count": null,
      "outputs": []
    },
    {
      "cell_type": "code",
      "metadata": {
        "id": "OjMJtRAGfiaj"
      },
      "source": [
        "# 인구데이터의 데이터타입 변경하기 \n",
        "for row in data : \n",
        "    for i in range(1, 32) : \n",
        "        if i <= 2 : \n",
        "            row[i] = int(row[i])\n",
        "        else : \n",
        "            row[i] = float(row[i])\n",
        "            \n",
        "# 행정동코드 데이터의 데이터 타입 변환하기\n",
        "for row in code_data :\n",
        "    row[0], row[1] = int(row[0]), int(row[1]) # 7자리 행정동코드, 8자리 행정동코드\n",
        "\n",
        "# 위치 정보 데이터의 데이터 타입 변환하기\n",
        "for row in location_data :\n",
        "    row[2], row[-2], row[-1] = int(row[2]), float(row[-2]), float(row[-1])"
      ],
      "execution_count": null,
      "outputs": []
    },
    {
      "cell_type": "code",
      "metadata": {
        "id": "ksxtvdaZfiaj"
      },
      "source": [
        "# 2. 인구 데이터를 읽으며 행정동별 남성 인구수를 저장하는 딕셔너리 완성하기\n",
        "dong_population = {}\n",
        "\n",
        "for row in data: \n",
        "    # 남성 인구수를 저장하는 변수 p\n",
        "    dong_code, p = row[2], sum(row[4:18])\n",
        "    if dong_code not in dong_population.keys(): \n",
        "        dong_population[dong_code] = p\n",
        "    else:\n",
        "        dong_population[dong_code] += p\n",
        "        \n",
        "# print(dong_population) "
      ],
      "execution_count": null,
      "outputs": []
    },
    {
      "cell_type": "code",
      "metadata": {
        "id": "vQ3_Yof6fiaj",
        "outputId": "3f312469-bc83-4a87-ac06-5de5326866c4"
      },
      "source": [
        "# 3. 인구수를 기준으로 내림차순 정렬하고, 앞에서 10개 항목만 별도로 저장하기\n",
        "import operator\n",
        "\n",
        "top10 = sorted(dong_population.items(), key=operator.itemgetter(1), reverse = True)[:10]\n",
        "#print(top10)\n",
        "\n",
        "top10_code8 = [t[0] for t in top10]\n",
        "print(top10_code8)"
      ],
      "execution_count": null,
      "outputs": [
        {
          "output_type": "stream",
          "text": [
            "[11680640, 11560540, 11110615, 11440660, 11650530, 11545510, 11380690, 11680610, 11410585, 11680650]\n"
          ],
          "name": "stdout"
        }
      ]
    },
    {
      "cell_type": "code",
      "metadata": {
        "id": "IUpYr_oefiak",
        "outputId": "881df79f-79e8-47f6-b49a-0db8db94447f"
      },
      "source": [
        "top10_name = [0 for i in range(10)]\n",
        "top10_lat  = [0 for i in range(10)]\n",
        "top10_long = [0 for i in range(10)]\n",
        "\n",
        "# 4. 8자리 행정동코드에 해당하는 행정동명 찾기\n",
        "for i in range(len(top10_code8)) : \n",
        "    for row in code_data : \n",
        "        if row[1] == top10_code8[i] :  \n",
        "            # 행정동명 리스트에 저장하기 \n",
        "            top10_name[i] = row[-1]\n",
        "    # 5. 행정동명에 해당하는 위도와 경도를 찾아 리스트에 저장하기\n",
        "    for row in location_data : \n",
        "        if row[3] == top10_name[i] :\n",
        "            top10_lat[i], top10_long[i] = row[-1], row[-2] \n",
        "\n",
        "print(top10_lat)\n",
        "print(top10_long)"
      ],
      "execution_count": null,
      "outputs": [
        {
          "output_type": "stream",
          "text": [
            "[37.4999211, 0, 37.5777701, 37.5550337, 37.4856591, 37.4756389, 37.64193, 37.4955294, 37.5659638, 37.4984733]\n",
            "[127.0367584, 0, 126.9892737, 126.9228533, 127.0097616, 126.8850721, 126.9387277, 127.0662436, 126.9384315, 127.0449272]\n"
          ],
          "name": "stdout"
        }
      ]
    },
    {
      "cell_type": "code",
      "metadata": {
        "id": "Tn7HpsE-fiak",
        "outputId": "e2577973-a0b8-403f-a5b1-2d560fc042fe"
      },
      "source": [
        "# 추가. 행정동명으로 위치 정보를 찾지 못하면 7자리 행정동코드로 찾기\n",
        "for i in range(len(top10_lat)):\n",
        "    # 위도나 경도가 0인 요소가 있다면\n",
        "    if top10_lat[i] == 0 or top10_long[i] == 0 :\n",
        "        # code_data에서 7자리 행정동코드를 구해 dong7에 저장하기\n",
        "        for row in code_data :\n",
        "            if top10_code8[i] == row[1] :\n",
        "                dong7 = row[0]\n",
        "        # location_data에서 7자리 행정동코드가 dong7인 행을 찾아 위도와 경도를 구하기\n",
        "        for row in location_data : \n",
        "            if dong7 == row[2] :\n",
        "                top10_lat[i], top10_long[i] = row[-1], row[-2] \n",
        "\n",
        "print(top10_lat)\n",
        "print(top10_long)"
      ],
      "execution_count": null,
      "outputs": [
        {
          "output_type": "stream",
          "text": [
            "[37.4999211, 37.5286662, 37.5777701, 37.5550337, 37.4856591, 37.4756389, 37.64193, 37.4955294, 37.5659638, 37.4984733]\n",
            "[127.0367584, 126.9290731, 126.9892737, 126.9228533, 127.0097616, 126.8850721, 126.9387277, 127.0662436, 126.9384315, 127.0449272]\n"
          ],
          "name": "stdout"
        }
      ]
    },
    {
      "cell_type": "code",
      "metadata": {
        "scrolled": true,
        "id": "MbTzur_Bfial",
        "outputId": "f087138e-4c51-4c30-eee2-d83c1b57cc65"
      },
      "source": [
        "# 6. 완성된 리스트 지도에 표시하기\n",
        "import folium\n",
        "\n",
        "for i in range(len(top10_name)) : \n",
        "    top10_name[i] = str(i+1)+'. '+top10_name[i]\n",
        "\n",
        "    \n",
        "map_top10 = folium.Map([top10_lat[0], top10_long[0]], zoom_start=12) \n",
        "for i in range(10):\n",
        "    # 1~5위 지역은 진한 파란색, 6~7위 지역은 연한 파란색으로 표시하기\n",
        "    if i < 5: \n",
        "        folium.Marker(\n",
        "            [top10_lat[i], top10_long[i]], tooltip=top10_name[i], \n",
        "            icon=folium.Icon(color='darkblue', icon='male', prefix='fa')\n",
        "        ).add_to(map_top10)\n",
        "    else: \n",
        "        folium.Marker(\n",
        "            [top10_lat[i], top10_long[i]], tooltip=top10_name[i], \n",
        "            icon=folium.Icon(color='lightblue', icon='male', prefix='fa') \n",
        "        ).add_to(map_top10)\n",
        "\n",
        "map_top10"
      ],
      "execution_count": null,
      "outputs": [
        {
          "output_type": "execute_result",
          "data": {
            "text/html": [
              "<div style=\"width:100%;\"><div style=\"position:relative;width:100%;height:0;padding-bottom:60%;\"><iframe src=\"data:text/html;charset=utf-8;base64,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\" style=\"position:absolute;width:100%;height:100%;left:0;top:0;border:none !important;\" allowfullscreen webkitallowfullscreen mozallowfullscreen></iframe></div></div>"
            ],
            "text/plain": [
              "<folium.folium.Map at 0x7fe66a61b450>"
            ]
          },
          "metadata": {
            "tags": []
          },
          "execution_count": 23
        }
      ]
    },
    {
      "cell_type": "code",
      "metadata": {
        "id": "0Zs0nAP6fial"
      },
      "source": [
        "# 2. 인구 데이터를 읽으며 행정동별 여성 인구수를 저장하는 딕셔너리 완성하기\n",
        "dong_population = {}\n",
        "\n",
        "for row in data: \n",
        "    # 여성 인구수를 저장하는 변수 p\n",
        "    dong_code, p = row[2], sum(row[18:32])\n",
        "    if dong_code not in dong_population.keys(): \n",
        "        dong_population[dong_code] = p\n",
        "    else:\n",
        "        dong_population[dong_code] += p\n",
        "        \n",
        "# print(dong_population) "
      ],
      "execution_count": null,
      "outputs": []
    },
    {
      "cell_type": "code",
      "metadata": {
        "id": "zFmceoSffial",
        "outputId": "8d6f0998-dc02-43e8-bb00-6a557b6ad0a0"
      },
      "source": [
        "# 3. 인구수를 기준으로 내림차순 정렬하고, 앞에서 10개 항목만 별도로 저장하기\n",
        "import operator\n",
        "\n",
        "top10 = sorted(dong_population.items(), key=operator.itemgetter(1), reverse = True)[:10]\n",
        "#print(top10)\n",
        "\n",
        "top10_code8 = [t[0] for t in top10]\n",
        "print(top10_code8)"
      ],
      "execution_count": null,
      "outputs": [
        {
          "output_type": "stream",
          "text": [
            "[11680640, 11440660, 11560540, 11410585, 11380690, 11650530, 11110615, 11680650, 11710680, 11740685]\n"
          ],
          "name": "stdout"
        }
      ]
    },
    {
      "cell_type": "code",
      "metadata": {
        "id": "RtCgcZt-fiam",
        "outputId": "b1a63e6a-0349-41b7-ba1c-9da828357444"
      },
      "source": [
        "top10_name = [0 for i in range(10)]\n",
        "top10_lat  = [0 for i in range(10)]\n",
        "top10_long = [0 for i in range(10)]\n",
        "\n",
        "# 4. 8자리 행정동코드에 해당하는 행정동명 찾기\n",
        "for i in range(len(top10_code8)) : \n",
        "    for row in code_data : \n",
        "        if row[1] == top10_code8[i] :  \n",
        "            # 행정동명 리스트에 저장하기 \n",
        "            top10_name[i] = row[-1]\n",
        "    # 5. 행정동명에 해당하는 위도와 경도를 찾아 리스트에 저장하기\n",
        "    for row in location_data : \n",
        "        if row[3] == top10_name[i] :\n",
        "            top10_lat[i], top10_long[i] = row[-1], row[-2] \n",
        "\n",
        "print(top10_lat)\n",
        "print(top10_long)"
      ],
      "execution_count": null,
      "outputs": [
        {
          "output_type": "stream",
          "text": [
            "[37.4999211, 37.5550337, 0, 37.5659638, 37.64193, 37.4856591, 37.5777701, 37.4984733, 37.5162319, 37.5398758]\n",
            "[127.0367584, 126.9228533, 0, 126.9384315, 126.9387277, 127.0097616, 126.9892737, 127.0449272, 127.0947833, 127.1473638]\n"
          ],
          "name": "stdout"
        }
      ]
    },
    {
      "cell_type": "code",
      "metadata": {
        "id": "BJmnixGGfiam",
        "outputId": "35773064-f9f7-41ac-a32e-b7c87dcf6c23"
      },
      "source": [
        "# 추가. 행정동명으로 위치 정보를 찾지 못하면 7자리 행정동코드로 찾기\n",
        "for i in range(len(top10_lat)):\n",
        "    # 위도나 경도가 0인 요소가 있다면\n",
        "    if top10_lat[i] == 0 or top10_long[i] == 0 :\n",
        "        # code_data에서 7자리 행정동코드를 구해 dong7에 저장하기\n",
        "        for row in code_data :\n",
        "            if top10_code8[i] == row[1] :\n",
        "                dong7 = row[0]\n",
        "        # location_data에서 7자리 행정동코드가 dong7인 행을 찾아 위도와 경도를 구하기\n",
        "        for row in location_data : \n",
        "            if dong7 == row[2] :\n",
        "                top10_lat[i], top10_long[i] = row[-1], row[-2] \n",
        "\n",
        "print(top10_lat)\n",
        "print(top10_long)"
      ],
      "execution_count": null,
      "outputs": [
        {
          "output_type": "stream",
          "text": [
            "[37.4999211, 37.5550337, 37.5286662, 37.5659638, 37.64193, 37.4856591, 37.5777701, 37.4984733, 37.5162319, 37.5398758]\n",
            "[127.0367584, 126.9228533, 126.9290731, 126.9384315, 126.9387277, 127.0097616, 126.9892737, 127.0449272, 127.0947833, 127.1473638]\n"
          ],
          "name": "stdout"
        }
      ]
    },
    {
      "cell_type": "code",
      "metadata": {
        "scrolled": true,
        "id": "BFydfRIYfiam",
        "outputId": "3aa71465-370c-43f1-c417-fbe0b706c338"
      },
      "source": [
        "# 6. 완성된 리스트 지도에 표시하기\n",
        "import folium\n",
        "\n",
        "for i in range(len(top10_name)) : \n",
        "    top10_name[i] = str(i+1)+'. '+top10_name[i]\n",
        "\n",
        "    \n",
        "map_top10 = folium.Map([top10_lat[0], top10_long[0]], zoom_start=12) \n",
        "for i in range(10):\n",
        "    # 1~5위 지역은 진한 파란색, 6~7위 지역은 연한 파란색으로 표시하기\n",
        "    if i < 5: \n",
        "        folium.Marker(\n",
        "            [top10_lat[i], top10_long[i]], tooltip=top10_name[i], \n",
        "            icon=folium.Icon(color='red', icon='female', prefix='fa')\n",
        "        ).add_to(map_top10)\n",
        "    else: \n",
        "        folium.Marker(\n",
        "            [top10_lat[i], top10_long[i]], tooltip=top10_name[i], \n",
        "            icon=folium.Icon(color='pink', icon='female', prefix='fa') \n",
        "        ).add_to(map_top10)\n",
        "\n",
        "map_top10"
      ],
      "execution_count": null,
      "outputs": [
        {
          "output_type": "execute_result",
          "data": {
            "text/html": [
              "<div style=\"width:100%;\"><div style=\"position:relative;width:100%;height:0;padding-bottom:60%;\"><iframe src=\"data:text/html;charset=utf-8;base64,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\" style=\"position:absolute;width:100%;height:100%;left:0;top:0;border:none !important;\" allowfullscreen webkitallowfullscreen mozallowfullscreen></iframe></div></div>"
            ],
            "text/plain": [
              "<folium.folium.Map at 0x7fe66a606650>"
            ]
          },
          "metadata": {
            "tags": []
          },
          "execution_count": 28
        }
      ]
    },
    {
      "cell_type": "markdown",
      "metadata": {
        "id": "NI-kervgfian"
      },
      "source": [
        "#### Self Check"
      ]
    },
    {
      "cell_type": "code",
      "metadata": {
        "id": "XKVQE_V8fian",
        "outputId": "7129a554-d6c6-4fac-cd1d-114b2ea0ac82"
      },
      "source": [
        "# 1번\n",
        "import folium\n",
        "\n",
        "lat1, long1 = 35.15870, 129.16047\n",
        "\n",
        "# 해운대 해수욕장\n",
        "map_h = folium.Map([lat1, long1], zoom_start=11)\n",
        "\n",
        "# 마커 추가하기\n",
        "folium.Marker([lat1, long1],\n",
        "              icon=folium.Icon(icon='hand-o-down', prefix='fa')\n",
        "             ).add_to(map_h)\n",
        "map_h"
      ],
      "execution_count": null,
      "outputs": [
        {
          "output_type": "execute_result",
          "data": {
            "text/html": [
              "<div style=\"width:100%;\"><div style=\"position:relative;width:100%;height:0;padding-bottom:60%;\"><iframe src=\"data:text/html;charset=utf-8;base64,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\" style=\"position:absolute;width:100%;height:100%;left:0;top:0;border:none !important;\" allowfullscreen webkitallowfullscreen mozallowfullscreen></iframe></div></div>"
            ],
            "text/plain": [
              "<folium.folium.Map at 0x7fe66a60b8d0>"
            ]
          },
          "metadata": {
            "tags": []
          },
          "execution_count": 29
        }
      ]
    },
    {
      "cell_type": "code",
      "metadata": {
        "id": "7J_7YEJ2fiaq",
        "outputId": "79563cd4-1fa4-4ff6-935a-4662e328acbd"
      },
      "source": [
        "# 2번\n",
        "import folium\n",
        "\n",
        "lat = [35.15870, 35.23360, 35.17357]\n",
        "long = [129.16047, 129.08309, 128.94632]\n",
        "names = ['해운대 해수욕장', '부산대학교', '김해국제공항'] \n",
        "icons = ['hand-o-down', 'university', 'plane']\n",
        "\n",
        "map_h = folium.Map([lat[0], long[0]], zoom_start=11)\n",
        "\n",
        "for i in range(len(lat)):\n",
        "    folium.Marker([lat[i], long[i]], tooltip=names[i],\n",
        "                  icon=folium.Icon(icon= icons[i], prefix='fa')\n",
        "                 ).add_to(map_h)\n",
        "map_h"
      ],
      "execution_count": null,
      "outputs": [
        {
          "output_type": "execute_result",
          "data": {
            "text/html": [
              "<div style=\"width:100%;\"><div style=\"position:relative;width:100%;height:0;padding-bottom:60%;\"><iframe src=\"data:text/html;charset=utf-8;base64,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\" style=\"position:absolute;width:100%;height:100%;left:0;top:0;border:none !important;\" allowfullscreen webkitallowfullscreen mozallowfullscreen></iframe></div></div>"
            ],
            "text/plain": [
              "<folium.folium.Map at 0x7fe66a5f8690>"
            ]
          },
          "metadata": {
            "tags": []
          },
          "execution_count": 30
        }
      ]
    },
    {
      "cell_type": "code",
      "metadata": {
        "id": "yIl8uzb0fiaq"
      },
      "source": [
        ""
      ],
      "execution_count": null,
      "outputs": []
    }
  ]
}