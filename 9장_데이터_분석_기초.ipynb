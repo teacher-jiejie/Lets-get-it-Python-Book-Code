{
  "nbformat": 4,
  "nbformat_minor": 0,
  "metadata": {
    "colab": {
      "name": "9장 - 데이터 분석 기초.ipynb",
      "provenance": [],
      "collapsed_sections": [],
      "authorship_tag": "ABX9TyOWiYNt3VconUK0EiFTsGiw",
      "include_colab_link": true
    },
    "kernelspec": {
      "name": "python3",
      "display_name": "Python 3"
    },
    "language_info": {
      "name": "python"
    }
  },
  "cells": [
    {
      "cell_type": "markdown",
      "metadata": {
        "id": "view-in-github",
        "colab_type": "text"
      },
      "source": [
        "<a href=\"https://colab.research.google.com/github/teacher-jiejie/Lets-get-it-Python-Book-Code/blob/main/9%EC%9E%A5_%EB%8D%B0%EC%9D%B4%ED%84%B0_%EB%B6%84%EC%84%9D_%EA%B8%B0%EC%B4%88.ipynb\" target=\"_parent\"><img src=\"https://colab.research.google.com/assets/colab-badge.svg\" alt=\"Open In Colab\"/></a>"
      ]
    },
    {
      "cell_type": "markdown",
      "metadata": {
        "id": "ONULIf5iPmbB"
      },
      "source": [
        "## 9.1 데이터 준비: 파일에서 데이터 읽어들이기\n",
        "#### 9.1.1 CSV 파일이란\n",
        "#### 9.1.2 CSV 파일 읽어들이기\n",
        "\n",
        "\n",
        "```\n",
        "# 코랩에서 파일 업로드하기\n",
        "from google.colab import files \n",
        "uploaded = files.upload()\n",
        "```\n",
        "\n"
      ]
    },
    {
      "cell_type": "code",
      "metadata": {
        "colab": {
          "resources": {
            "http://localhost:8080/nbextensions/google.colab/files.js": {
              "data": "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",
              "ok": true,
              "headers": [
                [
                  "content-type",
                  "application/javascript"
                ]
              ],
              "status": 200,
              "status_text": ""
            }
          },
          "base_uri": "https://localhost:8080/",
          "height": 75
        },
        "id": "-YxitJJtPmoh",
        "outputId": "11bf2ada-bca1-487f-f962-f9e5c233fb5f"
      },
      "source": [
        "# 코랩에서 파일 업로드하기\n",
        "from google.colab import files \n",
        "uploaded = files.upload()"
      ],
      "execution_count": null,
      "outputs": [
        {
          "output_type": "display_data",
          "data": {
            "text/html": [
              "\n",
              "     <input type=\"file\" id=\"files-a85f6999-fd0b-4a25-9bf5-b1edd53e7e8d\" name=\"files[]\" multiple disabled\n",
              "        style=\"border:none\" />\n",
              "     <output id=\"result-a85f6999-fd0b-4a25-9bf5-b1edd53e7e8d\">\n",
              "      Upload widget is only available when the cell has been executed in the\n",
              "      current browser session. Please rerun this cell to enable.\n",
              "      </output>\n",
              "      <script src=\"/nbextensions/google.colab/files.js\"></script> "
            ],
            "text/plain": [
              "<IPython.core.display.HTML object>"
            ]
          },
          "metadata": {
            "tags": []
          }
        },
        {
          "output_type": "stream",
          "text": [
            "Saving card.csv to card (1).csv\n"
          ],
          "name": "stdout"
        }
      ]
    },
    {
      "cell_type": "code",
      "metadata": {
        "id": "mQRa3cInPmq2"
      },
      "source": [
        "import csv\n",
        "\n",
        "f = open('card.csv', encoding='utf8') \n",
        "data = csv.reader(f)\n",
        "next(data)\n",
        "data = list(data)\n",
        "print(data)"
      ],
      "execution_count": null,
      "outputs": []
    },
    {
      "cell_type": "markdown",
      "metadata": {
        "id": "5Jm5VgouQXSv"
      },
      "source": [
        "## 9.2  데이터 추출: 필요한 데이터만 골라내기\n",
        "#### 9.2.1  원하는 데이터 추출하기"
      ]
    },
    {
      "cell_type": "code",
      "metadata": {
        "colab": {
          "base_uri": "https://localhost:8080/"
        },
        "id": "GeZykqhtPmtM",
        "outputId": "9443581a-d527-4ada-83a2-73f1b7e1fc0e"
      },
      "source": [
        "print(type(data))"
      ],
      "execution_count": null,
      "outputs": [
        {
          "output_type": "stream",
          "text": [
            "<class 'list'>\n"
          ],
          "name": "stdout"
        }
      ]
    },
    {
      "cell_type": "code",
      "metadata": {
        "colab": {
          "base_uri": "https://localhost:8080/"
        },
        "id": "4K9AKYW5Pmvo",
        "outputId": "4eacbf79-96aa-448b-ef98-351f808212aa"
      },
      "source": [
        "print(len(data))"
      ],
      "execution_count": null,
      "outputs": [
        {
          "output_type": "stream",
          "text": [
            "236\n"
          ],
          "name": "stdout"
        }
      ]
    },
    {
      "cell_type": "code",
      "metadata": {
        "colab": {
          "base_uri": "https://localhost:8080/"
        },
        "id": "nR1e69JZPmx9",
        "outputId": "b839d627-16a6-490a-d39b-ed3a4f5cbd3b"
      },
      "source": [
        "print(data[0])"
      ],
      "execution_count": null,
      "outputs": [
        {
          "output_type": "stream",
          "text": [
            "['2019-10-12 9:13', '1972753', '본', 'S&', '185', '네이버파이낸셜(주)', '546800', '일시불(A)', '부분취소']\n"
          ],
          "name": "stdout"
        }
      ]
    },
    {
      "cell_type": "code",
      "metadata": {
        "colab": {
          "base_uri": "https://localhost:8080/"
        },
        "id": "sTgGEme2Pm0c",
        "outputId": "2331a822-886b-4c96-bef6-504a441311de"
      },
      "source": [
        "print(data[:3])"
      ],
      "execution_count": null,
      "outputs": [
        {
          "output_type": "stream",
          "text": [
            "[['2019-10-12 9:13', '1972753', '본', 'S&', '185', '네이버파이낸셜(주)', '546800', '일시불(A)', '부분취소'], ['2019-10-12 11:56', '3399357', '본', 'S&', '185', 'GS  샵', '60440', '일시불(A)', '전표매입'], ['2019-10-13 9:16', '12621902', '본', 'S&', '185', 'G마켓', '91520', 'P(A)', '전표매입']]\n"
          ],
          "name": "stdout"
        }
      ]
    },
    {
      "cell_type": "code",
      "metadata": {
        "colab": {
          "base_uri": "https://localhost:8080/"
        },
        "id": "dcR1gFYbQkpq",
        "outputId": "7924bb1d-b59c-4e94-b435-927cbfeb5415"
      },
      "source": [
        "print(data[0][6])"
      ],
      "execution_count": null,
      "outputs": [
        {
          "output_type": "stream",
          "text": [
            "546800\n"
          ],
          "name": "stdout"
        }
      ]
    },
    {
      "cell_type": "code",
      "metadata": {
        "colab": {
          "base_uri": "https://localhost:8080/"
        },
        "id": "YOsAorieQksp",
        "outputId": "2ecde11f-afa6-4067-a1a5-d96e9caf96bb"
      },
      "source": [
        "print(data[0][5], data[0][6])"
      ],
      "execution_count": null,
      "outputs": [
        {
          "output_type": "stream",
          "text": [
            "네이버파이낸셜(주) 546800\n"
          ],
          "name": "stdout"
        }
      ]
    },
    {
      "cell_type": "code",
      "metadata": {
        "colab": {
          "base_uri": "https://localhost:8080/"
        },
        "id": "QaaP1ADeQlsA",
        "outputId": "2620c53b-7af2-4925-954d-28ef3522d3f0"
      },
      "source": [
        "print(data[0][0], data[0][5], data[0][6])"
      ],
      "execution_count": null,
      "outputs": [
        {
          "output_type": "stream",
          "text": [
            "2019-10-12 9:13 네이버파이낸셜(주) 546800\n"
          ],
          "name": "stdout"
        }
      ]
    },
    {
      "cell_type": "markdown",
      "metadata": {
        "id": "sSc8HA04PnA8"
      },
      "source": [
        "#### 9.2.2 제어구조로 원하는 데이터 추출하기"
      ]
    },
    {
      "cell_type": "code",
      "metadata": {
        "id": "UWGPK8cwPnMe"
      },
      "source": [
        "for row in data:\n",
        "    print(row)"
      ],
      "execution_count": null,
      "outputs": []
    },
    {
      "cell_type": "code",
      "metadata": {
        "id": "BpEZd1F3PnOw"
      },
      "source": [
        "for row in data:\n",
        "    print(row[6])"
      ],
      "execution_count": null,
      "outputs": []
    },
    {
      "cell_type": "code",
      "metadata": {
        "id": "t47G6ZHzPnRD"
      },
      "source": [
        "for row in data:\n",
        "    print(row[0], row[5], row[6])"
      ],
      "execution_count": null,
      "outputs": []
    },
    {
      "cell_type": "code",
      "metadata": {
        "id": "i8YQHupPPnTX"
      },
      "source": [
        "for row in data:\n",
        "    print(row[5], type(row[6]))"
      ],
      "execution_count": null,
      "outputs": []
    },
    {
      "cell_type": "code",
      "metadata": {
        "id": "RgcCICI_PnVy"
      },
      "source": [
        "for row in data:\n",
        "    print(row[6], type(row[6]))"
      ],
      "execution_count": null,
      "outputs": []
    },
    {
      "cell_type": "code",
      "metadata": {
        "id": "2VJ8aZ-NPnYH"
      },
      "source": [
        "for row in data:\n",
        "    payment = int(row[6]) \n",
        "    print(payment, type(payment))"
      ],
      "execution_count": null,
      "outputs": []
    },
    {
      "cell_type": "code",
      "metadata": {
        "id": "8DM32pstPnai"
      },
      "source": [
        "for row in data : \n",
        "    payment = int(row[6])\n",
        "    store = row[5]\n",
        "    print(store,'에서',payment,'원 결제')"
      ],
      "execution_count": null,
      "outputs": []
    },
    {
      "cell_type": "code",
      "metadata": {
        "id": "Dgobt-oZPncv"
      },
      "source": [
        "for row in data : \n",
        "    date = row[0].split()[0]\n",
        "    payment = int(row[-3])\n",
        "    store = row[-4]\n",
        "    print(date, store,'에서',payment,'원 결제')"
      ],
      "execution_count": null,
      "outputs": []
    },
    {
      "cell_type": "code",
      "metadata": {
        "id": "aa6Q1E2ZPne2"
      },
      "source": [
        "for row in data : \n",
        "    if row[-1] == '전표매입' : \n",
        "        print('구매확정!')\n",
        "    else : \n",
        "        print('취소!')"
      ],
      "execution_count": null,
      "outputs": []
    },
    {
      "cell_type": "code",
      "metadata": {
        "id": "hwqsKq8BS18h"
      },
      "source": [
        "# 1분 퀴즈 1\n",
        "for row in data : \n",
        "    payment = int(row[-3])\n",
        "    month_pay = row[-2]\n",
        "    print(payment,'원', month_pay,'로 결제')"
      ],
      "execution_count": null,
      "outputs": []
    },
    {
      "cell_type": "markdown",
      "metadata": {
        "id": "YEOQJ9BDPnno"
      },
      "source": [
        "## 9.3 데이터 분석 도전: 카드 이용내역 분석하기\n",
        "#### 9.3.1 총 지출액 구하기"
      ]
    },
    {
      "cell_type": "code",
      "metadata": {
        "colab": {
          "base_uri": "https://localhost:8080/"
        },
        "id": "4izpbwpqPnxv",
        "outputId": "5a2e9ab7-ab6e-48a4-9921-b4ab5de7ed28"
      },
      "source": [
        "spend = 0\n",
        "\n",
        "for row in data :\n",
        "    if row[-1] == '전표매입' : \n",
        "        payment = int(row[-3])\n",
        "        spend += payment\n",
        "print(spend)"
      ],
      "execution_count": null,
      "outputs": [
        {
          "output_type": "stream",
          "text": [
            "8174028\n"
          ],
          "name": "stdout"
        }
      ]
    },
    {
      "cell_type": "markdown",
      "metadata": {
        "id": "mM2QUSNaTL0I"
      },
      "source": [
        "#### 9.2.2 월별 지출액 그래프 그리기"
      ]
    },
    {
      "cell_type": "code",
      "metadata": {
        "colab": {
          "base_uri": "https://localhost:8080/",
          "height": 243
        },
        "id": "XlakqNzhPn0L",
        "outputId": "2d02942f-7da3-43f8-b71d-b8ec299a894f"
      },
      "source": [
        "s_mon = [0,0,0]\n",
        "\n",
        "for row in data : \n",
        "    if row[-1] == '전표매입' : \n",
        "        mon, payment = row[0].split('-')[1], int(row[-3]) \n",
        "        idx = mon - 10\n",
        "        s_mon[idx] += payment\n",
        "\n",
        "print(s_mon)"
      ],
      "execution_count": null,
      "outputs": [
        {
          "output_type": "error",
          "ename": "TypeError",
          "evalue": "ignored",
          "traceback": [
            "\u001b[0;31m---------------------------------------------------------------------------\u001b[0m",
            "\u001b[0;31mTypeError\u001b[0m                                 Traceback (most recent call last)",
            "\u001b[0;32m<ipython-input-18-c0e3860cbaa0>\u001b[0m in \u001b[0;36m<module>\u001b[0;34m()\u001b[0m\n\u001b[1;32m      4\u001b[0m     \u001b[0;32mif\u001b[0m \u001b[0mrow\u001b[0m\u001b[0;34m[\u001b[0m\u001b[0;34m-\u001b[0m\u001b[0;36m1\u001b[0m\u001b[0;34m]\u001b[0m \u001b[0;34m==\u001b[0m \u001b[0;34m'전표매입'\u001b[0m \u001b[0;34m:\u001b[0m\u001b[0;34m\u001b[0m\u001b[0;34m\u001b[0m\u001b[0m\n\u001b[1;32m      5\u001b[0m         \u001b[0mmon\u001b[0m\u001b[0;34m,\u001b[0m \u001b[0mpayment\u001b[0m \u001b[0;34m=\u001b[0m \u001b[0mrow\u001b[0m\u001b[0;34m[\u001b[0m\u001b[0;36m0\u001b[0m\u001b[0;34m]\u001b[0m\u001b[0;34m.\u001b[0m\u001b[0msplit\u001b[0m\u001b[0;34m(\u001b[0m\u001b[0;34m'-'\u001b[0m\u001b[0;34m)\u001b[0m\u001b[0;34m[\u001b[0m\u001b[0;36m1\u001b[0m\u001b[0;34m]\u001b[0m\u001b[0;34m,\u001b[0m \u001b[0mint\u001b[0m\u001b[0;34m(\u001b[0m\u001b[0mrow\u001b[0m\u001b[0;34m[\u001b[0m\u001b[0;34m-\u001b[0m\u001b[0;36m3\u001b[0m\u001b[0;34m]\u001b[0m\u001b[0;34m)\u001b[0m\u001b[0;34m\u001b[0m\u001b[0;34m\u001b[0m\u001b[0m\n\u001b[0;32m----> 6\u001b[0;31m         \u001b[0midx\u001b[0m \u001b[0;34m=\u001b[0m \u001b[0mmon\u001b[0m \u001b[0;34m-\u001b[0m \u001b[0;36m10\u001b[0m\u001b[0;34m\u001b[0m\u001b[0;34m\u001b[0m\u001b[0m\n\u001b[0m\u001b[1;32m      7\u001b[0m         \u001b[0ms_mon\u001b[0m\u001b[0;34m[\u001b[0m\u001b[0midx\u001b[0m\u001b[0;34m]\u001b[0m \u001b[0;34m+=\u001b[0m \u001b[0mpayment\u001b[0m\u001b[0;34m\u001b[0m\u001b[0;34m\u001b[0m\u001b[0m\n\u001b[1;32m      8\u001b[0m \u001b[0;34m\u001b[0m\u001b[0m\n",
            "\u001b[0;31mTypeError\u001b[0m: unsupported operand type(s) for -: 'str' and 'int'"
          ]
        }
      ]
    },
    {
      "cell_type": "code",
      "metadata": {
        "colab": {
          "base_uri": "https://localhost:8080/"
        },
        "id": "L2ZttW7zPn2O",
        "outputId": "190d0e00-28c0-44bb-ca4a-921189d1d029"
      },
      "source": [
        "s_mon = [0,0,0]\n",
        "\n",
        "for row in data : \n",
        "    if row[-1] == '전표매입' : \n",
        "        mon, payment = int(row[0].split('-')[1]), int(row[-3]) \n",
        "        idx = mon - 10\n",
        "        s_mon[idx] += payment\n",
        "\n",
        "print(s_mon)"
      ],
      "execution_count": null,
      "outputs": [
        {
          "output_type": "stream",
          "text": [
            "[2093015, 4127744, 1953269]\n"
          ],
          "name": "stdout"
        }
      ]
    },
    {
      "cell_type": "code",
      "metadata": {
        "colab": {
          "base_uri": "https://localhost:8080/"
        },
        "id": "PUUeidz7Pn4l",
        "outputId": "8a5e3462-348c-497e-9a25-60cf2c520db5"
      },
      "source": [
        "# 변수를 사용하지 않고 작성하기\n",
        "s_mon = [0,0,0]\n",
        "\n",
        "for row in data : \n",
        "    if row[-1] == '전표매입' : \n",
        "        s_mon[int(row[0].split('-')[1]) - 10] += int(row[-3])\n",
        "\n",
        "print(s_mon)"
      ],
      "execution_count": null,
      "outputs": [
        {
          "output_type": "stream",
          "text": [
            "[2093015, 4127744, 1953269]\n"
          ],
          "name": "stdout"
        }
      ]
    },
    {
      "cell_type": "markdown",
      "metadata": {
        "id": "yMcF2TKYC1ZS"
      },
      "source": [
        "**구글 코랩에서 한글 글꼴 세팅하기**\n",
        "\n",
        "1.   나눔폰트 설정하는 코드 실행하기\n",
        "```\n",
        "!sudo apt-get install -y fonts-nanum \n",
        "!sudo fc-cache -fv\n",
        "!rm ~/.cache/matplotlib -rf\n",
        "```\n",
        "\n",
        "2.   런타임 -> 런타임 다시 시작 클릭\n",
        "3.  글꼴 지정 코드 실행|\n",
        "```\n",
        "plt.rc('font', family='NanumGothic')\n",
        "```\n",
        "\n",
        "\n",
        "\n"
      ]
    },
    {
      "cell_type": "code",
      "metadata": {
        "colab": {
          "base_uri": "https://localhost:8080/"
        },
        "id": "NtZbGZ4UDjR7",
        "outputId": "f1a0d508-3989-4b8f-85d6-072b7c331ff6"
      },
      "source": [
        "# 구글 코랩에서만 실행\n",
        "# 실행 후 [런타임]->[런타임 다시 시작] 클릭\n",
        "# 코랩에 파일 업로드, CSV 파일 읽어들이기 코드 다시 실행\n",
        "!sudo apt-get install -y fonts-nanum \n",
        "!sudo fc-cache -fv\n",
        "!rm ~/.cache/matplotlib -rf"
      ],
      "execution_count": null,
      "outputs": [
        {
          "output_type": "stream",
          "text": [
            "Reading package lists... Done\n",
            "Building dependency tree       \n",
            "Reading state information... Done\n",
            "The following NEW packages will be installed:\n",
            "  fonts-nanum\n",
            "0 upgraded, 1 newly installed, 0 to remove and 39 not upgraded.\n",
            "Need to get 9,604 kB of archives.\n",
            "After this operation, 29.5 MB of additional disk space will be used.\n",
            "Get:1 http://archive.ubuntu.com/ubuntu bionic/universe amd64 fonts-nanum all 20170925-1 [9,604 kB]\n",
            "Fetched 9,604 kB in 1s (10.2 MB/s)\n",
            "debconf: unable to initialize frontend: Dialog\n",
            "debconf: (No usable dialog-like program is installed, so the dialog based frontend cannot be used. at /usr/share/perl5/Debconf/FrontEnd/Dialog.pm line 76, <> line 1.)\n",
            "debconf: falling back to frontend: Readline\n",
            "debconf: unable to initialize frontend: Readline\n",
            "debconf: (This frontend requires a controlling tty.)\n",
            "debconf: falling back to frontend: Teletype\n",
            "dpkg-preconfigure: unable to re-open stdin: \n",
            "Selecting previously unselected package fonts-nanum.\n",
            "(Reading database ... 160772 files and directories currently installed.)\n",
            "Preparing to unpack .../fonts-nanum_20170925-1_all.deb ...\n",
            "Unpacking fonts-nanum (20170925-1) ...\n",
            "Setting up fonts-nanum (20170925-1) ...\n",
            "Processing triggers for fontconfig (2.12.6-0ubuntu2) ...\n",
            "/usr/share/fonts: caching, new cache contents: 0 fonts, 1 dirs\n",
            "/usr/share/fonts/truetype: caching, new cache contents: 0 fonts, 3 dirs\n",
            "/usr/share/fonts/truetype/humor-sans: caching, new cache contents: 1 fonts, 0 dirs\n",
            "/usr/share/fonts/truetype/liberation: caching, new cache contents: 16 fonts, 0 dirs\n",
            "/usr/share/fonts/truetype/nanum: caching, new cache contents: 10 fonts, 0 dirs\n",
            "/usr/local/share/fonts: caching, new cache contents: 0 fonts, 0 dirs\n",
            "/root/.local/share/fonts: skipping, no such directory\n",
            "/root/.fonts: skipping, no such directory\n",
            "/var/cache/fontconfig: cleaning cache directory\n",
            "/root/.cache/fontconfig: not cleaning non-existent cache directory\n",
            "/root/.fontconfig: not cleaning non-existent cache directory\n",
            "fc-cache: succeeded\n"
          ],
          "name": "stdout"
        }
      ]
    },
    {
      "cell_type": "code",
      "metadata": {
        "colab": {
          "base_uri": "https://localhost:8080/",
          "height": 280
        },
        "id": "Jn_uU9SlPn7W",
        "outputId": "ede6f53b-83b5-47a9-9741-7a4e953e9dd9"
      },
      "source": [
        "import matplotlib.pyplot as plt\n",
        "\n",
        "s_mon = [0,0,0]\n",
        "\n",
        "for row in data : \n",
        "    if row[-1] == '전표매입' : \n",
        "        mon, payment = int(row[0].split('-')[1]), int(row[-3]) \n",
        "        idx = mon - 10\n",
        "        s_mon[idx] += payment\n",
        "\n",
        "plt.rc('font', family='NanumGothic')\n",
        "plt.title('10-12월 지출현황')\n",
        "plt.bar(['10월','11월','12월'],s_mon, color = 'royalblue')\n",
        "# plt.ticklabel_format(axis='y', style= 'plain').   # y축의 지수 표현 없애는 코드\n",
        "plt.show()"
      ],
      "execution_count": null,
      "outputs": [
        {
          "output_type": "display_data",
          "data": {
            "image/png": "[encoded data removed]",
            "text/plain": [
              "<Figure size 432x288 with 1 Axes>"
            ]
          },
          "metadata": {
            "tags": [],
            "needs_background": "light"
          }
        }
      ]
    },
    {
      "cell_type": "markdown",
      "metadata": {
        "id": "onUCJp1qPoLm"
      },
      "source": [
        "#### 9.2.3 지출액 비교 그래프 그리기"
      ]
    },
    {
      "cell_type": "code",
      "metadata": {
        "colab": {
          "base_uri": "https://localhost:8080/"
        },
        "id": "B6C40URAPoV3",
        "outputId": "321bc433-b221-49de-f825-326396d9ea5f"
      },
      "source": [
        "# 월별 택시비 지출액 그래프 그리기\n",
        "taxi = [0,0,0]\n",
        "\n",
        "for row in data : \n",
        "    if row[-1] == '전표매입' and '택시' in row[5] : \n",
        "        mon, payment = int(row[0].split('-')[1]), int(row[-3]) \n",
        "        idx = mon-10\n",
        "        taxi[idx] += payment\n",
        "\n",
        "print(taxi)"
      ],
      "execution_count": null,
      "outputs": [
        {
          "output_type": "stream",
          "text": [
            "[8600, 83900, 52800]\n"
          ],
          "name": "stdout"
        }
      ]
    },
    {
      "cell_type": "code",
      "metadata": {
        "colab": {
          "base_uri": "https://localhost:8080/",
          "height": 280
        },
        "id": "RFxRhHXfPoYH",
        "outputId": "3171a7b1-9e1d-4e3e-9ce8-8edaa2188be2"
      },
      "source": [
        "plt.rc('font', family = 'NanumGothic')\n",
        "plt.title('10~12월 택시비 지출현황')\n",
        "plt.plot(['10월','11월','12월'],taxi, color = 'crimson', label ='택시비 지출액')\n",
        "plt.legend()\n",
        "plt.show()"
      ],
      "execution_count": null,
      "outputs": [
        {
          "output_type": "display_data",
          "data": {
            "image/png": "[encoded data removed]",
            "text/plain": [
              "<Figure size 432x288 with 1 Axes>"
            ]
          },
          "metadata": {
            "tags": [],
            "needs_background": "light"
          }
        }
      ]
    },
    {
      "cell_type": "code",
      "metadata": {
        "colab": {
          "base_uri": "https://localhost:8080/",
          "height": 280
        },
        "id": "pdQZcBFtPoak",
        "outputId": "be58b41d-1186-42ea-9a7e-0b2ce1953c5e"
      },
      "source": [
        "# 월별 배달음식비 지출액 그래프 그리기\n",
        "deli = [0,0,0]\n",
        "\n",
        "for row in data : \n",
        "    if row[-1] == '전표매입' and row[5] == '(주)우아한형제들': \n",
        "        mon, payment = int(row[0].split('-')[1]), int(row[-3]) \n",
        "        idx = mon-10        \n",
        "        deli[idx] += payment\n",
        "\n",
        "plt.rc('font', family = 'NanumGothic')\n",
        "plt.title('10~12월 배달음식비 지출현황')\n",
        "plt.plot(['10월','11월','12월'], deli, color = 'indigo', label ='배달음식비 지출액')\n",
        "plt.legend()\n",
        "plt.show()"
      ],
      "execution_count": null,
      "outputs": [
        {
          "output_type": "display_data",
          "data": {
            "image/png": "[encoded data removed]",
            "text/plain": [
              "<Figure size 432x288 with 1 Axes>"
            ]
          },
          "metadata": {
            "tags": [],
            "needs_background": "light"
          }
        }
      ]
    },
    {
      "cell_type": "code",
      "metadata": {
        "colab": {
          "base_uri": "https://localhost:8080/",
          "height": 280
        },
        "id": "VRLaDFVnPoc0",
        "outputId": "29498d3c-593f-4d41-8d2b-4ea21fe5302a"
      },
      "source": [
        "plt.rc('font', family='NanumGothic')\n",
        "plt.title('10-12월 택시비/배달음식비 지출액')\n",
        "plt.plot(['10월','11월','12월'], taxi, color = 'crimson', label ='택시비 지출액')\n",
        "plt.plot(['10월','11월','12월'], deli, color = 'indigo', label ='배달음식비 지출액')\n",
        "plt.legend()\n",
        "plt.show()"
      ],
      "execution_count": null,
      "outputs": [
        {
          "output_type": "display_data",
          "data": {
            "image/png": "[encoded data removed]",
            "text/plain": [
              "<Figure size 432x288 with 1 Axes>"
            ]
          },
          "metadata": {
            "tags": [],
            "needs_background": "light"
          }
        }
      ]
    },
    {
      "cell_type": "markdown",
      "metadata": {
        "id": "eceRhjEdPovL"
      },
      "source": [
        "#### 9.2.4 지출액 상위 10개 항목 뽑기"
      ]
    },
    {
      "cell_type": "code",
      "metadata": {
        "colab": {
          "base_uri": "https://localhost:8080/"
        },
        "id": "vVItnkg_Po5H",
        "outputId": "12afb50e-acbf-44b3-dcac-bcffdc3870ef"
      },
      "source": [
        "spending = {}\n",
        "\n",
        "for row in data : \n",
        "    if row[-1] == '전표매입' : \n",
        "        store, payment = row[-4], int(row[-3])\n",
        "        if store not in spending.keys() : \n",
        "            spending[store] = payment\n",
        "        else : \n",
        "            spending[store] += payment\n",
        "\n",
        "print(spending)"
      ],
      "execution_count": null,
      "outputs": [
        {
          "output_type": "stream",
          "text": [
            "{'GS  샵': 60440, 'G마켓': 201630, '11번가': 151010, '네이버파이낸셜(주)': 1395840, '(주)에이랜드 타임스퀘어': 31600, '(주)곱': 96000, '카카오페이(택시)': 78000, '포도당': 75000, '에뛰드': 26410, '미니스톱신촌점': 1300, '(주)우아한형제들': 361430, '스패뉴시청지점': 61800, '티머니 개인택시': 27300, '스타벅스코리아': 100000, '전화결제': 207000, '케이데코(K Deco)': 48000, '씨제이올리브영(주)합정메세나폴': 23200, '타르타르홍대점': 23100, '연세내과의원': 159800, '나폴레옹과자점': 52600, '홈플러스익스프레스신촌점': 3990, '롯데E커머스': 16241, '(주)에스쁘아': 28500, '(주)현대백화점신촌점': 415502, 'SSG.COM': 260259, 'GS25 문래미원점': 1500, '(주)라크라센타본점': 18700, '크로키닷컴': 299610, '(주)이랜드월드영등포타임스퀘어': 100, '빠레뜨한남': 56500, '(주)신세계백화점강남점': 333800, '(주)엔터식스패션쇼핑몰 강남점': 26000, '어반플랜트': 57000, '곤트란쉐리에 합정점': 7830, '(주)갈라인터내셔널': 68500, '씨제이올리브영(주)신세계': 42020, '카페마마스타임스퀘어점': 64400, '조아약국': 2300, '씨유신촌제일점': 14200, '(주)이마트  신촌점': 305690, '스마일페이 (신라면세점)': 978035, '(주)디지탈명성텍': 4075, 'CU 오목교스퀘어점': 1600, '써브웨이 오목교점': 5900, '갤러리아명품관식품': 18200, '씨제이올리브영(주) 신촌역점': 29600, '파리바게뜨 (신촌점)': 3000, '(주)다른코스메틱스': 29000, '이유': 285000, '씨제이올리브영(주) 신촌': 9200, '주식회사 아성다이소': 11000, '마트온누리약국': 12000, '카카오 T_카카오페이': 4000, '밸런스약국': 76000, '씨제이올리브영(주)인천공항제2': 13000, '잠바주스 인천공항T2-3호점': 14400, '(주)아워홈푸디움인천공항제2터': 8000, '배스킨라빈스  분당파크타운': 22000, '아모레퍼시픽': 40750, '한살림서울생활협동조합신촌매장': 22100, '파리크라상 연세세브란스점': 5400, '한국철도공사 (직승인)': 82600, '(주)인터파크': 160000, '우정사업본부(우체국)': 240, '(주)스타벅스커피코리아': 40000, '파리바게뜨  양평비즈타워점': 1900, '에프알엘코리아(주)': 35700, '쿠팡': 273790, '㈜젠코스메티코스': 60800, '웃는하루치과': 23000, '(주)파리크라상 쉐이크쉑 AK분당': 14800, 'CU 대구중구문화점': 10700, '낙영찜갈비': 60000, '카카오페이(택시)1': 16400, '지에스 25 수성유원지점': 4200, '우즈베이커리카페 수성호수점': 15300, '디지비유페이택시개인1': 6300, '코레일유통(주)대구지점': 8500, '티머니 법인택시': 17300, '투썸플레이스 교대역점': 5100, '고스트요거트': 4900, '(주)교보문고': 14860, '쉐프조': 7600, '이니시스-정기과금': 100000, '고봉민김밥': 7500, 'KFC서울타임스퀘어': 14400, '네이버페이': 374976, '카페마마스  강남역지점': 16800}\n"
          ],
          "name": "stdout"
        }
      ]
    },
    {
      "cell_type": "code",
      "metadata": {
        "colab": {
          "base_uri": "https://localhost:8080/",
          "height": 291
        },
        "id": "Pmr1qlWDPo7a",
        "outputId": "228dc7f4-37e7-4efb-b1f1-024e6bbd2f48"
      },
      "source": [
        "import operator\n",
        "import matplotlib.pyplot as plt\n",
        "\n",
        "top10 = sorted(spending.items(), key = operator.itemgetter(1), reverse=True)[:10]\n",
        "\n",
        "top10_store = []\n",
        "top10_amount = []\n",
        "\n",
        "for t in top10 : \n",
        "    top10_store.append(t[0])\n",
        "    top10_amount.append(t[1])\n",
        "\n",
        "plt.rc('font', family = 'NanumGothic')\n",
        "plt.title('10-12월 지출 TOP 10')\n",
        "plt.barh(top10_store, top10_amount, color = 'b')\n",
        "plt.show()"
      ],
      "execution_count": null,
      "outputs": [
        {
          "output_type": "display_data",
          "data": {
            "image/png": "[encoded data removed]",
            "text/plain": [
              "<Figure size 432x288 with 1 Axes>"
            ]
          },
          "metadata": {
            "tags": [],
            "needs_background": "light"
          }
        }
      ]
    },
    {
      "cell_type": "markdown",
      "metadata": {
        "id": "8SoMNbchPpWV"
      },
      "source": [
        "#### Self Check"
      ]
    },
    {
      "cell_type": "code",
      "metadata": {
        "colab": {
          "base_uri": "https://localhost:8080/"
        },
        "id": "VD6kFbxOPphD",
        "outputId": "04b92cbc-c86f-4918-e076-2d34de6e717d"
      },
      "source": [
        "# 1번\n",
        "import csv\n",
        "\n",
        "f = open('card.csv', encoding='utf8')\n",
        "data = csv.reader(f)\n",
        "next(data)\n",
        "data = list(data)\n",
        "\n",
        "# 취소거래의 총액 구하기\n",
        "cancel =0\n",
        "\n",
        "for row in data : \n",
        "    if row[-1] != '전표매입' : \n",
        "        cancel += int(row[-3])\n",
        "print(cancel)"
      ],
      "execution_count": null,
      "outputs": [
        {
          "output_type": "stream",
          "text": [
            "3245797\n"
          ],
          "name": "stdout"
        }
      ]
    },
    {
      "cell_type": "code",
      "metadata": {
        "colab": {
          "base_uri": "https://localhost:8080/",
          "height": 280
        },
        "id": "lToFkl2mPpjG",
        "outputId": "2d073613-9200-42cf-c256-81a885e802da"
      },
      "source": [
        "# 2번 \n",
        "department = [0,0,0]\n",
        "\n",
        "for row in data : \n",
        "    if row[-1] == '전표매입' : \n",
        "        payment, store = int(row[-3]), row[-4]\n",
        "        if '백화점' in store : \n",
        "            mon = int(row[0].split('-')[1])\n",
        "            idx = mon-10\n",
        "            department[idx]+=payment\n",
        "\n",
        "plt.rc('font', family='NanumGothic')\n",
        "plt.title('10-12월 백화점 이용액')\n",
        "plt.plot(['10월','11월','12월'], department)\n",
        "plt.show()"
      ],
      "execution_count": null,
      "outputs": [
        {
          "output_type": "display_data",
          "data": {
            "image/png": "[encoded data removed]",
            "text/plain": [
              "<Figure size 432x288 with 1 Axes>"
            ]
          },
          "metadata": {
            "tags": [],
            "needs_background": "light"
          }
        }
      ]
    }
  ]
}