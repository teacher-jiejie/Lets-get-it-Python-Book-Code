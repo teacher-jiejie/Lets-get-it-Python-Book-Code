{
  "nbformat": 4,
  "nbformat_minor": 0,
  "metadata": {
    "colab": {
      "name": "7장 - 딕셔너리 : 문자 기준으로 데이터 묶기.ipynb",
      "provenance": [],
      "collapsed_sections": [],
      "authorship_tag": "ABX9TyN8gqeAS3hmB35Gci23Tfue",
      "include_colab_link": true
    },
    "kernelspec": {
      "name": "python3",
      "display_name": "Python 3"
    },
    "language_info": {
      "name": "python"
    }
  },
  "cells": [
    {
      "cell_type": "markdown",
      "metadata": {
        "id": "view-in-github",
        "colab_type": "text"
      },
      "source": [
        "<a href=\"https://colab.research.google.com/github/teacher-jiejie/Lets-get-it-Python-Book-Code/blob/main/7%EC%9E%A5_%EB%94%95%EC%85%94%EB%84%88%EB%A6%AC%20%3A%20%EB%AC%B8%EC%9E%90_%EA%B8%B0%EC%A4%80%EC%9C%BC%EB%A1%9C_%EB%8D%B0%EC%9D%B4%ED%84%B0_%EB%AC%B6%EA%B8%B0.ipynb\" target=\"_parent\"><img src=\"https://colab.research.google.com/assets/colab-badge.svg\" alt=\"Open In Colab\"/></a>"
      ]
    },
    {
      "cell_type": "markdown",
      "metadata": {
        "id": "c-qQltuHqB5x"
      },
      "source": [
        "## 7.1  사전처럼 단어와 의미 연결하기\n",
        "#### 7.1.1  딕셔너리란"
      ]
    },
    {
      "cell_type": "code",
      "metadata": {
        "colab": {
          "base_uri": "https://localhost:8080/"
        },
        "id": "19Yn9vGsqCSY",
        "outputId": "5e07b34d-5efe-4c62-8514-9eca8b7b0080"
      },
      "source": [
        "eng = {'break':'깨어지다', 'bring':'가져오다', 'brush':'붓', 'brave':'용감한'}\n",
        "print(eng)"
      ],
      "execution_count": null,
      "outputs": [
        {
          "output_type": "stream",
          "text": [
            "{'break': '깨어지다', 'bring': '가져오다', 'brush': '붓', 'brave': '용감한'}\n"
          ],
          "name": "stdout"
        }
      ]
    },
    {
      "cell_type": "markdown",
      "metadata": {
        "id": "IcoTXjBUqUHY"
      },
      "source": [
        "#### 7.1.2  딕셔너리의 키와 값"
      ]
    },
    {
      "cell_type": "code",
      "metadata": {
        "colab": {
          "base_uri": "https://localhost:8080/"
        },
        "id": "6yvuUzM_qCVP",
        "outputId": "d98b3db4-cc71-42cf-efab-09a526afa97c"
      },
      "source": [
        "eng = {'break':'깨어지다', 'bring':'가져오다', 'brush':'붓', 'brave':'용감한'}\n",
        "print(eng['break'])"
      ],
      "execution_count": null,
      "outputs": [
        {
          "output_type": "stream",
          "text": [
            "깨어지다\n"
          ],
          "name": "stdout"
        }
      ]
    },
    {
      "cell_type": "code",
      "metadata": {
        "colab": {
          "base_uri": "https://localhost:8080/"
        },
        "id": "iG_-F7zxqCYB",
        "outputId": "27dec6e0-3849-4924-a67f-dfcd38c2007f"
      },
      "source": [
        "eng = {'break':'깨어지다', 'bring':'가져오다', 'brush':'붓', 'brave':'용감한'}\n",
        "print(eng['brush'])\n",
        "print(eng['brave'])"
      ],
      "execution_count": null,
      "outputs": [
        {
          "output_type": "stream",
          "text": [
            "붓\n",
            "용감한\n"
          ],
          "name": "stdout"
        }
      ]
    },
    {
      "cell_type": "code",
      "metadata": {
        "colab": {
          "base_uri": "https://localhost:8080/",
          "height": 186
        },
        "id": "Z9oIQSCEqCa3",
        "outputId": "f6c569ea-7d90-4188-a1fe-5391a4cf892d"
      },
      "source": [
        "eng = {'break':'깨어지다', 'bring':'가져오다', 'brush':'붓', 'brave':'용감한'}\n",
        "print(eng['brief'])"
      ],
      "execution_count": null,
      "outputs": [
        {
          "output_type": "error",
          "ename": "KeyError",
          "evalue": "ignored",
          "traceback": [
            "\u001b[0;31m---------------------------------------------------------------------------\u001b[0m",
            "\u001b[0;31mKeyError\u001b[0m                                  Traceback (most recent call last)",
            "\u001b[0;32m<ipython-input-4-dae7e9026a78>\u001b[0m in \u001b[0;36m<module>\u001b[0;34m()\u001b[0m\n\u001b[1;32m      1\u001b[0m \u001b[0meng\u001b[0m \u001b[0;34m=\u001b[0m \u001b[0;34m{\u001b[0m\u001b[0;34m'break'\u001b[0m \u001b[0;34m:\u001b[0m \u001b[0;34m'깨어지다'\u001b[0m\u001b[0;34m,\u001b[0m \u001b[0;34m'bring'\u001b[0m\u001b[0;34m:\u001b[0m\u001b[0;34m'가져오다'\u001b[0m\u001b[0;34m,\u001b[0m \u001b[0;34m'brush'\u001b[0m \u001b[0;34m:\u001b[0m \u001b[0;34m'붓'\u001b[0m\u001b[0;34m,\u001b[0m \u001b[0;34m'brave'\u001b[0m\u001b[0;34m:\u001b[0m\u001b[0;34m'용감한'\u001b[0m\u001b[0;34m}\u001b[0m\u001b[0;34m\u001b[0m\u001b[0;34m\u001b[0m\u001b[0m\n\u001b[0;32m----> 2\u001b[0;31m \u001b[0mprint\u001b[0m\u001b[0;34m(\u001b[0m\u001b[0meng\u001b[0m\u001b[0;34m[\u001b[0m\u001b[0;34m'brief'\u001b[0m\u001b[0;34m]\u001b[0m\u001b[0;34m)\u001b[0m\u001b[0;34m\u001b[0m\u001b[0;34m\u001b[0m\u001b[0m\n\u001b[0m",
            "\u001b[0;31mKeyError\u001b[0m: 'brief'"
          ]
        }
      ]
    },
    {
      "cell_type": "code",
      "metadata": {
        "colab": {
          "base_uri": "https://localhost:8080/"
        },
        "id": "o9Dm09aTqCdY",
        "outputId": "b99b355e-31a9-4fbe-ebb2-2f4987996d07"
      },
      "source": [
        "eng = {'break':'깨어지다', 'bring':'가져오다', 'brush':'붓', 'brush':'빗', 'brave':'용감한'}\n",
        "print(eng['brush'])"
      ],
      "execution_count": null,
      "outputs": [
        {
          "output_type": "stream",
          "text": [
            "빗\n"
          ],
          "name": "stdout"
        }
      ]
    },
    {
      "cell_type": "code",
      "metadata": {
        "colab": {
          "base_uri": "https://localhost:8080/"
        },
        "id": "r6J5BPDCqCfp",
        "outputId": "d09ecb8f-172e-4296-cee7-7a85421988fd"
      },
      "source": [
        "print(eng)"
      ],
      "execution_count": null,
      "outputs": [
        {
          "output_type": "stream",
          "text": [
            "{'break': '깨어지다', 'bring': '가져오다', 'brush': '빗', 'brave': '용감한'}\n"
          ],
          "name": "stdout"
        }
      ]
    },
    {
      "cell_type": "code",
      "metadata": {
        "colab": {
          "base_uri": "https://localhost:8080/"
        },
        "id": "lJU8mayyqCiD",
        "outputId": "ce19d830-8efb-464a-9f0b-53e7cc0e8b99"
      },
      "source": [
        "menu = {'김밥':2500, '참치김밥': 3500, '라면':3000, '치즈라면': 4000}\n",
        "eat = input('어떤 메뉴를 드시겠습니까? ')\n",
        "print(menu[eat],'원 입니다.')"
      ],
      "execution_count": null,
      "outputs": [
        {
          "output_type": "stream",
          "text": [
            "어떤 메뉴를 드시겠습니까? 참치김밥\n",
            "3500 원 입니다.\n"
          ],
          "name": "stdout"
        }
      ]
    },
    {
      "cell_type": "markdown",
      "metadata": {
        "id": "O_1Abqm9qCsS"
      },
      "source": [
        "#### 7.1.3  데이터 변경, 추가, 삭제하기"
      ]
    },
    {
      "cell_type": "code",
      "metadata": {
        "colab": {
          "base_uri": "https://localhost:8080/"
        },
        "id": "b23epLyuqCkj",
        "outputId": "56df24ab-8dd5-4389-8472-d4077fc2b5e5"
      },
      "source": [
        "# 값 변경하기\n",
        "menu = {'김밥':2500, '참치김밥': 3500, '라면':3000, '치즈라면': 4000}\n",
        "menu['참치김밥'] = 3000\n",
        "print(menu)"
      ],
      "execution_count": null,
      "outputs": [
        {
          "output_type": "stream",
          "text": [
            "{'김밥': 2500, '참치김밥': 3000, '라면': 3000, '치즈라면': 4000}\n"
          ],
          "name": "stdout"
        }
      ]
    },
    {
      "cell_type": "code",
      "metadata": {
        "colab": {
          "base_uri": "https://localhost:8080/"
        },
        "id": "1QmkGSOQqCnJ",
        "outputId": "bc6bb034-3d9e-4b3f-b1b9-a3b7b586d29c"
      },
      "source": [
        "menu['라면'] = 2500\n",
        "print(menu)\n",
        "menu['치즈라면'] = 3500\n",
        "print(menu)"
      ],
      "execution_count": null,
      "outputs": [
        {
          "output_type": "stream",
          "text": [
            "{'김밥': 2500, '참치김밥': 3000, '라면': 2500, '치즈라면': 4000}\n",
            "{'김밥': 2500, '참치김밥': 3000, '라면': 2500, '치즈라면': 3500}\n"
          ],
          "name": "stdout"
        }
      ]
    },
    {
      "cell_type": "code",
      "metadata": {
        "colab": {
          "base_uri": "https://localhost:8080/"
        },
        "id": "unByMybhqCyE",
        "outputId": "1f990048-96c4-4603-bb06-9eb9036c2387"
      },
      "source": [
        "menu = {'김밥':2500, '참치김밥': 3500, '라면':3000, '치즈라면': 4000}\n",
        "menu['김밥'] += 500\n",
        "print(menu)"
      ],
      "execution_count": null,
      "outputs": [
        {
          "output_type": "stream",
          "text": [
            "{'김밥': 3000, '참치김밥': 3500, '라면': 3000, '치즈라면': 4000}\n"
          ],
          "name": "stdout"
        }
      ]
    },
    {
      "cell_type": "code",
      "metadata": {
        "colab": {
          "base_uri": "https://localhost:8080/"
        },
        "id": "CM9i199oqC0u",
        "outputId": "c8f2a6f2-bdc0-429d-9676-5e9c85791c74"
      },
      "source": [
        "menu['참치김밥'] -= 800\n",
        "print(menu)"
      ],
      "execution_count": null,
      "outputs": [
        {
          "output_type": "stream",
          "text": [
            "{'김밥': 3000, '참치김밥': 2700, '라면': 3000, '치즈라면': 4000}\n"
          ],
          "name": "stdout"
        }
      ]
    },
    {
      "cell_type": "code",
      "metadata": {
        "colab": {
          "base_uri": "https://localhost:8080/"
        },
        "id": "2WEj0i7wqC3H",
        "outputId": "08890b5e-897f-4324-d2e7-d103a5b85e84"
      },
      "source": [
        "# 키-값 추기하기\n",
        "menu = {'김밥':2500, '참치김밥': 3500, '라면':3000, '치즈라면': 4000}\n",
        "menu['돈가스'] = 6000\n",
        "print(menu)"
      ],
      "execution_count": null,
      "outputs": [
        {
          "output_type": "stream",
          "text": [
            "{'김밥': 2500, '참치김밥': 3500, '라면': 3000, '치즈라면': 4000, '돈가스': 6000}\n"
          ],
          "name": "stdout"
        }
      ]
    },
    {
      "cell_type": "code",
      "metadata": {
        "colab": {
          "base_uri": "https://localhost:8080/"
        },
        "id": "-kFM2yfsqC5n",
        "outputId": "2beafbbd-666d-4d69-a068-bc35b68b0a94"
      },
      "source": [
        "menu['돈가스'] = 6500\n",
        "print(menu)"
      ],
      "execution_count": null,
      "outputs": [
        {
          "output_type": "stream",
          "text": [
            "{'김밥': 2500, '참치김밥': 3500, '라면': 3000, '치즈라면': 4000, '돈가스': 6500}\n"
          ],
          "name": "stdout"
        }
      ]
    },
    {
      "cell_type": "code",
      "metadata": {
        "colab": {
          "base_uri": "https://localhost:8080/"
        },
        "id": "W_HY52jKqC8G",
        "outputId": "81481270-7ef3-444e-ad69-2bec482099a6"
      },
      "source": [
        "eng = {}\n",
        "print(eng)\n",
        "\n",
        "eng['강아지']='dog'\n",
        "print(eng)\n",
        "\n",
        "eng['돼지']='cat'\n",
        "print(eng)"
      ],
      "execution_count": null,
      "outputs": [
        {
          "output_type": "stream",
          "text": [
            "{}\n",
            "{'강아지': 'dog'}\n",
            "{'강아지': 'dog', '돼지': 'cat'}\n"
          ],
          "name": "stdout"
        }
      ]
    },
    {
      "cell_type": "code",
      "metadata": {
        "colab": {
          "base_uri": "https://localhost:8080/"
        },
        "id": "AInpNzduqC-o",
        "outputId": "f76ad668-17b0-4878-9ee4-144b22fa6960"
      },
      "source": [
        "menu = {'김밥':2500, '참치김밥': 3500, '라면':3000, '치즈라면': 4000}\n",
        "name = input('추가할 메뉴는? ')\n",
        "price = int(input('메뉴의 가격은? '))\n",
        "\n",
        "menu[name] = price\n",
        "print(menu)"
      ],
      "execution_count": null,
      "outputs": [
        {
          "output_type": "stream",
          "text": [
            "추가할 메뉴는? 쫄면\n",
            "메뉴의 가격은? 4000\n",
            "{'김밥': 2500, '참치김밥': 3500, '라면': 3000, '치즈라면': 4000, '쫄면': 4000}\n"
          ],
          "name": "stdout"
        }
      ]
    },
    {
      "cell_type": "code",
      "metadata": {
        "colab": {
          "base_uri": "https://localhost:8080/"
        },
        "id": "ytQXQEk5qDA0",
        "outputId": "f25121e6-9cc5-437a-d488-be3492d4ece9"
      },
      "source": [
        "# 키-값 삭제하기\n",
        "menu = {'김밥':2500, '참치김밥':3500, '라면':3000, '치즈라면':4000}\n",
        "\n",
        "del menu['치즈라면']\n",
        "print(menu)"
      ],
      "execution_count": null,
      "outputs": [
        {
          "output_type": "stream",
          "text": [
            "{'김밥': 2500, '참치김밥': 3500, '라면': 3000}\n"
          ],
          "name": "stdout"
        }
      ]
    },
    {
      "cell_type": "markdown",
      "metadata": {
        "id": "WO4O5uv0qDIK"
      },
      "source": [
        "#### 7.1.4  다양한 명령어 사용하기"
      ]
    },
    {
      "cell_type": "code",
      "metadata": {
        "colab": {
          "base_uri": "https://localhost:8080/"
        },
        "id": "CEGDE-aQqDC7",
        "outputId": "18e88513-2057-4149-edc2-c1bc60d47fcf"
      },
      "source": [
        "# 딕셔너리의 키만 꺼내기 : keys()\n",
        "mart ={'과자':1500, '아이스크림':1700, '휴지':4800, '고기':10500, '우유':2600}\n",
        "print(mart.keys())"
      ],
      "execution_count": null,
      "outputs": [
        {
          "output_type": "stream",
          "text": [
            "dict_keys(['과자', '아이스크림', '휴지', '고기', '우유'])\n"
          ],
          "name": "stdout"
        }
      ]
    },
    {
      "cell_type": "code",
      "metadata": {
        "colab": {
          "base_uri": "https://localhost:8080/"
        },
        "id": "hOoBA7fNqDNy",
        "outputId": "e24f0cbc-d626-49b7-b121-1d69118cd0b2"
      },
      "source": [
        "type(mart.keys())"
      ],
      "execution_count": null,
      "outputs": [
        {
          "output_type": "execute_result",
          "data": {
            "text/plain": [
              "dict_keys"
            ]
          },
          "metadata": {
            "tags": []
          },
          "execution_count": 19
        }
      ]
    },
    {
      "cell_type": "code",
      "metadata": {
        "colab": {
          "base_uri": "https://localhost:8080/"
        },
        "id": "e3FhnlewqDQW",
        "outputId": "dafc454a-4a8b-41ef-8533-f52db66e95d2"
      },
      "source": [
        "# 딕셔너리의 값만 꺼내기: values()\n",
        "mart ={'과자':1500, '아이스크림':1700, '휴지':4800, '고기':10500, '우유':2600}\n",
        "print(mart.values())"
      ],
      "execution_count": null,
      "outputs": [
        {
          "output_type": "stream",
          "text": [
            "dict_values([1500, 1700, 4800, 10500, 2600])\n"
          ],
          "name": "stdout"
        }
      ]
    },
    {
      "cell_type": "code",
      "metadata": {
        "colab": {
          "base_uri": "https://localhost:8080/"
        },
        "id": "OnLU4tQZqDS8",
        "outputId": "842c82a6-77bf-4338-fd5b-17cd54edbce2"
      },
      "source": [
        "# 추출한 결괏값을 리스트로 바꾸기\n",
        "mart ={'과자':1500, '아이스크림':1700, '휴지':4800, '고기':10500, '우유':2600}\n",
        "print(list(mart.keys()))"
      ],
      "execution_count": null,
      "outputs": [
        {
          "output_type": "stream",
          "text": [
            "['과자', '아이스크림', '휴지', '고기', '우유']\n"
          ],
          "name": "stdout"
        }
      ]
    },
    {
      "cell_type": "code",
      "metadata": {
        "colab": {
          "base_uri": "https://localhost:8080/"
        },
        "id": "JMIfybdwqDVa",
        "outputId": "09b19373-fbf9-40fb-c3e3-3c78fb4bf501"
      },
      "source": [
        "mart ={'과자':1500, '아이스크림':1700, '휴지':4800, '고기':10500, '우유':2600}\n",
        "print(list(mart.values()))"
      ],
      "execution_count": null,
      "outputs": [
        {
          "output_type": "stream",
          "text": [
            "[1500, 1700, 4800, 10500, 2600]\n"
          ],
          "name": "stdout"
        }
      ]
    },
    {
      "cell_type": "code",
      "metadata": {
        "colab": {
          "base_uri": "https://localhost:8080/"
        },
        "id": "1GgjTJf4qDYJ",
        "outputId": "0f28e45a-f280-44c6-f2e3-fed6a8fdedc6"
      },
      "source": [
        "# 딕셔너리의 키-값 꺼내기 : items()\n",
        "mart ={'과자':1500, '아이스크림':1700, '휴지':4800, '고기':10500, '우유':2600}\n",
        "print(mart.items())"
      ],
      "execution_count": null,
      "outputs": [
        {
          "output_type": "stream",
          "text": [
            "dict_items([('과자', 1500), ('아이스크림', 1700), ('휴지', 4800), ('고기', 10500), ('우유', 2600)])\n"
          ],
          "name": "stdout"
        }
      ]
    },
    {
      "cell_type": "code",
      "metadata": {
        "id": "GNRPcvWMqDaZ",
        "colab": {
          "base_uri": "https://localhost:8080/"
        },
        "outputId": "29e5f3d1-3da8-4d77-d376-7c68e660d03e"
      },
      "source": [
        "# 키를 기준으로 딕셔너리 정렬하기 : sorted()\n",
        "mart ={'과자':1500, '아이스크림':1700, '휴지':4800, '고기':10500, '우유':2600}\n",
        "print(sorted(mart.keys()))"
      ],
      "execution_count": null,
      "outputs": [
        {
          "output_type": "stream",
          "text": [
            "['고기', '과자', '아이스크림', '우유', '휴지']\n"
          ],
          "name": "stdout"
        }
      ]
    },
    {
      "cell_type": "code",
      "metadata": {
        "id": "kkjgeWu5qDc0",
        "colab": {
          "base_uri": "https://localhost:8080/"
        },
        "outputId": "90a05790-ba97-44a0-bc38-be11afb13f3d"
      },
      "source": [
        "# 키를 기준으로 딕셔너리 역순 정렬하기 : reverse = True\n",
        "mart ={'과자':1500, '아이스크림':1700, '휴지':4800, '고기':10500, '우유':2600}\n",
        "print(sorted(mart.keys(), reverse = True))"
      ],
      "execution_count": null,
      "outputs": [
        {
          "output_type": "stream",
          "text": [
            "['휴지', '우유', '아이스크림', '과자', '고기']\n"
          ],
          "name": "stdout"
        }
      ]
    },
    {
      "cell_type": "code",
      "metadata": {
        "id": "k2jmqdNlqDfK",
        "colab": {
          "base_uri": "https://localhost:8080/"
        },
        "outputId": "51b0da73-49d4-4766-dded-0f0e53c53312"
      },
      "source": [
        "mart ={'과자':1500, '아이스크림':1700, '휴지':4800, '고기':10500, '우유':2600}\n",
        "print(sorted(mart.keys())[:2])"
      ],
      "execution_count": null,
      "outputs": [
        {
          "output_type": "stream",
          "text": [
            "['고기', '과자']\n"
          ],
          "name": "stdout"
        }
      ]
    },
    {
      "cell_type": "code",
      "metadata": {
        "id": "U9pR4sbVqDhn",
        "colab": {
          "base_uri": "https://localhost:8080/"
        },
        "outputId": "b66400d3-4231-48bb-b999-71ae4c0f352f"
      },
      "source": [
        "# 값을 기준으로 딕셔너리 정렬하기 : sorted()\n",
        "mart ={'과자':1500, '아이스크림':1700, '휴지':4800, '고기':10500, '우유':2600}\n",
        "print(sorted(mart.values()))"
      ],
      "execution_count": null,
      "outputs": [
        {
          "output_type": "stream",
          "text": [
            "[1500, 1700, 2600, 4800, 10500]\n"
          ],
          "name": "stdout"
        }
      ]
    },
    {
      "cell_type": "code",
      "metadata": {
        "colab": {
          "base_uri": "https://localhost:8080/"
        },
        "id": "t6YdZpXnY5TN",
        "outputId": "7316c979-7a18-4acb-bbea-e17377b632d2"
      },
      "source": [
        "# 값을 기준으로 딕셔너리 역순 정렬하기 : reverse = True\n",
        "mart ={'과자':1500, '아이스크림':1700, '휴지':4800, '고기':10500, '우유':2600}\n",
        "print(sorted(mart.values(), reverse = True))"
      ],
      "execution_count": null,
      "outputs": [
        {
          "output_type": "stream",
          "text": [
            "[10500, 4800, 2600, 1700, 1500]\n"
          ],
          "name": "stdout"
        }
      ]
    },
    {
      "cell_type": "code",
      "metadata": {
        "colab": {
          "base_uri": "https://localhost:8080/"
        },
        "id": "yyadeTEoY5Vg",
        "outputId": "dcaf76f5-a1b5-4ef8-8c6b-f795f1087fe4"
      },
      "source": [
        "mart ={'과자':1500, '아이스크림':1700, '휴지':4800, '고기':10500, '우유':2600}\n",
        "print(sorted(mart.values())[:2])"
      ],
      "execution_count": null,
      "outputs": [
        {
          "output_type": "stream",
          "text": [
            "[1500, 1700]\n"
          ],
          "name": "stdout"
        }
      ]
    },
    {
      "cell_type": "code",
      "metadata": {
        "colab": {
          "base_uri": "https://localhost:8080/"
        },
        "id": "tgpxPa7OY5YA",
        "outputId": "47cf5e45-07a9-475e-db99-5114d41876f2"
      },
      "source": [
        "mart ={'과자':1500, '아이스크림':1700, '휴지':4800, '고기':10500, '우유':2600}\n",
        "print(sorted(mart.values(), reverse= True)[:3])"
      ],
      "execution_count": null,
      "outputs": [
        {
          "output_type": "stream",
          "text": [
            "[10500, 4800, 2600]\n"
          ],
          "name": "stdout"
        }
      ]
    },
    {
      "cell_type": "code",
      "metadata": {
        "colab": {
          "base_uri": "https://localhost:8080/"
        },
        "id": "acKx53irY5bS",
        "outputId": "40bde512-c2e6-4a75-c20e-1dac19a28ff6"
      },
      "source": [
        "# 키-값 쌍을 묶어서 딕셔너리 정렬하기 : sorted()\n",
        "mart ={'과자':1500, '아이스크림':1700, '휴지':4800, '고기':10500, '우유':2600}\n",
        "print(sorted(mart.items()))"
      ],
      "execution_count": null,
      "outputs": [
        {
          "output_type": "stream",
          "text": [
            "[('고기', 10500), ('과자', 1500), ('아이스크림', 1700), ('우유', 2600), ('휴지', 4800)]\n"
          ],
          "name": "stdout"
        }
      ]
    },
    {
      "cell_type": "code",
      "metadata": {
        "colab": {
          "base_uri": "https://localhost:8080/"
        },
        "id": "U0-g7vVKcMvS",
        "outputId": "5cceb699-fc55-4059-f7de-9abf443cc456"
      },
      "source": [
        "# 키-값 쌍을 묶어서 딕셔너리 역순 정렬하기 : sorted()\n",
        "mart ={'과자':1500, '아이스크림':1700, '휴지':4800, '고기':10500, '우유':2600}\n",
        "print(sorted(mart.items(), reverse = True))"
      ],
      "execution_count": null,
      "outputs": [
        {
          "output_type": "stream",
          "text": [
            "[('휴지', 4800), ('우유', 2600), ('아이스크림', 1700), ('과자', 1500), ('고기', 10500)]\n"
          ],
          "name": "stdout"
        }
      ]
    },
    {
      "cell_type": "code",
      "metadata": {
        "colab": {
          "base_uri": "https://localhost:8080/"
        },
        "id": "DkF6bBLAcMxx",
        "outputId": "0e8cea12-0764-46ab-8ee0-77202b0d9877"
      },
      "source": [
        "# 값을 기준으로 키-값 쌍 정렬하기 : sorted()\n",
        "import operator\n",
        "\n",
        "mart ={'과자':1500, '아이스크림':1700, '휴지':4800, '고기':10500, '우유':2600}\n",
        "print(sorted(mart.items(), key=operator.itemgetter(1)))"
      ],
      "execution_count": null,
      "outputs": [
        {
          "output_type": "stream",
          "text": [
            "[('과자', 1500), ('아이스크림', 1700), ('우유', 2600), ('휴지', 4800), ('고기', 10500)]\n"
          ],
          "name": "stdout"
        }
      ]
    },
    {
      "cell_type": "code",
      "metadata": {
        "colab": {
          "base_uri": "https://localhost:8080/"
        },
        "id": "TPBBRQ08cMz-",
        "outputId": "13d88fdd-a19a-4a8e-d423-c241326d991b"
      },
      "source": [
        "# 값을 기준으로 키-값 쌍 역순 정렬하기 : sorted()\n",
        "import operator\n",
        "\n",
        "mart ={'과자':1500, '아이스크림':1700, '휴지':4800, '고기':10500, '우유':2600}\n",
        "print(sorted(mart.items(), key=operator.itemgetter(1), reverse= True))"
      ],
      "execution_count": null,
      "outputs": [
        {
          "output_type": "stream",
          "text": [
            "[('고기', 10500), ('휴지', 4800), ('우유', 2600), ('아이스크림', 1700), ('과자', 1500)]\n"
          ],
          "name": "stdout"
        }
      ]
    },
    {
      "cell_type": "code",
      "metadata": {
        "colab": {
          "base_uri": "https://localhost:8080/"
        },
        "id": "tZBbgQhKcM29",
        "outputId": "a1e35eb0-0dcd-4e46-eda9-bcfe83857380"
      },
      "source": [
        "import operator\n",
        "\n",
        "mart ={'과자':1500, '아이스크림':1700, '휴지':4800, '고기':10500, '우유':2600}\n",
        "print(sorted(mart.items(), key=operator.itemgetter(1))[:2])"
      ],
      "execution_count": null,
      "outputs": [
        {
          "output_type": "stream",
          "text": [
            "[('과자', 1500), ('아이스크림', 1700)]\n"
          ],
          "name": "stdout"
        }
      ]
    },
    {
      "cell_type": "markdown",
      "metadata": {
        "id": "Wxq6de8WqDnP"
      },
      "source": [
        "## 7.2 제어구조로 딕셔너리 다루기\n",
        "#### 7.2.1  조건문으로 딕셔너리 다루기"
      ]
    },
    {
      "cell_type": "code",
      "metadata": {
        "id": "iuH7sqAAqDsQ",
        "colab": {
          "base_uri": "https://localhost:8080/"
        },
        "outputId": "2ddac876-b43e-4c53-c705-cb161d619736"
      },
      "source": [
        "midterm = {'도윤':43, '하윤':82, '시우':76, '지유':61, '주원':94}\n",
        "student = input('어떤 학생의 점수가 궁금하신가요? ')\n",
        "\n",
        "if student in midterm.keys() : \n",
        "    print(midterm[student],'입니다')\n",
        "else : \n",
        "    print('해당 학생은 없습니다.')"
      ],
      "execution_count": null,
      "outputs": [
        {
          "output_type": "stream",
          "text": [
            "어떤 학생의 점수가 궁금하신가요? 하윤\n",
            "82 입니다\n"
          ],
          "name": "stdout"
        }
      ]
    },
    {
      "cell_type": "markdown",
      "metadata": {
        "id": "Uk1J9AkRdQ5p"
      },
      "source": [
        "#### 7.2.2  반복문으로 딕셔너리 다루기"
      ]
    },
    {
      "cell_type": "code",
      "metadata": {
        "id": "T3Ult0REqDuh",
        "colab": {
          "base_uri": "https://localhost:8080/"
        },
        "outputId": "66e9daaa-af55-4799-b2b8-e2a00c469a62"
      },
      "source": [
        "midterm = {'도윤':43, '하윤':82, '시우':76, '지유':61, '주원':94}\n",
        "\n",
        "for k in midterm.keys() : \n",
        "    print(k, end=' ')"
      ],
      "execution_count": null,
      "outputs": [
        {
          "output_type": "stream",
          "text": [
            "도윤 하윤 시우 지유 주원 "
          ],
          "name": "stdout"
        }
      ]
    },
    {
      "cell_type": "code",
      "metadata": {
        "id": "w7zZFB13qDxI",
        "colab": {
          "base_uri": "https://localhost:8080/"
        },
        "outputId": "d1ee8e5e-d8c1-4e8a-885b-22d1866e2bdc"
      },
      "source": [
        "midterm = {'도윤':43, '하윤':82, '시우':76, '지유':61, '주원':94}\n",
        "\n",
        "for v in midterm.values() : \n",
        "    print(v, end=' ')"
      ],
      "execution_count": null,
      "outputs": [
        {
          "output_type": "stream",
          "text": [
            "43 82 76 61 94 "
          ],
          "name": "stdout"
        }
      ]
    },
    {
      "cell_type": "code",
      "metadata": {
        "id": "sfZm5XM3qDzm",
        "colab": {
          "base_uri": "https://localhost:8080/"
        },
        "outputId": "cbc154e9-9919-4e34-f324-3f8cb25677cf"
      },
      "source": [
        "midterm = {'도윤':43, '하윤':82, '시우':76, '지유':61, '주원':94}\n",
        "\n",
        "for k in midterm.keys() : \n",
        "    print(k, midterm[k], end=' ')"
      ],
      "execution_count": null,
      "outputs": [
        {
          "output_type": "stream",
          "text": [
            "도윤 43 하윤 82 시우 76 지유 61 주원 94 "
          ],
          "name": "stdout"
        }
      ]
    },
    {
      "cell_type": "code",
      "metadata": {
        "id": "UmJmB4PgqD2C",
        "colab": {
          "base_uri": "https://localhost:8080/"
        },
        "outputId": "10f539ab-58b6-4a41-8dff-7d2e10b05a7a"
      },
      "source": [
        "midterm = {'도윤':43, '하윤':82, '시우':76, '지유':61, '주원':94}\n",
        "\n",
        "for i in midterm.items() : \n",
        "    print(i, end=' ')"
      ],
      "execution_count": null,
      "outputs": [
        {
          "output_type": "stream",
          "text": [
            "('도윤', 43) ('하윤', 82) ('시우', 76) ('지유', 61) ('주원', 94) "
          ],
          "name": "stdout"
        }
      ]
    },
    {
      "cell_type": "code",
      "metadata": {
        "id": "al7Yt8b9qD4c",
        "colab": {
          "base_uri": "https://localhost:8080/"
        },
        "outputId": "8c8c0fd8-2cca-43d2-8b3f-1c0d2e44a018"
      },
      "source": [
        "midterm = {'도윤':43, '하윤':82, '시우':76, '지유':61, '주원':94}\n",
        "\n",
        "for k, v in midterm.items() : \n",
        "    print(k, v, end=' ')"
      ],
      "execution_count": null,
      "outputs": [
        {
          "output_type": "stream",
          "text": [
            "도윤 43 하윤 82 시우 76 지유 61 주원 94 "
          ],
          "name": "stdout"
        }
      ]
    },
    {
      "cell_type": "markdown",
      "metadata": {
        "id": "jfR-amSmd433"
      },
      "source": [
        "#### 7.2.3  중첩 제어구조로 딕셔너리 다루기"
      ]
    },
    {
      "cell_type": "code",
      "metadata": {
        "id": "CkuPxNeeqD9z",
        "colab": {
          "base_uri": "https://localhost:8080/"
        },
        "outputId": "a798a526-ea51-4472-8c52-fd8346e3e88b"
      },
      "source": [
        "midterm = {'도윤':43, '하윤':82, '시우':76, '지유':61, '주원':94}\n",
        "\n",
        "for k, v in midterm.items() :\n",
        "    if v >= 70 : \n",
        "        print(k, v)"
      ],
      "execution_count": null,
      "outputs": [
        {
          "output_type": "stream",
          "text": [
            "하윤 82\n",
            "시우 76\n",
            "주원 94\n"
          ],
          "name": "stdout"
        }
      ]
    },
    {
      "cell_type": "markdown",
      "metadata": {
        "id": "ko2kVVVLJ5DW"
      },
      "source": [
        "#### 7.2.4  딕셔너리로 간단한 프로그램 만들기"
      ]
    },
    {
      "cell_type": "code",
      "metadata": {
        "id": "DVtVzZSCd926"
      },
      "source": [
        "# 빈도순으로 단어장 만들기\n",
        "alibaba = \"in a town of persia lived two brothers , sons of a poor man , one named cassim , the other alibaba . cassim , the elder , married a wife with a considerable fortune , and lived at his ease , but the wife of alibaba was as poor as himself . they dwelt in a mean cottage in the suburbs , and he maintained his family by cutting wood . alibaba was in the forest preparing to load his asses with the faggots he had cut , when he saw a troop of horsemen approaching . he hastily climbed a large thick tree , and hid himself among the branches . alibaba counted forty of them , each took a loaded portmanteau from his horse , and turning to the rock , said , open , sesame immediately a door opened , the robbers passed in , when the door shut of itself . in a short time the door opened again , and the robbers came out , who said , shut , sesame . the door instantly closed . alibaba ventured down , and approaching the rock , said , open , sesame . immediately the door flew open . he brought his asses , and took as many bags of gold coin as they could carry . alibaba told his brother the secret of the cave . cassim rose early next morning , and set out with ten mules loaded with great chests . he found the rock , and having said , open sesame , gained admission , where he found more treasures than he expected , which made him forget the word that caused the door to open . presently he heard the sound of horses feet , which he concluded to be the robbers , who instantly put him to death . alibaba drove to the forest , and on entering the cave , he found the body of his brother cut into quarters . he took the quarters , and put them upon one of his asses , and delivered the body to cassim wife . morgiana , a female slave in his brother house , was sent early next morning to a poor cobbler , and gave him two pieces of gold to go with her blindfolded , taking him into the room where the body was lying , bade him sew the mangled limbs together . mustapha obeyed , having received two pieces of gold , and was led blindfolded the same way back . cassim was buried with all due solemnity , and alibaba removed to the house of his deceased brother , of which he took possession . the captain of the troop resolved to find out who possessed the secret of entrance into his cave , and disguising himself , went to the city early one morning , when , accosting the cobbler , he was told of the job he had , who for six pieces of gold , allowed himself to be blindfolded , and traced out the house of cassim , which the robber marked with chalk . buying nineteen mules and thirty-nine large jars , one full of oil , and the rest empty , the captain put a man into each jar , properly armed , and then proceeded to the street where alibaba dwelt . sir , said he , i have brought this oil a great way to sell , as i am quite a stranger , will you let me put my mules into your courtyard , and direct me where i may lodge to-night ? alibaba welcomed the pretended oil merchant , offered him a bed in his own house , and invited his guest in to supper . morgiana , sitting up later that night than usual , her lamp went out . she took her oil pot in her hand , and approaching the first jar , the robber within said is it time , captain ? she replied , no , not yet . so she ran back to the kitchen , and brought out a large kettle , which she filled with oil , set it on a great wood fire , and as soon as it boiled , she went and poured into the jars sufficient of the boiling oil to kill every man within . the captain of the robbers arose to assemble his men . coming to the first jar , he felt the steam of the boiled oil ! he ran hastily to the rest , and found every one of his troop put to death . full of rage , he forced the lock of the door , and made his escape over the walls . without letting any one into the secret , alibaba and morgiana the next night buried the thirty-nine thieves at the bottom of the garden . the captain at length , however , determined to adopt a new scheme for the destruction of alibaba . he removed all the valuable merchandise from the cave to the city , and took a shop exactly opposite to alibaba house . alibaba son went every day to his shop . the pretended cogia hassan soon appeared to be very fond of alibaba son , offered him many presents , and often detained him to dinner . alibaba thought it was necessary to make some return to these civilities , and he invited cogia hassan to supper , morgiana carried in the first dish herself . the moment she looked at cogia hassan , she knew it was the pretended oil merchant . she sent the other slaves into the kitchen , and waited at table herself , and while cogia hassan was drinking , she perceived he had a dagger hid under his coat . she went away , and dressed herself in the habit of a dancing-girl . as soon as she appeared at the parlor door , her master ordered her to come in to entertain his guest with some of her best dancing . morgiana danced several times before the assembled company , until , coming opposite cogia hassan , she drew a dagger from her girdle and plunged it into the robber heart . as a reward for her faithfulness , alibaba gave her in marriage to his son , and at his death put them in possession of his immense wealth .\"\n",
        "\n",
        "vocab = {}\n",
        "word_list = alibaba.split()"
      ],
      "execution_count": null,
      "outputs": []
    },
    {
      "cell_type": "code",
      "metadata": {
        "id": "sS4LtbDld95c",
        "colab": {
          "base_uri": "https://localhost:8080/"
        },
        "outputId": "00363b69-8161-46d1-a05e-0fc5634b398e"
      },
      "source": [
        "for w in word_list : \n",
        "    if w not in vocab : \n",
        "        vocab[w] = 1\n",
        "    else : \n",
        "        vocab[w] +=1\n",
        "print(vocab)"
      ],
      "execution_count": null,
      "outputs": [
        {
          "output_type": "stream",
          "text": [
            "{'in': 15, 'a': 24, 'town': 1, 'of': 33, 'persia': 1, 'lived': 2, 'two': 3, 'brothers': 1, ',': 103, 'sons': 1, 'poor': 3, 'man': 3, 'one': 6, 'named': 1, 'cassim': 6, 'the': 78, 'other': 2, 'alibaba': 17, '.': 41, 'elder': 1, 'married': 1, 'wife': 3, 'with': 9, 'considerable': 1, 'fortune': 1, 'and': 37, 'at': 7, 'his': 22, 'ease': 1, 'but': 1, 'was': 10, 'as': 10, 'himself': 4, 'they': 2, 'dwelt': 2, 'mean': 1, 'cottage': 1, 'suburbs': 1, 'he': 22, 'maintained': 1, 'family': 1, 'by': 1, 'cutting': 1, 'wood': 2, 'forest': 2, 'preparing': 1, 'to': 34, 'load': 1, 'asses': 3, 'faggots': 1, 'had': 3, 'cut': 2, 'when': 3, 'saw': 1, 'troop': 3, 'horsemen': 1, 'approaching': 3, 'hastily': 2, 'climbed': 1, 'large': 3, 'thick': 1, 'tree': 1, 'hid': 2, 'among': 1, 'branches': 1, 'counted': 1, 'forty': 1, 'them': 3, 'each': 2, 'took': 6, 'loaded': 2, 'portmanteau': 1, 'from': 3, 'horse': 1, 'turning': 1, 'rock': 3, 'said': 6, 'open': 5, 'sesame': 4, 'immediately': 2, 'door': 8, 'opened': 2, 'robbers': 4, 'passed': 1, 'shut': 2, 'itself': 1, 'short': 1, 'time': 2, 'again': 1, 'came': 1, 'out': 6, 'who': 4, 'instantly': 2, 'closed': 1, 'ventured': 1, 'down': 1, 'flew': 1, 'brought': 3, 'many': 2, 'bags': 1, 'gold': 4, 'coin': 1, 'could': 1, 'carry': 1, 'told': 2, 'brother': 4, 'secret': 3, 'cave': 4, 'rose': 1, 'early': 3, 'next': 3, 'morning': 3, 'set': 2, 'ten': 1, 'mules': 3, 'great': 3, 'chests': 1, 'found': 4, 'having': 2, 'gained': 1, 'admission': 1, 'where': 4, 'more': 1, 'treasures': 1, 'than': 2, 'expected': 1, 'which': 5, 'made': 2, 'him': 8, 'forget': 1, 'word': 1, 'that': 2, 'caused': 1, 'presently': 1, 'heard': 1, 'sound': 1, 'horses': 1, 'feet': 1, 'concluded': 1, 'be': 3, 'put': 6, 'death': 3, 'drove': 1, 'on': 2, 'entering': 1, 'body': 3, 'into': 9, 'quarters': 2, 'upon': 1, 'delivered': 1, 'morgiana': 5, 'female': 1, 'slave': 1, 'house': 5, 'sent': 2, 'cobbler': 2, 'gave': 2, 'pieces': 3, 'go': 1, 'her': 10, 'blindfolded': 3, 'taking': 1, 'room': 1, 'lying': 1, 'bade': 1, 'sew': 1, 'mangled': 1, 'limbs': 1, 'together': 1, 'mustapha': 1, 'obeyed': 1, 'received': 1, 'led': 1, 'same': 1, 'way': 2, 'back': 2, 'buried': 2, 'all': 2, 'due': 1, 'solemnity': 1, 'removed': 2, 'deceased': 1, 'possession': 2, 'captain': 5, 'resolved': 1, 'find': 1, 'possessed': 1, 'entrance': 1, 'disguising': 1, 'went': 5, 'city': 2, 'accosting': 1, 'job': 1, 'for': 3, 'six': 1, 'allowed': 1, 'traced': 1, 'robber': 3, 'marked': 1, 'chalk': 1, 'buying': 1, 'nineteen': 1, 'thirty-nine': 2, 'jars': 2, 'full': 2, 'oil': 8, 'rest': 2, 'empty': 1, 'jar': 3, 'properly': 1, 'armed': 1, 'then': 1, 'proceeded': 1, 'street': 1, 'sir': 1, 'i': 3, 'have': 1, 'this': 1, 'sell': 1, 'am': 1, 'quite': 1, 'stranger': 1, 'will': 1, 'you': 1, 'let': 1, 'me': 2, 'my': 1, 'your': 1, 'courtyard': 1, 'direct': 1, 'may': 1, 'lodge': 1, 'to-night': 1, '?': 2, 'welcomed': 1, 'pretended': 3, 'merchant': 2, 'offered': 2, 'bed': 1, 'own': 1, 'invited': 2, 'guest': 2, 'supper': 2, 'sitting': 1, 'up': 1, 'later': 1, 'night': 2, 'usual': 1, 'lamp': 1, 'she': 12, 'pot': 1, 'hand': 1, 'first': 3, 'within': 2, 'is': 1, 'it': 6, 'replied': 1, 'no': 1, 'not': 1, 'yet': 1, 'so': 1, 'ran': 2, 'kitchen': 2, 'kettle': 1, 'filled': 1, 'fire': 1, 'soon': 3, 'boiled': 2, 'poured': 1, 'sufficient': 1, 'boiling': 1, 'kill': 1, 'every': 3, 'arose': 1, 'assemble': 1, 'men': 1, 'coming': 2, 'felt': 1, 'steam': 1, '!': 1, 'rage': 1, 'forced': 1, 'lock': 1, 'escape': 1, 'over': 1, 'walls': 1, 'without': 1, 'letting': 1, 'any': 1, 'thieves': 1, 'bottom': 1, 'garden': 1, 'length': 1, 'however': 1, 'determined': 1, 'adopt': 1, 'new': 1, 'scheme': 1, 'destruction': 1, 'valuable': 1, 'merchandise': 1, 'shop': 2, 'exactly': 1, 'opposite': 2, 'son': 3, 'day': 1, 'cogia': 5, 'hassan': 5, 'appeared': 2, 'very': 1, 'fond': 1, 'presents': 1, 'often': 1, 'detained': 1, 'dinner': 1, 'thought': 1, 'necessary': 1, 'make': 1, 'some': 2, 'return': 1, 'these': 1, 'civilities': 1, 'carried': 1, 'dish': 1, 'herself': 3, 'moment': 1, 'looked': 1, 'knew': 1, 'slaves': 1, 'waited': 1, 'table': 1, 'while': 1, 'drinking': 1, 'perceived': 1, 'dagger': 2, 'under': 1, 'coat': 1, 'away': 1, 'dressed': 1, 'habit': 1, 'dancing-girl': 1, 'parlor': 1, 'master': 1, 'ordered': 1, 'come': 1, 'entertain': 1, 'best': 1, 'dancing': 1, 'danced': 1, 'several': 1, 'times': 1, 'before': 1, 'assembled': 1, 'company': 1, 'until': 1, 'drew': 1, 'girdle': 1, 'plunged': 1, 'heart': 1, 'reward': 1, 'faithfulness': 1, 'marriage': 1, 'immense': 1, 'wealth': 1}\n"
          ],
          "name": "stdout"
        }
      ]
    },
    {
      "cell_type": "code",
      "metadata": {
        "id": "kJtmlSbKd977",
        "colab": {
          "base_uri": "https://localhost:8080/"
        },
        "outputId": "9206824c-efc3-42ce-818a-de1cd4484822"
      },
      "source": [
        "import operator \n",
        "\n",
        "print(sorted(vocab.items(), key = operator.itemgetter(1) ,reverse=True))"
      ],
      "execution_count": null,
      "outputs": [
        {
          "output_type": "stream",
          "text": [
            "[(',', 103), ('the', 78), ('.', 41), ('and', 37), ('to', 34), ('of', 33), ('a', 24), ('his', 22), ('he', 22), ('alibaba', 17), ('in', 15), ('she', 12), ('was', 10), ('as', 10), ('her', 10), ('with', 9), ('into', 9), ('door', 8), ('him', 8), ('oil', 8), ('at', 7), ('one', 6), ('cassim', 6), ('took', 6), ('said', 6), ('out', 6), ('put', 6), ('it', 6), ('open', 5), ('which', 5), ('morgiana', 5), ('house', 5), ('captain', 5), ('went', 5), ('cogia', 5), ('hassan', 5), ('himself', 4), ('sesame', 4), ('robbers', 4), ('who', 4), ('gold', 4), ('brother', 4), ('cave', 4), ('found', 4), ('where', 4), ('two', 3), ('poor', 3), ('man', 3), ('wife', 3), ('asses', 3), ('had', 3), ('when', 3), ('troop', 3), ('approaching', 3), ('large', 3), ('them', 3), ('from', 3), ('rock', 3), ('brought', 3), ('secret', 3), ('early', 3), ('next', 3), ('morning', 3), ('mules', 3), ('great', 3), ('be', 3), ('death', 3), ('body', 3), ('pieces', 3), ('blindfolded', 3), ('for', 3), ('robber', 3), ('jar', 3), ('i', 3), ('pretended', 3), ('first', 3), ('soon', 3), ('every', 3), ('son', 3), ('herself', 3), ('lived', 2), ('other', 2), ('they', 2), ('dwelt', 2), ('wood', 2), ('forest', 2), ('cut', 2), ('hastily', 2), ('hid', 2), ('each', 2), ('loaded', 2), ('immediately', 2), ('opened', 2), ('shut', 2), ('time', 2), ('instantly', 2), ('many', 2), ('told', 2), ('set', 2), ('having', 2), ('than', 2), ('made', 2), ('that', 2), ('on', 2), ('quarters', 2), ('sent', 2), ('cobbler', 2), ('gave', 2), ('way', 2), ('back', 2), ('buried', 2), ('all', 2), ('removed', 2), ('possession', 2), ('city', 2), ('thirty-nine', 2), ('jars', 2), ('full', 2), ('rest', 2), ('me', 2), ('?', 2), ('merchant', 2), ('offered', 2), ('invited', 2), ('guest', 2), ('supper', 2), ('night', 2), ('within', 2), ('ran', 2), ('kitchen', 2), ('boiled', 2), ('coming', 2), ('shop', 2), ('opposite', 2), ('appeared', 2), ('some', 2), ('dagger', 2), ('town', 1), ('persia', 1), ('brothers', 1), ('sons', 1), ('named', 1), ('elder', 1), ('married', 1), ('considerable', 1), ('fortune', 1), ('ease', 1), ('but', 1), ('mean', 1), ('cottage', 1), ('suburbs', 1), ('maintained', 1), ('family', 1), ('by', 1), ('cutting', 1), ('preparing', 1), ('load', 1), ('faggots', 1), ('saw', 1), ('horsemen', 1), ('climbed', 1), ('thick', 1), ('tree', 1), ('among', 1), ('branches', 1), ('counted', 1), ('forty', 1), ('portmanteau', 1), ('horse', 1), ('turning', 1), ('passed', 1), ('itself', 1), ('short', 1), ('again', 1), ('came', 1), ('closed', 1), ('ventured', 1), ('down', 1), ('flew', 1), ('bags', 1), ('coin', 1), ('could', 1), ('carry', 1), ('rose', 1), ('ten', 1), ('chests', 1), ('gained', 1), ('admission', 1), ('more', 1), ('treasures', 1), ('expected', 1), ('forget', 1), ('word', 1), ('caused', 1), ('presently', 1), ('heard', 1), ('sound', 1), ('horses', 1), ('feet', 1), ('concluded', 1), ('drove', 1), ('entering', 1), ('upon', 1), ('delivered', 1), ('female', 1), ('slave', 1), ('go', 1), ('taking', 1), ('room', 1), ('lying', 1), ('bade', 1), ('sew', 1), ('mangled', 1), ('limbs', 1), ('together', 1), ('mustapha', 1), ('obeyed', 1), ('received', 1), ('led', 1), ('same', 1), ('due', 1), ('solemnity', 1), ('deceased', 1), ('resolved', 1), ('find', 1), ('possessed', 1), ('entrance', 1), ('disguising', 1), ('accosting', 1), ('job', 1), ('six', 1), ('allowed', 1), ('traced', 1), ('marked', 1), ('chalk', 1), ('buying', 1), ('nineteen', 1), ('empty', 1), ('properly', 1), ('armed', 1), ('then', 1), ('proceeded', 1), ('street', 1), ('sir', 1), ('have', 1), ('this', 1), ('sell', 1), ('am', 1), ('quite', 1), ('stranger', 1), ('will', 1), ('you', 1), ('let', 1), ('my', 1), ('your', 1), ('courtyard', 1), ('direct', 1), ('may', 1), ('lodge', 1), ('to-night', 1), ('welcomed', 1), ('bed', 1), ('own', 1), ('sitting', 1), ('up', 1), ('later', 1), ('usual', 1), ('lamp', 1), ('pot', 1), ('hand', 1), ('is', 1), ('replied', 1), ('no', 1), ('not', 1), ('yet', 1), ('so', 1), ('kettle', 1), ('filled', 1), ('fire', 1), ('poured', 1), ('sufficient', 1), ('boiling', 1), ('kill', 1), ('arose', 1), ('assemble', 1), ('men', 1), ('felt', 1), ('steam', 1), ('!', 1), ('rage', 1), ('forced', 1), ('lock', 1), ('escape', 1), ('over', 1), ('walls', 1), ('without', 1), ('letting', 1), ('any', 1), ('thieves', 1), ('bottom', 1), ('garden', 1), ('length', 1), ('however', 1), ('determined', 1), ('adopt', 1), ('new', 1), ('scheme', 1), ('destruction', 1), ('valuable', 1), ('merchandise', 1), ('exactly', 1), ('day', 1), ('very', 1), ('fond', 1), ('presents', 1), ('often', 1), ('detained', 1), ('dinner', 1), ('thought', 1), ('necessary', 1), ('make', 1), ('return', 1), ('these', 1), ('civilities', 1), ('carried', 1), ('dish', 1), ('moment', 1), ('looked', 1), ('knew', 1), ('slaves', 1), ('waited', 1), ('table', 1), ('while', 1), ('drinking', 1), ('perceived', 1), ('under', 1), ('coat', 1), ('away', 1), ('dressed', 1), ('habit', 1), ('dancing-girl', 1), ('parlor', 1), ('master', 1), ('ordered', 1), ('come', 1), ('entertain', 1), ('best', 1), ('dancing', 1), ('danced', 1), ('several', 1), ('times', 1), ('before', 1), ('assembled', 1), ('company', 1), ('until', 1), ('drew', 1), ('girdle', 1), ('plunged', 1), ('heart', 1), ('reward', 1), ('faithfulness', 1), ('marriage', 1), ('immense', 1), ('wealth', 1)]\n"
          ],
          "name": "stdout"
        }
      ]
    },
    {
      "cell_type": "code",
      "metadata": {
        "id": "UA-St4dwd9-Y"
      },
      "source": [
        "# 의미 없는 단어 제거하기\n",
        "meaningless = ['.', ',', '!', '?', 'the', 'he', 'and', 'to', 'a', 'of', \n",
        "               'was', 'in', 'had', 'for', 'it', 'that', 'but', 'as', 'with', \n",
        "               'at', 'i', 'into', 'be', 'this', 'me', 'from', 'then', 'him', \n",
        "               'his', 'her', 'she','they', 'them', 'you']\n",
        "               \n",
        "for word in meaningless : \n",
        "    del vocab[word]"
      ],
      "execution_count": null,
      "outputs": []
    },
    {
      "cell_type": "code",
      "metadata": {
        "id": "GfnEG3QUd-Ad",
        "colab": {
          "base_uri": "https://localhost:8080/"
        },
        "outputId": "4e949055-14c6-4b57-a5ce-dc18dcea479d"
      },
      "source": [
        "import operator \n",
        "\n",
        "vocab_final = sorted(vocab.items(), key = operator.itemgetter(1) ,reverse=True)\n",
        "print(vocab_final)"
      ],
      "execution_count": null,
      "outputs": [
        {
          "output_type": "stream",
          "text": [
            "[('alibaba', 17), ('door', 8), ('oil', 8), ('one', 6), ('cassim', 6), ('took', 6), ('said', 6), ('out', 6), ('put', 6), ('open', 5), ('which', 5), ('morgiana', 5), ('house', 5), ('captain', 5), ('went', 5), ('cogia', 5), ('hassan', 5), ('himself', 4), ('sesame', 4), ('robbers', 4), ('who', 4), ('gold', 4), ('brother', 4), ('cave', 4), ('found', 4), ('where', 4), ('two', 3), ('poor', 3), ('man', 3), ('wife', 3), ('asses', 3), ('when', 3), ('troop', 3), ('approaching', 3), ('large', 3), ('rock', 3), ('brought', 3), ('secret', 3), ('early', 3), ('next', 3), ('morning', 3), ('mules', 3), ('great', 3), ('death', 3), ('body', 3), ('pieces', 3), ('blindfolded', 3), ('robber', 3), ('jar', 3), ('pretended', 3), ('first', 3), ('soon', 3), ('every', 3), ('son', 3), ('herself', 3), ('lived', 2), ('other', 2), ('dwelt', 2), ('wood', 2), ('forest', 2), ('cut', 2), ('hastily', 2), ('hid', 2), ('each', 2), ('loaded', 2), ('immediately', 2), ('opened', 2), ('shut', 2), ('time', 2), ('instantly', 2), ('many', 2), ('told', 2), ('set', 2), ('having', 2), ('than', 2), ('made', 2), ('on', 2), ('quarters', 2), ('sent', 2), ('cobbler', 2), ('gave', 2), ('way', 2), ('back', 2), ('buried', 2), ('all', 2), ('removed', 2), ('possession', 2), ('city', 2), ('thirty-nine', 2), ('jars', 2), ('full', 2), ('rest', 2), ('merchant', 2), ('offered', 2), ('invited', 2), ('guest', 2), ('supper', 2), ('night', 2), ('within', 2), ('ran', 2), ('kitchen', 2), ('boiled', 2), ('coming', 2), ('shop', 2), ('opposite', 2), ('appeared', 2), ('some', 2), ('dagger', 2), ('town', 1), ('persia', 1), ('brothers', 1), ('sons', 1), ('named', 1), ('elder', 1), ('married', 1), ('considerable', 1), ('fortune', 1), ('ease', 1), ('mean', 1), ('cottage', 1), ('suburbs', 1), ('maintained', 1), ('family', 1), ('by', 1), ('cutting', 1), ('preparing', 1), ('load', 1), ('faggots', 1), ('saw', 1), ('horsemen', 1), ('climbed', 1), ('thick', 1), ('tree', 1), ('among', 1), ('branches', 1), ('counted', 1), ('forty', 1), ('portmanteau', 1), ('horse', 1), ('turning', 1), ('passed', 1), ('itself', 1), ('short', 1), ('again', 1), ('came', 1), ('closed', 1), ('ventured', 1), ('down', 1), ('flew', 1), ('bags', 1), ('coin', 1), ('could', 1), ('carry', 1), ('rose', 1), ('ten', 1), ('chests', 1), ('gained', 1), ('admission', 1), ('more', 1), ('treasures', 1), ('expected', 1), ('forget', 1), ('word', 1), ('caused', 1), ('presently', 1), ('heard', 1), ('sound', 1), ('horses', 1), ('feet', 1), ('concluded', 1), ('drove', 1), ('entering', 1), ('upon', 1), ('delivered', 1), ('female', 1), ('slave', 1), ('go', 1), ('taking', 1), ('room', 1), ('lying', 1), ('bade', 1), ('sew', 1), ('mangled', 1), ('limbs', 1), ('together', 1), ('mustapha', 1), ('obeyed', 1), ('received', 1), ('led', 1), ('same', 1), ('due', 1), ('solemnity', 1), ('deceased', 1), ('resolved', 1), ('find', 1), ('possessed', 1), ('entrance', 1), ('disguising', 1), ('accosting', 1), ('job', 1), ('six', 1), ('allowed', 1), ('traced', 1), ('marked', 1), ('chalk', 1), ('buying', 1), ('nineteen', 1), ('empty', 1), ('properly', 1), ('armed', 1), ('proceeded', 1), ('street', 1), ('sir', 1), ('have', 1), ('sell', 1), ('am', 1), ('quite', 1), ('stranger', 1), ('will', 1), ('let', 1), ('my', 1), ('your', 1), ('courtyard', 1), ('direct', 1), ('may', 1), ('lodge', 1), ('to-night', 1), ('welcomed', 1), ('bed', 1), ('own', 1), ('sitting', 1), ('up', 1), ('later', 1), ('usual', 1), ('lamp', 1), ('pot', 1), ('hand', 1), ('is', 1), ('replied', 1), ('no', 1), ('not', 1), ('yet', 1), ('so', 1), ('kettle', 1), ('filled', 1), ('fire', 1), ('poured', 1), ('sufficient', 1), ('boiling', 1), ('kill', 1), ('arose', 1), ('assemble', 1), ('men', 1), ('felt', 1), ('steam', 1), ('rage', 1), ('forced', 1), ('lock', 1), ('escape', 1), ('over', 1), ('walls', 1), ('without', 1), ('letting', 1), ('any', 1), ('thieves', 1), ('bottom', 1), ('garden', 1), ('length', 1), ('however', 1), ('determined', 1), ('adopt', 1), ('new', 1), ('scheme', 1), ('destruction', 1), ('valuable', 1), ('merchandise', 1), ('exactly', 1), ('day', 1), ('very', 1), ('fond', 1), ('presents', 1), ('often', 1), ('detained', 1), ('dinner', 1), ('thought', 1), ('necessary', 1), ('make', 1), ('return', 1), ('these', 1), ('civilities', 1), ('carried', 1), ('dish', 1), ('moment', 1), ('looked', 1), ('knew', 1), ('slaves', 1), ('waited', 1), ('table', 1), ('while', 1), ('drinking', 1), ('perceived', 1), ('under', 1), ('coat', 1), ('away', 1), ('dressed', 1), ('habit', 1), ('dancing-girl', 1), ('parlor', 1), ('master', 1), ('ordered', 1), ('come', 1), ('entertain', 1), ('best', 1), ('dancing', 1), ('danced', 1), ('several', 1), ('times', 1), ('before', 1), ('assembled', 1), ('company', 1), ('until', 1), ('drew', 1), ('girdle', 1), ('plunged', 1), ('heart', 1), ('reward', 1), ('faithfulness', 1), ('marriage', 1), ('immense', 1), ('wealth', 1)]\n"
          ],
          "name": "stdout"
        }
      ]
    },
    {
      "cell_type": "code",
      "metadata": {
        "id": "Zl-kBZQOd-Ck",
        "colab": {
          "base_uri": "https://localhost:8080/"
        },
        "outputId": "a506d1ab-a365-4a1f-e22e-b39d526e30e8"
      },
      "source": [
        "for k, v in vocab_final : \n",
        "    print(k)"
      ],
      "execution_count": null,
      "outputs": [
        {
          "output_type": "stream",
          "text": [
            "alibaba\n",
            "door\n",
            "oil\n",
            "one\n",
            "cassim\n",
            "took\n",
            "said\n",
            "out\n",
            "put\n",
            "open\n",
            "which\n",
            "morgiana\n",
            "house\n",
            "captain\n",
            "went\n",
            "cogia\n",
            "hassan\n",
            "himself\n",
            "sesame\n",
            "robbers\n",
            "who\n",
            "gold\n",
            "brother\n",
            "cave\n",
            "found\n",
            "where\n",
            "two\n",
            "poor\n",
            "man\n",
            "wife\n",
            "asses\n",
            "when\n",
            "troop\n",
            "approaching\n",
            "large\n",
            "rock\n",
            "brought\n",
            "secret\n",
            "early\n",
            "next\n",
            "morning\n",
            "mules\n",
            "great\n",
            "death\n",
            "body\n",
            "pieces\n",
            "blindfolded\n",
            "robber\n",
            "jar\n",
            "pretended\n",
            "first\n",
            "soon\n",
            "every\n",
            "son\n",
            "herself\n",
            "lived\n",
            "other\n",
            "dwelt\n",
            "wood\n",
            "forest\n",
            "cut\n",
            "hastily\n",
            "hid\n",
            "each\n",
            "loaded\n",
            "immediately\n",
            "opened\n",
            "shut\n",
            "time\n",
            "instantly\n",
            "many\n",
            "told\n",
            "set\n",
            "having\n",
            "than\n",
            "made\n",
            "on\n",
            "quarters\n",
            "sent\n",
            "cobbler\n",
            "gave\n",
            "way\n",
            "back\n",
            "buried\n",
            "all\n",
            "removed\n",
            "possession\n",
            "city\n",
            "thirty-nine\n",
            "jars\n",
            "full\n",
            "rest\n",
            "merchant\n",
            "offered\n",
            "invited\n",
            "guest\n",
            "supper\n",
            "night\n",
            "within\n",
            "ran\n",
            "kitchen\n",
            "boiled\n",
            "coming\n",
            "shop\n",
            "opposite\n",
            "appeared\n",
            "some\n",
            "dagger\n",
            "town\n",
            "persia\n",
            "brothers\n",
            "sons\n",
            "named\n",
            "elder\n",
            "married\n",
            "considerable\n",
            "fortune\n",
            "ease\n",
            "mean\n",
            "cottage\n",
            "suburbs\n",
            "maintained\n",
            "family\n",
            "by\n",
            "cutting\n",
            "preparing\n",
            "load\n",
            "faggots\n",
            "saw\n",
            "horsemen\n",
            "climbed\n",
            "thick\n",
            "tree\n",
            "among\n",
            "branches\n",
            "counted\n",
            "forty\n",
            "portmanteau\n",
            "horse\n",
            "turning\n",
            "passed\n",
            "itself\n",
            "short\n",
            "again\n",
            "came\n",
            "closed\n",
            "ventured\n",
            "down\n",
            "flew\n",
            "bags\n",
            "coin\n",
            "could\n",
            "carry\n",
            "rose\n",
            "ten\n",
            "chests\n",
            "gained\n",
            "admission\n",
            "more\n",
            "treasures\n",
            "expected\n",
            "forget\n",
            "word\n",
            "caused\n",
            "presently\n",
            "heard\n",
            "sound\n",
            "horses\n",
            "feet\n",
            "concluded\n",
            "drove\n",
            "entering\n",
            "upon\n",
            "delivered\n",
            "female\n",
            "slave\n",
            "go\n",
            "taking\n",
            "room\n",
            "lying\n",
            "bade\n",
            "sew\n",
            "mangled\n",
            "limbs\n",
            "together\n",
            "mustapha\n",
            "obeyed\n",
            "received\n",
            "led\n",
            "same\n",
            "due\n",
            "solemnity\n",
            "deceased\n",
            "resolved\n",
            "find\n",
            "possessed\n",
            "entrance\n",
            "disguising\n",
            "accosting\n",
            "job\n",
            "six\n",
            "allowed\n",
            "traced\n",
            "marked\n",
            "chalk\n",
            "buying\n",
            "nineteen\n",
            "empty\n",
            "properly\n",
            "armed\n",
            "proceeded\n",
            "street\n",
            "sir\n",
            "have\n",
            "sell\n",
            "am\n",
            "quite\n",
            "stranger\n",
            "will\n",
            "let\n",
            "my\n",
            "your\n",
            "courtyard\n",
            "direct\n",
            "may\n",
            "lodge\n",
            "to-night\n",
            "welcomed\n",
            "bed\n",
            "own\n",
            "sitting\n",
            "up\n",
            "later\n",
            "usual\n",
            "lamp\n",
            "pot\n",
            "hand\n",
            "is\n",
            "replied\n",
            "no\n",
            "not\n",
            "yet\n",
            "so\n",
            "kettle\n",
            "filled\n",
            "fire\n",
            "poured\n",
            "sufficient\n",
            "boiling\n",
            "kill\n",
            "arose\n",
            "assemble\n",
            "men\n",
            "felt\n",
            "steam\n",
            "rage\n",
            "forced\n",
            "lock\n",
            "escape\n",
            "over\n",
            "walls\n",
            "without\n",
            "letting\n",
            "any\n",
            "thieves\n",
            "bottom\n",
            "garden\n",
            "length\n",
            "however\n",
            "determined\n",
            "adopt\n",
            "new\n",
            "scheme\n",
            "destruction\n",
            "valuable\n",
            "merchandise\n",
            "exactly\n",
            "day\n",
            "very\n",
            "fond\n",
            "presents\n",
            "often\n",
            "detained\n",
            "dinner\n",
            "thought\n",
            "necessary\n",
            "make\n",
            "return\n",
            "these\n",
            "civilities\n",
            "carried\n",
            "dish\n",
            "moment\n",
            "looked\n",
            "knew\n",
            "slaves\n",
            "waited\n",
            "table\n",
            "while\n",
            "drinking\n",
            "perceived\n",
            "under\n",
            "coat\n",
            "away\n",
            "dressed\n",
            "habit\n",
            "dancing-girl\n",
            "parlor\n",
            "master\n",
            "ordered\n",
            "come\n",
            "entertain\n",
            "best\n",
            "dancing\n",
            "danced\n",
            "several\n",
            "times\n",
            "before\n",
            "assembled\n",
            "company\n",
            "until\n",
            "drew\n",
            "girdle\n",
            "plunged\n",
            "heart\n",
            "reward\n",
            "faithfulness\n",
            "marriage\n",
            "immense\n",
            "wealth\n"
          ],
          "name": "stdout"
        }
      ]
    },
    {
      "cell_type": "code",
      "metadata": {
        "id": "oNOrVXZzqD_w",
        "colab": {
          "base_uri": "https://localhost:8080/"
        },
        "outputId": "05adcf8e-fbb1-4991-cc31-ed3ebe906982"
      },
      "source": [
        "# 1분 퀴즈\n",
        "vocab_quiz = sorted(vocab.keys())\n",
        "print(vocab_quiz)"
      ],
      "execution_count": null,
      "outputs": [
        {
          "output_type": "stream",
          "text": [
            "['accosting', 'admission', 'adopt', 'again', 'alibaba', 'all', 'allowed', 'am', 'among', 'any', 'appeared', 'approaching', 'armed', 'arose', 'assemble', 'assembled', 'asses', 'away', 'back', 'bade', 'bags', 'bed', 'before', 'best', 'blindfolded', 'body', 'boiled', 'boiling', 'bottom', 'branches', 'brother', 'brothers', 'brought', 'buried', 'buying', 'by', 'came', 'captain', 'carried', 'carry', 'cassim', 'caused', 'cave', 'chalk', 'chests', 'city', 'civilities', 'climbed', 'closed', 'coat', 'cobbler', 'cogia', 'coin', 'come', 'coming', 'company', 'concluded', 'considerable', 'cottage', 'could', 'counted', 'courtyard', 'cut', 'cutting', 'dagger', 'danced', 'dancing', 'dancing-girl', 'day', 'death', 'deceased', 'delivered', 'destruction', 'detained', 'determined', 'dinner', 'direct', 'disguising', 'dish', 'door', 'down', 'dressed', 'drew', 'drinking', 'drove', 'due', 'dwelt', 'each', 'early', 'ease', 'elder', 'empty', 'entering', 'entertain', 'entrance', 'escape', 'every', 'exactly', 'expected', 'faggots', 'faithfulness', 'family', 'feet', 'felt', 'female', 'filled', 'find', 'fire', 'first', 'flew', 'fond', 'forced', 'forest', 'forget', 'fortune', 'forty', 'found', 'full', 'gained', 'garden', 'gave', 'girdle', 'go', 'gold', 'great', 'guest', 'habit', 'hand', 'hassan', 'hastily', 'have', 'having', 'heard', 'heart', 'herself', 'hid', 'himself', 'horse', 'horsemen', 'horses', 'house', 'however', 'immediately', 'immense', 'instantly', 'invited', 'is', 'itself', 'jar', 'jars', 'job', 'kettle', 'kill', 'kitchen', 'knew', 'lamp', 'large', 'later', 'led', 'length', 'let', 'letting', 'limbs', 'lived', 'load', 'loaded', 'lock', 'lodge', 'looked', 'lying', 'made', 'maintained', 'make', 'man', 'mangled', 'many', 'marked', 'marriage', 'married', 'master', 'may', 'mean', 'men', 'merchandise', 'merchant', 'moment', 'more', 'morgiana', 'morning', 'mules', 'mustapha', 'my', 'named', 'necessary', 'new', 'next', 'night', 'nineteen', 'no', 'not', 'obeyed', 'offered', 'often', 'oil', 'on', 'one', 'open', 'opened', 'opposite', 'ordered', 'other', 'out', 'over', 'own', 'parlor', 'passed', 'perceived', 'persia', 'pieces', 'plunged', 'poor', 'portmanteau', 'possessed', 'possession', 'pot', 'poured', 'preparing', 'presently', 'presents', 'pretended', 'proceeded', 'properly', 'put', 'quarters', 'quite', 'rage', 'ran', 'received', 'removed', 'replied', 'resolved', 'rest', 'return', 'reward', 'robber', 'robbers', 'rock', 'room', 'rose', 'said', 'same', 'saw', 'scheme', 'secret', 'sell', 'sent', 'sesame', 'set', 'several', 'sew', 'shop', 'short', 'shut', 'sir', 'sitting', 'six', 'slave', 'slaves', 'so', 'solemnity', 'some', 'son', 'sons', 'soon', 'sound', 'steam', 'stranger', 'street', 'suburbs', 'sufficient', 'supper', 'table', 'taking', 'ten', 'than', 'these', 'thick', 'thieves', 'thirty-nine', 'thought', 'time', 'times', 'to-night', 'together', 'told', 'took', 'town', 'traced', 'treasures', 'tree', 'troop', 'turning', 'two', 'under', 'until', 'up', 'upon', 'usual', 'valuable', 'ventured', 'very', 'waited', 'walls', 'way', 'wealth', 'welcomed', 'went', 'when', 'where', 'which', 'while', 'who', 'wife', 'will', 'within', 'without', 'wood', 'word', 'yet', 'your']\n"
          ],
          "name": "stdout"
        }
      ]
    },
    {
      "cell_type": "markdown",
      "metadata": {
        "id": "NNvanj6DL9WP"
      },
      "source": [
        "#### Self Check"
      ]
    },
    {
      "cell_type": "code",
      "metadata": {
        "colab": {
          "base_uri": "https://localhost:8080/"
        },
        "id": "BVE6PCx5L-m3",
        "outputId": "82c38584-9d88-4f7e-9b40-bc3317ac71c9"
      },
      "source": [
        "# 1번\n",
        "day = {'월요일':'Mon', '화요일':'Tue', '수요일':'Wed', '목요일':'Thu','금요일':'Fri'}\n",
        "\n",
        "# 1) \n",
        "day['토요일']='Sat'\n",
        "day['일요일']='Sun'\n",
        "print(day)\n",
        "\n",
        "# 2)\n",
        "day['일요일']='SUN'\n",
        "print(day)\n",
        "\n",
        "# 3)\n",
        "del day['수요일']\n",
        "print(day)"
      ],
      "execution_count": null,
      "outputs": [
        {
          "output_type": "stream",
          "text": [
            "{'월요일': 'Mon', '화요일': 'Tue', '수요일': 'Wed', '목요일': 'Thu', '금요일': 'Fri', '토요일': 'Sat', '일요일': 'Sun'}\n",
            "{'월요일': 'Mon', '화요일': 'Tue', '수요일': 'Wed', '목요일': 'Thu', '금요일': 'Fri', '토요일': 'Sat', '일요일': 'SUN'}\n",
            "{'월요일': 'Mon', '화요일': 'Tue', '목요일': 'Thu', '금요일': 'Fri', '토요일': 'Sat', '일요일': 'SUN'}\n"
          ],
          "name": "stdout"
        }
      ]
    },
    {
      "cell_type": "code",
      "metadata": {
        "colab": {
          "base_uri": "https://localhost:8080/"
        },
        "id": "Pka6h0zoMB3a",
        "outputId": "1731a531-8ca7-49dd-b2bd-6da6ac2a7ba6"
      },
      "source": [
        "# 2번\n",
        "book = {'역사대모험' : 20000,\n",
        "        '영단어' : 9000,\n",
        "        '파이썬' : 17000,\n",
        "        '여행에세이' : 22000,\n",
        "        '삼국지' : 33000\n",
        "       }\n",
        "\n",
        "# 가격 변경 : 15000원 이하는 10% 인상, 15000원 초과는 5%인상\n",
        "for k, v in book.items() : \n",
        "    if v <= 15000 : \n",
        "        book[k] = book[k]*1.1\n",
        "    else :\n",
        "        book[k] = book[k]*1.05\n",
        "\n",
        "print(book)"
      ],
      "execution_count": null,
      "outputs": [
        {
          "output_type": "stream",
          "text": [
            "{'역사대모험': 21000.0, '영단어': 9900.0, '파이썬': 17850.0, '여행에세이': 23100.0, '삼국지': 34650.0}\n"
          ],
          "name": "stdout"
        }
      ]
    },
    {
      "cell_type": "code",
      "metadata": {
        "colab": {
          "base_uri": "https://localhost:8080/"
        },
        "id": "EQh46gSTMB7v",
        "outputId": "87d15b47-c618-455c-b9ef-32098b4ba2a3"
      },
      "source": [
        "# 3번\n",
        "ranking = {'라이언': 956412,\n",
        "           '니니즈': 861832,\n",
        "           '어피치': 796354,\n",
        "           '프로도': 534840,\n",
        "           '네오' : 387896\n",
        "          }\n",
        "\n",
        "import operator\n",
        "print(sorted(ranking.items(), key = operator.itemgetter(1), reverse=True))"
      ],
      "execution_count": null,
      "outputs": [
        {
          "output_type": "stream",
          "text": [
            "[('라이언', 956412), ('니니즈', 861832), ('어피치', 796354), ('프로도', 534840), ('네오', 387896)]\n"
          ],
          "name": "stdout"
        }
      ]
    }
  ]
}