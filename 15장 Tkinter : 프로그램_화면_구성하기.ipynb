{
  "nbformat": 4,
  "nbformat_minor": 0,
  "metadata": {
    "kernelspec": {
      "display_name": "Python 3",
      "language": "python",
      "name": "python3"
    },
    "language_info": {
      "codemirror_mode": {
        "name": "ipython",
        "version": 3
      },
      "file_extension": ".py",
      "mimetype": "text/x-python",
      "name": "python",
      "nbconvert_exporter": "python",
      "pygments_lexer": "ipython3",
      "version": "3.7.4"
    },
    "colab": {
      "name": "15장 Tkinter  프로그램 화면 구성하기.ipynb",
      "provenance": [],
      "include_colab_link": true
    }
  },
  "cells": [
    {
      "cell_type": "markdown",
      "metadata": {
        "id": "view-in-github",
        "colab_type": "text"
      },
      "source": [
        "<a href=\"https://colab.research.google.com/github/teacher-jiejie/Lets-get-it-Python-Book-Code/blob/main/15%E1%84%8C%E1%85%A1%E1%86%BC%20Tkinter%20%3A%20%E1%84%91%E1%85%B3%E1%84%85%E1%85%A9%E1%84%80%E1%85%B3%E1%84%85%E1%85%A2%E1%86%B7_%E1%84%92%E1%85%AA%E1%84%86%E1%85%A7%E1%86%AB_%E1%84%80%E1%85%AE%E1%84%89%E1%85%A5%E1%86%BC%E1%84%92%E1%85%A1%E1%84%80%E1%85%B5.ipynb\" target=\"_parent\"><img src=\"https://colab.research.google.com/assets/colab-badge.svg\" alt=\"Open In Colab\"/></a>"
      ]
    },
    {
      "cell_type": "markdown",
      "metadata": {
        "id": "_6m0K6jw7fIL"
      },
      "source": [
        "## 들어가기 전에) 이번 장은 반드시 **주피터 노트북**에서 진행해주세요! \n",
        "구글 코랩에서는 화면이 보이지 않습니다.\n"
      ]
    },
    {
      "cell_type": "markdown",
      "metadata": {
        "id": "9xVynZ4O7eR7"
      },
      "source": [
        "##  15.1 tkinter 살펴보기\n",
        "#### 15.1.1 GUI란\n",
        "#### 15.1.2. 파이썬의 표준 GUI tkinter\n",
        "#### 15.1.3 tkinter 사용하기"
      ]
    },
    {
      "cell_type": "code",
      "metadata": {
        "scrolled": false,
        "id": "qkA_IzEw7eR9"
      },
      "source": [
        "import tkinter\n",
        "\n",
        "help(tkinter)"
      ],
      "execution_count": null,
      "outputs": []
    },
    {
      "cell_type": "code",
      "metadata": {
        "id": "3TgcNsOT7eR-"
      },
      "source": [
        "import tkinter\n",
        "\n",
        "root = Tk() # 오류 발생\n",
        "# root = tkinter.Tk() # 오류 발생 안 함"
      ],
      "execution_count": null,
      "outputs": []
    },
    {
      "cell_type": "code",
      "metadata": {
        "id": "e5I3ljp17eR-"
      },
      "source": [
        "from tkinter import *\n",
        "\n",
        "root = Tk()"
      ],
      "execution_count": null,
      "outputs": []
    },
    {
      "cell_type": "code",
      "metadata": {
        "id": "bc3xTZeX7eR_"
      },
      "source": [
        "from tkinter import *\n",
        "\n",
        "root = Tk()\n",
        "root.mainloop()"
      ],
      "execution_count": null,
      "outputs": []
    },
    {
      "cell_type": "code",
      "metadata": {
        "id": "-1DO3BQd7eR_"
      },
      "source": [
        "from tkinter import *\n",
        "\n",
        "root = Tk()\n",
        "root.title('my first tkinter')\n",
        "root.mainloop()"
      ],
      "execution_count": null,
      "outputs": []
    },
    {
      "cell_type": "code",
      "metadata": {
        "id": "JAv5M5_B7eR_"
      },
      "source": [
        "from tkinter import *\n",
        "\n",
        "root = Tk()\n",
        "root.title('my first tkinter')\n",
        "root.geometry(\"400x200\")\n",
        "root.mainloop()"
      ],
      "execution_count": null,
      "outputs": []
    },
    {
      "cell_type": "code",
      "metadata": {
        "id": "E4tlhQUz7eSA"
      },
      "source": [
        "from tkinter import *\n",
        "\n",
        "root = Tk()\n",
        "root.title('my first tkinter')\n",
        "root.geometry(\"400x200+0+300\")\n",
        "root.mainloop()"
      ],
      "execution_count": null,
      "outputs": []
    },
    {
      "cell_type": "code",
      "metadata": {
        "id": "MdxBkvK37eSA"
      },
      "source": [
        "from tkinter import *\n",
        "\n",
        "root = Tk()\n",
        "root.title('my first tkinter')\n",
        "root.geometry(\"400x200\")\n",
        "root.resizable(False, True)\n",
        "root.mainloop()"
      ],
      "execution_count": null,
      "outputs": []
    },
    {
      "cell_type": "markdown",
      "metadata": {
        "id": "NyUllKdb7eSB"
      },
      "source": [
        "## 15.2 위젯 다루기\n",
        "#### 15.2.1  레이블"
      ]
    },
    {
      "cell_type": "code",
      "metadata": {
        "id": "QCAL5t0T7eSB"
      },
      "source": [
        "from tkinter import *\n",
        "\n",
        "help(Label)"
      ],
      "execution_count": null,
      "outputs": []
    },
    {
      "cell_type": "code",
      "metadata": {
        "id": "_RAN5srH7eSB"
      },
      "source": [
        "from tkinter import *\n",
        "\n",
        "root = Tk()\n",
        "root.title('my first tkinter')\n",
        "root.geometry(\"400x200+0+300\")\n",
        "\n",
        "label1 = Label(root, text='안녕하세요!')\n",
        "\n",
        "root.mainloop()"
      ],
      "execution_count": null,
      "outputs": []
    },
    {
      "cell_type": "code",
      "metadata": {
        "id": "32-CMldz7eSC"
      },
      "source": [
        "from tkinter import *\n",
        "\n",
        "root = Tk()\n",
        "root.title('my first tkinter')\n",
        "root.geometry(\"400x200+0+300\")\n",
        "\n",
        "label1 = Label(root, text='안녕하세요!')\n",
        "label1.pack()\n",
        "\n",
        "root.mainloop()"
      ],
      "execution_count": null,
      "outputs": []
    },
    {
      "cell_type": "code",
      "metadata": {
        "id": "rwkrPiCV7eSC"
      },
      "source": [
        "from tkinter import *\n",
        "\n",
        "root = Tk()\n",
        "root.title('my first tkinter')\n",
        "root.geometry(\"800x400\")\n",
        "\n",
        "letsgetit = PhotoImage(file='lets get it.png')  # 이미지 객체 생성\n",
        "img_label = Label(root, image=letsgetit)        # 레이블 객체 생성\n",
        "img_label.pack()\n",
        "\n",
        "root.mainloop()"
      ],
      "execution_count": null,
      "outputs": []
    },
    {
      "cell_type": "code",
      "metadata": {
        "id": "R3oEsbLv7eSC"
      },
      "source": [
        "from tkinter import *\n",
        "\n",
        "root = Tk()\n",
        "root.title('my first tkinter')\n",
        "root.geometry(\"800x400\")\n",
        "\n",
        "letsgetit = PhotoImage(file='lets get it.png')\n",
        "letsgetit = letsgetit.subsample(2,2)       # 이미지 크기 줄이기\n",
        "img_label = Label(root, image=letsgetit)\n",
        "img_label.pack()\n",
        "\n",
        "root.mainloop()"
      ],
      "execution_count": null,
      "outputs": []
    },
    {
      "cell_type": "markdown",
      "metadata": {
        "id": "6Rb85nWz7eSD"
      },
      "source": [
        "#### 15.2.2  위젯 배치하기"
      ]
    },
    {
      "cell_type": "code",
      "metadata": {
        "id": "8mwaUVXl7eSD"
      },
      "source": [
        "from tkinter import *\n",
        "\n",
        "root = Tk()\n",
        "root.geometry(\"400x200\")\n",
        "\n",
        "label1 = Label(root, text='절대위치 x=200, y=100!')\n",
        "label1.place(x = 200, y = 100)\n",
        "\n",
        "root.mainloop()"
      ],
      "execution_count": null,
      "outputs": []
    },
    {
      "cell_type": "code",
      "metadata": {
        "id": "LlIwAcjs7eSD"
      },
      "source": [
        "root = Tk()\n",
        "root.title('my first tkinter')\n",
        "root.geometry(\"400x200\")\n",
        "\n",
        "label1 = Label(root, text='안녕하세요!', relief='groove')\n",
        "label1.pack()\n",
        "label2 = Label(root, text='Hello!', relief='groove')\n",
        "label2.pack()\n",
        "label3 = Label(root, text='니 하오!', relief='groove')\n",
        "label3.pack()\n",
        "label4 = Label(root, text='봉쥬르!', relief='groove')\n",
        "label4.pack()\n",
        "\n",
        "root.mainloop()"
      ],
      "execution_count": null,
      "outputs": []
    },
    {
      "cell_type": "code",
      "metadata": {
        "id": "6-zmB3b47eSD"
      },
      "source": [
        "root = Tk()\n",
        "root.title('my first tkinter')\n",
        "root.geometry(\"400x200\")\n",
        "\n",
        "label1 = Label(root, text='안녕하세요!', relief='groove')\n",
        "label1.pack(side = 'left')\n",
        "label2 = Label(root, text='Hello!', relief='groove')\n",
        "label2.pack(side = 'right')\n",
        "label3 = Label(root, text='니 하오!', relief='groove')\n",
        "label3.pack(side = 'top')\n",
        "label4 = Label(root, text='봉쥬르!', relief='groove')\n",
        "label4.pack(side = 'bottom')\n",
        "\n",
        "root.mainloop()"
      ],
      "execution_count": null,
      "outputs": []
    },
    {
      "cell_type": "code",
      "metadata": {
        "id": "e7Em74Tf7eSD"
      },
      "source": [
        "root = Tk()\n",
        "root.title('my first tkinter')\n",
        "root.geometry(\"400x200\")\n",
        "\n",
        "label1 = Label(root, text='안녕하세요!', relief='groove')\n",
        "label1.grid(row=0, column=0)\n",
        "label2 = Label(root, text='Hello!', relief='groove')\n",
        "label2.grid(row=0, column=1)\n",
        "label3 = Label(root, text='니 하오!', relief='groove')\n",
        "label3.grid(row=1, column=0)\n",
        "label4 = Label(root, text='봉쥬르!', relief='groove')\n",
        "label4.grid(row=1, column=1)\n",
        "\n",
        "root.mainloop()"
      ],
      "execution_count": null,
      "outputs": []
    },
    {
      "cell_type": "code",
      "metadata": {
        "id": "bGYlN7-c7eSD"
      },
      "source": [
        "root = Tk()\n",
        "root.title('my first tkinter')\n",
        "root.geometry(\"400x200\")\n",
        "\n",
        "label1 = Label(root, text='안녕하세요!', relief='groove')\n",
        "label1.grid(row=0, column=0)\n",
        "label2 = Label(root, text='Hello!', relief='groove')\n",
        "label2.grid(row=0, column=1)\n",
        "label3 = Label(root, text='니 하오!', relief='groove')\n",
        "label3.grid(row=9, column=0)\n",
        "label4 = Label(root, text='봉쥬르!', relief='groove')\n",
        "label4.grid(row=9, column=9)\n",
        "\n",
        "root.mainloop()"
      ],
      "execution_count": null,
      "outputs": []
    },
    {
      "cell_type": "code",
      "metadata": {
        "id": "VrbDyWdY7eSE"
      },
      "source": [
        "root = Tk()\n",
        "root.title('my first tkinter')\n",
        "root.geometry(\"400x200\")\n",
        "\n",
        "label1 = Label(root, text='1. 안녕하세요', width= 20, height=5, relief='groove')\n",
        "label1.grid(row=0, column=0)\n",
        "label2 = Label(root, text='2. Hello!', width= 10, height=5, relief='groove')\n",
        "label2.grid(row=0, column=1)\n",
        "label3 = Label(root, text='3. 니 하오!', width= 10, height=5, relief='groove')\n",
        "label3.grid(row=1, column=0)\n",
        "label4 = Label(root, text='4. 봉쥬르!', width= 20, height=5, relief='groove')\n",
        "label4.grid(row=1, column=1)\n",
        "\n",
        "root.mainloop()"
      ],
      "execution_count": null,
      "outputs": []
    },
    {
      "cell_type": "code",
      "metadata": {
        "id": "2eOUV8m27eSE"
      },
      "source": [
        "root = Tk()\n",
        "root.title('my first tkinter')\n",
        "root.geometry(\"400x200\")\n",
        "\n",
        "label1 = Label(root, text='1. 안녕하세요', width=15, relief='groove')\n",
        "label1.grid(row=0, column=0)\n",
        "label2 = Label(root, text='2. Hello!', width=15, relief='groove')\n",
        "label2.grid(row=0, column=1)\n",
        "label3 = Label(root, text='3. 니 하오!', width=15, relief='groove')\n",
        "label3.grid(row=1, column=0, columnspan=2)\n",
        "label4 = Label(root, text='4. 봉쥬르!', width=15, relief='groove')\n",
        "label4.grid(row=0, column=2, rowspan=2)\n",
        "\n",
        "root.mainloop()"
      ],
      "execution_count": null,
      "outputs": []
    },
    {
      "cell_type": "code",
      "metadata": {
        "id": "TXrwE5Ik7eSE"
      },
      "source": [
        "root = Tk()\n",
        "root.title('my first tkinter') \n",
        "root.geometry('700x450')\n",
        "\n",
        "label_txt = Label(root, text='파이썬 프로그래밍', font=('Malgun Gothic', 30)) \n",
        "label_txt.grid(row=0, column=0)\n",
        "letsgetit = PhotoImage(file='lets get it.png')\n",
        "label_img = Label(root, image=letsgetit)\n",
        "label_img.grid(row=1, column=0) \n",
        "\n",
        "root.mainloop()"
      ],
      "execution_count": null,
      "outputs": []
    },
    {
      "cell_type": "markdown",
      "metadata": {
        "id": "FkMi-2uM7eSF"
      },
      "source": [
        "#### 15.2.3  버튼"
      ]
    },
    {
      "cell_type": "code",
      "metadata": {
        "id": "ph6l5Zxy7eSF"
      },
      "source": [
        "from tkinter import *\n",
        "\n",
        "root = Tk()\n",
        "root.title('Button')\n",
        "root.geometry(\"400x200\")\n",
        "\n",
        "btn1 = Button(root, text='버튼', width=10, height=3)\n",
        "btn1.pack()\n",
        "\n",
        "root.mainloop()"
      ],
      "execution_count": null,
      "outputs": []
    },
    {
      "cell_type": "code",
      "metadata": {
        "id": "sszTNDU-7eSF"
      },
      "source": [
        "root = Tk()\n",
        "root.title('Button')\n",
        "root.geometry(\"400x200\")\n",
        "\n",
        "lbl1 = Label(root, text='안녕하세요! ', width=40)\n",
        "lbl1.grid(row=0, column=0)\n",
        "btn1 = Button(root, text='확인', width=10)\n",
        "btn1.grid(row=0, column=1)\n",
        "\n",
        "root.mainloop()"
      ],
      "execution_count": null,
      "outputs": []
    },
    {
      "cell_type": "code",
      "metadata": {
        "id": "Ll4otbib7eSF"
      },
      "source": [
        "def sayhello() : \n",
        "    print('Hello!! '*3)\n",
        "\n",
        "root = Tk()\n",
        "root.title('Button')\n",
        "root.geometry(\"400x200\")\n",
        "\n",
        "lbl1 = Label(root, text='안녕하세요! ',width=40)\n",
        "lbl1.grid(row=0, column=0)\n",
        "btn1 = Button(root, text='확인', width=10, command=sayhello)\n",
        "btn1.grid(row=0, column=1)\n",
        "\n",
        "root.mainloop()"
      ],
      "execution_count": null,
      "outputs": []
    },
    {
      "cell_type": "code",
      "metadata": {
        "id": "a4QlEIjn7eSF"
      },
      "source": [
        "# ----- 프로그램 기능 부분 -----\n",
        "def sayhello() : \n",
        "    txt.set('Hello!! '*3)   # sayhello() 함수 실행 시 동적변수 txt에 값 넣기\n",
        "\n",
        "# ----- 프로그램 화면 부분 -----\n",
        "root = Tk()\n",
        "root.title('Button')\n",
        "root.geometry(\"400x200\")\n",
        "\n",
        "lbl1 = Label(root, text='안녕하세요! ',width=40)\n",
        "lbl1.grid(row=0, column=0)\n",
        "btn1 = Button(root, text='확인', width=10, command=sayhello)\n",
        "btn1.grid(row=0, column=1)\n",
        "\n",
        "txt = StringVar()   # 동적변수 txt 정의\n",
        "lbl2 = Label(root, textvariable = txt, width=40, height=3)   # 레이블에 동적변수 txt 설정\n",
        "lbl2.grid(row=1, column=0, columnspan = 2)\n",
        "\n",
        "root.mainloop()"
      ],
      "execution_count": null,
      "outputs": []
    },
    {
      "cell_type": "code",
      "metadata": {
        "id": "7Kc3xfJL7eSF"
      },
      "source": [
        "# 구구단 프로그램 만들기\n",
        "import random\n",
        "\n",
        "# ----- 프로그램 기능 부분 -----\n",
        "num1, num2 = 0,0     # 전역변수\n",
        "\n",
        "def make_question() :\n",
        "    global num1, num2\n",
        "    num1, num2 = random.randint(2,9), random.randint(1,9)\n",
        "    question.set(str(num1) + 'x' + str(num2) + '? ')  \n",
        "    \n",
        "def check_answer() :    \n",
        "    answer.set(num1*num2)\n",
        "\n",
        "# ----- 프로그램 화면 부분 -----\n",
        "root = Tk()\n",
        "root.title('구구단')\n",
        "\n",
        "question = StringVar()\n",
        "q_lbl = Label(root, textvariable= question, width=30)\n",
        "q_lbl.grid(row=0, column=0)\n",
        "\n",
        "q_btn = Button(root, text='새로운 문제', width=10, command= make_question)\n",
        "q_btn.grid(row=0, column=1)\n",
        "\n",
        "a_btn = Button(root, text='정답 확인', width=10, command=check_answer)\n",
        "a_btn.grid(row=1, column=1)\n",
        "\n",
        "answer = StringVar()\n",
        "a_lbl = Label(root, textvariable= answer, width=30)\n",
        "a_lbl.grid(row=1, column=0)\n",
        "\n",
        "root.mainloop()"
      ],
      "execution_count": null,
      "outputs": []
    },
    {
      "cell_type": "markdown",
      "metadata": {
        "id": "Q_fApteN7eSG"
      },
      "source": [
        "#### 15.2.4 엔트리"
      ]
    },
    {
      "cell_type": "code",
      "metadata": {
        "id": "toJCFJ1n7eSG"
      },
      "source": [
        "from tkinter import *\n",
        "\n",
        "root = Tk()\n",
        "root.title('entry')\n",
        "root.geometry(\"400x200\")\n",
        "\n",
        "ent = Entry(root, width = 25)\n",
        "ent.grid(row=0, column=0)\n",
        "\n",
        "root.mainloop()"
      ],
      "execution_count": null,
      "outputs": []
    },
    {
      "cell_type": "code",
      "metadata": {
        "id": "M63EcGtN7eSG"
      },
      "source": [
        "root = Tk()\n",
        "root.title('entry')\n",
        "root.geometry(\"400x200\")\n",
        "\n",
        "lbl = Label(root, text='이름 : ', width=10)\n",
        "lbl.grid(row=0, column=0)\n",
        "ent = Entry(root, width = 25)\n",
        "ent.grid(row=0, column=1)\n",
        "\n",
        "root.mainloop()"
      ],
      "execution_count": null,
      "outputs": []
    },
    {
      "cell_type": "code",
      "metadata": {
        "id": "V0X1H8sv7eSG"
      },
      "source": [
        "def entry_value() : \n",
        "    print(ent.get())\n",
        "\n",
        "root = Tk()\n",
        "root.title('entry')\n",
        "root.geometry(\"400x200\")\n",
        "\n",
        "lbl = Label(root, text='이름 : ', width = 10)\n",
        "lbl.grid(row=0, column=0)\n",
        "ent = Entry(root, width = 30)\n",
        "ent.grid(row=0, column=1)\n",
        "btn = Button(root, text='확인', width = 10, command =entry_value)\n",
        "btn.grid(row=0, column=2)\n",
        "\n",
        "root.mainloop()"
      ],
      "execution_count": null,
      "outputs": []
    },
    {
      "cell_type": "code",
      "metadata": {
        "id": "yNsKg8Gt7eSG"
      },
      "source": [
        "# ----- 프로그램 기능 부분 -----\n",
        "def login() : \n",
        "    if id_ent.get() == 'Lian' and pw_ent.get() == '1234' : \n",
        "        result.set('로그인 성공!')\n",
        "    else : \n",
        "        result.set('로그인 실패. \\n아이디, 비밀번호를 다시 확인하세요!')\n",
        "\n",
        "# ----- 프로그램 화면 부분 -----\n",
        "root = Tk()\n",
        "root.title('my first tkinter')\n",
        "root.geometry(\"400x200\")\n",
        "\n",
        "id_lbl = Label(root, text='아이디 ',width=10)\n",
        "id_lbl.grid(row=0, column=0)\n",
        "id_ent = Entry(root, width= 20)\n",
        "id_ent.grid(row=0, column=1)\n",
        "\n",
        "pw_lbl = Label(root, text='비밀번호',width=10)\n",
        "pw_lbl.grid(row=1, column=0)\n",
        "pw_ent = Entry(root, width= 20)\n",
        "pw_ent.grid(row=1, column=1)\n",
        "\n",
        "btn = Button(root, text='로그인', width=5, height=3, command=login)\n",
        "btn.grid(row=0, column=2, rowspan=2)\n",
        "\n",
        "result = StringVar()   # 로그인 성공 여부를 저장하는 동적변수\n",
        "# 로그인 성공 여부를 나타내는 텍스트 레이블\n",
        "result_lbl = Label(root, textvariable=result, width=30)\n",
        "result_lbl.grid(row=2, column=0, columnspan=3)\n",
        "\n",
        "root.mainloop()"
      ],
      "execution_count": null,
      "outputs": []
    },
    {
      "cell_type": "markdown",
      "metadata": {
        "id": "WPixYykM7eSG"
      },
      "source": [
        "#### 15.2.5 콤보박스"
      ]
    },
    {
      "cell_type": "code",
      "metadata": {
        "id": "nT3N7wsF7eSG"
      },
      "source": [
        "from tkinter import *\n",
        "from tkinter.ttk import *\n",
        "\n",
        "root = Tk()\n",
        "root.title('ComboBox')\n",
        "root.geometry(\"400x200\")\n",
        "\n",
        "# 콤보박스에 나타낼 리스트\n",
        "characters = ['조르디', '프로도', '라이언', '무지', '어피치']\n",
        "# 콤보박스 객체 생성, characters 리스트 연결\n",
        "combo = Combobox(root, values=characters)\n",
        "combo.pack()\n",
        "\n",
        "root.mainloop()"
      ],
      "execution_count": null,
      "outputs": []
    },
    {
      "cell_type": "code",
      "metadata": {
        "id": "bNbhckAl7eSH"
      },
      "source": [
        "from tkinter import *\n",
        "from tkinter.ttk import *\n",
        "\n",
        "root = Tk()\n",
        "root.title('ComboBox')\n",
        "root.geometry(\"400x200\")\n",
        "\n",
        "def select() : \n",
        "    print('선택된 캐릭터는', combo.get())\n",
        "\n",
        "lbl = Label(root, text= '캐릭터이름', width=10, anchor = 'center')\n",
        "lbl.grid(row=0, column=0)\n",
        "\n",
        "characters = ['조르디', '프로도', '라이언', '무지', '어피치']\n",
        "combo = Combobox(root, values=characters, width=30)\n",
        "combo.grid(row=0, column=1)\n",
        "\n",
        "btn = Button(root, text='선택', command=select, width=10)\n",
        "btn.grid(row=0, column=2)\n",
        "\n",
        "root.mainloop()"
      ],
      "execution_count": null,
      "outputs": []
    },
    {
      "cell_type": "code",
      "metadata": {
        "id": "4_-ebFhZ7eSH"
      },
      "source": [
        "# 콤보박스로 구구단 프로그램의 화면 만들기\n",
        "from tkinter import *\n",
        "from tkinter.ttk import *\n",
        "import random\n",
        "\n",
        "# ----- 프로그램 기능 부분 -----\n",
        "num1, num2 = 0, 0\n",
        "selection = []\n",
        "\n",
        "def make_question() :\n",
        "    # 문제 만들기\n",
        "    num1, num2 = random.randint(2,9), random.randint(1,9)\n",
        "    question.set(str(num1) + 'x' + str(num2) + '? ')  \n",
        "    \n",
        "    # 선택지 초기화하고 새로 만들기\n",
        "    selection = []\n",
        "    for i in range(4) : \n",
        "        selection.append(random.randint(2, 81))\n",
        "        \n",
        "    # 무작위 위치에 정답을 끼워넣기\n",
        "    idx = random.randint(0, 4)\n",
        "    selection.insert(idx, num1*num2)\n",
        "    \n",
        "    # 콤보박스에 변경된 리스트 연결하기\n",
        "    a_combo['values']= selection\n",
        "    \n",
        "\n",
        "# ----- 프로그램 화면 부분 -----\n",
        "root = Tk()\n",
        "root.title(\"구구단\")\n",
        "root.geometry(\"400x200\")\n",
        "\n",
        "question = StringVar()\n",
        "q_lbl = Label(root, textvariable= question, width=30, anchor='center')\n",
        "q_lbl.grid(row=0, column=0)\n",
        "q_btn = Button(root, text='새로운 문제', width=10, command= make_question)\n",
        "q_btn.grid(row=0, column=1)\n",
        "\n",
        "selection = []  # 콤보박스에 연결할 리스트\n",
        "a_combo = Combobox(root, values = selection, width=30)\n",
        "a_combo.grid(row=1, column=0)\n",
        "a_btn = Button(root, text='정답 확인', width=10)\n",
        "a_btn.grid(row=1, column=1)\n",
        "\n",
        "root.mainloop()"
      ],
      "execution_count": null,
      "outputs": []
    },
    {
      "cell_type": "markdown",
      "metadata": {
        "id": "cgS98_jt7eSH"
      },
      "source": [
        "#### 15.2.6 메시지박스"
      ]
    },
    {
      "cell_type": "code",
      "metadata": {
        "id": "EEmpB1bm7eSH"
      },
      "source": [
        "from tkinter import *\n",
        "from tkinter.messagebox import *\n",
        "\n",
        "root = Tk()\n",
        "root.geometry('400x200')\n",
        "showinfo(title='메시지박스', message ='회원가입이 완료됐습니다!') \n",
        "root.mainloop()"
      ],
      "execution_count": null,
      "outputs": []
    },
    {
      "cell_type": "code",
      "metadata": {
        "id": "O3GjBHjf7eSH"
      },
      "source": [
        "# 구구단 프로그램에 메시지박스 추가하기\n",
        "from tkinter import *\n",
        "from tkinter.ttk import *\n",
        "from tkinter.messagebox import *\n",
        "import random    \n",
        "\n",
        "# ----- 프로그램 기능 부분 -----\n",
        "num1, num2 = 0, 0\n",
        "selection = []\n",
        "\n",
        "def make_question() :\n",
        "    # 문제 만들기\n",
        "    num1, num2 = random.randint(2,9), random.randint(1,9)\n",
        "    question.set(str(num1) + 'x' + str(num2) + '? ')  \n",
        "    \n",
        "    # 선택지 만들기\n",
        "    selection = []\n",
        "    for i in range(4) : \n",
        "        selection.append(random.randint(2, 81))        \n",
        "    idx = random.randint(0, 4)\n",
        "    selection.insert(idx, num1*num2)\n",
        "    a_combo['values']= selection\n",
        "    \n",
        "def check_answer() :\n",
        "    if int(a_combo.get()) == num1 * num2 :\n",
        "        showinfo(title='정답확인!', message='정답입니다.') \n",
        "    else :\n",
        "        showerror(title='정답확인!', message='다시 한번 풀어 보세요!')\n",
        "    \n",
        "\n",
        "# ----- 프로그램 화면 부분 -----\n",
        "root = Tk()\n",
        "root.title(\"구구단\")\n",
        "root.geometry(\"400x200\")\n",
        "\n",
        "question = StringVar()\n",
        "q_lbl = Label(root, textvariable= question, width=30, anchor='center')\n",
        "q_lbl.grid(row=0, column=0)\n",
        "q_btn = Button(root, text='새로운 문제', width=10, command= make_question)\n",
        "q_btn.grid(row=0, column=1)\n",
        "\n",
        "selection = []  # 콤보박스에 연결할 리스트\n",
        "a_combo = Combobox(root, values = selection, width=30)\n",
        "a_combo.grid(row=1, column=0)\n",
        "a_btn = Button(root, text='정답 확인', width=10, command=check_answer)\n",
        "a_btn.grid(row=1, column=1)\n",
        "\n",
        "root.mainloop()"
      ],
      "execution_count": null,
      "outputs": []
    },
    {
      "cell_type": "markdown",
      "metadata": {
        "id": "_TReIl7d7eSI"
      },
      "source": [
        "#### 15.2.7  프레임"
      ]
    },
    {
      "cell_type": "code",
      "metadata": {
        "id": "XwHc0WNS7eSI"
      },
      "source": [
        "from tkinter import *\n",
        "\n",
        "# ----- 프로그램 화면 부분 -----\n",
        "root = Tk()\n",
        "root.title('frame')\n",
        "root.geometry(\"400x200\")\n",
        "\n",
        "frame_A = Frame(root, relief='groove', borderwidth=2) \n",
        "frame_A.grid(row=0, column=0)\n",
        "frame_B = Frame(root, relief='groove', borderwidth=2) \n",
        "frame_B.grid(row=1, column=0)\n",
        "\n",
        "id_lbl = Label(frame_A, text='아이디 ', width=10, height=2) \n",
        "id_lbl.grid(row=0, column=0)\n",
        "id_ent = Entry(frame_A, width=20)\n",
        "id_ent.grid(row=0, column=1)\n",
        "\n",
        "pw_lbl = Label(frame_B, text='비밀번호', width=10, height=2) \n",
        "pw_lbl.grid(row=0, column=0)\n",
        "pw_ent = Entry(frame_B, width=20)\n",
        "pw_ent.grid(row=0, column=1)\n",
        "\n",
        "\n",
        "root.mainloop()"
      ],
      "execution_count": null,
      "outputs": []
    },
    {
      "cell_type": "code",
      "metadata": {
        "id": "9EgM2Dkh7eSI"
      },
      "source": [
        "# 프레임을 설정한 웹페이지 화면 만들기\n",
        "from tkinter import *\n",
        "root = Tk()\n",
        "root.title('렛츠기릿 포털 사이트') \n",
        "root.geometry('400x200')\n",
        "\n",
        "# ----- 프레임 생성 -----\n",
        "frame_logo = Frame(root) \n",
        "frame_logo.grid(row=0, column=0) \n",
        "frame_search = Frame(root) \n",
        "frame_search.grid(row=1, column=0) \n",
        "frame_weather = Frame(root) \n",
        "frame_weather.grid(row=2, column=0)\n",
        "    \n",
        "# ----- 로고 프레임 -----\n",
        "logo = PhotoImage(file='lets get it.png')\n",
        "logo = logo.subsample(6, 6)\n",
        "logo_label = Label(frame_logo, image=logo)\n",
        "logo_label.grid(row=0, column=0)\n",
        "site_title = Label(frame_logo, text='렛츠기릿', font=('Malgun Gothic', 20)) \n",
        "site_title.grid(row=0, column=1)\n",
        "\n",
        "# ----- 검색 프레임 -----\n",
        "search_lbl = Label(frame_search, text='검색어 입력', width=10)\n",
        "search_lbl.grid(row=0, column=0)\n",
        "search_ent = Entry(frame_search, width=35)\n",
        "search_ent.grid(row=0, column=1)\n",
        "search_btn = Button(frame_search, text='검색',width=8) \n",
        "search_btn.grid(row=0, column=2)\n",
        "\n",
        "# ----- 날씨 프레임-----\n",
        "weather_title = Label(frame_weather, text='오늘의 날씨', font=('Malgun Gothic', 10), width=10)\n",
        "weather_title.grid(row=0, column=0, rowspan =2)\n",
        "weather_temperature = Label(frame_weather, text='28도', font=('Malgun Gothic', 14), width=5)\n",
        "weather_temperature.grid(row=0, column=1, rowspan=2)\n",
        "weather_explain = Label(frame_weather, text='흐림, 어제보다 0도 높아요. 체감온도 30.4', width=35)\n",
        "weather_explain.grid(row=0, column=2)\n",
        "weather_info = Label(frame_weather, text='미세먼지 좋음 / 초미세먼지 좋음', width=35) \n",
        "weather_info.grid(row=1, column=2)\n",
        "root.mainloop()"
      ],
      "execution_count": null,
      "outputs": []
    },
    {
      "cell_type": "code",
      "metadata": {
        "id": "w-iK_nng7eSI"
      },
      "source": [
        ""
      ],
      "execution_count": null,
      "outputs": []
    },
    {
      "cell_type": "code",
      "metadata": {
        "id": "K3-cGK4e7eSI"
      },
      "source": [
        "# 1분 퀴즈 1\n",
        "from tkinter import *\n",
        "sayhello = ['안녕하세요', 'hello', '니하오', '봉쥬르']\n",
        "idx =0   # sayhello 리스트의 인덱스\n",
        "\n",
        "def plus() : \n",
        "    global idx \n",
        "    idx = (idx+1)%4\n",
        "    hello_txt.set(sayhello[idx])\n",
        "    \n",
        "# ----- 프로그램 화면 부분 -----\n",
        "root = Tk()\n",
        "root.geometry(\"200x100\")\n",
        "\n",
        "hello_txt = StringVar()\n",
        "hello_lbl = Label(root, textvariable = hello_txt, width=20)\n",
        "hello_lbl.grid(row=0, column=0)\n",
        "\n",
        "btn_plus = Button(root, text='-->', command = plus, width= 5)\n",
        "btn_plus.grid(row=0, column=1)\n",
        "\n",
        "root.mainloop()"
      ],
      "execution_count": null,
      "outputs": []
    },
    {
      "cell_type": "markdown",
      "metadata": {
        "id": "QMQF-KtD7eSI"
      },
      "source": [
        "## 15.3  핫플레이스 프로젝트에 화면 입히기"
      ]
    },
    {
      "cell_type": "code",
      "metadata": {
        "id": "mEeewQUT7eSI"
      },
      "source": [
        "import csv \n",
        "import datetime\n",
        "import matplotlib.pyplot as plt \n",
        "from tkinter import *\n",
        "\n",
        "\n",
        "# ======  프로그램 기능 부분 ======\n",
        "def file_open() :\n",
        "    f = open('LOCAL_PEOPLE_DONG_201912.csv', encoding = 'utf8')  # 또는 'eur-kr', 'cp949'\n",
        "    data = csv.reader(f)\n",
        "    next(data)\n",
        "    data = list(data)\n",
        "\n",
        "    f2 = open('dong_code.csv', encoding = 'utf8')\n",
        "    code_data = csv.reader(f2)\n",
        "    next(code_data)\n",
        "    next(code_data)\n",
        "    code_data = list(code_data)\n",
        "    \n",
        "    for row in data : \n",
        "        for i in range(1, 32) : \n",
        "            if i <= 2 : \n",
        "                row[i] = int(row[i])\n",
        "            else : \n",
        "                row[i] = float(row[i])\n",
        "    for row in code_data : \n",
        "        row[1] = int(row[1])\n",
        "    \n",
        "    return data, code_data\n",
        "\n",
        "\n",
        "# 핫플레이스가 있는 행정동 코드(dong_code1)를 세팅하는 함수\n",
        "def dong_search1() : \n",
        "    global dong_name1, dong_code1\n",
        "    dong_name1 = dong_ent1.get()\n",
        "    \n",
        "    for row in code_data : \n",
        "        if row[-1] == dong_name1 : \n",
        "            dong_code1 = row[1]  \n",
        "    info.set(dong_name1+'-'+str(dong_code1)+'을/를 분석합니다.')\n",
        "    \n",
        "    \n",
        "# 비교할 행정동코드 (dong_code2)를 세팅하는 함수\n",
        "def dong_search2() : \n",
        "    global dong_name2, dong_code2\n",
        "    dong_name2 = dong_ent2.get()\n",
        "    \n",
        "    for row in code_data : \n",
        "        if row[-1] == dong_name2 : \n",
        "            dong_code2 = row[1]              \n",
        "    info.set(dong_name1+'과 '+dong_name2+'을/를 분석합니다.')\n",
        "    \n",
        "    \n",
        "def graph_plot(popu_list, label_list, graph_title) :\n",
        "    plt.figure(figsize= (10,5))     # 그래프 크기 설정\n",
        "    plt.rc('font', family='Malgun Gothic')\n",
        "    plt.title(graph_title)    \n",
        "    for i in range(len(popu_list)) : \n",
        "        plt.plot(range(24), popu_list[i], label = label_list[i])\n",
        "    plt.legend()\n",
        "    plt.xlabel('시간대')\n",
        "    plt.ylabel('평균인구')\n",
        "    plt.xticks(range(24), range(24))\n",
        "    plt.savefig('graph.png')      # 결과 그래프를 이미지로 저장하기\n",
        "    plt.show()\n",
        "    \n",
        "    # 그래프 이미지를 PhotoImage객체로 만들고, 라벨 graph_lbl표시하기\n",
        "    graph_img = PhotoImage(file='graph.png')\n",
        "    graph_lbl.configure(image=graph_img)\n",
        "    graph_lbl.image = graph_img\n",
        "\n",
        "    \n",
        "def analysis1(graph_yn = 'y') : \n",
        "    population = [0 for i in range(24)]\n",
        "    for row in data : \n",
        "        if row[2] == dong_code1 : \n",
        "            time, p = row[1], row[3]\n",
        "            population[time] += p\n",
        "    population = [p/31 for p in population]\n",
        "    \n",
        "    if graph_yn == 'n' : \n",
        "        return population\n",
        "    \n",
        "    population = [population]\n",
        "    labels = ['평균인구']\n",
        "    title  = dong_name1+' 시간대별 평균인구'\n",
        "    graph_plot(popu_list= population, label_list= labels, graph_title= title)\n",
        "    \n",
        "    \n",
        "def analysis2() : \n",
        "    weekday = [0 for i in range(24)]\n",
        "    weekend = [0 for i in range(24)]\n",
        "    \n",
        "    for row in data : \n",
        "        if row[2] == dong_code1 : \n",
        "            time, p = row[1], row[3]\n",
        "            year, mon, day = int(row[0][:4]), int(row[0][4:6]), int(row[0][6:])\n",
        "            num = datetime.date(year, mon, day).weekday()\n",
        "            if num < 5 : \n",
        "                weekday[time] += p\n",
        "            else : \n",
        "                weekend[time] += p\n",
        "    \n",
        "    weekday_cnt, weekend_cnt = 0,0\n",
        "\n",
        "    for i in range(1, 32) : \n",
        "        if datetime.date(2019,12,i).weekday() < 5 :\n",
        "            weekday_cnt += 1\n",
        "        else :\n",
        "            weekend_cnt += 1\n",
        "\n",
        "    weekday = [w/weekday_cnt for w in weekday]\n",
        "    weekend = [w/weekend_cnt for w in weekend]\n",
        "\n",
        "    data_set = [weekday, weekend]\n",
        "    labels = ['주중', '주말']\n",
        "    title = dong_name1 + ' 주중/주말 시간대별 평균인구'\n",
        "    graph_plot(popu_list= data_set, label_list= labels, graph_title= title)  \n",
        "    \n",
        "\n",
        "def analysis3() : \n",
        "    male = [0 for i in range(24)]\n",
        "    female = [0 for i in range(24)]\n",
        "\n",
        "    for row in data : \n",
        "        if row[2] == dong_code1 : \n",
        "            time = int(row[1])\n",
        "            male[time] += sum(row[4:18])     # 남성 인구 총합 구하기  \n",
        "            female[time] += sum(row[18:32])   # 여성 인구 총합 구하기\n",
        "\n",
        "    male = [m/31 for m in male]\n",
        "    female = [f/31 for f in female]\n",
        "    \n",
        "    data_set = [male, female]\n",
        "    labels = ['남성','여성']\n",
        "    title = dong_name1+' 남녀 시간대별 평균인구'\n",
        "    graph_plot(popu_list=data_set, label_list=labels, graph_title=title)\n",
        "    \n",
        "\n",
        "def analysis4() :    \n",
        "    population1 = analysis1(graph_yn='n')    \n",
        "    population2 = [0 for i in range(24)]\n",
        "    for row in data : \n",
        "        if row[2] == dong_code2 : \n",
        "            time, p = row[1], row[3]\n",
        "            population2[time] += p\n",
        "    population2 = [p/31 for p in population2]        \n",
        "       \n",
        "    data_set = [population1, population2]\n",
        "    labels = [dong_name1, dong_name2]\n",
        "    title = dong_name1+'/'+dong_name2+' 시간대별 평균인구'\n",
        "    graph_plot(popu_list= data_set, label_list=labels, graph_title=title)    "
      ],
      "execution_count": null,
      "outputs": []
    },
    {
      "cell_type": "code",
      "metadata": {
        "id": "_34OVN_v7eSJ"
      },
      "source": [
        "# 전역변수 \n",
        "data, code_data = file_open()     # 파일 읽기\n",
        "dong_name1, dong_code1 = '', ''   # 핫플레이스가 있는 행정동의 이름과 코드\n",
        "dong_name2, dong_code2 = '', ''   # 비교할 행정동의 이름과 코드\n",
        "\n",
        "\n",
        "# ====== 프로그램 화면 부분 ======\n",
        "root = Tk()\n",
        "root.geometry('800x500')\n",
        "root.title('핫플레이스, 언제 가야 가장 덜 붐빌까?')\n",
        "\n",
        "# ----- Frame -----\n",
        "Menu = Frame(root)\n",
        "Menu.grid(row=0, column=0)\n",
        "Graph = Frame(root)\n",
        "Graph.grid(row=1, column=0)\n",
        "\n",
        "# ----- Menu frame -----\n",
        "dong_ent1 = Entry(Menu, width = 20)\n",
        "dong_ent1.grid(row=0, column=0)\n",
        "\n",
        "dong_btn1 = Button(Menu, text='핫플레이스 행정동 세팅', width = 20, command=dong_search1)\n",
        "dong_btn1.grid(row=0, column=1)\n",
        "\n",
        "dong_ent2 = Entry(Menu, width = 20)\n",
        "dong_ent2.grid(row=0, column=2)\n",
        "\n",
        "dong_btn2 = Button(Menu, text='비교할 행정동 세팅', width = 20, command=dong_search2)\n",
        "dong_btn2.grid(row=0, column=3)\n",
        "\n",
        "info = StringVar()\n",
        "dong_lbl = Label(Menu, textvariable = info, font=('Malgun Gothic', 12))\n",
        "dong_lbl.grid(row=1, columnspan=4)\n",
        "\n",
        "# ----- Graph frame -----\n",
        "btn1 = Button(Graph, text='1. 평균인구 그래프', width = 20, command=analysis1)\n",
        "btn1.grid(row=1, column=0)\n",
        "\n",
        "btn2 = Button(Graph, text='2. 주중/주말 그래프', width = 20, command=analysis2)\n",
        "btn2.grid(row=1, column=1)\n",
        "\n",
        "btn3 = Button(Graph, text='3. 남녀 그래프', width = 20, command=analysis3)\n",
        "btn3.grid(row=1, column=2)\n",
        "\n",
        "btn4 = Button(Graph, text='4. 지역 비교 그래프', width = 20, command=analysis4)\n",
        "btn4.grid(row=1, column=3)\n",
        "\n",
        "graph_lbl = Label(Graph)\n",
        "graph_lbl.grid(row=2, column=0, columnspan=5)\n",
        "\n",
        "root.mainloop()\n"
      ],
      "execution_count": null,
      "outputs": []
    },
    {
      "cell_type": "markdown",
      "metadata": {
        "id": "Z0mFzWlh7eSJ"
      },
      "source": [
        "#### Self check"
      ]
    },
    {
      "cell_type": "code",
      "metadata": {
        "id": "BtASH58Z7eSJ"
      },
      "source": [
        "# 1번\n",
        "# ----- 프로그램 기능 부분 -----\n",
        "sayhello = ['안녕하세요', 'hello', '니하오', '봉쥬르']\n",
        "idx =0 \n",
        "\n",
        "def plus() : \n",
        "    global idx \n",
        "    idx = (idx+1)%4\n",
        "    hello_txt.set(sayhello[idx])\n",
        "    \n",
        "def minus() : \n",
        "    global idx \n",
        "    idx = (idx-1)%4\n",
        "    hello_txt.set(sayhello[idx])\n",
        "    \n",
        "# ----- GUI 부분 : 프로그램 화면 -----\n",
        "from tkinter import *\n",
        "root = Tk()\n",
        "root.geometry(\"250x100\")\n",
        "\n",
        "btn_minus = Button(root, text='<--', command = minus, width= 5)\n",
        "btn_minus.grid(row=0, column=0)\n",
        "\n",
        "hello_txt = StringVar()\n",
        "hello_lbl = Label(root, textvariable = hello_txt, text = sayhello[0], width=20)\n",
        "hello_lbl.grid(row=0, column=1)\n",
        "\n",
        "btn_plus = Button(root, text='-->', command = plus, width= 5)\n",
        "btn_plus.grid(row=0, column=2)\n",
        "\n",
        "root.mainloop()"
      ],
      "execution_count": null,
      "outputs": []
    },
    {
      "cell_type": "code",
      "metadata": {
        "id": "Dk_NZTu07eSJ"
      },
      "source": [
        "# 2번\n",
        "from tkinter import * \n",
        "from tkinter.ttk import *\n",
        "\n",
        "def summit():\n",
        "    correct = 0 # 정답을 맞힌 문제 개수를 저장하는 변수\n",
        "    if combo1.get() == 'O': \n",
        "        correct += 1\n",
        "    if combo2.get() == 'X': \n",
        "        correct += 1\n",
        "    if combo3.get() == 'O': \n",
        "        correct += 1\n",
        "    # 최종 결과 안내문 만들기\n",
        "    report = str(correct) + '문제 맞혔습니다.' \n",
        "    result.set(report)\n",
        "    \n",
        "    \n",
        "root = Tk() \n",
        "root.title('수도맞히기 퀴즈') \n",
        "root.geometry('400x200')\n",
        "\n",
        "result = StringVar() \n",
        "ox =['O', 'X']\n",
        "\n",
        "# 1번 문제\n",
        "lbl1 = Label(root, text='1번. 핀란드의 수도는 헬싱키다.', width=40) \n",
        "lbl1.grid(row=0, column=0)\n",
        "\n",
        "combo1 = Combobox(root, values= ox, width=3) \n",
        "combo1.grid(row=0, column=1)\n",
        "\n",
        "# 2번 문제\n",
        "lbl2 = Label(root, text='2번. 몰디브의 수도는 몰디브다.', width=40) \n",
        "lbl2.grid(row=1, column=0)\n",
        "\n",
        "combo2 = Combobox(root, values= ox, width=3) \n",
        "combo2.grid(row=1, column=1)\n",
        "\n",
        "# 3번 문제\n",
        "lbl3 = Label(root, text='3번. 오스트레일리아의 수도는 캔버라다.', width=40) \n",
        "lbl3.grid(row=2, column=0)\n",
        "\n",
        "combo3 = Combobox(root, values= ox, width=3) \n",
        "combo3.grid(row=2, column=1)\n",
        "\n",
        "btn = Button(root, text='제출', (나))\n",
        "btn.grid((다), (라), columnspan=2)\n",
        "\n",
        "lbl_result = Label(root, (마), width=35, anchor='center') \n",
        "lbl_result.grid(row=4, column=0, columnspan=3)\n",
        "\n",
        "root.mainloop()"
      ],
      "execution_count": null,
      "outputs": []
    },
    {
      "cell_type": "code",
      "metadata": {
        "id": "DYH_733-7eSJ"
      },
      "source": [
        ""
      ],
      "execution_count": null,
      "outputs": []
    }
  ]
}