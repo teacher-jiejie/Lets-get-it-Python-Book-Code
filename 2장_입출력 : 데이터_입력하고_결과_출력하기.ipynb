{
  "nbformat": 4,
  "nbformat_minor": 0,
  "metadata": {
    "colab": {
      "name": "2장 - 입출력 : 데이터 입력하고 결과 출력하기.ipynb",
      "provenance": [],
      "collapsed_sections": [],
      "authorship_tag": "ABX9TyPNwGxSq9X+y8+uvYQJsUag",
      "include_colab_link": true
    },
    "kernelspec": {
      "name": "python3",
      "display_name": "Python 3"
    },
    "language_info": {
      "name": "python"
    }
  },
  "cells": [
    {
      "cell_type": "markdown",
      "metadata": {
        "id": "view-in-github",
        "colab_type": "text"
      },
      "source": [
        "<a href=\"https://colab.research.google.com/github/teacher-jiejie/Lets-get-it-Python-Book-Code/blob/main/2%EC%9E%A5_%EC%9E%85%EC%B6%9C%EB%A0%A5%20%3A%20%EB%8D%B0%EC%9D%B4%ED%84%B0_%EC%9E%85%EB%A0%A5%ED%95%98%EA%B3%A0_%EA%B2%B0%EA%B3%BC_%EC%B6%9C%EB%A0%A5%ED%95%98%EA%B8%B0.ipynb\" target=\"_parent\"><img src=\"https://colab.research.google.com/assets/colab-badge.svg\" alt=\"Open In Colab\"/></a>"
      ]
    },
    {
      "cell_type": "markdown",
      "metadata": {
        "id": "42xhwtInjLQz"
      },
      "source": [
        "## 2.1  파이썬 명령어의 형식"
      ]
    },
    {
      "cell_type": "markdown",
      "metadata": {
        "id": "mZQoIKqojT0i"
      },
      "source": [
        "## 2.2  실행 결과를 보여주는 출력 명령어\n",
        "#### 2.2.2  출력 명령어 print()"
      ]
    },
    {
      "cell_type": "code",
      "metadata": {
        "colab": {
          "base_uri": "https://localhost:8080/"
        },
        "id": "_RfEp5B8jShT",
        "outputId": "9e8cc3be-4957-459d-d785-9fb26a556e72"
      },
      "source": [
        "print(123)"
      ],
      "execution_count": null,
      "outputs": [
        {
          "output_type": "stream",
          "text": [
            "123\n"
          ],
          "name": "stdout"
        }
      ]
    },
    {
      "cell_type": "code",
      "metadata": {
        "colab": {
          "base_uri": "https://localhost:8080/"
        },
        "id": "70DZs3ZFiN5v",
        "outputId": "0f131b72-13e8-44a1-e7a0-278dbbc072da"
      },
      "source": [
        "print(2020)"
      ],
      "execution_count": null,
      "outputs": [
        {
          "output_type": "stream",
          "text": [
            "2020\n"
          ],
          "name": "stdout"
        }
      ]
    },
    {
      "cell_type": "code",
      "metadata": {
        "colab": {
          "base_uri": "https://localhost:8080/",
          "height": 176
        },
        "id": "6OW0g0VwpG4_",
        "outputId": "4782a517-e386-44ab-c2bd-548085f7829b"
      },
      "source": [
        "print(가나다)"
      ],
      "execution_count": null,
      "outputs": [
        {
          "output_type": "error",
          "ename": "NameError",
          "evalue": "ignored",
          "traceback": [
            "\u001b[0;31m---------------------------------------------------------------------------\u001b[0m",
            "\u001b[0;31mNameError\u001b[0m                                 Traceback (most recent call last)",
            "\u001b[0;32m<ipython-input-3-a9a49ff8dd7c>\u001b[0m in \u001b[0;36m<module>\u001b[0;34m()\u001b[0m\n\u001b[0;32m----> 1\u001b[0;31m \u001b[0mprint\u001b[0m\u001b[0;34m(\u001b[0m\u001b[0m가나다\u001b[0m\u001b[0;34m)\u001b[0m\u001b[0;34m\u001b[0m\u001b[0;34m\u001b[0m\u001b[0m\n\u001b[0m",
            "\u001b[0;31mNameError\u001b[0m: name '가나다' is not defined"
          ]
        }
      ]
    },
    {
      "cell_type": "code",
      "metadata": {
        "colab": {
          "base_uri": "https://localhost:8080/"
        },
        "id": "Y7WVi7KMpI14",
        "outputId": "8537c1a0-6864-48e7-9401-735119606fb4"
      },
      "source": [
        "print('가나다')"
      ],
      "execution_count": null,
      "outputs": [
        {
          "output_type": "stream",
          "text": [
            "가나다\n"
          ],
          "name": "stdout"
        }
      ]
    },
    {
      "cell_type": "code",
      "metadata": {
        "colab": {
          "base_uri": "https://localhost:8080/"
        },
        "id": "LDEp6cxEpI4X",
        "outputId": "25a03bca-0766-43a5-c4da-d78c09e95b4d"
      },
      "source": [
        "print('123')"
      ],
      "execution_count": null,
      "outputs": [
        {
          "output_type": "stream",
          "text": [
            "123\n"
          ],
          "name": "stdout"
        }
      ]
    },
    {
      "cell_type": "code",
      "metadata": {
        "colab": {
          "base_uri": "https://localhost:8080/",
          "height": 213
        },
        "id": "MzW7GnF_pI6p",
        "outputId": "0f6a5a44-a268-43a4-d2f2-f9e10fd56fb1"
      },
      "source": [
        "print(123 + 2)\n",
        "print('123' + 2)"
      ],
      "execution_count": null,
      "outputs": [
        {
          "output_type": "stream",
          "text": [
            "125\n"
          ],
          "name": "stdout"
        },
        {
          "output_type": "error",
          "ename": "TypeError",
          "evalue": "ignored",
          "traceback": [
            "\u001b[0;31m---------------------------------------------------------------------------\u001b[0m",
            "\u001b[0;31mTypeError\u001b[0m                                 Traceback (most recent call last)",
            "\u001b[0;32m<ipython-input-6-0c931b262974>\u001b[0m in \u001b[0;36m<module>\u001b[0;34m()\u001b[0m\n\u001b[1;32m      1\u001b[0m \u001b[0mprint\u001b[0m\u001b[0;34m(\u001b[0m\u001b[0;36m123\u001b[0m \u001b[0;34m+\u001b[0m \u001b[0;36m2\u001b[0m\u001b[0;34m)\u001b[0m\u001b[0;34m\u001b[0m\u001b[0;34m\u001b[0m\u001b[0m\n\u001b[0;32m----> 2\u001b[0;31m \u001b[0mprint\u001b[0m\u001b[0;34m(\u001b[0m\u001b[0;34m'123'\u001b[0m \u001b[0;34m+\u001b[0m \u001b[0;36m2\u001b[0m\u001b[0;34m)\u001b[0m\u001b[0;34m\u001b[0m\u001b[0;34m\u001b[0m\u001b[0m\n\u001b[0m",
            "\u001b[0;31mTypeError\u001b[0m: can only concatenate str (not \"int\") to str"
          ]
        }
      ]
    },
    {
      "cell_type": "markdown",
      "metadata": {
        "id": "u_RD6A9QpXoN"
      },
      "source": [
        "#### 2.2.3  사칙연산 출력하기"
      ]
    },
    {
      "cell_type": "code",
      "metadata": {
        "colab": {
          "base_uri": "https://localhost:8080/"
        },
        "id": "41SDLmcepJAD",
        "outputId": "e7807230-0550-4602-c124-072304e0d7e0"
      },
      "source": [
        "print(123 + 9)\n",
        "print(123 - 9)"
      ],
      "execution_count": null,
      "outputs": [
        {
          "output_type": "stream",
          "text": [
            "132\n",
            "114\n"
          ],
          "name": "stdout"
        }
      ]
    },
    {
      "cell_type": "code",
      "metadata": {
        "colab": {
          "base_uri": "https://localhost:8080/"
        },
        "id": "DzKqNYVCpbZD",
        "outputId": "06f229f6-6fe3-4f05-e137-2a72549d1af2"
      },
      "source": [
        "print('123 + 9')\n",
        "print('123 - 9')"
      ],
      "execution_count": null,
      "outputs": [
        {
          "output_type": "stream",
          "text": [
            "123 + 9\n",
            "123 - 9\n"
          ],
          "name": "stdout"
        }
      ]
    },
    {
      "cell_type": "code",
      "metadata": {
        "colab": {
          "base_uri": "https://localhost:8080/"
        },
        "id": "8KKS5t8bpevz",
        "outputId": "73a19e0e-90f3-4dcc-eda6-6d1174cd462d"
      },
      "source": [
        "print(108 * 8)\n",
        "print(108 / 8)"
      ],
      "execution_count": null,
      "outputs": [
        {
          "output_type": "stream",
          "text": [
            "864\n",
            "13.5\n"
          ],
          "name": "stdout"
        }
      ]
    },
    {
      "cell_type": "markdown",
      "metadata": {
        "id": "nZEmdxVqpe2_"
      },
      "source": [
        "#### 2.2.4  기타 연산차 출력하기"
      ]
    },
    {
      "cell_type": "code",
      "metadata": {
        "colab": {
          "base_uri": "https://localhost:8080/"
        },
        "id": "Z00i0f6kphEM",
        "outputId": "a9012f39-f726-4372-d021-5dc576252a96"
      },
      "source": [
        "print(108 // 8)"
      ],
      "execution_count": null,
      "outputs": [
        {
          "output_type": "stream",
          "text": [
            "13\n"
          ],
          "name": "stdout"
        }
      ]
    },
    {
      "cell_type": "code",
      "metadata": {
        "colab": {
          "base_uri": "https://localhost:8080/"
        },
        "id": "ix0XZm0SpoCp",
        "outputId": "6cef2ed9-a47e-4fa7-e175-468a270afa30"
      },
      "source": [
        "print(108 % 8)"
      ],
      "execution_count": null,
      "outputs": [
        {
          "output_type": "stream",
          "text": [
            "4\n"
          ],
          "name": "stdout"
        }
      ]
    },
    {
      "cell_type": "code",
      "metadata": {
        "colab": {
          "base_uri": "https://localhost:8080/"
        },
        "id": "2ajJNFVHpoE_",
        "outputId": "235830b6-1a6f-4a79-945f-0236e80439bd"
      },
      "source": [
        "print(108 ** 8)"
      ],
      "execution_count": null,
      "outputs": [
        {
          "output_type": "stream",
          "text": [
            "18509302102818816\n"
          ],
          "name": "stdout"
        }
      ]
    },
    {
      "cell_type": "code",
      "metadata": {
        "colab": {
          "base_uri": "https://localhost:8080/"
        },
        "id": "t1sp8AYVpoHb",
        "outputId": "066256fb-4615-467c-b371-cb0ed8002de5"
      },
      "source": [
        "print(5 ** 2)"
      ],
      "execution_count": null,
      "outputs": [
        {
          "output_type": "stream",
          "text": [
            "25\n"
          ],
          "name": "stdout"
        }
      ]
    },
    {
      "cell_type": "code",
      "metadata": {
        "colab": {
          "base_uri": "https://localhost:8080/"
        },
        "id": "Fkx9tIuxpoJv",
        "outputId": "53cddd73-63c6-48f1-8634-2f3f59cfd181"
      },
      "source": [
        "print(14 + 31)"
      ],
      "execution_count": null,
      "outputs": [
        {
          "output_type": "stream",
          "text": [
            "45\n"
          ],
          "name": "stdout"
        }
      ]
    },
    {
      "cell_type": "code",
      "metadata": {
        "colab": {
          "base_uri": "https://localhost:8080/"
        },
        "id": "4I2gptb9poL5",
        "outputId": "cb7bd0f6-1c11-4a9e-a9c6-2789ca1029e6"
      },
      "source": [
        "print('파이썬' + '프로그래밍')"
      ],
      "execution_count": null,
      "outputs": [
        {
          "output_type": "stream",
          "text": [
            "파이썬프로그래밍\n"
          ],
          "name": "stdout"
        }
      ]
    },
    {
      "cell_type": "code",
      "metadata": {
        "colab": {
          "base_uri": "https://localhost:8080/"
        },
        "id": "tgl8YYQApxSq",
        "outputId": "5aee3fa4-ae52-42e0-8b39-f8b25745e98f"
      },
      "source": [
        "print('파이썬', '프로그래밍')\n",
        "print(14, 31)"
      ],
      "execution_count": null,
      "outputs": [
        {
          "output_type": "stream",
          "text": [
            "파이썬 프로그래밍\n",
            "14 31\n"
          ],
          "name": "stdout"
        }
      ]
    },
    {
      "cell_type": "code",
      "metadata": {
        "colab": {
          "base_uri": "https://localhost:8080/",
          "height": 232
        },
        "id": "9auN_kmBp1FR",
        "outputId": "82a971ef-286a-4793-8fb2-5fc67c8789fa"
      },
      "source": [
        "print('파이썬' + 3)\n",
        "print('파이썬' - 3)\n",
        "print('파이썬' / 3)\n",
        "print('파이썬' * 3)"
      ],
      "execution_count": null,
      "outputs": [
        {
          "output_type": "error",
          "ename": "TypeError",
          "evalue": "ignored",
          "traceback": [
            "\u001b[0;31m---------------------------------------------------------------------------\u001b[0m",
            "\u001b[0;31mTypeError\u001b[0m                                 Traceback (most recent call last)",
            "\u001b[0;32m<ipython-input-17-cdae05ce4922>\u001b[0m in \u001b[0;36m<module>\u001b[0;34m()\u001b[0m\n\u001b[0;32m----> 1\u001b[0;31m \u001b[0mprint\u001b[0m\u001b[0;34m(\u001b[0m\u001b[0;34m'파이썬'\u001b[0m \u001b[0;34m+\u001b[0m \u001b[0;36m3\u001b[0m\u001b[0;34m)\u001b[0m\u001b[0;34m\u001b[0m\u001b[0;34m\u001b[0m\u001b[0m\n\u001b[0m\u001b[1;32m      2\u001b[0m \u001b[0mprint\u001b[0m\u001b[0;34m(\u001b[0m\u001b[0;34m'파이썬'\u001b[0m \u001b[0;34m-\u001b[0m \u001b[0;36m3\u001b[0m\u001b[0;34m)\u001b[0m\u001b[0;34m\u001b[0m\u001b[0;34m\u001b[0m\u001b[0m\n\u001b[1;32m      3\u001b[0m \u001b[0mprint\u001b[0m\u001b[0;34m(\u001b[0m\u001b[0;34m'파이썬'\u001b[0m \u001b[0;34m/\u001b[0m \u001b[0;36m3\u001b[0m\u001b[0;34m)\u001b[0m\u001b[0;34m\u001b[0m\u001b[0;34m\u001b[0m\u001b[0m\n\u001b[1;32m      4\u001b[0m \u001b[0mprint\u001b[0m\u001b[0;34m(\u001b[0m\u001b[0;34m'파이썬'\u001b[0m \u001b[0;34m*\u001b[0m \u001b[0;36m3\u001b[0m\u001b[0;34m)\u001b[0m\u001b[0;34m\u001b[0m\u001b[0;34m\u001b[0m\u001b[0m\n",
            "\u001b[0;31mTypeError\u001b[0m: can only concatenate str (not \"int\") to str"
          ]
        }
      ]
    },
    {
      "cell_type": "code",
      "metadata": {
        "colab": {
          "base_uri": "https://localhost:8080/"
        },
        "id": "sw-iV7SIqAKE",
        "outputId": "821c2285-982b-454f-d498-f5c894df643d"
      },
      "source": [
        "print('파이썬+프로그래밍')\n",
        "print('파이썬 + 프로그래밍')"
      ],
      "execution_count": null,
      "outputs": [
        {
          "output_type": "stream",
          "text": [
            "파이썬+프로그래밍\n",
            "파이썬 + 프로그래밍\n"
          ],
          "name": "stdout"
        }
      ]
    },
    {
      "cell_type": "code",
      "metadata": {
        "colab": {
          "base_uri": "https://localhost:8080/",
          "height": 195
        },
        "id": "Eaw0RADNqARW",
        "outputId": "17dbe46b-c3fd-41a7-df45-983e978b8799"
      },
      "source": [
        "print(파이썬+프로그래밍)\n",
        "print(파이썬 + 프로그래밍)"
      ],
      "execution_count": null,
      "outputs": [
        {
          "output_type": "error",
          "ename": "NameError",
          "evalue": "ignored",
          "traceback": [
            "\u001b[0;31m---------------------------------------------------------------------------\u001b[0m",
            "\u001b[0;31mNameError\u001b[0m                                 Traceback (most recent call last)",
            "\u001b[0;32m<ipython-input-19-cc7dd08aae40>\u001b[0m in \u001b[0;36m<module>\u001b[0;34m()\u001b[0m\n\u001b[0;32m----> 1\u001b[0;31m \u001b[0mprint\u001b[0m\u001b[0;34m(\u001b[0m\u001b[0m파이썬\u001b[0m\u001b[0;34m+\u001b[0m\u001b[0m프로그래밍\u001b[0m\u001b[0;34m)\u001b[0m\u001b[0;34m\u001b[0m\u001b[0;34m\u001b[0m\u001b[0m\n\u001b[0m\u001b[1;32m      2\u001b[0m \u001b[0mprint\u001b[0m\u001b[0;34m(\u001b[0m\u001b[0m파이썬\u001b[0m \u001b[0;34m+\u001b[0m \u001b[0m프로그래밍\u001b[0m\u001b[0;34m)\u001b[0m\u001b[0;34m\u001b[0m\u001b[0;34m\u001b[0m\u001b[0m\n",
            "\u001b[0;31mNameError\u001b[0m: name '파이썬' is not defined"
          ]
        }
      ]
    },
    {
      "cell_type": "code",
      "metadata": {
        "colab": {
          "base_uri": "https://localhost:8080/"
        },
        "id": "4fvAVNS0qAWi",
        "outputId": "c3a2ebe2-23e9-457a-8989-abb2dc2f7128"
      },
      "source": [
        "# 1분 퀴즈\n",
        "print('안녕하세요. 무엇이든 시켜보세요.')"
      ],
      "execution_count": null,
      "outputs": [
        {
          "output_type": "stream",
          "text": [
            "안녕하세요. 무엇이든 시켜보세요.\n"
          ],
          "name": "stdout"
        }
      ]
    },
    {
      "cell_type": "markdown",
      "metadata": {
        "id": "jiEukKyLqND4"
      },
      "source": [
        "## 2.3  데이터를 넣는 입력 명령어\n",
        "#### 2.3.2  입력 명령어 input()"
      ]
    },
    {
      "cell_type": "code",
      "metadata": {
        "colab": {
          "base_uri": "https://localhost:8080/",
          "height": 55
        },
        "id": "W_SL4n2_qAaY",
        "outputId": "3444abfb-60dd-47fc-e542-0bdfeffd76f3"
      },
      "source": [
        "input()"
      ],
      "execution_count": null,
      "outputs": [
        {
          "output_type": "stream",
          "text": [
            "파이썬\n"
          ],
          "name": "stdout"
        },
        {
          "output_type": "execute_result",
          "data": {
            "application/vnd.google.colaboratory.intrinsic+json": {
              "type": "string"
            },
            "text/plain": [
              "'파이썬'"
            ]
          },
          "metadata": {
            "tags": []
          },
          "execution_count": 21
        }
      ]
    },
    {
      "cell_type": "code",
      "metadata": {
        "colab": {
          "base_uri": "https://localhost:8080/",
          "height": 55
        },
        "id": "1xgl6YHaqX6G",
        "outputId": "7605be2a-da3a-4040-f5ad-2dc90c2a1048"
      },
      "source": [
        "input(3)"
      ],
      "execution_count": null,
      "outputs": [
        {
          "output_type": "stream",
          "text": [
            "3456\n"
          ],
          "name": "stdout"
        },
        {
          "output_type": "execute_result",
          "data": {
            "application/vnd.google.colaboratory.intrinsic+json": {
              "type": "string"
            },
            "text/plain": [
              "'456'"
            ]
          },
          "metadata": {
            "tags": []
          },
          "execution_count": 22
        }
      ]
    },
    {
      "cell_type": "code",
      "metadata": {
        "colab": {
          "base_uri": "https://localhost:8080/",
          "height": 55
        },
        "id": "AgOWVnuMqX8R",
        "outputId": "806d5384-5161-47ac-d604-17e575c9e648"
      },
      "source": [
        "input('입력 ')"
      ],
      "execution_count": null,
      "outputs": [
        {
          "output_type": "stream",
          "text": [
            "입력 7월 5일\n"
          ],
          "name": "stdout"
        },
        {
          "output_type": "execute_result",
          "data": {
            "application/vnd.google.colaboratory.intrinsic+json": {
              "type": "string"
            },
            "text/plain": [
              "'7월 5일'"
            ]
          },
          "metadata": {
            "tags": []
          },
          "execution_count": 24
        }
      ]
    },
    {
      "cell_type": "code",
      "metadata": {
        "colab": {
          "base_uri": "https://localhost:8080/",
          "height": 73
        },
        "id": "eaMWCM0LqXha",
        "outputId": "f3d27395-a3ec-4d17-8a09-733a71396f66"
      },
      "source": [
        "input('아이디: ')\n",
        "input('비밀번호: ')"
      ],
      "execution_count": null,
      "outputs": [
        {
          "output_type": "stream",
          "text": [
            "아이디: gilbut\n",
            "비밀번호: fighting!!\n"
          ],
          "name": "stdout"
        },
        {
          "output_type": "execute_result",
          "data": {
            "application/vnd.google.colaboratory.intrinsic+json": {
              "type": "string"
            },
            "text/plain": [
              "'fighting!!'"
            ]
          },
          "metadata": {
            "tags": []
          },
          "execution_count": 25
        }
      ]
    },
    {
      "cell_type": "code",
      "metadata": {
        "colab": {
          "base_uri": "https://localhost:8080/",
          "height": 55
        },
        "id": "wAR97NhrqXj0",
        "outputId": "44ddf9bd-151d-4902-81e0-c7a443353e19"
      },
      "source": [
        "input('학번을 입력하세요 --> ')"
      ],
      "execution_count": null,
      "outputs": [
        {
          "output_type": "stream",
          "text": [
            "학번을 입력하세요 --> 20513\n"
          ],
          "name": "stdout"
        },
        {
          "output_type": "execute_result",
          "data": {
            "application/vnd.google.colaboratory.intrinsic+json": {
              "type": "string"
            },
            "text/plain": [
              "'20513'"
            ]
          },
          "metadata": {
            "tags": []
          },
          "execution_count": 26
        }
      ]
    },
    {
      "cell_type": "markdown",
      "metadata": {
        "id": "I686gqT1q25f"
      },
      "source": [
        "####  2.3.3  명령어의 실행 순서"
      ]
    },
    {
      "cell_type": "code",
      "metadata": {
        "colab": {
          "base_uri": "https://localhost:8080/",
          "height": 73
        },
        "id": "L7ekA178qXmU",
        "outputId": "d6bb19e7-81a1-4740-cedc-5ecf3a8855a1"
      },
      "source": [
        "input('비밀번호: ')\n",
        "input('아이디: ')"
      ],
      "execution_count": null,
      "outputs": [
        {
          "output_type": "stream",
          "text": [
            "비밀번호: fighting!!!\n",
            "아이디: gilbut\n"
          ],
          "name": "stdout"
        },
        {
          "output_type": "execute_result",
          "data": {
            "application/vnd.google.colaboratory.intrinsic+json": {
              "type": "string"
            },
            "text/plain": [
              "'gilbut'"
            ]
          },
          "metadata": {
            "tags": []
          },
          "execution_count": 27
        }
      ]
    },
    {
      "cell_type": "markdown",
      "metadata": {
        "id": "ixhYn8HUq69W"
      },
      "source": [
        "#### 2.3.4  여러 명령어 함께 실행하기"
      ]
    },
    {
      "cell_type": "code",
      "metadata": {
        "colab": {
          "base_uri": "https://localhost:8080/"
        },
        "id": "KenKrdYDqXoq",
        "outputId": "7c80a0b0-8284-4ea9-f7d8-e41cd99b1461"
      },
      "source": [
        "input('아이디: ')\n",
        "input('비밀번호: ')\n",
        "print('gilbut님 환영합니다!  ')"
      ],
      "execution_count": null,
      "outputs": [
        {
          "output_type": "stream",
          "text": [
            "아이디: gilbut\n",
            "비밀번호: fighting!!!\n",
            "gilbut님 환영합니다!  \n"
          ],
          "name": "stdout"
        }
      ]
    },
    {
      "cell_type": "code",
      "metadata": {
        "colab": {
          "base_uri": "https://localhost:8080/"
        },
        "id": "d36IFkPoqAex",
        "outputId": "6c7cdff3-b3f4-48ac-bcbb-3ad1001b7e5d"
      },
      "source": [
        "print('---회원가입---')\n",
        "input('아이디: ')\n",
        "print('가입을 환영합니다!  ')"
      ],
      "execution_count": null,
      "outputs": [
        {
          "output_type": "stream",
          "text": [
            "---회원가입---\n",
            "아이디: gilbut\n",
            "가입을 환영합니다!  \n"
          ],
          "name": "stdout"
        }
      ]
    },
    {
      "cell_type": "code",
      "metadata": {
        "colab": {
          "base_uri": "https://localhost:8080/"
        },
        "id": "9pYgHOqdrO1D",
        "outputId": "ecf8d240-fd2a-4e8c-a9e5-c260278e6b70"
      },
      "source": [
        "print(input('아이디: ') + '님. 가입을 환영합니다!')"
      ],
      "execution_count": null,
      "outputs": [
        {
          "output_type": "stream",
          "text": [
            "아이디: gilbut\n",
            "gilbut님. 가입을 환영합니다!\n"
          ],
          "name": "stdout"
        }
      ]
    },
    {
      "cell_type": "code",
      "metadata": {
        "colab": {
          "base_uri": "https://localhost:8080/"
        },
        "id": "DYW391zoraxW",
        "outputId": "3aa63d74-2b4e-44fe-9e4e-c60c29a1bc5a"
      },
      "source": [
        "print('---회원가입---')\n",
        "print(input('아이디: ') + '님. 가입을 환영합니다!')"
      ],
      "execution_count": null,
      "outputs": [
        {
          "output_type": "stream",
          "text": [
            "---회원가입---\n",
            "아이디: gilbut\n",
            "gilbut님. 가입을 환영합니다!\n"
          ],
          "name": "stdout"
        }
      ]
    },
    {
      "cell_type": "markdown",
      "metadata": {
        "id": "TZn0ldeprh7J"
      },
      "source": [
        "## 2장 Self Check"
      ]
    },
    {
      "cell_type": "code",
      "metadata": {
        "colab": {
          "base_uri": "https://localhost:8080/"
        },
        "id": "KhOfPe4_reBy",
        "outputId": "61b82ab8-433c-475c-ce27-441a6be7ce7a"
      },
      "source": [
        "# 1번\n",
        "print('무궁화 꽃이 피었습니다!'* 3)"
      ],
      "execution_count": null,
      "outputs": [
        {
          "output_type": "stream",
          "text": [
            "무궁화 꽃이 피었습니다!무궁화 꽃이 피었습니다!무궁화 꽃이 피었습니다!\n"
          ],
          "name": "stdout"
        }
      ]
    },
    {
      "cell_type": "code",
      "metadata": {
        "colab": {
          "base_uri": "https://localhost:8080/"
        },
        "id": "ccltclKBrlRw",
        "outputId": "c3fc661e-ef94-4ca5-d2cc-2edd932b9c64"
      },
      "source": [
        "# 2번\n",
        "# print('95' + 3)    # 오류\n",
        "print('95' * 3)"
      ],
      "execution_count": null,
      "outputs": [
        {
          "output_type": "stream",
          "text": [
            "959595\n"
          ],
          "name": "stdout"
        }
      ]
    },
    {
      "cell_type": "code",
      "metadata": {
        "colab": {
          "base_uri": "https://localhost:8080/"
        },
        "id": "N43q8IGyrmWB",
        "outputId": "9afef1f8-9b4c-4495-cd16-ef2af3690bb4"
      },
      "source": [
        "# 3번 \n",
        "print(input('닉네임을 입력해 주세요 --> ') + '님 안녕하세요')"
      ],
      "execution_count": null,
      "outputs": [
        {
          "output_type": "stream",
          "text": [
            "닉네임을 입력해 주세요 --> 졔졔쌤\n",
            "졔졔쌤님 안녕하세요\n"
          ],
          "name": "stdout"
        }
      ]
    }
  ]
}